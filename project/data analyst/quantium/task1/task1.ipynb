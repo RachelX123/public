{
 "cells": [
  {
   "cell_type": "markdown",
   "metadata": {},
   "source": [
    "# Task 1"
   ]
  },
  {
   "cell_type": "code",
   "execution_count": 2,
   "metadata": {
    "vscode": {
     "languageId": "r"
    }
   },
   "outputs": [],
   "source": [
    "# set options for R markdown knitting\n",
    "knitr::opts_chunk$set(echo = TRUE)\n",
    "knitr::opts_chunk$set(linewidth=80)"
   ]
  },
  {
   "cell_type": "code",
   "execution_count": 3,
   "metadata": {
    "vscode": {
     "languageId": "r"
    }
   },
   "outputs": [],
   "source": [
    "# set up line wrapping in MD knit output\n",
    "library(knitr)\n",
    "hook_output = knit_hooks$get(\"output\")\n",
    "knit_hooks$set(output = function(x, options)\n",
    "{\n",
    "# this hook is used only when the linewidth option is not NULL\n",
    "if (!is.null(n <- options$linewidth))\n",
    "{\n",
    "x = knitr:::split_lines(x)\n",
    "# any lines wider than n should be wrapped\n",
    "if (any(nchar(x) > n))\n",
    "x = strwrap(x, width = n)\n",
    "x = paste(x, collapse = \"\\n\")\n",
    "}\n",
    "hook_output(x, options)\n",
    "})"
   ]
  },
  {
   "cell_type": "markdown",
   "metadata": {},
   "source": [
    "Load required libraries and datasets"
   ]
  },
  {
   "cell_type": "code",
   "execution_count": 4,
   "metadata": {
    "vscode": {
     "languageId": "r"
    }
   },
   "outputs": [],
   "source": [
    "#### Load required libraries\n",
    "library(data.table)\n",
    "library(ggplot2)\n",
    "library(ggmosaic)\n",
    "library(readr)\n"
   ]
  },
  {
   "cell_type": "code",
   "execution_count": 5,
   "metadata": {
    "vscode": {
     "languageId": "r"
    }
   },
   "outputs": [],
   "source": [
    "#file path  to read the data\n",
    "filePath <- \"\"\n",
    "transactionData <- fread(paste0(filePath,\"QVI_transaction_data.csv\"))\n",
    "customerData <- fread(paste0(filePath,\"QVI_purchase_behaviour.csv\"))"
   ]
  },
  {
   "cell_type": "code",
   "execution_count": 6,
   "metadata": {
    "vscode": {
     "languageId": "r"
    }
   },
   "outputs": [
    {
     "ename": "ERROR",
     "evalue": "Error in head(data_behaiour): object 'data_behaiour' not found\n",
     "output_type": "error",
     "traceback": [
      "Error in head(data_behaiour): object 'data_behaiour' not found\nTraceback:\n",
      "1. head(data_behaiour)"
     ]
    }
   ],
   "source": [
    "head(data_behaiour)"
   ]
  },
  {
   "cell_type": "markdown",
   "metadata": {},
   "source": [
    "## Exploratory data analysis"
   ]
  },
  {
   "cell_type": "markdown",
   "metadata": {},
   "source": [
    "The first step in any analysis is to first understand the data. Let's take a look\n",
    "at each of the datasets provided."
   ]
  },
  {
   "cell_type": "markdown",
   "metadata": {},
   "source": [
    "### Examining transaction data"
   ]
  },
  {
   "cell_type": "markdown",
   "metadata": {},
   "source": [
    "We can use `str()` to look at the format of each column and see a sample of the\n",
    "data. As we have read in the dataset as a `data.table` object, we can also run\n",
    "`transactionData` in the console to see a sample of the data or use\n",
    "`head(transactionData)` to look at the first 10 rows."
   ]
  },
  {
   "cell_type": "code",
   "execution_count": null,
   "metadata": {
    "vscode": {
     "languageId": "r"
    }
   },
   "outputs": [
    {
     "name": "stdout",
     "output_type": "stream",
     "text": [
      "Classes 'data.table' and 'data.frame':\t264836 obs. of  8 variables:\n",
      " $ DATE          : int  43390 43599 43605 43329 43330 43604 43601 43601 43332 43330 ...\n",
      " $ STORE_NBR     : int  1 1 1 2 2 4 4 4 5 7 ...\n",
      " $ LYLTY_CARD_NBR: int  1000 1307 1343 2373 2426 4074 4149 4196 5026 7150 ...\n",
      " $ TXN_ID        : int  1 348 383 974 1038 2982 3333 3539 4525 6900 ...\n",
      " $ PROD_NBR      : int  5 66 61 69 108 57 16 24 42 52 ...\n",
      " $ PROD_NAME     : chr  \"Natural Chip        Compny SeaSalt175g\" \"CCs Nacho Cheese    175g\" \"Smiths Crinkle Cut  Chips Chicken 170g\" \"Smiths Chip Thinly  S/Cream&Onion 175g\" ...\n",
      " $ PROD_QTY      : int  2 3 2 5 3 1 1 1 1 2 ...\n",
      " $ TOT_SALES     : num  6 6.3 2.9 15 13.8 5.1 5.7 3.6 3.9 7.2 ...\n",
      " - attr(*, \".internal.selfref\")=<externalptr> \n"
     ]
    },
    {
     "data": {
      "text/html": [
       "<table class=\"dataframe\">\n",
       "<caption>A data.table: 6 × 8</caption>\n",
       "<thead>\n",
       "\t<tr><th scope=col>DATE</th><th scope=col>STORE_NBR</th><th scope=col>LYLTY_CARD_NBR</th><th scope=col>TXN_ID</th><th scope=col>PROD_NBR</th><th scope=col>PROD_NAME</th><th scope=col>PROD_QTY</th><th scope=col>TOT_SALES</th></tr>\n",
       "\t<tr><th scope=col>&lt;int&gt;</th><th scope=col>&lt;int&gt;</th><th scope=col>&lt;int&gt;</th><th scope=col>&lt;int&gt;</th><th scope=col>&lt;int&gt;</th><th scope=col>&lt;chr&gt;</th><th scope=col>&lt;int&gt;</th><th scope=col>&lt;dbl&gt;</th></tr>\n",
       "</thead>\n",
       "<tbody>\n",
       "\t<tr><td>43390</td><td>1</td><td>1000</td><td>   1</td><td>  5</td><td>Natural Chip        Compny SeaSalt175g  </td><td>2</td><td> 6.0</td></tr>\n",
       "\t<tr><td>43599</td><td>1</td><td>1307</td><td> 348</td><td> 66</td><td>CCs Nacho Cheese    175g                </td><td>3</td><td> 6.3</td></tr>\n",
       "\t<tr><td>43605</td><td>1</td><td>1343</td><td> 383</td><td> 61</td><td>Smiths Crinkle Cut  Chips Chicken 170g  </td><td>2</td><td> 2.9</td></tr>\n",
       "\t<tr><td>43329</td><td>2</td><td>2373</td><td> 974</td><td> 69</td><td><span style=white-space:pre-wrap>Smiths Chip Thinly  S/Cream&amp;Onion 175g  </span></td><td>5</td><td>15.0</td></tr>\n",
       "\t<tr><td>43330</td><td>2</td><td>2426</td><td>1038</td><td>108</td><td>Kettle Tortilla ChpsHny&amp;Jlpno Chili 150g</td><td>3</td><td>13.8</td></tr>\n",
       "\t<tr><td>43604</td><td>4</td><td>4074</td><td>2982</td><td> 57</td><td>Old El Paso Salsa   Dip Tomato Mild 300g</td><td>1</td><td> 5.1</td></tr>\n",
       "</tbody>\n",
       "</table>\n"
      ],
      "text/latex": [
       "A data.table: 6 × 8\n",
       "\\begin{tabular}{llllllll}\n",
       " DATE & STORE\\_NBR & LYLTY\\_CARD\\_NBR & TXN\\_ID & PROD\\_NBR & PROD\\_NAME & PROD\\_QTY & TOT\\_SALES\\\\\n",
       " <int> & <int> & <int> & <int> & <int> & <chr> & <int> & <dbl>\\\\\n",
       "\\hline\n",
       "\t 43390 & 1 & 1000 &    1 &   5 & Natural Chip        Compny SeaSalt175g   & 2 &  6.0\\\\\n",
       "\t 43599 & 1 & 1307 &  348 &  66 & CCs Nacho Cheese    175g                 & 3 &  6.3\\\\\n",
       "\t 43605 & 1 & 1343 &  383 &  61 & Smiths Crinkle Cut  Chips Chicken 170g   & 2 &  2.9\\\\\n",
       "\t 43329 & 2 & 2373 &  974 &  69 & Smiths Chip Thinly  S/Cream\\&Onion 175g   & 5 & 15.0\\\\\n",
       "\t 43330 & 2 & 2426 & 1038 & 108 & Kettle Tortilla ChpsHny\\&Jlpno Chili 150g & 3 & 13.8\\\\\n",
       "\t 43604 & 4 & 4074 & 2982 &  57 & Old El Paso Salsa   Dip Tomato Mild 300g & 1 &  5.1\\\\\n",
       "\\end{tabular}\n"
      ],
      "text/markdown": [
       "\n",
       "A data.table: 6 × 8\n",
       "\n",
       "| DATE &lt;int&gt; | STORE_NBR &lt;int&gt; | LYLTY_CARD_NBR &lt;int&gt; | TXN_ID &lt;int&gt; | PROD_NBR &lt;int&gt; | PROD_NAME &lt;chr&gt; | PROD_QTY &lt;int&gt; | TOT_SALES &lt;dbl&gt; |\n",
       "|---|---|---|---|---|---|---|---|\n",
       "| 43390 | 1 | 1000 |    1 |   5 | Natural Chip        Compny SeaSalt175g   | 2 |  6.0 |\n",
       "| 43599 | 1 | 1307 |  348 |  66 | CCs Nacho Cheese    175g                 | 3 |  6.3 |\n",
       "| 43605 | 1 | 1343 |  383 |  61 | Smiths Crinkle Cut  Chips Chicken 170g   | 2 |  2.9 |\n",
       "| 43329 | 2 | 2373 |  974 |  69 | Smiths Chip Thinly  S/Cream&amp;Onion 175g   | 5 | 15.0 |\n",
       "| 43330 | 2 | 2426 | 1038 | 108 | Kettle Tortilla ChpsHny&amp;Jlpno Chili 150g | 3 | 13.8 |\n",
       "| 43604 | 4 | 4074 | 2982 |  57 | Old El Paso Salsa   Dip Tomato Mild 300g | 1 |  5.1 |\n",
       "\n"
      ],
      "text/plain": [
       "  DATE  STORE_NBR LYLTY_CARD_NBR TXN_ID PROD_NBR\n",
       "1 43390 1         1000              1     5     \n",
       "2 43599 1         1307            348    66     \n",
       "3 43605 1         1343            383    61     \n",
       "4 43329 2         2373            974    69     \n",
       "5 43330 2         2426           1038   108     \n",
       "6 43604 4         4074           2982    57     \n",
       "  PROD_NAME                                PROD_QTY TOT_SALES\n",
       "1 Natural Chip        Compny SeaSalt175g   2         6.0     \n",
       "2 CCs Nacho Cheese    175g                 3         6.3     \n",
       "3 Smiths Crinkle Cut  Chips Chicken 170g   2         2.9     \n",
       "4 Smiths Chip Thinly  S/Cream&Onion 175g   5        15.0     \n",
       "5 Kettle Tortilla ChpsHny&Jlpno Chili 150g 3        13.8     \n",
       "6 Old El Paso Salsa   Dip Tomato Mild 300g 1         5.1     "
      ]
     },
     "metadata": {},
     "output_type": "display_data"
    }
   ],
   "source": [
    "str(transactionData)\n",
    "head(transactionData)"
   ]
  },
  {
   "cell_type": "code",
   "execution_count": null,
   "metadata": {
    "vscode": {
     "languageId": "r"
    }
   },
   "outputs": [
    {
     "name": "stdout",
     "output_type": "stream",
     "text": [
      "Classes 'data.table' and 'data.frame':\t72637 obs. of  3 variables:\n",
      " $ LYLTY_CARD_NBR  : int  1000 1002 1003 1004 1005 1007 1009 1010 1011 1012 ...\n",
      " $ LIFESTAGE       : chr  \"YOUNG SINGLES/COUPLES\" \"YOUNG SINGLES/COUPLES\" \"YOUNG FAMILIES\" \"OLDER SINGLES/COUPLES\" ...\n",
      " $ PREMIUM_CUSTOMER: chr  \"Premium\" \"Mainstream\" \"Budget\" \"Mainstream\" ...\n",
      " - attr(*, \".internal.selfref\")=<externalptr> \n"
     ]
    },
    {
     "data": {
      "text/html": [
       "<table class=\"dataframe\">\n",
       "<caption>A data.table: 6 × 3</caption>\n",
       "<thead>\n",
       "\t<tr><th scope=col>LYLTY_CARD_NBR</th><th scope=col>LIFESTAGE</th><th scope=col>PREMIUM_CUSTOMER</th></tr>\n",
       "\t<tr><th scope=col>&lt;int&gt;</th><th scope=col>&lt;chr&gt;</th><th scope=col>&lt;chr&gt;</th></tr>\n",
       "</thead>\n",
       "<tbody>\n",
       "\t<tr><td>1000</td><td>YOUNG SINGLES/COUPLES </td><td>Premium   </td></tr>\n",
       "\t<tr><td>1002</td><td>YOUNG SINGLES/COUPLES </td><td>Mainstream</td></tr>\n",
       "\t<tr><td>1003</td><td>YOUNG FAMILIES        </td><td>Budget    </td></tr>\n",
       "\t<tr><td>1004</td><td>OLDER SINGLES/COUPLES </td><td>Mainstream</td></tr>\n",
       "\t<tr><td>1005</td><td>MIDAGE SINGLES/COUPLES</td><td>Mainstream</td></tr>\n",
       "\t<tr><td>1007</td><td>YOUNG SINGLES/COUPLES </td><td>Budget    </td></tr>\n",
       "</tbody>\n",
       "</table>\n"
      ],
      "text/latex": [
       "A data.table: 6 × 3\n",
       "\\begin{tabular}{lll}\n",
       " LYLTY\\_CARD\\_NBR & LIFESTAGE & PREMIUM\\_CUSTOMER\\\\\n",
       " <int> & <chr> & <chr>\\\\\n",
       "\\hline\n",
       "\t 1000 & YOUNG SINGLES/COUPLES  & Premium   \\\\\n",
       "\t 1002 & YOUNG SINGLES/COUPLES  & Mainstream\\\\\n",
       "\t 1003 & YOUNG FAMILIES         & Budget    \\\\\n",
       "\t 1004 & OLDER SINGLES/COUPLES  & Mainstream\\\\\n",
       "\t 1005 & MIDAGE SINGLES/COUPLES & Mainstream\\\\\n",
       "\t 1007 & YOUNG SINGLES/COUPLES  & Budget    \\\\\n",
       "\\end{tabular}\n"
      ],
      "text/markdown": [
       "\n",
       "A data.table: 6 × 3\n",
       "\n",
       "| LYLTY_CARD_NBR &lt;int&gt; | LIFESTAGE &lt;chr&gt; | PREMIUM_CUSTOMER &lt;chr&gt; |\n",
       "|---|---|---|\n",
       "| 1000 | YOUNG SINGLES/COUPLES  | Premium    |\n",
       "| 1002 | YOUNG SINGLES/COUPLES  | Mainstream |\n",
       "| 1003 | YOUNG FAMILIES         | Budget     |\n",
       "| 1004 | OLDER SINGLES/COUPLES  | Mainstream |\n",
       "| 1005 | MIDAGE SINGLES/COUPLES | Mainstream |\n",
       "| 1007 | YOUNG SINGLES/COUPLES  | Budget     |\n",
       "\n"
      ],
      "text/plain": [
       "  LYLTY_CARD_NBR LIFESTAGE              PREMIUM_CUSTOMER\n",
       "1 1000           YOUNG SINGLES/COUPLES  Premium         \n",
       "2 1002           YOUNG SINGLES/COUPLES  Mainstream      \n",
       "3 1003           YOUNG FAMILIES         Budget          \n",
       "4 1004           OLDER SINGLES/COUPLES  Mainstream      \n",
       "5 1005           MIDAGE SINGLES/COUPLES Mainstream      \n",
       "6 1007           YOUNG SINGLES/COUPLES  Budget          "
      ]
     },
     "metadata": {},
     "output_type": "display_data"
    }
   ],
   "source": [
    "str(customerData)\n",
    "head(customerData)"
   ]
  },
  {
   "cell_type": "code",
   "execution_count": 25,
   "metadata": {
    "vscode": {
     "languageId": "r"
    }
   },
   "outputs": [],
   "source": [
    "#Convert DATE column to a date format\n",
    "transactionData$DATE <- as.Date(transactionData$DATE, origin = \"1899-12-30\")"
   ]
  },
  {
   "cell_type": "code",
   "execution_count": 26,
   "metadata": {
    "vscode": {
     "languageId": "r"
    }
   },
   "outputs": [
    {
     "name": "stdout",
     "output_type": "stream",
     "text": [
      "\n",
      "                       Burger Rings 220g \n",
      "                                    1564 \n",
      "                CCs Nacho Cheese    175g \n",
      "                                    1498 \n",
      "                       CCs Original 175g \n",
      "                                    1514 \n",
      "                CCs Tasty Cheese    175g \n",
      "                                    1539 \n",
      "          Cheetos Chs & Bacon Balls 190g \n",
      "                                    1479 \n",
      "                      Cheetos Puffs 165g \n",
      "                                    1448 \n",
      "                    Cheezels Cheese 330g \n",
      "                                    3149 \n",
      "                Cheezels Cheese Box 125g \n",
      "                                    1454 \n",
      "          Cobs Popd Sea Salt  Chips 110g \n",
      "                                    3265 \n",
      "  Cobs Popd Sour Crm  &Chives Chips 110g \n",
      "                                    3159 \n",
      "Cobs Popd Swt/Chlli &Sr/Cream Chips 110g \n",
      "                                    3269 \n",
      "        Dorito Corn Chp     Supreme 380g \n",
      "                                    3183 \n",
      "        Doritos Cheese      Supreme 330g \n",
      "                                    3052 \n",
      " Doritos Corn Chip Mexican Jalapeno 150g \n",
      "                                    3204 \n",
      " Doritos Corn Chip Southern Chicken 150g \n",
      "                                    3172 \n",
      " Doritos Corn Chips  Cheese Supreme 170g \n",
      "                                    3217 \n",
      "   Doritos Corn Chips  Nacho Cheese 170g \n",
      "                                    3160 \n",
      "       Doritos Corn Chips  Original 170g \n",
      "                                    3121 \n",
      "                Doritos Mexicana    170g \n",
      "                                    3115 \n",
      "          French Fries Potato Chips 175g \n",
      "                                    1418 \n",
      "   Grain Waves         Sweet Chilli 210g \n",
      "                                    3167 \n",
      "   Grain Waves Sour    Cream&Chives 210G \n",
      "                                    3105 \n",
      "   GrnWves Plus Btroot & Chilli Jam 180g \n",
      "                                    1468 \n",
      " Infuzions BBQ Rib   Prawn Crackers 110g \n",
      "                                    3174 \n",
      " Infuzions Mango     Chutny Papadums 70g \n",
      "                                    1507 \n",
      "Infuzions SourCream&Herbs Veg Strws 110g \n",
      "                                    3134 \n",
      "Infuzions Thai SweetChili PotatoMix 110g \n",
      "                                    3242 \n",
      "  Infzns Crn Crnchers Tangy Gcamole 110g \n",
      "                                    3144 \n",
      "            Kettle 135g Swt Pot Sea Salt \n",
      "                                    3257 \n",
      "                      Kettle Chilli 175g \n",
      "                                    3038 \n",
      "        Kettle Honey Soy    Chicken 175g \n",
      "                                    3148 \n",
      "  Kettle Mozzarella   Basil & Pesto 175g \n",
      "                                    3304 \n",
      "                    Kettle Original 175g \n",
      "                                    3159 \n",
      "    Kettle Sea Salt     And Vinegar 175g \n",
      "                                    3173 \n",
      "      Kettle Sensations   BBQ&Maple 150g \n",
      "                                    3083 \n",
      "Kettle Sensations   Camembert & Fig 150g \n",
      "                                    3219 \n",
      "   Kettle Sensations   Siracha Lime 150g \n",
      "                                    3127 \n",
      " Kettle Sweet Chilli And Sour Cream 175g \n",
      "                                    3200 \n",
      " Kettle Tortilla ChpsBtroot&Ricotta 150g \n",
      "                                    3146 \n",
      "    Kettle Tortilla ChpsFeta&Garlic 150g \n",
      "                                    3138 \n",
      "Kettle Tortilla ChpsHny&Jlpno Chili 150g \n",
      "                                    3296 \n",
      "  Natural Chip        Compny SeaSalt175g \n",
      "                                    1468 \n",
      " Natural Chip Co     Tmato Hrb&Spce 175g \n",
      "                                    1572 \n",
      "  Natural ChipCo      Hony Soy Chckn175g \n",
      "                                    1460 \n",
      "  Natural ChipCo Sea  Salt & Vinegr 175g \n",
      "                                    1550 \n",
      "  NCC Sour Cream &    Garden Chives 175g \n",
      "                                    1419 \n",
      "                Pringles Barbeque   134g \n",
      "                                    3210 \n",
      "     Pringles Chicken    Salt Crips 134g \n",
      "                                    3104 \n",
      "        Pringles Mystery    Flavour 134g \n",
      "                                    3114 \n",
      "         Pringles Original   Crisps 134g \n",
      "                                    3157 \n",
      "                Pringles Slt Vingar 134g \n",
      "                                    3095 \n",
      "          Pringles SourCream  Onion 134g \n",
      "                                    3162 \n",
      "        Pringles Sthrn FriedChicken 134g \n",
      "                                    3083 \n",
      "            Pringles Sweet&Spcy BBQ 134g \n",
      "                                    3177 \n",
      "   Red Rock Deli Chikn&Garlic Aioli 150g \n",
      "                                    1434 \n",
      " Red Rock Deli Sp    Salt & Truffle 150G \n",
      "                                    1498 \n",
      "    Red Rock Deli Thai  Chilli&Lime 150g \n",
      "                                    1495 \n",
      "        RRD Chilli&         Coconut 150g \n",
      "                                    1506 \n",
      "        RRD Honey Soy       Chicken 165g \n",
      "                                    1513 \n",
      "                RRD Lime & Pepper   165g \n",
      "                                    1473 \n",
      "                RRD Pc Sea Salt     165g \n",
      "                                    1431 \n",
      "                RRD Salt & Vinegar  165g \n",
      "                                    1474 \n",
      "     RRD SR Slow Rst     Pork Belly 150g \n",
      "                                    1526 \n",
      "    RRD Steak &         Chimuchurri 150g \n",
      "                                    1455 \n",
      "     RRD Sweet Chilli &  Sour Cream 165g \n",
      "                                    1516 \n",
      "      Smith Crinkle Cut   Bolognese 150g \n",
      "                                    1451 \n",
      "   Smith Crinkle Cut   Mac N Cheese 150g \n",
      "                                    1512 \n",
      "   Smiths Chip Thinly  Cut Original 175g \n",
      "                                    1614 \n",
      "  Smiths Chip Thinly  CutSalt/Vinegr175g \n",
      "                                    1440 \n",
      "  Smiths Chip Thinly  S/Cream&Onion 175g \n",
      "                                    1473 \n",
      "       Smiths Crinkle      Original 330g \n",
      "                                    3142 \n",
      "Smiths Crinkle Chips Salt & Vinegar 330g \n",
      "                                    3197 \n",
      " Smiths Crinkle Cut  Chips Barbecue 170g \n",
      "                                    1489 \n",
      "  Smiths Crinkle Cut  Chips Chicken 170g \n",
      "                                    1484 \n",
      " Smiths Crinkle Cut  Chips Chs&Onion170g \n",
      "                                    1481 \n",
      " Smiths Crinkle Cut  Chips Original 170g \n",
      "                                    1461 \n",
      "Smiths Crinkle Cut  French OnionDip 150g \n",
      "                                    1438 \n",
      " Smiths Crinkle Cut  Salt & Vinegar 170g \n",
      "                                    1455 \n",
      "     Smiths Crinkle Cut  Snag&Sauce 150g \n",
      "                                    1503 \n",
      "  Smiths Crnkle Chip  Orgnl Big Bag 380g \n",
      "                                    3233 \n",
      "Smiths Thinly       Swt Chli&S/Cream175G \n",
      "                                    1461 \n",
      "  Smiths Thinly Cut   Roast Chicken 175g \n",
      "                                    1519 \n",
      "    Snbts Whlgrn Crisps Cheddr&Mstrd 90g \n",
      "                                    1576 \n",
      "Sunbites Whlegrn    Crisps Frch/Onin 90g \n",
      "                                    1432 \n",
      "  Thins Chips         Originl saltd 175g \n",
      "                                    1441 \n",
      "          Thins Chips Light&  Tangy 175g \n",
      "                                    3188 \n",
      "        Thins Chips Salt &  Vinegar 175g \n",
      "                                    3103 \n",
      "        Thins Chips Seasonedchicken 175g \n",
      "                                    3114 \n",
      "    Thins Potato Chips  Hot & Spicy 175g \n",
      "                                    3229 \n",
      "         Tostitos Lightly    Salted 175g \n",
      "                                    3074 \n",
      "       Tostitos Smoked     Chipotle 175g \n",
      "                                    3145 \n",
      "           Tostitos Splash Of  Lime 175g \n",
      "                                    3252 \n",
      "                Twisties Cheese     270g \n",
      "                                    3115 \n",
      "         Twisties Cheese     Burger 250g \n",
      "                                    3169 \n",
      "                    Twisties Chicken270g \n",
      "                                    3170 \n",
      "  Tyrrells Crisps     Ched & Chives 165g \n",
      "                                    3268 \n",
      " Tyrrells Crisps     Lightly Salted 165g \n",
      "                                    3174 \n",
      "          Woolworths Cheese   Rings 190g \n",
      "                                    1516 \n",
      "        WW Crinkle Cut      Chicken 175g \n",
      "                                    1467 \n",
      "       WW Crinkle Cut      Original 175g \n",
      "                                    1410 \n",
      "       WW D/Style Chip     Sea Salt 200g \n",
      "                                    1469 \n",
      "          WW Original Corn    Chips 200g \n",
      "                                    1495 \n",
      "          WW Original Stacked Chips 160g \n",
      "                                    1487 \n",
      "  WW Sour Cream &OnionStacked Chips 160g \n",
      "                                    1483 \n",
      "     WW Supreme Cheese   Corn Chips 200g \n",
      "                                    1509 \n"
     ]
    }
   ],
   "source": [
    "productWords <- data.table(unlist(strsplit(unique(transactionData[, PROD_NAME]), \" \")))\n",
    "setnames(productWords, 'words')\n",
    "summary_prod_name <- table(transactionData$PROD_NAME)\n",
    "print(summary_prod_name)"
   ]
  },
  {
   "cell_type": "markdown",
   "metadata": {},
   "source": [
    "Looks like we are definitely looking at potato chips but how can we check that\n",
    "these are all chips? We can do some basic text analysis by summarising the\n",
    "individual words in the product name."
   ]
  },
  {
   "cell_type": "code",
   "execution_count": null,
   "metadata": {
    "vscode": {
     "languageId": "r"
    }
   },
   "outputs": [],
   "source": [
    "productWords <- data.table(unlist(strsplit(unique(transactionData[, PROD_NAME]), \" \")))\n",
    "setnames(productWords, 'words')"
   ]
  },
  {
   "cell_type": "markdown",
   "metadata": {},
   "source": [
    "Removing digits"
   ]
  },
  {
   "cell_type": "code",
   "execution_count": null,
   "metadata": {
    "vscode": {
     "languageId": "r"
    }
   },
   "outputs": [],
   "source": [
    "containsDigitsOrSpecial <- grepl(\"[0-9&]\", productWords$words)\n",
    "productWords <- productWords[!containsDigitsOrSpecial]"
   ]
  },
  {
   "cell_type": "code",
   "execution_count": null,
   "metadata": {
    "vscode": {
     "languageId": "r"
    }
   },
   "outputs": [
    {
     "name": "stdout",
     "output_type": "stream",
     "text": [
      "       words frequency\n",
      "  1:   Chips        21\n",
      "  2:  Smiths        16\n",
      "  3: Crinkle        14\n",
      "  4:     Cut        14\n",
      "  5:  Kettle        13\n",
      " ---                  \n",
      "167:     Veg         1\n",
      "168:  Vinegr         1\n",
      "169:  Vingar         1\n",
      "170: Whlegrn         1\n",
      "171:  Whlgrn         1\n"
     ]
    }
   ],
   "source": [
    "wordFrequency <- table(productWords$words)\n",
    "sortedWordFrequency <- data.table(words = names(wordFrequency), frequency = as.integer(wordFrequency))\n",
    "\n",
    "# Remove rows with empty strings in the 'words' column\n",
    "sortedWordFrequency <- sortedWordFrequency[words != \"\"]\n",
    "\n",
    "# Sort by frequency in descending order\n",
    "sortedWordFrequency <- sortedWordFrequency[order(-frequency)]\n",
    "\n",
    "# Print or inspect the sorted word frequency\n",
    "print(sortedWordFrequency)"
   ]
  },
  {
   "cell_type": "markdown",
   "metadata": {},
   "source": [
    "There are salsa products in the dataset but we are only interested in the chips\n",
    "category, so let's remove these."
   ]
  },
  {
   "cell_type": "code",
   "execution_count": 7,
   "metadata": {
    "vscode": {
     "languageId": "r"
    }
   },
   "outputs": [],
   "source": [
    "transactionData[, SALSA := grepl(\"salsa\", tolower(PROD_NAME))]\n",
    "transactionData <- transactionData[SALSA == FALSE, ][, SALSA := NULL]"
   ]
  },
  {
   "cell_type": "code",
   "execution_count": 18,
   "metadata": {
    "vscode": {
     "languageId": "r"
    }
   },
   "outputs": [
    {
     "data": {
      "text/plain": [
       "      DATE         STORE_NBR     LYLTY_CARD_NBR        TXN_ID       \n",
       " Min.   :43282   Min.   :  1.0   Min.   :   1000   Min.   :      1  \n",
       " 1st Qu.:43373   1st Qu.: 70.0   1st Qu.:  70015   1st Qu.:  67569  \n",
       " Median :43464   Median :130.0   Median : 130367   Median : 135182  \n",
       " Mean   :43464   Mean   :135.1   Mean   : 135530   Mean   : 135130  \n",
       " 3rd Qu.:43555   3rd Qu.:203.0   3rd Qu.: 203083   3rd Qu.: 202652  \n",
       " Max.   :43646   Max.   :272.0   Max.   :2373711   Max.   :2415841  \n",
       "    PROD_NBR       PROD_NAME            PROD_QTY       TOT_SALES     \n",
       " Min.   :  1.00   Length:246740      Min.   :1.000   Min.   : 1.700  \n",
       " 1st Qu.: 26.00   Class :character   1st Qu.:2.000   1st Qu.: 5.800  \n",
       " Median : 53.00   Mode  :character   Median :2.000   Median : 7.400  \n",
       " Mean   : 56.35                      Mean   :1.906   Mean   : 7.316  \n",
       " 3rd Qu.: 87.00                      3rd Qu.:2.000   3rd Qu.: 8.800  \n",
       " Max.   :114.00                      Max.   :5.000   Max.   :29.500  "
      ]
     },
     "metadata": {},
     "output_type": "display_data"
    }
   ],
   "source": [
    "summary(transactionData)"
   ]
  },
  {
   "cell_type": "code",
   "execution_count": 19,
   "metadata": {
    "vscode": {
     "languageId": "r"
    }
   },
   "outputs": [
    {
     "data": {
      "text/html": [
       "<table class=\"dataframe\">\n",
       "<caption>A data.table: 0 × 8</caption>\n",
       "<thead>\n",
       "\t<tr><th scope=col>DATE</th><th scope=col>STORE_NBR</th><th scope=col>LYLTY_CARD_NBR</th><th scope=col>TXN_ID</th><th scope=col>PROD_NBR</th><th scope=col>PROD_NAME</th><th scope=col>PROD_QTY</th><th scope=col>TOT_SALES</th></tr>\n",
       "\t<tr><th scope=col>&lt;int&gt;</th><th scope=col>&lt;int&gt;</th><th scope=col>&lt;int&gt;</th><th scope=col>&lt;int&gt;</th><th scope=col>&lt;int&gt;</th><th scope=col>&lt;chr&gt;</th><th scope=col>&lt;int&gt;</th><th scope=col>&lt;dbl&gt;</th></tr>\n",
       "</thead>\n",
       "<tbody>\n",
       "</tbody>\n",
       "</table>\n"
      ],
      "text/latex": [
       "A data.table: 0 × 8\n",
       "\\begin{tabular}{llllllll}\n",
       " DATE & STORE\\_NBR & LYLTY\\_CARD\\_NBR & TXN\\_ID & PROD\\_NBR & PROD\\_NAME & PROD\\_QTY & TOT\\_SALES\\\\\n",
       " <int> & <int> & <int> & <int> & <int> & <chr> & <int> & <dbl>\\\\\n",
       "\\hline\n",
       "\\end{tabular}\n"
      ],
      "text/markdown": [
       "\n",
       "A data.table: 0 × 8\n",
       "\n",
       "| DATE &lt;int&gt; | STORE_NBR &lt;int&gt; | LYLTY_CARD_NBR &lt;int&gt; | TXN_ID &lt;int&gt; | PROD_NBR &lt;int&gt; | PROD_NAME &lt;chr&gt; | PROD_QTY &lt;int&gt; | TOT_SALES &lt;dbl&gt; |\n",
       "|---|---|---|---|---|---|---|---|\n",
       "\n"
      ],
      "text/plain": [
       "     DATE STORE_NBR LYLTY_CARD_NBR TXN_ID PROD_NBR PROD_NAME PROD_QTY TOT_SALES"
      ]
     },
     "metadata": {},
     "output_type": "display_data"
    }
   ],
   "source": [
    "outlier <- transactionData[PROD_QTY == 200,]\n",
    "outlier"
   ]
  },
  {
   "cell_type": "code",
   "execution_count": 20,
   "metadata": {
    "vscode": {
     "languageId": "r"
    }
   },
   "outputs": [
    {
     "data": {
      "text/html": [
       "<table class=\"dataframe\">\n",
       "<caption>A data.table: 0 × 8</caption>\n",
       "<thead>\n",
       "\t<tr><th scope=col>DATE</th><th scope=col>STORE_NBR</th><th scope=col>LYLTY_CARD_NBR</th><th scope=col>TXN_ID</th><th scope=col>PROD_NBR</th><th scope=col>PROD_NAME</th><th scope=col>PROD_QTY</th><th scope=col>TOT_SALES</th></tr>\n",
       "\t<tr><th scope=col>&lt;int&gt;</th><th scope=col>&lt;int&gt;</th><th scope=col>&lt;int&gt;</th><th scope=col>&lt;int&gt;</th><th scope=col>&lt;int&gt;</th><th scope=col>&lt;chr&gt;</th><th scope=col>&lt;int&gt;</th><th scope=col>&lt;dbl&gt;</th></tr>\n",
       "</thead>\n",
       "<tbody>\n",
       "</tbody>\n",
       "</table>\n"
      ],
      "text/latex": [
       "A data.table: 0 × 8\n",
       "\\begin{tabular}{llllllll}\n",
       " DATE & STORE\\_NBR & LYLTY\\_CARD\\_NBR & TXN\\_ID & PROD\\_NBR & PROD\\_NAME & PROD\\_QTY & TOT\\_SALES\\\\\n",
       " <int> & <int> & <int> & <int> & <int> & <chr> & <int> & <dbl>\\\\\n",
       "\\hline\n",
       "\\end{tabular}\n"
      ],
      "text/markdown": [
       "\n",
       "A data.table: 0 × 8\n",
       "\n",
       "| DATE &lt;int&gt; | STORE_NBR &lt;int&gt; | LYLTY_CARD_NBR &lt;int&gt; | TXN_ID &lt;int&gt; | PROD_NBR &lt;int&gt; | PROD_NAME &lt;chr&gt; | PROD_QTY &lt;int&gt; | TOT_SALES &lt;dbl&gt; |\n",
       "|---|---|---|---|---|---|---|---|\n",
       "\n"
      ],
      "text/plain": [
       "     DATE STORE_NBR LYLTY_CARD_NBR TXN_ID PROD_NBR PROD_NAME PROD_QTY TOT_SALES"
      ]
     },
     "metadata": {},
     "output_type": "display_data"
    }
   ],
   "source": [
    "outlierTransactions <- transactionData[LYLTY_CARD_NBR == 226000,] # this is the outliers customer\n",
    "outlierTransactions"
   ]
  },
  {
   "cell_type": "code",
   "execution_count": 21,
   "metadata": {
    "vscode": {
     "languageId": "r"
    }
   },
   "outputs": [],
   "source": [
    "transactionData <- transactionData[LYLTY_CARD_NBR != 226000]"
   ]
  },
  {
   "cell_type": "code",
   "execution_count": 15,
   "metadata": {
    "vscode": {
     "languageId": "r"
    }
   },
   "outputs": [
    {
     "name": "stdout",
     "output_type": "stream",
     "text": [
      "         DATE STORE_NBR LYLTY_CARD_NBR TXN_ID PROD_NBR\n",
      "     1: 43390         1           1000      1        5\n",
      "     2: 43599         1           1307    348       66\n",
      "     3: 43605         1           1343    383       61\n",
      "     4: 43329         2           2373    974       69\n",
      "     5: 43330         2           2426   1038      108\n",
      "    ---                                               \n",
      "246736: 43533       272         272319 270088       89\n",
      "246737: 43325       272         272358 270154       74\n",
      "246738: 43410       272         272379 270187       51\n",
      "246739: 43461       272         272379 270188       42\n",
      "246740: 43365       272         272380 270189       74\n",
      "                                       PROD_NAME PROD_QTY TOT_SALES\n",
      "     1:   Natural Chip        Compny SeaSalt175g        2       6.0\n",
      "     2:                 CCs Nacho Cheese    175g        3       6.3\n",
      "     3:   Smiths Crinkle Cut  Chips Chicken 170g        2       2.9\n",
      "     4:   Smiths Chip Thinly  S/Cream&Onion 175g        5      15.0\n",
      "     5: Kettle Tortilla ChpsHny&Jlpno Chili 150g        3      13.8\n",
      "    ---                                                            \n",
      "246736:  Kettle Sweet Chilli And Sour Cream 175g        2      10.8\n",
      "246737:            Tostitos Splash Of  Lime 175g        1       4.4\n",
      "246738:                 Doritos Mexicana    170g        2       8.8\n",
      "246739:  Doritos Corn Chip Mexican Jalapeno 150g        2       7.8\n",
      "246740:            Tostitos Splash Of  Lime 175g        2       8.8\n"
     ]
    }
   ],
   "source": [
    "print(transactionData)"
   ]
  },
  {
   "cell_type": "code",
   "execution_count": 23,
   "metadata": {
    "vscode": {
     "languageId": "r"
    }
   },
   "outputs": [
    {
     "name": "stdout",
     "output_type": "stream",
     "text": [
      "          words frequency\n",
      "  1:      Chips        21\n",
      "  2:     Smiths        15\n",
      "  3:    Crinkle        13\n",
      "  4:        Cut        13\n",
      "  5:     Kettle        13\n",
      " ---                     \n",
      "155:     Vinegr         1\n",
      "156:     Vingar         1\n",
      "157:    Whlegrn         1\n",
      "158:     Whlgrn         1\n",
      "159: Woolworths         1\n"
     ]
    }
   ],
   "source": [
    "productWords <- data.table(unlist(strsplit(unique(transactionData[, PROD_NAME]), \" \")))\n",
    "setnames(productWords, 'words')\n",
    "containsDigitsOrSpecial <- grepl(\"[0-9&]\", productWords$words)\n",
    "productWords <- productWords[!containsDigitsOrSpecial]\n",
    "wordFrequency <- table(productWords$words)\n",
    "sortedWordFrequency <- data.table(words = names(wordFrequency), frequency = as.integer(wordFrequency))\n",
    "\n",
    "sortedWordFrequency <- sortedWordFrequency[words != \"\"]\n",
    "\n",
    "sortedWordFrequency <- sortedWordFrequency[order(-frequency)]\n",
    "\n",
    "print(sortedWordFrequency)"
   ]
  },
  {
   "cell_type": "code",
   "execution_count": 27,
   "metadata": {
    "vscode": {
     "languageId": "r"
    }
   },
   "outputs": [
    {
     "name": "stdout",
     "output_type": "stream",
     "text": [
      "           DATE   N\n",
      "  1: 2018-10-17 682\n",
      "  2: 2019-05-14 705\n",
      "  3: 2019-05-20 707\n",
      "  4: 2018-08-17 663\n",
      "  5: 2018-08-18 683\n",
      " ---               \n",
      "360: 2018-12-08 622\n",
      "361: 2019-01-30 689\n",
      "362: 2019-02-09 671\n",
      "363: 2018-08-31 658\n",
      "364: 2019-02-12 684\n"
     ]
    }
   ],
   "source": [
    "transactions_by_date <- transactionData[, .N, by = DATE]\n",
    "print(transactions_by_date)"
   ]
  },
  {
   "cell_type": "code",
   "execution_count": 32,
   "metadata": {
    "vscode": {
     "languageId": "r"
    }
   },
   "outputs": [
    {
     "data": {
      "text/plain": [
       "      DATE                  N        \n",
       " Min.   :2018-07-01   Min.   :607.0  \n",
       " 1st Qu.:2018-09-29   1st Qu.:658.0  \n",
       " Median :2018-12-30   Median :674.0  \n",
       " Mean   :2018-12-30   Mean   :677.9  \n",
       " 3rd Qu.:2019-03-31   3rd Qu.:694.2  \n",
       " Max.   :2019-06-30   Max.   :865.0  "
      ]
     },
     "metadata": {},
     "output_type": "display_data"
    }
   ],
   "source": [
    "summary(transactions_by_date)"
   ]
  },
  {
   "cell_type": "markdown",
   "metadata": {},
   "source": [
    "There's only 364 rows, meaning only 364 dates which indicates a missing date. Let's\n",
    "create a sequence of dates from 1 Jul 2018 to 30 Jun 2019 and use this to create a\n",
    "chart of number of transactions over time to find the missing date."
   ]
  },
  {
   "cell_type": "code",
   "execution_count": 39,
   "metadata": {
    "vscode": {
     "languageId": "r"
    }
   },
   "outputs": [
    {
     "name": "stdout",
     "output_type": "stream",
     "text": [
      "           DATE   N\n",
      "  1: 2018-07-01 663\n",
      "  2: 2018-07-02 650\n",
      "  3: 2018-07-03 674\n",
      "  4: 2018-07-04 669\n",
      "  5: 2018-07-05 660\n",
      " ---               \n",
      "361: 2019-06-26 657\n",
      "362: 2019-06-27 669\n",
      "363: 2019-06-28 673\n",
      "364: 2019-06-29 703\n",
      "365: 2019-06-30 704\n"
     ]
    }
   ],
   "source": [
    "date_sequence <- data.table(DATE = seq(as.Date(\"2018-07-01\"), as.Date(\"2019-06-30\"), by = \"days\"))\n",
    "transactions_by_day <- merge(date_sequence, transactions_by_date, by = \"DATE\", all.x = TRUE)\n",
    "transactions_by_day[is.na(N), N := 0]\n",
    "print(transactions_by_day)"
   ]
  },
  {
   "cell_type": "code",
   "execution_count": 40,
   "metadata": {
    "vscode": {
     "languageId": "r"
    }
   },
   "outputs": [],
   "source": [
    "theme_set(theme_bw())\n",
    "theme_update(plot.title = element_text(hjust = 0.5))\n"
   ]
  },
  {
   "cell_type": "code",
   "execution_count": 41,
   "metadata": {
    "vscode": {
     "languageId": "r"
    }
   },
   "outputs": [
    {
     "data": {
      "image/png": "[encoded data removed]",
      "text/plain": [
       "plot without title"
      ]
     },
     "metadata": {
      "image/png": {
       "height": 420,
       "width": 420
      }
     },
     "output_type": "display_data"
    }
   ],
   "source": [
    "ggplot(transactions_by_day, aes(x = DATE, y = N)) + geom_line() + labs(x = \"Day\", y = \"Number of transactions\", title = \"Transactions over time\") + scale_x_date(breaks = \"1 month\") + theme(axis.text.x = element_text(angle = 90, vjust = 0.5))"
   ]
  },
  {
   "cell_type": "code",
   "execution_count": 48,
   "metadata": {
    "vscode": {
     "languageId": "r"
    }
   },
   "outputs": [
    {
     "data": {
      "image/png": "[encoded data removed]",
      "text/plain": [
       "plot without title"
      ]
     },
     "metadata": {
      "image/png": {
       "height": 420,
       "width": 420
      }
     },
     "output_type": "display_data"
    }
   ],
   "source": [
    "december_data <- transactions_by_day[month(DATE) == 12]\n",
    "\n",
    "# Plot transactions over time with denser auxiliary lines\n",
    "ggplot(december_data, aes(x = DATE, y = N)) +\n",
    "  geom_line() +\n",
    "  labs(x = \"Day\", y = \"Number of transactions\", title = \"Transactions over time\") +\n",
    "  scale_x_date(breaks = seq(as.Date(\"2018-12-01\"), as.Date(\"2018-12-31\"), by = \"1 day\")) +\n",
    "  theme(axis.text.x = element_text(angle = 90, vjust = 0.5))"
   ]
  },
  {
   "cell_type": "code",
   "execution_count": 49,
   "metadata": {
    "vscode": {
     "languageId": "r"
    }
   },
   "outputs": [
    {
     "data": {
      "text/html": [
       "<table class=\"dataframe\">\n",
       "<caption>A data.table: 20 × 2</caption>\n",
       "<thead>\n",
       "\t<tr><th scope=col>PACK_SIZE</th><th scope=col>N</th></tr>\n",
       "\t<tr><th scope=col>&lt;dbl&gt;</th><th scope=col>&lt;int&gt;</th></tr>\n",
       "</thead>\n",
       "<tbody>\n",
       "\t<tr><td> 70</td><td> 1507</td></tr>\n",
       "\t<tr><td> 90</td><td> 3008</td></tr>\n",
       "\t<tr><td>110</td><td>22387</td></tr>\n",
       "\t<tr><td>125</td><td> 1454</td></tr>\n",
       "\t<tr><td>134</td><td>25102</td></tr>\n",
       "\t<tr><td>135</td><td> 3257</td></tr>\n",
       "\t<tr><td>150</td><td>40203</td></tr>\n",
       "\t<tr><td>160</td><td> 2970</td></tr>\n",
       "\t<tr><td>165</td><td>15297</td></tr>\n",
       "\t<tr><td>170</td><td>19983</td></tr>\n",
       "\t<tr><td>175</td><td>66390</td></tr>\n",
       "\t<tr><td>180</td><td> 1468</td></tr>\n",
       "\t<tr><td>190</td><td> 2995</td></tr>\n",
       "\t<tr><td>200</td><td> 4473</td></tr>\n",
       "\t<tr><td>210</td><td> 6272</td></tr>\n",
       "\t<tr><td>220</td><td> 1564</td></tr>\n",
       "\t<tr><td>250</td><td> 3169</td></tr>\n",
       "\t<tr><td>270</td><td> 6285</td></tr>\n",
       "\t<tr><td>330</td><td>12540</td></tr>\n",
       "\t<tr><td>380</td><td> 6416</td></tr>\n",
       "</tbody>\n",
       "</table>\n"
      ],
      "text/latex": [
       "A data.table: 20 × 2\n",
       "\\begin{tabular}{ll}\n",
       " PACK\\_SIZE & N\\\\\n",
       " <dbl> & <int>\\\\\n",
       "\\hline\n",
       "\t  70 &  1507\\\\\n",
       "\t  90 &  3008\\\\\n",
       "\t 110 & 22387\\\\\n",
       "\t 125 &  1454\\\\\n",
       "\t 134 & 25102\\\\\n",
       "\t 135 &  3257\\\\\n",
       "\t 150 & 40203\\\\\n",
       "\t 160 &  2970\\\\\n",
       "\t 165 & 15297\\\\\n",
       "\t 170 & 19983\\\\\n",
       "\t 175 & 66390\\\\\n",
       "\t 180 &  1468\\\\\n",
       "\t 190 &  2995\\\\\n",
       "\t 200 &  4473\\\\\n",
       "\t 210 &  6272\\\\\n",
       "\t 220 &  1564\\\\\n",
       "\t 250 &  3169\\\\\n",
       "\t 270 &  6285\\\\\n",
       "\t 330 & 12540\\\\\n",
       "\t 380 &  6416\\\\\n",
       "\\end{tabular}\n"
      ],
      "text/markdown": [
       "\n",
       "A data.table: 20 × 2\n",
       "\n",
       "| PACK_SIZE &lt;dbl&gt; | N &lt;int&gt; |\n",
       "|---|---|\n",
       "|  70 |  1507 |\n",
       "|  90 |  3008 |\n",
       "| 110 | 22387 |\n",
       "| 125 |  1454 |\n",
       "| 134 | 25102 |\n",
       "| 135 |  3257 |\n",
       "| 150 | 40203 |\n",
       "| 160 |  2970 |\n",
       "| 165 | 15297 |\n",
       "| 170 | 19983 |\n",
       "| 175 | 66390 |\n",
       "| 180 |  1468 |\n",
       "| 190 |  2995 |\n",
       "| 200 |  4473 |\n",
       "| 210 |  6272 |\n",
       "| 220 |  1564 |\n",
       "| 250 |  3169 |\n",
       "| 270 |  6285 |\n",
       "| 330 | 12540 |\n",
       "| 380 |  6416 |\n",
       "\n"
      ],
      "text/plain": [
       "   PACK_SIZE N    \n",
       "1   70        1507\n",
       "2   90        3008\n",
       "3  110       22387\n",
       "4  125        1454\n",
       "5  134       25102\n",
       "6  135        3257\n",
       "7  150       40203\n",
       "8  160        2970\n",
       "9  165       15297\n",
       "10 170       19983\n",
       "11 175       66390\n",
       "12 180        1468\n",
       "13 190        2995\n",
       "14 200        4473\n",
       "15 210        6272\n",
       "16 220        1564\n",
       "17 250        3169\n",
       "18 270        6285\n",
       "19 330       12540\n",
       "20 380        6416"
      ]
     },
     "metadata": {},
     "output_type": "display_data"
    }
   ],
   "source": [
    "transactionData[, PACK_SIZE := parse_number(PROD_NAME)]\n",
    "\n",
    "#### Always check your output\n",
    "#### Let's check if the pack sizes look sensible\n",
    "transactionData[, .N, PACK_SIZE][order(PACK_SIZE)]\n"
   ]
  },
  {
   "cell_type": "markdown",
   "metadata": {},
   "source": [
    "Plot a histogram showing the number of transactions by pack size."
   ]
  },
  {
   "cell_type": "code",
   "execution_count": 50,
   "metadata": {
    "vscode": {
     "languageId": "r"
    }
   },
   "outputs": [
    {
     "data": {
      "image/png": "[encoded data removed]",
      "text/plain": [
       "plot without title"
      ]
     },
     "metadata": {
      "image/png": {
       "height": 420,
       "width": 420
      }
     },
     "output_type": "display_data"
    }
   ],
   "source": [
    "ggplot(transactionData, aes(x = PACK_SIZE)) +\n",
    "  geom_histogram(binwidth = 10, fill = \"blue\", color = \"black\", alpha = 0.7) +\n",
    "  labs(x = \"Pack Size\", y = \"Number of Transactions\", title = \"Histogram of Transactions by Pack Size\") +\n",
    "  theme_minimal()"
   ]
  },
  {
   "cell_type": "code",
   "execution_count": 51,
   "metadata": {
    "vscode": {
     "languageId": "r"
    }
   },
   "outputs": [
    {
     "data": {
      "text/html": [
       "<table class=\"dataframe\">\n",
       "<caption>A data.table: 6 × 10</caption>\n",
       "<thead>\n",
       "\t<tr><th scope=col>DATE</th><th scope=col>STORE_NBR</th><th scope=col>LYLTY_CARD_NBR</th><th scope=col>TXN_ID</th><th scope=col>PROD_NBR</th><th scope=col>PROD_NAME</th><th scope=col>PROD_QTY</th><th scope=col>TOT_SALES</th><th scope=col>PACK_SIZE</th><th scope=col>BRAND</th></tr>\n",
       "\t<tr><th scope=col>&lt;date&gt;</th><th scope=col>&lt;int&gt;</th><th scope=col>&lt;int&gt;</th><th scope=col>&lt;int&gt;</th><th scope=col>&lt;int&gt;</th><th scope=col>&lt;chr&gt;</th><th scope=col>&lt;int&gt;</th><th scope=col>&lt;dbl&gt;</th><th scope=col>&lt;dbl&gt;</th><th scope=col>&lt;chr&gt;</th></tr>\n",
       "</thead>\n",
       "<tbody>\n",
       "\t<tr><td>2018-10-17</td><td>1</td><td>1000</td><td>   1</td><td>  5</td><td>Natural Chip        Compny SeaSalt175g  </td><td>2</td><td> 6.0</td><td>175</td><td>Natural</td></tr>\n",
       "\t<tr><td>2019-05-14</td><td>1</td><td>1307</td><td> 348</td><td> 66</td><td>CCs Nacho Cheese    175g                </td><td>3</td><td> 6.3</td><td>175</td><td>CCs    </td></tr>\n",
       "\t<tr><td>2019-05-20</td><td>1</td><td>1343</td><td> 383</td><td> 61</td><td>Smiths Crinkle Cut  Chips Chicken 170g  </td><td>2</td><td> 2.9</td><td>170</td><td>Smiths </td></tr>\n",
       "\t<tr><td>2018-08-17</td><td>2</td><td>2373</td><td> 974</td><td> 69</td><td><span style=white-space:pre-wrap>Smiths Chip Thinly  S/Cream&amp;Onion 175g  </span></td><td>5</td><td>15.0</td><td>175</td><td>Smiths </td></tr>\n",
       "\t<tr><td>2018-08-18</td><td>2</td><td>2426</td><td>1038</td><td>108</td><td>Kettle Tortilla ChpsHny&amp;Jlpno Chili 150g</td><td>3</td><td>13.8</td><td>150</td><td>Kettle </td></tr>\n",
       "\t<tr><td>2019-05-16</td><td>4</td><td>4149</td><td>3333</td><td> 16</td><td>Smiths Crinkle Chips Salt &amp; Vinegar 330g</td><td>1</td><td> 5.7</td><td>330</td><td>Smiths </td></tr>\n",
       "</tbody>\n",
       "</table>\n"
      ],
      "text/latex": [
       "A data.table: 6 × 10\n",
       "\\begin{tabular}{llllllllll}\n",
       " DATE & STORE\\_NBR & LYLTY\\_CARD\\_NBR & TXN\\_ID & PROD\\_NBR & PROD\\_NAME & PROD\\_QTY & TOT\\_SALES & PACK\\_SIZE & BRAND\\\\\n",
       " <date> & <int> & <int> & <int> & <int> & <chr> & <int> & <dbl> & <dbl> & <chr>\\\\\n",
       "\\hline\n",
       "\t 2018-10-17 & 1 & 1000 &    1 &   5 & Natural Chip        Compny SeaSalt175g   & 2 &  6.0 & 175 & Natural\\\\\n",
       "\t 2019-05-14 & 1 & 1307 &  348 &  66 & CCs Nacho Cheese    175g                 & 3 &  6.3 & 175 & CCs    \\\\\n",
       "\t 2019-05-20 & 1 & 1343 &  383 &  61 & Smiths Crinkle Cut  Chips Chicken 170g   & 2 &  2.9 & 170 & Smiths \\\\\n",
       "\t 2018-08-17 & 2 & 2373 &  974 &  69 & Smiths Chip Thinly  S/Cream\\&Onion 175g   & 5 & 15.0 & 175 & Smiths \\\\\n",
       "\t 2018-08-18 & 2 & 2426 & 1038 & 108 & Kettle Tortilla ChpsHny\\&Jlpno Chili 150g & 3 & 13.8 & 150 & Kettle \\\\\n",
       "\t 2019-05-16 & 4 & 4149 & 3333 &  16 & Smiths Crinkle Chips Salt \\& Vinegar 330g & 1 &  5.7 & 330 & Smiths \\\\\n",
       "\\end{tabular}\n"
      ],
      "text/markdown": [
       "\n",
       "A data.table: 6 × 10\n",
       "\n",
       "| DATE &lt;date&gt; | STORE_NBR &lt;int&gt; | LYLTY_CARD_NBR &lt;int&gt; | TXN_ID &lt;int&gt; | PROD_NBR &lt;int&gt; | PROD_NAME &lt;chr&gt; | PROD_QTY &lt;int&gt; | TOT_SALES &lt;dbl&gt; | PACK_SIZE &lt;dbl&gt; | BRAND &lt;chr&gt; |\n",
       "|---|---|---|---|---|---|---|---|---|---|\n",
       "| 2018-10-17 | 1 | 1000 |    1 |   5 | Natural Chip        Compny SeaSalt175g   | 2 |  6.0 | 175 | Natural |\n",
       "| 2019-05-14 | 1 | 1307 |  348 |  66 | CCs Nacho Cheese    175g                 | 3 |  6.3 | 175 | CCs     |\n",
       "| 2019-05-20 | 1 | 1343 |  383 |  61 | Smiths Crinkle Cut  Chips Chicken 170g   | 2 |  2.9 | 170 | Smiths  |\n",
       "| 2018-08-17 | 2 | 2373 |  974 |  69 | Smiths Chip Thinly  S/Cream&amp;Onion 175g   | 5 | 15.0 | 175 | Smiths  |\n",
       "| 2018-08-18 | 2 | 2426 | 1038 | 108 | Kettle Tortilla ChpsHny&amp;Jlpno Chili 150g | 3 | 13.8 | 150 | Kettle  |\n",
       "| 2019-05-16 | 4 | 4149 | 3333 |  16 | Smiths Crinkle Chips Salt &amp; Vinegar 330g | 1 |  5.7 | 330 | Smiths  |\n",
       "\n"
      ],
      "text/plain": [
       "  DATE       STORE_NBR LYLTY_CARD_NBR TXN_ID PROD_NBR\n",
       "1 2018-10-17 1         1000              1     5     \n",
       "2 2019-05-14 1         1307            348    66     \n",
       "3 2019-05-20 1         1343            383    61     \n",
       "4 2018-08-17 2         2373            974    69     \n",
       "5 2018-08-18 2         2426           1038   108     \n",
       "6 2019-05-16 4         4149           3333    16     \n",
       "  PROD_NAME                                PROD_QTY TOT_SALES PACK_SIZE BRAND  \n",
       "1 Natural Chip        Compny SeaSalt175g   2         6.0      175       Natural\n",
       "2 CCs Nacho Cheese    175g                 3         6.3      175       CCs    \n",
       "3 Smiths Crinkle Cut  Chips Chicken 170g   2         2.9      170       Smiths \n",
       "4 Smiths Chip Thinly  S/Cream&Onion 175g   5        15.0      175       Smiths \n",
       "5 Kettle Tortilla ChpsHny&Jlpno Chili 150g 3        13.8      150       Kettle \n",
       "6 Smiths Crinkle Chips Salt & Vinegar 330g 1         5.7      330       Smiths "
      ]
     },
     "metadata": {},
     "output_type": "display_data"
    }
   ],
   "source": [
    "transactionData[, BRAND := gsub(\"^(\\\\w+).*\", \"\\\\1\", PROD_NAME)]\n",
    "\n",
    "# Checking the results\n",
    "head(transactionData)"
   ]
  },
  {
   "cell_type": "markdown",
   "metadata": {},
   "source": [
    "### Examining customer data"
   ]
  },
  {
   "cell_type": "code",
   "execution_count": 52,
   "metadata": {
    "vscode": {
     "languageId": "r"
    }
   },
   "outputs": [
    {
     "data": {
      "text/plain": [
       " LYLTY_CARD_NBR     LIFESTAGE         PREMIUM_CUSTOMER  \n",
       " Min.   :   1000   Length:72637       Length:72637      \n",
       " 1st Qu.:  66202   Class :character   Class :character  \n",
       " Median : 134040   Mode  :character   Mode  :character  \n",
       " Mean   : 136186                                        \n",
       " 3rd Qu.: 203375                                        \n",
       " Max.   :2373711                                        "
      ]
     },
     "metadata": {},
     "output_type": "display_data"
    },
    {
     "data": {
      "text/html": [
       "0"
      ],
      "text/latex": [
       "0"
      ],
      "text/markdown": [
       "0"
      ],
      "text/plain": [
       "[1] 0"
      ]
     },
     "metadata": {},
     "output_type": "display_data"
    },
    {
     "data": {
      "image/png": "[encoded data removed]",
      "text/plain": [
       "plot without title"
      ]
     },
     "metadata": {
      "image/png": {
       "height": 420,
       "width": 420
      }
     },
     "output_type": "display_data"
    },
    {
     "data": {
      "image/png": "[encoded data removed]",
      "text/plain": [
       "plot without title"
      ]
     },
     "metadata": {
      "image/png": {
       "height": 420,
       "width": 420
      }
     },
     "output_type": "display_data"
    }
   ],
   "source": [
    "summary(customerData)\n",
    "sum(is.na(customerData))\n",
    "lifestageCategory <- data.frame(sort(table(customerData$LIFESTAGE),decreasing = TRUE ))\n",
    "\n",
    "setnames(lifestageCategory,c(\"lifestage\",\"freq\"))\n",
    "\n",
    "ggplot(lifestageCategory,aes(x=lifestage,y= freq,fill=lifestage)) +\n",
    "  geom_bar(stat=\"identity\",width = 0.5) + \n",
    "  labs(x = \"lifestage\", y =\"frequency\",title=\"Distribution Of Customers Over Lifestages\")+\n",
    "  theme(axis.text.x = element_text(angle = 90, vjust = 0.5))+scale_fill_brewer(palette=\"Dark2\")\n",
    "\n",
    "\n",
    "\n",
    "premiumCustomerType <- data.frame(sort(table(customerData$PREMIUM_CUSTOMER),decreasing = TRUE ))\n",
    "\n",
    "setnames(premiumCustomerType,c(\"premium_customer_type\",\"freq\"))\n",
    "\n",
    "ggplot(premiumCustomerType,aes(x=premium_customer_type,y= freq,fill=premium_customer_type)) +\n",
    "  geom_bar(stat=\"identity\",width = 0.5) + \n",
    "  labs(x = \"lifestage\", y =\"frequency\",title=\"Distribution Of Customers Over Premium Types\")+\n",
    "  theme(axis.text.x = element_text(angle = 90, vjust = 0.5))+scale_fill_brewer(palette=\"Dark2\")"
   ]
  },
  {
   "cell_type": "code",
   "execution_count": 54,
   "metadata": {
    "vscode": {
     "languageId": "r"
    }
   },
   "outputs": [
    {
     "data": {
      "text/html": [
       "0"
      ],
      "text/latex": [
       "0"
      ],
      "text/markdown": [
       "0"
      ],
      "text/plain": [
       "[1] 0"
      ]
     },
     "metadata": {},
     "output_type": "display_data"
    }
   ],
   "source": [
    "data <- merge(transactionData, customerData, all.x = TRUE)\n",
    "sum(is.na(data))"
   ]
  },
  {
   "cell_type": "code",
   "execution_count": 55,
   "metadata": {
    "vscode": {
     "languageId": "r"
    }
   },
   "outputs": [],
   "source": [
    "fwrite(data, paste0(filePath,\"QVI_data.csv\"))"
   ]
  },
  {
   "cell_type": "markdown",
   "metadata": {},
   "source": [
    "## Data analysis on customer segments"
   ]
  },
  {
   "cell_type": "code",
   "execution_count": 56,
   "metadata": {
    "vscode": {
     "languageId": "r"
    }
   },
   "outputs": [
    {
     "data": {
      "image/png": "[encoded data removed]",
      "text/plain": [
       "plot without title"
      ]
     },
     "metadata": {
      "image/png": {
       "height": 420,
       "width": 420
      }
     },
     "output_type": "display_data"
    }
   ],
   "source": [
    "totalSalesByLifestage <- aggregate(data$TOT_SALES, by=list(LIFESTAGE=data$LIFESTAGE),FUN=sum)\n",
    "\n",
    "setnames(totalSalesByLifestage,c(\"Lifestage\",\"Total_Sales\"))\n",
    "\n",
    "totalSalesByLifestage<-totalSalesByLifestage[order(totalSalesByLifestage$Total_Sales,decreasing = FALSE),]\n",
    "\n",
    "ggplot(totalSalesByLifestage,aes(x=reorder(Lifestage,-Total_Sales),y= Total_Sales,fill=Lifestage)) +\n",
    "  geom_bar(stat=\"identity\",width = 0.5) + \n",
    "  labs(x = \"lifestage\", y =\"Total Sales\",title=\"Total Sales By Lifestage\")+\n",
    "  theme(axis.text.x = element_text(angle = 90, vjust = 0.5))+scale_fill_brewer(palette=\"Dark2\")"
   ]
  },
  {
   "cell_type": "code",
   "execution_count": 57,
   "metadata": {
    "vscode": {
     "languageId": "r"
    }
   },
   "outputs": [
    {
     "data": {
      "image/png": "[encoded data removed]",
      "text/plain": [
       "plot without title"
      ]
     },
     "metadata": {
      "image/png": {
       "height": 420,
       "width": 420
      }
     },
     "output_type": "display_data"
    }
   ],
   "source": [
    "totalSalesByPremium <- aggregate(data$TOT_SALES, by=list(LIFESTAGE=data$PREMIUM_CUSTOMER),FUN=sum)\n",
    "\n",
    "setnames(totalSalesByPremium,c(\"Premium_Customer\",\"Total_Sales\"))\n",
    "\n",
    "totalSalesByPremium<-totalSalesByPremium[order(totalSalesByPremium$Total_Sales,decreasing = FALSE),]\n",
    "\n",
    "ggplot(totalSalesByPremium,aes(x=reorder(Premium_Customer,-Total_Sales),y= Total_Sales,fill=Premium_Customer)) +\n",
    "  geom_bar(stat=\"identity\",width = 0.5) + \n",
    "  labs(x = \"Premium Customer\", y =\"Total Sales\",title=\"Total Sales By Premium Customer\")+\n",
    "  theme(axis.text.x = element_text(angle = 90, vjust = 0.5))+scale_fill_brewer(palette=\"Dark2\")"
   ]
  },
  {
   "cell_type": "code",
   "execution_count": 58,
   "metadata": {
    "vscode": {
     "languageId": "r"
    }
   },
   "outputs": [
    {
     "data": {
      "image/png": "[encoded data removed]",
      "text/plain": [
       "plot without title"
      ]
     },
     "metadata": {
      "image/png": {
       "height": 420,
       "width": 420
      }
     },
     "output_type": "display_data"
    }
   ],
   "source": [
    "totalSalesByPremiumAndLifestage <- aggregate(.~LIFESTAGE+PREMIUM_CUSTOMER, data = data[,c(\"LIFESTAGE\",\"PREMIUM_CUSTOMER\",\"TOT_SALES\")] , sum)\n",
    "\n",
    "\n",
    "totalSalesByPremiumAndLifestage$Lifestage_Premium <- paste(totalSalesByPremiumAndLifestage$LIFESTAGE,totalSalesByPremiumAndLifestage$PREMIUM_CUSTOMER)\n",
    "totalSalesByPremiumAndLifestage <- totalSalesByPremiumAndLifestage[,c(\"Lifestage_Premium\",\"TOT_SALES\")]\n",
    "\n",
    "ggplot(totalSalesByPremiumAndLifestage,aes(x=reorder(Lifestage_Premium,-TOT_SALES),y= TOT_SALES,fill=Lifestage_Premium)) +\n",
    "  geom_bar(stat=\"identity\",width = 0.5) + \n",
    "  labs(x = \"Lifestage and Premium\", y =\"Total Sales\",title=\"Total Sales By Lifestage By Premium\")+\n",
    "  theme(axis.text.x = element_text(angle = 90, vjust = 0.5))"
   ]
  },
  {
   "cell_type": "code",
   "execution_count": 59,
   "metadata": {
    "vscode": {
     "languageId": "r"
    }
   },
   "outputs": [
    {
     "data": {
      "image/png": "[encoded data removed]",
      "text/plain": [
       "plot without title"
      ]
     },
     "metadata": {
      "image/png": {
       "height": 420,
       "width": 420
      }
     },
     "output_type": "display_data"
    }
   ],
   "source": [
    "numberOfCustomersByLifestageByPremium <- data.frame(paste(customerData$LIFESTAGE,customerData$PREMIUM_CUSTOMER))\n",
    "\n",
    "\n",
    "numberOfCustomersByLifestageByPremium <- data.frame(sort(table(numberOfCustomersByLifestageByPremium),decreasing = TRUE ))\n",
    "\n",
    "setnames(numberOfCustomersByLifestageByPremium,c(\"Lifestage_Premium\",\"freq\"))\n",
    "\n",
    "ggplot(numberOfCustomersByLifestageByPremium,aes(x=Lifestage_Premium,y = freq,fill=Lifestage_Premium)) +\n",
    "  geom_bar(stat=\"identity\",width = 0.5) + \n",
    "  labs(x = \"Lifestage and Premium\", y =\"Number of Customers\",title=\"Number of Customers By Lifestage By Premium\")+\n",
    "  theme(axis.text.x = element_text(angle = 90, vjust = 0.5))"
   ]
  },
  {
   "cell_type": "code",
   "execution_count": 60,
   "metadata": {
    "vscode": {
     "languageId": "r"
    }
   },
   "outputs": [
    {
     "data": {
      "image/png": "[encoded data removed]",
      "text/plain": [
       "plot without title"
      ]
     },
     "metadata": {
      "image/png": {
       "height": 420,
       "width": 420
      }
     },
     "output_type": "display_data"
    }
   ],
   "source": [
    "averageNumberOfUnits <- data.table(data[,c(\"LIFESTAGE\",\"PREMIUM_CUSTOMER\",\"PROD_QTY\")])\n",
    "\n",
    "averageNumberOfUnits$Lifestage_Premium <-  data.table(paste(data$LIFESTAGE,data$PREMIUM_CUSTOMER))\n",
    "\n",
    "setnames(averageNumberOfUnits,c(\"Lifestage\",\"premium\",\"prod_qty\",\"Lifestage_Premium\"))\n",
    "\n",
    "\n",
    "averageNumberOfUnits<- averageNumberOfUnits[,c(\"Lifestage_Premium\",\"prod_qty\")]\n",
    "\n",
    "\n",
    "setnames(averageNumberOfUnits,c(\"Lifestage_Premium\",\"PROD_QTY\"))\n",
    "\n",
    "averageNumberOfUnits <- aggregate(.~Lifestage_Premium, data = averageNumberOfUnits[,c(\"Lifestage_Premium\",\"PROD_QTY\")] , mean)\n",
    "\n",
    "ggplot(averageNumberOfUnits,aes(x=reorder(Lifestage_Premium,-PROD_QTY),y= PROD_QTY,fill=Lifestage_Premium)) +\n",
    "  geom_bar(stat=\"identity\",width = 0.5) + \n",
    "  labs(x = \"Lifestage and Premium\", y =\"Average Units Bought\",title=\"Average Units Per Customer Segment \")+\n",
    "  theme(axis.text.x = element_text(angle = 90, vjust = 0.5))"
   ]
  },
  {
   "cell_type": "code",
   "execution_count": 61,
   "metadata": {
    "vscode": {
     "languageId": "r"
    }
   },
   "outputs": [
    {
     "data": {
      "image/png": "[encoded data removed]",
      "text/plain": [
       "plot without title"
      ]
     },
     "metadata": {
      "image/png": {
       "height": 420,
       "width": 420
      }
     },
     "output_type": "display_data"
    }
   ],
   "source": [
    "averagePrice <- data.table(data[,c(\"LIFESTAGE\",\"PREMIUM_CUSTOMER\",\"PROD_QTY\",\"TOT_SALES\")])\n",
    "\n",
    "averagePrice$Lifestage_Premium <-  data.table(paste(data$LIFESTAGE,data$PREMIUM_CUSTOMER))\n",
    "\n",
    "setnames(averagePrice,c(\"Lifestage\",\"premium\",\"prod_qty\",\"TOT_SALES\",\"Lifestage_Premium\"))\n",
    "\n",
    "\n",
    "averagePrice<- averagePrice[,c(\"Lifestage_Premium\",\"prod_qty\",\"TOT_SALES\")]\n",
    "\n",
    "\n",
    "\n",
    "\n",
    "averagePrice <- aggregate(.~Lifestage_Premium, data = averagePrice , FUN= sum )\n",
    "\n",
    "averagePrice$averagePricePerUnit <- averagePrice$TOT_SALES / averagePrice$prod_qty\n",
    "\n",
    "\n",
    "ggplot(averagePrice,aes(x=reorder(Lifestage_Premium,-averagePricePerUnit),y= averagePricePerUnit,fill=Lifestage_Premium)) +\n",
    "  geom_bar(stat=\"identity\",width = 0.5) + \n",
    "  labs(x = \"Lifestage and Premium\", y =\"Average Price Per Unit Bought\",title=\"Average Price Per Unit Per Customer Segment \")+\n",
    "  theme(axis.text.x = element_text(angle = 90, vjust = 0.5))"
   ]
  },
  {
   "cell_type": "code",
   "execution_count": 62,
   "metadata": {
    "vscode": {
     "languageId": "r"
    }
   },
   "outputs": [
    {
     "data": {
      "image/png": "[encoded data removed]",
      "text/plain": [
       "plot without title"
      ]
     },
     "metadata": {
      "image/png": {
       "height": 420,
       "width": 420
      }
     },
     "output_type": "display_data"
    }
   ],
   "source": [
    "mainstreamYoungSingleCouples <- data.table(data)\n",
    "\n",
    "mainstreamYoungSingleCouples$Lifestage_Premium <- data.table(paste(data$LIFESTAGE, data$PREMIUM_CUSTOMER))\n",
    "\n",
    "mainstreamYoungSingleCouples <- mainstreamYoungSingleCouples[Lifestage_Premium == 'YOUNG SINGLES/COUPLES Mainstream']\n",
    "\n",
    "mainstreamYoungSingleCouplesBrandFreq <- data.frame(sort(table(mainstreamYoungSingleCouples$BRAND), decreasing = TRUE))\n",
    "\n",
    "setnames(mainstreamYoungSingleCouplesBrandFreq, c('BRAND', 'freq'))\n",
    "\n",
    "ggplot(mainstreamYoungSingleCouplesBrandFreq, aes(x = BRAND, y = freq, fill = BRAND)) +\n",
    "  geom_bar(stat = \"identity\", width = 0.5) +\n",
    "  labs(x = \"Brands\", y = \"Count\", title = \"Mainstream - Young Single/Couples Brand Purchases\") +\n",
    "  theme(axis.text.x = element_text(angle = 90, vjust = 0.5))"
   ]
  },
  {
   "cell_type": "code",
   "execution_count": 63,
   "metadata": {
    "vscode": {
     "languageId": "r"
    }
   },
   "outputs": [
    {
     "data": {
      "text/html": [
       "<table class=\"dataframe\">\n",
       "<caption>A matrix: 19544 × 13 of type lgl</caption>\n",
       "<thead>\n",
       "\t<tr><th scope=col>LYLTY_CARD_NBR</th><th scope=col>DATE</th><th scope=col>STORE_NBR</th><th scope=col>TXN_ID</th><th scope=col>PROD_NBR</th><th scope=col>PROD_NAME</th><th scope=col>PROD_QTY</th><th scope=col>TOT_SALES</th><th scope=col>PACK_SIZE</th><th scope=col>BRAND</th><th scope=col>LIFESTAGE</th><th scope=col>PREMIUM_CUSTOMER</th><th scope=col>Lifestage_Premium</th></tr>\n",
       "</thead>\n",
       "<tbody>\n",
       "\t<tr><td>FALSE</td><td>FALSE</td><td>FALSE</td><td>FALSE</td><td>FALSE</td><td>FALSE</td><td>FALSE</td><td>FALSE</td><td>FALSE</td><td>FALSE</td><td>FALSE</td><td>FALSE</td><td>FALSE</td></tr>\n",
       "\t<tr><td>FALSE</td><td>FALSE</td><td>FALSE</td><td>FALSE</td><td>FALSE</td><td>FALSE</td><td>FALSE</td><td>FALSE</td><td>FALSE</td><td>FALSE</td><td>FALSE</td><td>FALSE</td><td>FALSE</td></tr>\n",
       "\t<tr><td>FALSE</td><td>FALSE</td><td>FALSE</td><td>FALSE</td><td>FALSE</td><td>FALSE</td><td>FALSE</td><td>FALSE</td><td>FALSE</td><td>FALSE</td><td>FALSE</td><td>FALSE</td><td>FALSE</td></tr>\n",
       "\t<tr><td>FALSE</td><td>FALSE</td><td>FALSE</td><td>FALSE</td><td>FALSE</td><td>FALSE</td><td>FALSE</td><td>FALSE</td><td>FALSE</td><td>FALSE</td><td>FALSE</td><td>FALSE</td><td>FALSE</td></tr>\n",
       "\t<tr><td>FALSE</td><td>FALSE</td><td>FALSE</td><td>FALSE</td><td>FALSE</td><td>FALSE</td><td>FALSE</td><td>FALSE</td><td>FALSE</td><td>FALSE</td><td>FALSE</td><td>FALSE</td><td>FALSE</td></tr>\n",
       "\t<tr><td>FALSE</td><td>FALSE</td><td>FALSE</td><td>FALSE</td><td>FALSE</td><td>FALSE</td><td>FALSE</td><td>FALSE</td><td>FALSE</td><td>FALSE</td><td>FALSE</td><td>FALSE</td><td>FALSE</td></tr>\n",
       "\t<tr><td>FALSE</td><td>FALSE</td><td>FALSE</td><td>FALSE</td><td>FALSE</td><td>FALSE</td><td>FALSE</td><td>FALSE</td><td>FALSE</td><td>FALSE</td><td>FALSE</td><td>FALSE</td><td>FALSE</td></tr>\n",
       "\t<tr><td>FALSE</td><td>FALSE</td><td>FALSE</td><td>FALSE</td><td>FALSE</td><td>FALSE</td><td>FALSE</td><td>FALSE</td><td>FALSE</td><td>FALSE</td><td>FALSE</td><td>FALSE</td><td>FALSE</td></tr>\n",
       "\t<tr><td>FALSE</td><td>FALSE</td><td>FALSE</td><td>FALSE</td><td>FALSE</td><td>FALSE</td><td>FALSE</td><td>FALSE</td><td>FALSE</td><td>FALSE</td><td>FALSE</td><td>FALSE</td><td>FALSE</td></tr>\n",
       "\t<tr><td>FALSE</td><td>FALSE</td><td>FALSE</td><td>FALSE</td><td>FALSE</td><td>FALSE</td><td>FALSE</td><td>FALSE</td><td>FALSE</td><td>FALSE</td><td>FALSE</td><td>FALSE</td><td>FALSE</td></tr>\n",
       "\t<tr><td>FALSE</td><td>FALSE</td><td>FALSE</td><td>FALSE</td><td>FALSE</td><td>FALSE</td><td>FALSE</td><td>FALSE</td><td>FALSE</td><td>FALSE</td><td>FALSE</td><td>FALSE</td><td>FALSE</td></tr>\n",
       "\t<tr><td>FALSE</td><td>FALSE</td><td>FALSE</td><td>FALSE</td><td>FALSE</td><td>FALSE</td><td>FALSE</td><td>FALSE</td><td>FALSE</td><td>FALSE</td><td>FALSE</td><td>FALSE</td><td>FALSE</td></tr>\n",
       "\t<tr><td>FALSE</td><td>FALSE</td><td>FALSE</td><td>FALSE</td><td>FALSE</td><td>FALSE</td><td>FALSE</td><td>FALSE</td><td>FALSE</td><td>FALSE</td><td>FALSE</td><td>FALSE</td><td>FALSE</td></tr>\n",
       "\t<tr><td>FALSE</td><td>FALSE</td><td>FALSE</td><td>FALSE</td><td>FALSE</td><td>FALSE</td><td>FALSE</td><td>FALSE</td><td>FALSE</td><td>FALSE</td><td>FALSE</td><td>FALSE</td><td>FALSE</td></tr>\n",
       "\t<tr><td>FALSE</td><td>FALSE</td><td>FALSE</td><td>FALSE</td><td>FALSE</td><td>FALSE</td><td>FALSE</td><td>FALSE</td><td>FALSE</td><td>FALSE</td><td>FALSE</td><td>FALSE</td><td>FALSE</td></tr>\n",
       "\t<tr><td>FALSE</td><td>FALSE</td><td>FALSE</td><td>FALSE</td><td>FALSE</td><td>FALSE</td><td>FALSE</td><td>FALSE</td><td>FALSE</td><td>FALSE</td><td>FALSE</td><td>FALSE</td><td>FALSE</td></tr>\n",
       "\t<tr><td>FALSE</td><td>FALSE</td><td>FALSE</td><td>FALSE</td><td>FALSE</td><td>FALSE</td><td>FALSE</td><td>FALSE</td><td>FALSE</td><td>FALSE</td><td>FALSE</td><td>FALSE</td><td>FALSE</td></tr>\n",
       "\t<tr><td>FALSE</td><td>FALSE</td><td>FALSE</td><td>FALSE</td><td>FALSE</td><td>FALSE</td><td>FALSE</td><td>FALSE</td><td>FALSE</td><td>FALSE</td><td>FALSE</td><td>FALSE</td><td>FALSE</td></tr>\n",
       "\t<tr><td>FALSE</td><td>FALSE</td><td>FALSE</td><td>FALSE</td><td>FALSE</td><td>FALSE</td><td>FALSE</td><td>FALSE</td><td>FALSE</td><td>FALSE</td><td>FALSE</td><td>FALSE</td><td>FALSE</td></tr>\n",
       "\t<tr><td>FALSE</td><td>FALSE</td><td>FALSE</td><td>FALSE</td><td>FALSE</td><td>FALSE</td><td>FALSE</td><td>FALSE</td><td>FALSE</td><td>FALSE</td><td>FALSE</td><td>FALSE</td><td>FALSE</td></tr>\n",
       "\t<tr><td>FALSE</td><td>FALSE</td><td>FALSE</td><td>FALSE</td><td>FALSE</td><td>FALSE</td><td>FALSE</td><td>FALSE</td><td>FALSE</td><td>FALSE</td><td>FALSE</td><td>FALSE</td><td>FALSE</td></tr>\n",
       "\t<tr><td>FALSE</td><td>FALSE</td><td>FALSE</td><td>FALSE</td><td>FALSE</td><td>FALSE</td><td>FALSE</td><td>FALSE</td><td>FALSE</td><td>FALSE</td><td>FALSE</td><td>FALSE</td><td>FALSE</td></tr>\n",
       "\t<tr><td>FALSE</td><td>FALSE</td><td>FALSE</td><td>FALSE</td><td>FALSE</td><td>FALSE</td><td>FALSE</td><td>FALSE</td><td>FALSE</td><td>FALSE</td><td>FALSE</td><td>FALSE</td><td>FALSE</td></tr>\n",
       "\t<tr><td>FALSE</td><td>FALSE</td><td>FALSE</td><td>FALSE</td><td>FALSE</td><td>FALSE</td><td>FALSE</td><td>FALSE</td><td>FALSE</td><td>FALSE</td><td>FALSE</td><td>FALSE</td><td>FALSE</td></tr>\n",
       "\t<tr><td>FALSE</td><td>FALSE</td><td>FALSE</td><td>FALSE</td><td>FALSE</td><td>FALSE</td><td>FALSE</td><td>FALSE</td><td>FALSE</td><td>FALSE</td><td>FALSE</td><td>FALSE</td><td>FALSE</td></tr>\n",
       "\t<tr><td>FALSE</td><td>FALSE</td><td>FALSE</td><td>FALSE</td><td>FALSE</td><td>FALSE</td><td>FALSE</td><td>FALSE</td><td>FALSE</td><td>FALSE</td><td>FALSE</td><td>FALSE</td><td>FALSE</td></tr>\n",
       "\t<tr><td>FALSE</td><td>FALSE</td><td>FALSE</td><td>FALSE</td><td>FALSE</td><td>FALSE</td><td>FALSE</td><td>FALSE</td><td>FALSE</td><td>FALSE</td><td>FALSE</td><td>FALSE</td><td>FALSE</td></tr>\n",
       "\t<tr><td>FALSE</td><td>FALSE</td><td>FALSE</td><td>FALSE</td><td>FALSE</td><td>FALSE</td><td>FALSE</td><td>FALSE</td><td>FALSE</td><td>FALSE</td><td>FALSE</td><td>FALSE</td><td>FALSE</td></tr>\n",
       "\t<tr><td>FALSE</td><td>FALSE</td><td>FALSE</td><td>FALSE</td><td>FALSE</td><td>FALSE</td><td>FALSE</td><td>FALSE</td><td>FALSE</td><td>FALSE</td><td>FALSE</td><td>FALSE</td><td>FALSE</td></tr>\n",
       "\t<tr><td>FALSE</td><td>FALSE</td><td>FALSE</td><td>FALSE</td><td>FALSE</td><td>FALSE</td><td>FALSE</td><td>FALSE</td><td>FALSE</td><td>FALSE</td><td>FALSE</td><td>FALSE</td><td>FALSE</td></tr>\n",
       "\t<tr><td>...</td><td>...</td><td>...</td><td>...</td><td>...</td><td>...</td><td>...</td><td>...</td><td>...</td><td>...</td><td>...</td><td>...</td><td>...</td></tr>\n",
       "\t<tr><td>FALSE</td><td>FALSE</td><td>FALSE</td><td>FALSE</td><td>FALSE</td><td>FALSE</td><td>FALSE</td><td>FALSE</td><td>FALSE</td><td>FALSE</td><td>FALSE</td><td>FALSE</td><td>FALSE</td></tr>\n",
       "\t<tr><td>FALSE</td><td>FALSE</td><td>FALSE</td><td>FALSE</td><td>FALSE</td><td>FALSE</td><td>FALSE</td><td>FALSE</td><td>FALSE</td><td>FALSE</td><td>FALSE</td><td>FALSE</td><td>FALSE</td></tr>\n",
       "\t<tr><td>FALSE</td><td>FALSE</td><td>FALSE</td><td>FALSE</td><td>FALSE</td><td>FALSE</td><td>FALSE</td><td>FALSE</td><td>FALSE</td><td>FALSE</td><td>FALSE</td><td>FALSE</td><td>FALSE</td></tr>\n",
       "\t<tr><td>FALSE</td><td>FALSE</td><td>FALSE</td><td>FALSE</td><td>FALSE</td><td>FALSE</td><td>FALSE</td><td>FALSE</td><td>FALSE</td><td>FALSE</td><td>FALSE</td><td>FALSE</td><td>FALSE</td></tr>\n",
       "\t<tr><td>FALSE</td><td>FALSE</td><td>FALSE</td><td>FALSE</td><td>FALSE</td><td>FALSE</td><td>FALSE</td><td>FALSE</td><td>FALSE</td><td>FALSE</td><td>FALSE</td><td>FALSE</td><td>FALSE</td></tr>\n",
       "\t<tr><td>FALSE</td><td>FALSE</td><td>FALSE</td><td>FALSE</td><td>FALSE</td><td>FALSE</td><td>FALSE</td><td>FALSE</td><td>FALSE</td><td>FALSE</td><td>FALSE</td><td>FALSE</td><td>FALSE</td></tr>\n",
       "\t<tr><td>FALSE</td><td>FALSE</td><td>FALSE</td><td>FALSE</td><td>FALSE</td><td>FALSE</td><td>FALSE</td><td>FALSE</td><td>FALSE</td><td>FALSE</td><td>FALSE</td><td>FALSE</td><td>FALSE</td></tr>\n",
       "\t<tr><td>FALSE</td><td>FALSE</td><td>FALSE</td><td>FALSE</td><td>FALSE</td><td>FALSE</td><td>FALSE</td><td>FALSE</td><td>FALSE</td><td>FALSE</td><td>FALSE</td><td>FALSE</td><td>FALSE</td></tr>\n",
       "\t<tr><td>FALSE</td><td>FALSE</td><td>FALSE</td><td>FALSE</td><td>FALSE</td><td>FALSE</td><td>FALSE</td><td>FALSE</td><td>FALSE</td><td>FALSE</td><td>FALSE</td><td>FALSE</td><td>FALSE</td></tr>\n",
       "\t<tr><td>FALSE</td><td>FALSE</td><td>FALSE</td><td>FALSE</td><td>FALSE</td><td>FALSE</td><td>FALSE</td><td>FALSE</td><td>FALSE</td><td>FALSE</td><td>FALSE</td><td>FALSE</td><td>FALSE</td></tr>\n",
       "\t<tr><td>FALSE</td><td>FALSE</td><td>FALSE</td><td>FALSE</td><td>FALSE</td><td>FALSE</td><td>FALSE</td><td>FALSE</td><td>FALSE</td><td>FALSE</td><td>FALSE</td><td>FALSE</td><td>FALSE</td></tr>\n",
       "\t<tr><td>FALSE</td><td>FALSE</td><td>FALSE</td><td>FALSE</td><td>FALSE</td><td>FALSE</td><td>FALSE</td><td>FALSE</td><td>FALSE</td><td>FALSE</td><td>FALSE</td><td>FALSE</td><td>FALSE</td></tr>\n",
       "\t<tr><td>FALSE</td><td>FALSE</td><td>FALSE</td><td>FALSE</td><td>FALSE</td><td>FALSE</td><td>FALSE</td><td>FALSE</td><td>FALSE</td><td>FALSE</td><td>FALSE</td><td>FALSE</td><td>FALSE</td></tr>\n",
       "\t<tr><td>FALSE</td><td>FALSE</td><td>FALSE</td><td>FALSE</td><td>FALSE</td><td>FALSE</td><td>FALSE</td><td>FALSE</td><td>FALSE</td><td>FALSE</td><td>FALSE</td><td>FALSE</td><td>FALSE</td></tr>\n",
       "\t<tr><td>FALSE</td><td>FALSE</td><td>FALSE</td><td>FALSE</td><td>FALSE</td><td>FALSE</td><td>FALSE</td><td>FALSE</td><td>FALSE</td><td>FALSE</td><td>FALSE</td><td>FALSE</td><td>FALSE</td></tr>\n",
       "\t<tr><td>FALSE</td><td>FALSE</td><td>FALSE</td><td>FALSE</td><td>FALSE</td><td>FALSE</td><td>FALSE</td><td>FALSE</td><td>FALSE</td><td>FALSE</td><td>FALSE</td><td>FALSE</td><td>FALSE</td></tr>\n",
       "\t<tr><td>FALSE</td><td>FALSE</td><td>FALSE</td><td>FALSE</td><td>FALSE</td><td>FALSE</td><td>FALSE</td><td>FALSE</td><td>FALSE</td><td>FALSE</td><td>FALSE</td><td>FALSE</td><td>FALSE</td></tr>\n",
       "\t<tr><td>FALSE</td><td>FALSE</td><td>FALSE</td><td>FALSE</td><td>FALSE</td><td>FALSE</td><td>FALSE</td><td>FALSE</td><td>FALSE</td><td>FALSE</td><td>FALSE</td><td>FALSE</td><td>FALSE</td></tr>\n",
       "\t<tr><td>FALSE</td><td>FALSE</td><td>FALSE</td><td>FALSE</td><td>FALSE</td><td>FALSE</td><td>FALSE</td><td>FALSE</td><td>FALSE</td><td>FALSE</td><td>FALSE</td><td>FALSE</td><td>FALSE</td></tr>\n",
       "\t<tr><td>FALSE</td><td>FALSE</td><td>FALSE</td><td>FALSE</td><td>FALSE</td><td>FALSE</td><td>FALSE</td><td>FALSE</td><td>FALSE</td><td>FALSE</td><td>FALSE</td><td>FALSE</td><td>FALSE</td></tr>\n",
       "\t<tr><td>FALSE</td><td>FALSE</td><td>FALSE</td><td>FALSE</td><td>FALSE</td><td>FALSE</td><td>FALSE</td><td>FALSE</td><td>FALSE</td><td>FALSE</td><td>FALSE</td><td>FALSE</td><td>FALSE</td></tr>\n",
       "\t<tr><td>FALSE</td><td>FALSE</td><td>FALSE</td><td>FALSE</td><td>FALSE</td><td>FALSE</td><td>FALSE</td><td>FALSE</td><td>FALSE</td><td>FALSE</td><td>FALSE</td><td>FALSE</td><td>FALSE</td></tr>\n",
       "\t<tr><td>FALSE</td><td>FALSE</td><td>FALSE</td><td>FALSE</td><td>FALSE</td><td>FALSE</td><td>FALSE</td><td>FALSE</td><td>FALSE</td><td>FALSE</td><td>FALSE</td><td>FALSE</td><td>FALSE</td></tr>\n",
       "\t<tr><td>FALSE</td><td>FALSE</td><td>FALSE</td><td>FALSE</td><td>FALSE</td><td>FALSE</td><td>FALSE</td><td>FALSE</td><td>FALSE</td><td>FALSE</td><td>FALSE</td><td>FALSE</td><td>FALSE</td></tr>\n",
       "\t<tr><td>FALSE</td><td>FALSE</td><td>FALSE</td><td>FALSE</td><td>FALSE</td><td>FALSE</td><td>FALSE</td><td>FALSE</td><td>FALSE</td><td>FALSE</td><td>FALSE</td><td>FALSE</td><td>FALSE</td></tr>\n",
       "\t<tr><td>FALSE</td><td>FALSE</td><td>FALSE</td><td>FALSE</td><td>FALSE</td><td>FALSE</td><td>FALSE</td><td>FALSE</td><td>FALSE</td><td>FALSE</td><td>FALSE</td><td>FALSE</td><td>FALSE</td></tr>\n",
       "\t<tr><td>FALSE</td><td>FALSE</td><td>FALSE</td><td>FALSE</td><td>FALSE</td><td>FALSE</td><td>FALSE</td><td>FALSE</td><td>FALSE</td><td>FALSE</td><td>FALSE</td><td>FALSE</td><td>FALSE</td></tr>\n",
       "\t<tr><td>FALSE</td><td>FALSE</td><td>FALSE</td><td>FALSE</td><td>FALSE</td><td>FALSE</td><td>FALSE</td><td>FALSE</td><td>FALSE</td><td>FALSE</td><td>FALSE</td><td>FALSE</td><td>FALSE</td></tr>\n",
       "\t<tr><td>FALSE</td><td>FALSE</td><td>FALSE</td><td>FALSE</td><td>FALSE</td><td>FALSE</td><td>FALSE</td><td>FALSE</td><td>FALSE</td><td>FALSE</td><td>FALSE</td><td>FALSE</td><td>FALSE</td></tr>\n",
       "\t<tr><td>FALSE</td><td>FALSE</td><td>FALSE</td><td>FALSE</td><td>FALSE</td><td>FALSE</td><td>FALSE</td><td>FALSE</td><td>FALSE</td><td>FALSE</td><td>FALSE</td><td>FALSE</td><td>FALSE</td></tr>\n",
       "</tbody>\n",
       "</table>\n"
      ],
      "text/latex": [
       "A matrix: 19544 × 13 of type lgl\n",
       "\\begin{tabular}{lllllllllllll}\n",
       " LYLTY\\_CARD\\_NBR & DATE & STORE\\_NBR & TXN\\_ID & PROD\\_NBR & PROD\\_NAME & PROD\\_QTY & TOT\\_SALES & PACK\\_SIZE & BRAND & LIFESTAGE & PREMIUM\\_CUSTOMER & Lifestage\\_Premium\\\\\n",
       "\\hline\n",
       "\t FALSE & FALSE & FALSE & FALSE & FALSE & FALSE & FALSE & FALSE & FALSE & FALSE & FALSE & FALSE & FALSE\\\\\n",
       "\t FALSE & FALSE & FALSE & FALSE & FALSE & FALSE & FALSE & FALSE & FALSE & FALSE & FALSE & FALSE & FALSE\\\\\n",
       "\t FALSE & FALSE & FALSE & FALSE & FALSE & FALSE & FALSE & FALSE & FALSE & FALSE & FALSE & FALSE & FALSE\\\\\n",
       "\t FALSE & FALSE & FALSE & FALSE & FALSE & FALSE & FALSE & FALSE & FALSE & FALSE & FALSE & FALSE & FALSE\\\\\n",
       "\t FALSE & FALSE & FALSE & FALSE & FALSE & FALSE & FALSE & FALSE & FALSE & FALSE & FALSE & FALSE & FALSE\\\\\n",
       "\t FALSE & FALSE & FALSE & FALSE & FALSE & FALSE & FALSE & FALSE & FALSE & FALSE & FALSE & FALSE & FALSE\\\\\n",
       "\t FALSE & FALSE & FALSE & FALSE & FALSE & FALSE & FALSE & FALSE & FALSE & FALSE & FALSE & FALSE & FALSE\\\\\n",
       "\t FALSE & FALSE & FALSE & FALSE & FALSE & FALSE & FALSE & FALSE & FALSE & FALSE & FALSE & FALSE & FALSE\\\\\n",
       "\t FALSE & FALSE & FALSE & FALSE & FALSE & FALSE & FALSE & FALSE & FALSE & FALSE & FALSE & FALSE & FALSE\\\\\n",
       "\t FALSE & FALSE & FALSE & FALSE & FALSE & FALSE & FALSE & FALSE & FALSE & FALSE & FALSE & FALSE & FALSE\\\\\n",
       "\t FALSE & FALSE & FALSE & FALSE & FALSE & FALSE & FALSE & FALSE & FALSE & FALSE & FALSE & FALSE & FALSE\\\\\n",
       "\t FALSE & FALSE & FALSE & FALSE & FALSE & FALSE & FALSE & FALSE & FALSE & FALSE & FALSE & FALSE & FALSE\\\\\n",
       "\t FALSE & FALSE & FALSE & FALSE & FALSE & FALSE & FALSE & FALSE & FALSE & FALSE & FALSE & FALSE & FALSE\\\\\n",
       "\t FALSE & FALSE & FALSE & FALSE & FALSE & FALSE & FALSE & FALSE & FALSE & FALSE & FALSE & FALSE & FALSE\\\\\n",
       "\t FALSE & FALSE & FALSE & FALSE & FALSE & FALSE & FALSE & FALSE & FALSE & FALSE & FALSE & FALSE & FALSE\\\\\n",
       "\t FALSE & FALSE & FALSE & FALSE & FALSE & FALSE & FALSE & FALSE & FALSE & FALSE & FALSE & FALSE & FALSE\\\\\n",
       "\t FALSE & FALSE & FALSE & FALSE & FALSE & FALSE & FALSE & FALSE & FALSE & FALSE & FALSE & FALSE & FALSE\\\\\n",
       "\t FALSE & FALSE & FALSE & FALSE & FALSE & FALSE & FALSE & FALSE & FALSE & FALSE & FALSE & FALSE & FALSE\\\\\n",
       "\t FALSE & FALSE & FALSE & FALSE & FALSE & FALSE & FALSE & FALSE & FALSE & FALSE & FALSE & FALSE & FALSE\\\\\n",
       "\t FALSE & FALSE & FALSE & FALSE & FALSE & FALSE & FALSE & FALSE & FALSE & FALSE & FALSE & FALSE & FALSE\\\\\n",
       "\t FALSE & FALSE & FALSE & FALSE & FALSE & FALSE & FALSE & FALSE & FALSE & FALSE & FALSE & FALSE & FALSE\\\\\n",
       "\t FALSE & FALSE & FALSE & FALSE & FALSE & FALSE & FALSE & FALSE & FALSE & FALSE & FALSE & FALSE & FALSE\\\\\n",
       "\t FALSE & FALSE & FALSE & FALSE & FALSE & FALSE & FALSE & FALSE & FALSE & FALSE & FALSE & FALSE & FALSE\\\\\n",
       "\t FALSE & FALSE & FALSE & FALSE & FALSE & FALSE & FALSE & FALSE & FALSE & FALSE & FALSE & FALSE & FALSE\\\\\n",
       "\t FALSE & FALSE & FALSE & FALSE & FALSE & FALSE & FALSE & FALSE & FALSE & FALSE & FALSE & FALSE & FALSE\\\\\n",
       "\t FALSE & FALSE & FALSE & FALSE & FALSE & FALSE & FALSE & FALSE & FALSE & FALSE & FALSE & FALSE & FALSE\\\\\n",
       "\t FALSE & FALSE & FALSE & FALSE & FALSE & FALSE & FALSE & FALSE & FALSE & FALSE & FALSE & FALSE & FALSE\\\\\n",
       "\t FALSE & FALSE & FALSE & FALSE & FALSE & FALSE & FALSE & FALSE & FALSE & FALSE & FALSE & FALSE & FALSE\\\\\n",
       "\t FALSE & FALSE & FALSE & FALSE & FALSE & FALSE & FALSE & FALSE & FALSE & FALSE & FALSE & FALSE & FALSE\\\\\n",
       "\t FALSE & FALSE & FALSE & FALSE & FALSE & FALSE & FALSE & FALSE & FALSE & FALSE & FALSE & FALSE & FALSE\\\\\n",
       "\t ... & ... & ... & ... & ... & ... & ... & ... & ... & ... & ... & ... & ...\\\\\n",
       "\t FALSE & FALSE & FALSE & FALSE & FALSE & FALSE & FALSE & FALSE & FALSE & FALSE & FALSE & FALSE & FALSE\\\\\n",
       "\t FALSE & FALSE & FALSE & FALSE & FALSE & FALSE & FALSE & FALSE & FALSE & FALSE & FALSE & FALSE & FALSE\\\\\n",
       "\t FALSE & FALSE & FALSE & FALSE & FALSE & FALSE & FALSE & FALSE & FALSE & FALSE & FALSE & FALSE & FALSE\\\\\n",
       "\t FALSE & FALSE & FALSE & FALSE & FALSE & FALSE & FALSE & FALSE & FALSE & FALSE & FALSE & FALSE & FALSE\\\\\n",
       "\t FALSE & FALSE & FALSE & FALSE & FALSE & FALSE & FALSE & FALSE & FALSE & FALSE & FALSE & FALSE & FALSE\\\\\n",
       "\t FALSE & FALSE & FALSE & FALSE & FALSE & FALSE & FALSE & FALSE & FALSE & FALSE & FALSE & FALSE & FALSE\\\\\n",
       "\t FALSE & FALSE & FALSE & FALSE & FALSE & FALSE & FALSE & FALSE & FALSE & FALSE & FALSE & FALSE & FALSE\\\\\n",
       "\t FALSE & FALSE & FALSE & FALSE & FALSE & FALSE & FALSE & FALSE & FALSE & FALSE & FALSE & FALSE & FALSE\\\\\n",
       "\t FALSE & FALSE & FALSE & FALSE & FALSE & FALSE & FALSE & FALSE & FALSE & FALSE & FALSE & FALSE & FALSE\\\\\n",
       "\t FALSE & FALSE & FALSE & FALSE & FALSE & FALSE & FALSE & FALSE & FALSE & FALSE & FALSE & FALSE & FALSE\\\\\n",
       "\t FALSE & FALSE & FALSE & FALSE & FALSE & FALSE & FALSE & FALSE & FALSE & FALSE & FALSE & FALSE & FALSE\\\\\n",
       "\t FALSE & FALSE & FALSE & FALSE & FALSE & FALSE & FALSE & FALSE & FALSE & FALSE & FALSE & FALSE & FALSE\\\\\n",
       "\t FALSE & FALSE & FALSE & FALSE & FALSE & FALSE & FALSE & FALSE & FALSE & FALSE & FALSE & FALSE & FALSE\\\\\n",
       "\t FALSE & FALSE & FALSE & FALSE & FALSE & FALSE & FALSE & FALSE & FALSE & FALSE & FALSE & FALSE & FALSE\\\\\n",
       "\t FALSE & FALSE & FALSE & FALSE & FALSE & FALSE & FALSE & FALSE & FALSE & FALSE & FALSE & FALSE & FALSE\\\\\n",
       "\t FALSE & FALSE & FALSE & FALSE & FALSE & FALSE & FALSE & FALSE & FALSE & FALSE & FALSE & FALSE & FALSE\\\\\n",
       "\t FALSE & FALSE & FALSE & FALSE & FALSE & FALSE & FALSE & FALSE & FALSE & FALSE & FALSE & FALSE & FALSE\\\\\n",
       "\t FALSE & FALSE & FALSE & FALSE & FALSE & FALSE & FALSE & FALSE & FALSE & FALSE & FALSE & FALSE & FALSE\\\\\n",
       "\t FALSE & FALSE & FALSE & FALSE & FALSE & FALSE & FALSE & FALSE & FALSE & FALSE & FALSE & FALSE & FALSE\\\\\n",
       "\t FALSE & FALSE & FALSE & FALSE & FALSE & FALSE & FALSE & FALSE & FALSE & FALSE & FALSE & FALSE & FALSE\\\\\n",
       "\t FALSE & FALSE & FALSE & FALSE & FALSE & FALSE & FALSE & FALSE & FALSE & FALSE & FALSE & FALSE & FALSE\\\\\n",
       "\t FALSE & FALSE & FALSE & FALSE & FALSE & FALSE & FALSE & FALSE & FALSE & FALSE & FALSE & FALSE & FALSE\\\\\n",
       "\t FALSE & FALSE & FALSE & FALSE & FALSE & FALSE & FALSE & FALSE & FALSE & FALSE & FALSE & FALSE & FALSE\\\\\n",
       "\t FALSE & FALSE & FALSE & FALSE & FALSE & FALSE & FALSE & FALSE & FALSE & FALSE & FALSE & FALSE & FALSE\\\\\n",
       "\t FALSE & FALSE & FALSE & FALSE & FALSE & FALSE & FALSE & FALSE & FALSE & FALSE & FALSE & FALSE & FALSE\\\\\n",
       "\t FALSE & FALSE & FALSE & FALSE & FALSE & FALSE & FALSE & FALSE & FALSE & FALSE & FALSE & FALSE & FALSE\\\\\n",
       "\t FALSE & FALSE & FALSE & FALSE & FALSE & FALSE & FALSE & FALSE & FALSE & FALSE & FALSE & FALSE & FALSE\\\\\n",
       "\t FALSE & FALSE & FALSE & FALSE & FALSE & FALSE & FALSE & FALSE & FALSE & FALSE & FALSE & FALSE & FALSE\\\\\n",
       "\t FALSE & FALSE & FALSE & FALSE & FALSE & FALSE & FALSE & FALSE & FALSE & FALSE & FALSE & FALSE & FALSE\\\\\n",
       "\t FALSE & FALSE & FALSE & FALSE & FALSE & FALSE & FALSE & FALSE & FALSE & FALSE & FALSE & FALSE & FALSE\\\\\n",
       "\\end{tabular}\n"
      ],
      "text/markdown": [
       "\n",
       "A matrix: 19544 × 13 of type lgl\n",
       "\n",
       "| LYLTY_CARD_NBR | DATE | STORE_NBR | TXN_ID | PROD_NBR | PROD_NAME | PROD_QTY | TOT_SALES | PACK_SIZE | BRAND | LIFESTAGE | PREMIUM_CUSTOMER | Lifestage_Premium |\n",
       "|---|---|---|---|---|---|---|---|---|---|---|---|---|\n",
       "| FALSE | FALSE | FALSE | FALSE | FALSE | FALSE | FALSE | FALSE | FALSE | FALSE | FALSE | FALSE | FALSE |\n",
       "| FALSE | FALSE | FALSE | FALSE | FALSE | FALSE | FALSE | FALSE | FALSE | FALSE | FALSE | FALSE | FALSE |\n",
       "| FALSE | FALSE | FALSE | FALSE | FALSE | FALSE | FALSE | FALSE | FALSE | FALSE | FALSE | FALSE | FALSE |\n",
       "| FALSE | FALSE | FALSE | FALSE | FALSE | FALSE | FALSE | FALSE | FALSE | FALSE | FALSE | FALSE | FALSE |\n",
       "| FALSE | FALSE | FALSE | FALSE | FALSE | FALSE | FALSE | FALSE | FALSE | FALSE | FALSE | FALSE | FALSE |\n",
       "| FALSE | FALSE | FALSE | FALSE | FALSE | FALSE | FALSE | FALSE | FALSE | FALSE | FALSE | FALSE | FALSE |\n",
       "| FALSE | FALSE | FALSE | FALSE | FALSE | FALSE | FALSE | FALSE | FALSE | FALSE | FALSE | FALSE | FALSE |\n",
       "| FALSE | FALSE | FALSE | FALSE | FALSE | FALSE | FALSE | FALSE | FALSE | FALSE | FALSE | FALSE | FALSE |\n",
       "| FALSE | FALSE | FALSE | FALSE | FALSE | FALSE | FALSE | FALSE | FALSE | FALSE | FALSE | FALSE | FALSE |\n",
       "| FALSE | FALSE | FALSE | FALSE | FALSE | FALSE | FALSE | FALSE | FALSE | FALSE | FALSE | FALSE | FALSE |\n",
       "| FALSE | FALSE | FALSE | FALSE | FALSE | FALSE | FALSE | FALSE | FALSE | FALSE | FALSE | FALSE | FALSE |\n",
       "| FALSE | FALSE | FALSE | FALSE | FALSE | FALSE | FALSE | FALSE | FALSE | FALSE | FALSE | FALSE | FALSE |\n",
       "| FALSE | FALSE | FALSE | FALSE | FALSE | FALSE | FALSE | FALSE | FALSE | FALSE | FALSE | FALSE | FALSE |\n",
       "| FALSE | FALSE | FALSE | FALSE | FALSE | FALSE | FALSE | FALSE | FALSE | FALSE | FALSE | FALSE | FALSE |\n",
       "| FALSE | FALSE | FALSE | FALSE | FALSE | FALSE | FALSE | FALSE | FALSE | FALSE | FALSE | FALSE | FALSE |\n",
       "| FALSE | FALSE | FALSE | FALSE | FALSE | FALSE | FALSE | FALSE | FALSE | FALSE | FALSE | FALSE | FALSE |\n",
       "| FALSE | FALSE | FALSE | FALSE | FALSE | FALSE | FALSE | FALSE | FALSE | FALSE | FALSE | FALSE | FALSE |\n",
       "| FALSE | FALSE | FALSE | FALSE | FALSE | FALSE | FALSE | FALSE | FALSE | FALSE | FALSE | FALSE | FALSE |\n",
       "| FALSE | FALSE | FALSE | FALSE | FALSE | FALSE | FALSE | FALSE | FALSE | FALSE | FALSE | FALSE | FALSE |\n",
       "| FALSE | FALSE | FALSE | FALSE | FALSE | FALSE | FALSE | FALSE | FALSE | FALSE | FALSE | FALSE | FALSE |\n",
       "| FALSE | FALSE | FALSE | FALSE | FALSE | FALSE | FALSE | FALSE | FALSE | FALSE | FALSE | FALSE | FALSE |\n",
       "| FALSE | FALSE | FALSE | FALSE | FALSE | FALSE | FALSE | FALSE | FALSE | FALSE | FALSE | FALSE | FALSE |\n",
       "| FALSE | FALSE | FALSE | FALSE | FALSE | FALSE | FALSE | FALSE | FALSE | FALSE | FALSE | FALSE | FALSE |\n",
       "| FALSE | FALSE | FALSE | FALSE | FALSE | FALSE | FALSE | FALSE | FALSE | FALSE | FALSE | FALSE | FALSE |\n",
       "| FALSE | FALSE | FALSE | FALSE | FALSE | FALSE | FALSE | FALSE | FALSE | FALSE | FALSE | FALSE | FALSE |\n",
       "| FALSE | FALSE | FALSE | FALSE | FALSE | FALSE | FALSE | FALSE | FALSE | FALSE | FALSE | FALSE | FALSE |\n",
       "| FALSE | FALSE | FALSE | FALSE | FALSE | FALSE | FALSE | FALSE | FALSE | FALSE | FALSE | FALSE | FALSE |\n",
       "| FALSE | FALSE | FALSE | FALSE | FALSE | FALSE | FALSE | FALSE | FALSE | FALSE | FALSE | FALSE | FALSE |\n",
       "| FALSE | FALSE | FALSE | FALSE | FALSE | FALSE | FALSE | FALSE | FALSE | FALSE | FALSE | FALSE | FALSE |\n",
       "| FALSE | FALSE | FALSE | FALSE | FALSE | FALSE | FALSE | FALSE | FALSE | FALSE | FALSE | FALSE | FALSE |\n",
       "| ... | ... | ... | ... | ... | ... | ... | ... | ... | ... | ... | ... | ... |\n",
       "| FALSE | FALSE | FALSE | FALSE | FALSE | FALSE | FALSE | FALSE | FALSE | FALSE | FALSE | FALSE | FALSE |\n",
       "| FALSE | FALSE | FALSE | FALSE | FALSE | FALSE | FALSE | FALSE | FALSE | FALSE | FALSE | FALSE | FALSE |\n",
       "| FALSE | FALSE | FALSE | FALSE | FALSE | FALSE | FALSE | FALSE | FALSE | FALSE | FALSE | FALSE | FALSE |\n",
       "| FALSE | FALSE | FALSE | FALSE | FALSE | FALSE | FALSE | FALSE | FALSE | FALSE | FALSE | FALSE | FALSE |\n",
       "| FALSE | FALSE | FALSE | FALSE | FALSE | FALSE | FALSE | FALSE | FALSE | FALSE | FALSE | FALSE | FALSE |\n",
       "| FALSE | FALSE | FALSE | FALSE | FALSE | FALSE | FALSE | FALSE | FALSE | FALSE | FALSE | FALSE | FALSE |\n",
       "| FALSE | FALSE | FALSE | FALSE | FALSE | FALSE | FALSE | FALSE | FALSE | FALSE | FALSE | FALSE | FALSE |\n",
       "| FALSE | FALSE | FALSE | FALSE | FALSE | FALSE | FALSE | FALSE | FALSE | FALSE | FALSE | FALSE | FALSE |\n",
       "| FALSE | FALSE | FALSE | FALSE | FALSE | FALSE | FALSE | FALSE | FALSE | FALSE | FALSE | FALSE | FALSE |\n",
       "| FALSE | FALSE | FALSE | FALSE | FALSE | FALSE | FALSE | FALSE | FALSE | FALSE | FALSE | FALSE | FALSE |\n",
       "| FALSE | FALSE | FALSE | FALSE | FALSE | FALSE | FALSE | FALSE | FALSE | FALSE | FALSE | FALSE | FALSE |\n",
       "| FALSE | FALSE | FALSE | FALSE | FALSE | FALSE | FALSE | FALSE | FALSE | FALSE | FALSE | FALSE | FALSE |\n",
       "| FALSE | FALSE | FALSE | FALSE | FALSE | FALSE | FALSE | FALSE | FALSE | FALSE | FALSE | FALSE | FALSE |\n",
       "| FALSE | FALSE | FALSE | FALSE | FALSE | FALSE | FALSE | FALSE | FALSE | FALSE | FALSE | FALSE | FALSE |\n",
       "| FALSE | FALSE | FALSE | FALSE | FALSE | FALSE | FALSE | FALSE | FALSE | FALSE | FALSE | FALSE | FALSE |\n",
       "| FALSE | FALSE | FALSE | FALSE | FALSE | FALSE | FALSE | FALSE | FALSE | FALSE | FALSE | FALSE | FALSE |\n",
       "| FALSE | FALSE | FALSE | FALSE | FALSE | FALSE | FALSE | FALSE | FALSE | FALSE | FALSE | FALSE | FALSE |\n",
       "| FALSE | FALSE | FALSE | FALSE | FALSE | FALSE | FALSE | FALSE | FALSE | FALSE | FALSE | FALSE | FALSE |\n",
       "| FALSE | FALSE | FALSE | FALSE | FALSE | FALSE | FALSE | FALSE | FALSE | FALSE | FALSE | FALSE | FALSE |\n",
       "| FALSE | FALSE | FALSE | FALSE | FALSE | FALSE | FALSE | FALSE | FALSE | FALSE | FALSE | FALSE | FALSE |\n",
       "| FALSE | FALSE | FALSE | FALSE | FALSE | FALSE | FALSE | FALSE | FALSE | FALSE | FALSE | FALSE | FALSE |\n",
       "| FALSE | FALSE | FALSE | FALSE | FALSE | FALSE | FALSE | FALSE | FALSE | FALSE | FALSE | FALSE | FALSE |\n",
       "| FALSE | FALSE | FALSE | FALSE | FALSE | FALSE | FALSE | FALSE | FALSE | FALSE | FALSE | FALSE | FALSE |\n",
       "| FALSE | FALSE | FALSE | FALSE | FALSE | FALSE | FALSE | FALSE | FALSE | FALSE | FALSE | FALSE | FALSE |\n",
       "| FALSE | FALSE | FALSE | FALSE | FALSE | FALSE | FALSE | FALSE | FALSE | FALSE | FALSE | FALSE | FALSE |\n",
       "| FALSE | FALSE | FALSE | FALSE | FALSE | FALSE | FALSE | FALSE | FALSE | FALSE | FALSE | FALSE | FALSE |\n",
       "| FALSE | FALSE | FALSE | FALSE | FALSE | FALSE | FALSE | FALSE | FALSE | FALSE | FALSE | FALSE | FALSE |\n",
       "| FALSE | FALSE | FALSE | FALSE | FALSE | FALSE | FALSE | FALSE | FALSE | FALSE | FALSE | FALSE | FALSE |\n",
       "| FALSE | FALSE | FALSE | FALSE | FALSE | FALSE | FALSE | FALSE | FALSE | FALSE | FALSE | FALSE | FALSE |\n",
       "| FALSE | FALSE | FALSE | FALSE | FALSE | FALSE | FALSE | FALSE | FALSE | FALSE | FALSE | FALSE | FALSE |\n",
       "\n"
      ],
      "text/plain": [
       "      LYLTY_CARD_NBR DATE  STORE_NBR TXN_ID PROD_NBR PROD_NAME PROD_QTY\n",
       " [1,] FALSE          FALSE FALSE     FALSE  FALSE    FALSE     FALSE   \n",
       " [2,] FALSE          FALSE FALSE     FALSE  FALSE    FALSE     FALSE   \n",
       " [3,] FALSE          FALSE FALSE     FALSE  FALSE    FALSE     FALSE   \n",
       " [4,] FALSE          FALSE FALSE     FALSE  FALSE    FALSE     FALSE   \n",
       " [5,] FALSE          FALSE FALSE     FALSE  FALSE    FALSE     FALSE   \n",
       " [6,] FALSE          FALSE FALSE     FALSE  FALSE    FALSE     FALSE   \n",
       " [7,] FALSE          FALSE FALSE     FALSE  FALSE    FALSE     FALSE   \n",
       " [8,] FALSE          FALSE FALSE     FALSE  FALSE    FALSE     FALSE   \n",
       " [9,] FALSE          FALSE FALSE     FALSE  FALSE    FALSE     FALSE   \n",
       "[10,] FALSE          FALSE FALSE     FALSE  FALSE    FALSE     FALSE   \n",
       "[11,] FALSE          FALSE FALSE     FALSE  FALSE    FALSE     FALSE   \n",
       "[12,] FALSE          FALSE FALSE     FALSE  FALSE    FALSE     FALSE   \n",
       "[13,] FALSE          FALSE FALSE     FALSE  FALSE    FALSE     FALSE   \n",
       "[14,] FALSE          FALSE FALSE     FALSE  FALSE    FALSE     FALSE   \n",
       "[15,] FALSE          FALSE FALSE     FALSE  FALSE    FALSE     FALSE   \n",
       "[16,] FALSE          FALSE FALSE     FALSE  FALSE    FALSE     FALSE   \n",
       "[17,] FALSE          FALSE FALSE     FALSE  FALSE    FALSE     FALSE   \n",
       "[18,] FALSE          FALSE FALSE     FALSE  FALSE    FALSE     FALSE   \n",
       "[19,] FALSE          FALSE FALSE     FALSE  FALSE    FALSE     FALSE   \n",
       "[20,] FALSE          FALSE FALSE     FALSE  FALSE    FALSE     FALSE   \n",
       "[21,] FALSE          FALSE FALSE     FALSE  FALSE    FALSE     FALSE   \n",
       "[22,] FALSE          FALSE FALSE     FALSE  FALSE    FALSE     FALSE   \n",
       "[23,] FALSE          FALSE FALSE     FALSE  FALSE    FALSE     FALSE   \n",
       "[24,] FALSE          FALSE FALSE     FALSE  FALSE    FALSE     FALSE   \n",
       "[25,] FALSE          FALSE FALSE     FALSE  FALSE    FALSE     FALSE   \n",
       "[26,] FALSE          FALSE FALSE     FALSE  FALSE    FALSE     FALSE   \n",
       "[27,] FALSE          FALSE FALSE     FALSE  FALSE    FALSE     FALSE   \n",
       "[28,] FALSE          FALSE FALSE     FALSE  FALSE    FALSE     FALSE   \n",
       "[29,] FALSE          FALSE FALSE     FALSE  FALSE    FALSE     FALSE   \n",
       "[30,] FALSE          FALSE FALSE     FALSE  FALSE    FALSE     FALSE   \n",
       "[31,] ...            ...   ...       ...    ...      ...       ...     \n",
       "[32,] FALSE          FALSE FALSE     FALSE  FALSE    FALSE     FALSE   \n",
       "[33,] FALSE          FALSE FALSE     FALSE  FALSE    FALSE     FALSE   \n",
       "[34,] FALSE          FALSE FALSE     FALSE  FALSE    FALSE     FALSE   \n",
       "[35,] FALSE          FALSE FALSE     FALSE  FALSE    FALSE     FALSE   \n",
       "[36,] FALSE          FALSE FALSE     FALSE  FALSE    FALSE     FALSE   \n",
       "[37,] FALSE          FALSE FALSE     FALSE  FALSE    FALSE     FALSE   \n",
       "[38,] FALSE          FALSE FALSE     FALSE  FALSE    FALSE     FALSE   \n",
       "[39,] FALSE          FALSE FALSE     FALSE  FALSE    FALSE     FALSE   \n",
       "[40,] FALSE          FALSE FALSE     FALSE  FALSE    FALSE     FALSE   \n",
       "[41,] FALSE          FALSE FALSE     FALSE  FALSE    FALSE     FALSE   \n",
       "[42,] FALSE          FALSE FALSE     FALSE  FALSE    FALSE     FALSE   \n",
       "[43,] FALSE          FALSE FALSE     FALSE  FALSE    FALSE     FALSE   \n",
       "[44,] FALSE          FALSE FALSE     FALSE  FALSE    FALSE     FALSE   \n",
       "[45,] FALSE          FALSE FALSE     FALSE  FALSE    FALSE     FALSE   \n",
       "[46,] FALSE          FALSE FALSE     FALSE  FALSE    FALSE     FALSE   \n",
       "[47,] FALSE          FALSE FALSE     FALSE  FALSE    FALSE     FALSE   \n",
       "[48,] FALSE          FALSE FALSE     FALSE  FALSE    FALSE     FALSE   \n",
       "[49,] FALSE          FALSE FALSE     FALSE  FALSE    FALSE     FALSE   \n",
       "[50,] FALSE          FALSE FALSE     FALSE  FALSE    FALSE     FALSE   \n",
       "[51,] FALSE          FALSE FALSE     FALSE  FALSE    FALSE     FALSE   \n",
       "[52,] FALSE          FALSE FALSE     FALSE  FALSE    FALSE     FALSE   \n",
       "[53,] FALSE          FALSE FALSE     FALSE  FALSE    FALSE     FALSE   \n",
       "[54,] FALSE          FALSE FALSE     FALSE  FALSE    FALSE     FALSE   \n",
       "[55,] FALSE          FALSE FALSE     FALSE  FALSE    FALSE     FALSE   \n",
       "[56,] FALSE          FALSE FALSE     FALSE  FALSE    FALSE     FALSE   \n",
       "[57,] FALSE          FALSE FALSE     FALSE  FALSE    FALSE     FALSE   \n",
       "[58,] FALSE          FALSE FALSE     FALSE  FALSE    FALSE     FALSE   \n",
       "[59,] FALSE          FALSE FALSE     FALSE  FALSE    FALSE     FALSE   \n",
       "[60,] FALSE          FALSE FALSE     FALSE  FALSE    FALSE     FALSE   \n",
       "[61,] FALSE          FALSE FALSE     FALSE  FALSE    FALSE     FALSE   \n",
       "      TOT_SALES PACK_SIZE BRAND LIFESTAGE PREMIUM_CUSTOMER Lifestage_Premium\n",
       " [1,] FALSE     FALSE     FALSE FALSE     FALSE            FALSE            \n",
       " [2,] FALSE     FALSE     FALSE FALSE     FALSE            FALSE            \n",
       " [3,] FALSE     FALSE     FALSE FALSE     FALSE            FALSE            \n",
       " [4,] FALSE     FALSE     FALSE FALSE     FALSE            FALSE            \n",
       " [5,] FALSE     FALSE     FALSE FALSE     FALSE            FALSE            \n",
       " [6,] FALSE     FALSE     FALSE FALSE     FALSE            FALSE            \n",
       " [7,] FALSE     FALSE     FALSE FALSE     FALSE            FALSE            \n",
       " [8,] FALSE     FALSE     FALSE FALSE     FALSE            FALSE            \n",
       " [9,] FALSE     FALSE     FALSE FALSE     FALSE            FALSE            \n",
       "[10,] FALSE     FALSE     FALSE FALSE     FALSE            FALSE            \n",
       "[11,] FALSE     FALSE     FALSE FALSE     FALSE            FALSE            \n",
       "[12,] FALSE     FALSE     FALSE FALSE     FALSE            FALSE            \n",
       "[13,] FALSE     FALSE     FALSE FALSE     FALSE            FALSE            \n",
       "[14,] FALSE     FALSE     FALSE FALSE     FALSE            FALSE            \n",
       "[15,] FALSE     FALSE     FALSE FALSE     FALSE            FALSE            \n",
       "[16,] FALSE     FALSE     FALSE FALSE     FALSE            FALSE            \n",
       "[17,] FALSE     FALSE     FALSE FALSE     FALSE            FALSE            \n",
       "[18,] FALSE     FALSE     FALSE FALSE     FALSE            FALSE            \n",
       "[19,] FALSE     FALSE     FALSE FALSE     FALSE            FALSE            \n",
       "[20,] FALSE     FALSE     FALSE FALSE     FALSE            FALSE            \n",
       "[21,] FALSE     FALSE     FALSE FALSE     FALSE            FALSE            \n",
       "[22,] FALSE     FALSE     FALSE FALSE     FALSE            FALSE            \n",
       "[23,] FALSE     FALSE     FALSE FALSE     FALSE            FALSE            \n",
       "[24,] FALSE     FALSE     FALSE FALSE     FALSE            FALSE            \n",
       "[25,] FALSE     FALSE     FALSE FALSE     FALSE            FALSE            \n",
       "[26,] FALSE     FALSE     FALSE FALSE     FALSE            FALSE            \n",
       "[27,] FALSE     FALSE     FALSE FALSE     FALSE            FALSE            \n",
       "[28,] FALSE     FALSE     FALSE FALSE     FALSE            FALSE            \n",
       "[29,] FALSE     FALSE     FALSE FALSE     FALSE            FALSE            \n",
       "[30,] FALSE     FALSE     FALSE FALSE     FALSE            FALSE            \n",
       "[31,] ...       ...       ...   ...       ...              ...              \n",
       "[32,] FALSE     FALSE     FALSE FALSE     FALSE            FALSE            \n",
       "[33,] FALSE     FALSE     FALSE FALSE     FALSE            FALSE            \n",
       "[34,] FALSE     FALSE     FALSE FALSE     FALSE            FALSE            \n",
       "[35,] FALSE     FALSE     FALSE FALSE     FALSE            FALSE            \n",
       "[36,] FALSE     FALSE     FALSE FALSE     FALSE            FALSE            \n",
       "[37,] FALSE     FALSE     FALSE FALSE     FALSE            FALSE            \n",
       "[38,] FALSE     FALSE     FALSE FALSE     FALSE            FALSE            \n",
       "[39,] FALSE     FALSE     FALSE FALSE     FALSE            FALSE            \n",
       "[40,] FALSE     FALSE     FALSE FALSE     FALSE            FALSE            \n",
       "[41,] FALSE     FALSE     FALSE FALSE     FALSE            FALSE            \n",
       "[42,] FALSE     FALSE     FALSE FALSE     FALSE            FALSE            \n",
       "[43,] FALSE     FALSE     FALSE FALSE     FALSE            FALSE            \n",
       "[44,] FALSE     FALSE     FALSE FALSE     FALSE            FALSE            \n",
       "[45,] FALSE     FALSE     FALSE FALSE     FALSE            FALSE            \n",
       "[46,] FALSE     FALSE     FALSE FALSE     FALSE            FALSE            \n",
       "[47,] FALSE     FALSE     FALSE FALSE     FALSE            FALSE            \n",
       "[48,] FALSE     FALSE     FALSE FALSE     FALSE            FALSE            \n",
       "[49,] FALSE     FALSE     FALSE FALSE     FALSE            FALSE            \n",
       "[50,] FALSE     FALSE     FALSE FALSE     FALSE            FALSE            \n",
       "[51,] FALSE     FALSE     FALSE FALSE     FALSE            FALSE            \n",
       "[52,] FALSE     FALSE     FALSE FALSE     FALSE            FALSE            \n",
       "[53,] FALSE     FALSE     FALSE FALSE     FALSE            FALSE            \n",
       "[54,] FALSE     FALSE     FALSE FALSE     FALSE            FALSE            \n",
       "[55,] FALSE     FALSE     FALSE FALSE     FALSE            FALSE            \n",
       "[56,] FALSE     FALSE     FALSE FALSE     FALSE            FALSE            \n",
       "[57,] FALSE     FALSE     FALSE FALSE     FALSE            FALSE            \n",
       "[58,] FALSE     FALSE     FALSE FALSE     FALSE            FALSE            \n",
       "[59,] FALSE     FALSE     FALSE FALSE     FALSE            FALSE            \n",
       "[60,] FALSE     FALSE     FALSE FALSE     FALSE            FALSE            \n",
       "[61,] FALSE     FALSE     FALSE FALSE     FALSE            FALSE            "
      ]
     },
     "metadata": {},
     "output_type": "display_data"
    },
    {
     "name": "stderr",
     "output_type": "stream",
     "text": [
      "Warning message:\n",
      "\"\u001b[1m\u001b[22mRemoved 2 rows containing missing values (`geom_bar()`).\"\n"
     ]
    },
    {
     "data": {
      "text/html": [
       "178.344248874335"
      ],
      "text/latex": [
       "178.344248874335"
      ],
      "text/markdown": [
       "178.344248874335"
      ],
      "text/plain": [
       "[1] 178.3442"
      ]
     },
     "metadata": {},
     "output_type": "display_data"
    },
    {
     "data": {
      "text/html": [
       "63.9162483099038"
      ],
      "text/latex": [
       "63.9162483099038"
      ],
      "text/markdown": [
       "63.9162483099038"
      ],
      "text/plain": [
       "[1] 63.91625"
      ]
     },
     "metadata": {},
     "output_type": "display_data"
    },
    {
     "data": {
      "image/png": "[encoded data removed]",
      "text/plain": [
       "plot without title"
      ]
     },
     "metadata": {
      "image/png": {
       "height": 420,
       "width": 420
      }
     },
     "output_type": "display_data"
    }
   ],
   "source": [
    "is.na(mainstreamYoungSingleCouples)\n",
    "\n",
    "ggplot(mainstreamYoungSingleCouples,aes(x=PACK_SIZE) )+\n",
    "  geom_histogram(binwidth = 10,color=\"black\",fill=\"lightblue\") +\n",
    "  labs(x = \"Pack Sizes\", y =\"Frequency\",title=\"Histogram of Pack Sizes For Young Single/Couples- Mainstream\")+scale_color_brewer(palette=\"Dark2\")+geom_density(alpha=.2, fill=\"#FF6666\")+\n",
    "  scale_x_continuous(breaks = seq(0, 400, 10), limits = c(0,400))\n",
    "# calculating mean and sd for pack size for this segment\n",
    "mean(mainstreamYoungSingleCouples$PACK_SIZE)\n",
    "sd(mainstreamYoungSingleCouples$PACK_SIZE)"
   ]
  },
  {
   "cell_type": "code",
   "execution_count": 64,
   "metadata": {
    "vscode": {
     "languageId": "r"
    }
   },
   "outputs": [
    {
     "data": {
      "text/html": [
       "<table class=\"dataframe\">\n",
       "<caption>A data.table: 20 × 4</caption>\n",
       "<thead>\n",
       "\t<tr><th scope=col>PACK_SIZE</th><th scope=col>targetSegment</th><th scope=col>other</th><th scope=col>affinityToPack</th></tr>\n",
       "\t<tr><th scope=col>&lt;dbl&gt;</th><th scope=col>&lt;dbl&gt;</th><th scope=col>&lt;dbl&gt;</th><th scope=col>&lt;dbl&gt;</th></tr>\n",
       "</thead>\n",
       "<tbody>\n",
       "\t<tr><td>270</td><td>0.031828847</td><td>0.025095929</td><td>1.2682873</td></tr>\n",
       "\t<tr><td>380</td><td>0.032160110</td><td>0.025584213</td><td>1.2570295</td></tr>\n",
       "\t<tr><td>330</td><td>0.061283644</td><td>0.050161917</td><td>1.2217166</td></tr>\n",
       "\t<tr><td>134</td><td>0.119420290</td><td>0.100634769</td><td>1.1866703</td></tr>\n",
       "\t<tr><td>110</td><td>0.106280193</td><td>0.089791190</td><td>1.1836372</td></tr>\n",
       "\t<tr><td>210</td><td>0.029123533</td><td>0.025121265</td><td>1.1593180</td></tr>\n",
       "\t<tr><td>135</td><td>0.014768806</td><td>0.013075403</td><td>1.1295106</td></tr>\n",
       "\t<tr><td>250</td><td>0.014354727</td><td>0.012780590</td><td>1.1231662</td></tr>\n",
       "\t<tr><td>170</td><td>0.080772947</td><td>0.080985964</td><td>0.9973697</td></tr>\n",
       "\t<tr><td>150</td><td>0.157598344</td><td>0.163420656</td><td>0.9643722</td></tr>\n",
       "\t<tr><td>175</td><td>0.254989648</td><td>0.270006956</td><td>0.9443818</td></tr>\n",
       "\t<tr><td>165</td><td>0.055652174</td><td>0.062267662</td><td>0.8937572</td></tr>\n",
       "\t<tr><td>190</td><td>0.007481021</td><td>0.012442016</td><td>0.6012708</td></tr>\n",
       "\t<tr><td>180</td><td>0.003588682</td><td>0.006066692</td><td>0.5915385</td></tr>\n",
       "\t<tr><td>160</td><td>0.006404417</td><td>0.012372920</td><td>0.5176157</td></tr>\n",
       "\t<tr><td> 90</td><td>0.006349206</td><td>0.012580210</td><td>0.5046980</td></tr>\n",
       "\t<tr><td>125</td><td>0.003008972</td><td>0.006036750</td><td>0.4984423</td></tr>\n",
       "\t<tr><td>200</td><td>0.008971705</td><td>0.018656115</td><td>0.4808989</td></tr>\n",
       "\t<tr><td> 70</td><td>0.003036577</td><td>0.006322350</td><td>0.4802924</td></tr>\n",
       "\t<tr><td>220</td><td>0.002926156</td><td>0.006596434</td><td>0.4435967</td></tr>\n",
       "</tbody>\n",
       "</table>\n"
      ],
      "text/latex": [
       "A data.table: 20 × 4\n",
       "\\begin{tabular}{llll}\n",
       " PACK\\_SIZE & targetSegment & other & affinityToPack\\\\\n",
       " <dbl> & <dbl> & <dbl> & <dbl>\\\\\n",
       "\\hline\n",
       "\t 270 & 0.031828847 & 0.025095929 & 1.2682873\\\\\n",
       "\t 380 & 0.032160110 & 0.025584213 & 1.2570295\\\\\n",
       "\t 330 & 0.061283644 & 0.050161917 & 1.2217166\\\\\n",
       "\t 134 & 0.119420290 & 0.100634769 & 1.1866703\\\\\n",
       "\t 110 & 0.106280193 & 0.089791190 & 1.1836372\\\\\n",
       "\t 210 & 0.029123533 & 0.025121265 & 1.1593180\\\\\n",
       "\t 135 & 0.014768806 & 0.013075403 & 1.1295106\\\\\n",
       "\t 250 & 0.014354727 & 0.012780590 & 1.1231662\\\\\n",
       "\t 170 & 0.080772947 & 0.080985964 & 0.9973697\\\\\n",
       "\t 150 & 0.157598344 & 0.163420656 & 0.9643722\\\\\n",
       "\t 175 & 0.254989648 & 0.270006956 & 0.9443818\\\\\n",
       "\t 165 & 0.055652174 & 0.062267662 & 0.8937572\\\\\n",
       "\t 190 & 0.007481021 & 0.012442016 & 0.6012708\\\\\n",
       "\t 180 & 0.003588682 & 0.006066692 & 0.5915385\\\\\n",
       "\t 160 & 0.006404417 & 0.012372920 & 0.5176157\\\\\n",
       "\t  90 & 0.006349206 & 0.012580210 & 0.5046980\\\\\n",
       "\t 125 & 0.003008972 & 0.006036750 & 0.4984423\\\\\n",
       "\t 200 & 0.008971705 & 0.018656115 & 0.4808989\\\\\n",
       "\t  70 & 0.003036577 & 0.006322350 & 0.4802924\\\\\n",
       "\t 220 & 0.002926156 & 0.006596434 & 0.4435967\\\\\n",
       "\\end{tabular}\n"
      ],
      "text/markdown": [
       "\n",
       "A data.table: 20 × 4\n",
       "\n",
       "| PACK_SIZE &lt;dbl&gt; | targetSegment &lt;dbl&gt; | other &lt;dbl&gt; | affinityToPack &lt;dbl&gt; |\n",
       "|---|---|---|---|\n",
       "| 270 | 0.031828847 | 0.025095929 | 1.2682873 |\n",
       "| 380 | 0.032160110 | 0.025584213 | 1.2570295 |\n",
       "| 330 | 0.061283644 | 0.050161917 | 1.2217166 |\n",
       "| 134 | 0.119420290 | 0.100634769 | 1.1866703 |\n",
       "| 110 | 0.106280193 | 0.089791190 | 1.1836372 |\n",
       "| 210 | 0.029123533 | 0.025121265 | 1.1593180 |\n",
       "| 135 | 0.014768806 | 0.013075403 | 1.1295106 |\n",
       "| 250 | 0.014354727 | 0.012780590 | 1.1231662 |\n",
       "| 170 | 0.080772947 | 0.080985964 | 0.9973697 |\n",
       "| 150 | 0.157598344 | 0.163420656 | 0.9643722 |\n",
       "| 175 | 0.254989648 | 0.270006956 | 0.9443818 |\n",
       "| 165 | 0.055652174 | 0.062267662 | 0.8937572 |\n",
       "| 190 | 0.007481021 | 0.012442016 | 0.6012708 |\n",
       "| 180 | 0.003588682 | 0.006066692 | 0.5915385 |\n",
       "| 160 | 0.006404417 | 0.012372920 | 0.5176157 |\n",
       "|  90 | 0.006349206 | 0.012580210 | 0.5046980 |\n",
       "| 125 | 0.003008972 | 0.006036750 | 0.4984423 |\n",
       "| 200 | 0.008971705 | 0.018656115 | 0.4808989 |\n",
       "|  70 | 0.003036577 | 0.006322350 | 0.4802924 |\n",
       "| 220 | 0.002926156 | 0.006596434 | 0.4435967 |\n",
       "\n"
      ],
      "text/plain": [
       "   PACK_SIZE targetSegment other       affinityToPack\n",
       "1  270       0.031828847   0.025095929 1.2682873     \n",
       "2  380       0.032160110   0.025584213 1.2570295     \n",
       "3  330       0.061283644   0.050161917 1.2217166     \n",
       "4  134       0.119420290   0.100634769 1.1866703     \n",
       "5  110       0.106280193   0.089791190 1.1836372     \n",
       "6  210       0.029123533   0.025121265 1.1593180     \n",
       "7  135       0.014768806   0.013075403 1.1295106     \n",
       "8  250       0.014354727   0.012780590 1.1231662     \n",
       "9  170       0.080772947   0.080985964 0.9973697     \n",
       "10 150       0.157598344   0.163420656 0.9643722     \n",
       "11 175       0.254989648   0.270006956 0.9443818     \n",
       "12 165       0.055652174   0.062267662 0.8937572     \n",
       "13 190       0.007481021   0.012442016 0.6012708     \n",
       "14 180       0.003588682   0.006066692 0.5915385     \n",
       "15 160       0.006404417   0.012372920 0.5176157     \n",
       "16  90       0.006349206   0.012580210 0.5046980     \n",
       "17 125       0.003008972   0.006036750 0.4984423     \n",
       "18 200       0.008971705   0.018656115 0.4808989     \n",
       "19  70       0.003036577   0.006322350 0.4802924     \n",
       "20 220       0.002926156   0.006596434 0.4435967     "
      ]
     },
     "metadata": {},
     "output_type": "display_data"
    }
   ],
   "source": [
    "segment1 <- data[LIFESTAGE == \"YOUNG SINGLES/COUPLES\" & PREMIUM_CUSTOMER == \"Mainstream\",]\n",
    "other <- data[!(LIFESTAGE == \"YOUNG SINGLES/COUPLES\" & PREMIUM_CUSTOMER == \"Mainstream\"),]\n",
    "quantity_segment1 <- segment1[, sum(PROD_QTY)]\n",
    "quantity_other <- other[, sum(PROD_QTY)]\n",
    "quantity_other_by_size <- other[, .(other = sum(PROD_QTY)/quantity_other), by = PACK_SIZE]\n",
    "\n",
    "quantity_segment1_by_pack <- segment1[, .(targetSegment = sum(PROD_QTY)/quantity_segment1), by = PACK_SIZE]\n",
    "quantity_other_by_pack <- other[, .(other = sum(PROD_QTY)/quantity_other), by = PACK_SIZE]\n",
    "pack_proportions <- merge(quantity_segment1_by_pack, quantity_other_by_pack)[, affinityToPack := targetSegment/other]\n",
    "pack_proportions[order(-affinityToPack)]"
   ]
  },
  {
   "cell_type": "markdown",
   "metadata": {},
   "source": [
    "The main user groups of the sale are: budget shoppers and mainstream shoppers.\n",
    "\n",
    "1.  Budget shoppers are mainly older households: they are characterized by being more budget conscious. However, they buy more frequently and in larger quantities. Promotional activities can help to increase the purchasing power of this group.\n",
    "\n",
    "2.  Mainstream shoppers are mainly young people and retirees. These two groups had the highest total spending. This means that these groups are more willing to pay for crisps.\n",
    "\n",
    "3.  In all the products Kettle is the most popular brand."
   ]
  }
 ],
 "metadata": {
  "kernelspec": {
   "display_name": "R",
   "language": "R",
   "name": "ir"
  },
  "language_info": {
   "codemirror_mode": "r",
   "file_extension": ".r",
   "mimetype": "text/x-r-source",
   "name": "R",
   "pygments_lexer": "r",
   "version": "4.1.3"
  }
 },
 "nbformat": 4,
 "nbformat_minor": 2
}
