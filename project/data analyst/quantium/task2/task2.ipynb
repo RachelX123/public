{
 "cells": [
  {
   "cell_type": "markdown",
   "metadata": {},
   "source": [
    "# Quantium Virtual Internship - Retail Strategy and Analytics - Task 2"
   ]
  },
  {
   "cell_type": "markdown",
   "metadata": {},
   "source": [
    "## Load required libraries and datasets"
   ]
  },
  {
   "cell_type": "code",
   "execution_count": 7,
   "metadata": {
    "vscode": {
     "languageId": "r"
    }
   },
   "outputs": [],
   "source": [
    "library(data.table)\n",
    "library(ggplot2)\n",
    "library(tidyr)"
   ]
  },
  {
   "cell_type": "markdown",
   "metadata": {},
   "source": [
    "#### Point the filePath to where you have downloaded the datasets to and\n",
    "#### assign the data files to data.tables"
   ]
  },
  {
   "cell_type": "code",
   "execution_count": 8,
   "metadata": {
    "vscode": {
     "languageId": "r"
    }
   },
   "outputs": [],
   "source": [
    "data <- fread(paste0(\"QVI_data.csv\"))\n",
    "#### Set themes for plots\n",
    "theme_set(theme_bw())\n",
    "theme_update(plot.title = element_text(hjust = 0.5))"
   ]
  },
  {
   "cell_type": "markdown",
   "metadata": {},
   "source": [
    "## Select control stores"
   ]
  },
  {
   "cell_type": "markdown",
   "metadata": {},
   "source": [
    "The client has selected store numbers 77, 86 and 88 as trial stores and want\n",
    "control stores to be established stores that are operational for the entire\n",
    "observation period.\n",
    "We would want to match trial stores to control stores that are similar to the trial\n",
    "store prior to the trial period of Feb 2019 in terms of :\n",
    "- Monthly overall sales revenue\n",
    "- Monthly number of customers\n",
    "- Monthly number of transactions per customer\n",
    "Let's first create the metrics of interest and filter to stores that are present\n",
    "throughout the pre-trial period."
   ]
  },
  {
   "cell_type": "code",
   "execution_count": 9,
   "metadata": {
    "vscode": {
     "languageId": "r"
    }
   },
   "outputs": [
    {
     "data": {
      "text/html": [
       "<table class=\"dataframe\">\n",
       "<caption>A data.table: 264834 × 13</caption>\n",
       "<thead>\n",
       "\t<tr><th scope=col>LYLTY_CARD_NBR</th><th scope=col>DATE</th><th scope=col>STORE_NBR</th><th scope=col>TXN_ID</th><th scope=col>PROD_NBR</th><th scope=col>PROD_NAME</th><th scope=col>PROD_QTY</th><th scope=col>TOT_SALES</th><th scope=col>PACK_SIZE</th><th scope=col>BRAND</th><th scope=col>LIFESTAGE</th><th scope=col>PREMIUM_CUSTOMER</th><th scope=col>YEARMONTH</th></tr>\n",
       "\t<tr><th scope=col>&lt;int&gt;</th><th scope=col>&lt;IDate&gt;</th><th scope=col>&lt;int&gt;</th><th scope=col>&lt;int&gt;</th><th scope=col>&lt;int&gt;</th><th scope=col>&lt;chr&gt;</th><th scope=col>&lt;int&gt;</th><th scope=col>&lt;dbl&gt;</th><th scope=col>&lt;int&gt;</th><th scope=col>&lt;chr&gt;</th><th scope=col>&lt;chr&gt;</th><th scope=col>&lt;chr&gt;</th><th scope=col>&lt;dbl&gt;</th></tr>\n",
       "</thead>\n",
       "<tbody>\n",
       "\t<tr><td>1000</td><td>2018-10-17</td><td>1</td><td> 1</td><td>  5</td><td>Natural Chip        Compny SeaSalt175g  </td><td>2</td><td>6.0</td><td>175</td><td>NATURAL   </td><td>YOUNG SINGLES/COUPLES </td><td>Premium   </td><td>201810</td></tr>\n",
       "\t<tr><td>1002</td><td>2018-09-16</td><td>1</td><td> 2</td><td> 58</td><td><span style=white-space:pre-wrap>Red Rock Deli Chikn&amp;Garlic Aioli 150g   </span></td><td>1</td><td>2.7</td><td>150</td><td><span style=white-space:pre-wrap>RRD       </span></td><td>YOUNG SINGLES/COUPLES </td><td>Mainstream</td><td>201809</td></tr>\n",
       "\t<tr><td>1003</td><td>2019-03-07</td><td>1</td><td> 3</td><td> 52</td><td><span style=white-space:pre-wrap>Grain Waves Sour    Cream&amp;Chives 210G   </span></td><td>1</td><td>3.6</td><td>210</td><td><span style=white-space:pre-wrap>GRNWVES   </span></td><td><span style=white-space:pre-wrap>YOUNG FAMILIES        </span></td><td><span style=white-space:pre-wrap>Budget    </span></td><td>201903</td></tr>\n",
       "\t<tr><td>1003</td><td>2019-03-08</td><td>1</td><td> 4</td><td>106</td><td>Natural ChipCo      Hony Soy Chckn175g  </td><td>1</td><td>3.0</td><td>175</td><td>NATURAL   </td><td>YOUNG FAMILIES        </td><td>Budget    </td><td>201903</td></tr>\n",
       "\t<tr><td>1004</td><td>2018-11-02</td><td>1</td><td> 5</td><td> 96</td><td>WW Original Stacked Chips 160g          </td><td>1</td><td>1.9</td><td>160</td><td>WOOLWORTHS</td><td>OLDER SINGLES/COUPLES </td><td>Mainstream</td><td>201811</td></tr>\n",
       "\t<tr><td>1005</td><td>2018-12-28</td><td>1</td><td> 6</td><td> 86</td><td>Cheetos Puffs 165g                      </td><td>1</td><td>2.8</td><td>165</td><td>CHEETOS   </td><td>MIDAGE SINGLES/COUPLES</td><td>Mainstream</td><td>201812</td></tr>\n",
       "\t<tr><td>1007</td><td>2018-12-04</td><td>1</td><td> 7</td><td> 49</td><td>Infuzions SourCream&amp;Herbs Veg Strws 110g</td><td>1</td><td>3.8</td><td>110</td><td>INFUZIONS </td><td>YOUNG SINGLES/COUPLES </td><td><span style=white-space:pre-wrap>Budget    </span></td><td>201812</td></tr>\n",
       "\t<tr><td>1007</td><td>2018-12-05</td><td>1</td><td> 8</td><td> 10</td><td>RRD SR Slow Rst     Pork Belly 150g     </td><td>1</td><td>2.7</td><td>150</td><td>RRD       </td><td>YOUNG SINGLES/COUPLES </td><td>Budget    </td><td>201812</td></tr>\n",
       "\t<tr><td>1009</td><td>2018-11-20</td><td>1</td><td> 9</td><td> 20</td><td>Doritos Cheese      Supreme 330g        </td><td>1</td><td>5.7</td><td>330</td><td>DORITOS   </td><td>NEW FAMILIES          </td><td>Premium   </td><td>201811</td></tr>\n",
       "\t<tr><td>1010</td><td>2018-09-09</td><td>1</td><td>10</td><td> 51</td><td>Doritos Mexicana    170g                </td><td>2</td><td>8.8</td><td>170</td><td>DORITOS   </td><td>YOUNG SINGLES/COUPLES </td><td>Mainstream</td><td>201809</td></tr>\n",
       "\t<tr><td>1010</td><td>2018-12-14</td><td>1</td><td>11</td><td> 59</td><td>Old El Paso Salsa   Dip Tomato Med 300g </td><td>1</td><td>5.1</td><td>300</td><td>OLD       </td><td>YOUNG SINGLES/COUPLES </td><td>Mainstream</td><td>201812</td></tr>\n",
       "\t<tr><td>1011</td><td>2018-07-29</td><td>1</td><td>12</td><td> 84</td><td><span style=white-space:pre-wrap>GrnWves Plus Btroot &amp; Chilli Jam 180g   </span></td><td>2</td><td>6.2</td><td>180</td><td><span style=white-space:pre-wrap>GRNWVES   </span></td><td>OLDER SINGLES/COUPLES </td><td>Mainstream</td><td>201807</td></tr>\n",
       "\t<tr><td>1011</td><td>2018-11-08</td><td>1</td><td>13</td><td> 59</td><td>Old El Paso Salsa   Dip Tomato Med 300g </td><td>1</td><td>5.1</td><td>300</td><td>OLD       </td><td>OLDER SINGLES/COUPLES </td><td>Mainstream</td><td>201811</td></tr>\n",
       "\t<tr><td>1011</td><td>2018-12-01</td><td>1</td><td>14</td><td> 49</td><td>Infuzions SourCream&amp;Herbs Veg Strws 110g</td><td>1</td><td>3.8</td><td>110</td><td>INFUZIONS </td><td>OLDER SINGLES/COUPLES </td><td>Mainstream</td><td>201812</td></tr>\n",
       "\t<tr><td>1011</td><td>2018-12-19</td><td>1</td><td>15</td><td>  1</td><td>Smiths Crinkle Cut  Chips Barbecue 170g </td><td>1</td><td>2.9</td><td>170</td><td>SMITHS    </td><td>OLDER SINGLES/COUPLES </td><td>Mainstream</td><td>201812</td></tr>\n",
       "\t<tr><td>1012</td><td>2019-03-15</td><td>1</td><td>16</td><td> 20</td><td>Doritos Cheese      Supreme 330g        </td><td>1</td><td>5.7</td><td>330</td><td>DORITOS   </td><td>OLDER FAMILIES        </td><td>Mainstream</td><td>201903</td></tr>\n",
       "\t<tr><td>1012</td><td>2019-06-19</td><td>1</td><td>17</td><td><span style=white-space:pre-wrap>  3</span></td><td><span style=white-space:pre-wrap>Kettle Sensations   Camembert &amp; Fig 150g</span></td><td>1</td><td>4.6</td><td>150</td><td><span style=white-space:pre-wrap>KETTLE    </span></td><td><span style=white-space:pre-wrap>OLDER FAMILIES        </span></td><td>Mainstream</td><td>201906</td></tr>\n",
       "\t<tr><td>1013</td><td>2019-03-04</td><td>1</td><td>18</td><td> 93</td><td>Doritos Corn Chip Southern Chicken 150g </td><td>1</td><td>3.9</td><td>150</td><td>DORITOS   </td><td>RETIREES              </td><td>Budget    </td><td>201903</td></tr>\n",
       "\t<tr><td>1013</td><td>2019-03-07</td><td>1</td><td>19</td><td> 91</td><td>CCs Tasty Cheese    175g                </td><td>2</td><td>4.2</td><td>175</td><td>CCS       </td><td>RETIREES              </td><td>Budget    </td><td>201903</td></tr>\n",
       "\t<tr><td>1016</td><td>2019-04-19</td><td>1</td><td>20</td><td> 74</td><td>Tostitos Splash Of  Lime 175g           </td><td>1</td><td>4.4</td><td>175</td><td>TOSTITOS  </td><td>OLDER FAMILIES        </td><td>Mainstream</td><td>201904</td></tr>\n",
       "\t<tr><td>1016</td><td>2019-06-09</td><td>1</td><td>21</td><td> 63</td><td>Kettle 135g Swt Pot Sea Salt            </td><td>1</td><td>4.2</td><td>135</td><td>KETTLE    </td><td>OLDER FAMILIES        </td><td>Mainstream</td><td>201906</td></tr>\n",
       "\t<tr><td>1018</td><td>2018-09-03</td><td>1</td><td>22</td><td><span style=white-space:pre-wrap>  3</span></td><td><span style=white-space:pre-wrap>Kettle Sensations   Camembert &amp; Fig 150g</span></td><td>1</td><td>4.6</td><td>150</td><td><span style=white-space:pre-wrap>KETTLE    </span></td><td>YOUNG SINGLES/COUPLES </td><td>Mainstream</td><td>201809</td></tr>\n",
       "\t<tr><td>1018</td><td>2018-11-28</td><td>1</td><td>23</td><td> 97</td><td><span style=white-space:pre-wrap>RRD Salt &amp; Vinegar  165g                </span></td><td>1</td><td>3.0</td><td>165</td><td><span style=white-space:pre-wrap>RRD       </span></td><td>YOUNG SINGLES/COUPLES </td><td>Mainstream</td><td>201811</td></tr>\n",
       "\t<tr><td>1018</td><td>2019-06-20</td><td>1</td><td>24</td><td> 38</td><td>Infuzions Mango     Chutny Papadums 70g </td><td>1</td><td>2.4</td><td> 70</td><td>INFUZIONS </td><td>YOUNG SINGLES/COUPLES </td><td>Mainstream</td><td>201906</td></tr>\n",
       "\t<tr><td>1019</td><td>2019-01-27</td><td>1</td><td>25</td><td> 84</td><td><span style=white-space:pre-wrap>GrnWves Plus Btroot &amp; Chilli Jam 180g   </span></td><td>1</td><td>3.1</td><td>180</td><td><span style=white-space:pre-wrap>GRNWVES   </span></td><td>OLDER SINGLES/COUPLES </td><td><span style=white-space:pre-wrap>Premium   </span></td><td>201901</td></tr>\n",
       "\t<tr><td>1020</td><td>2018-08-16</td><td>1</td><td>26</td><td> 19</td><td><span style=white-space:pre-wrap>Smiths Crinkle Cut  Snag&amp;Sauce 150g     </span></td><td>1</td><td>2.6</td><td>150</td><td><span style=white-space:pre-wrap>SMITHS    </span></td><td>YOUNG SINGLES/COUPLES </td><td>Mainstream</td><td>201808</td></tr>\n",
       "\t<tr><td>1020</td><td>2018-10-02</td><td>1</td><td>27</td><td>  7</td><td>Smiths Crinkle      Original 330g       </td><td>1</td><td>5.7</td><td>330</td><td>SMITHS    </td><td>YOUNG SINGLES/COUPLES </td><td>Mainstream</td><td>201810</td></tr>\n",
       "\t<tr><td>1020</td><td>2019-05-02</td><td>1</td><td>28</td><td> 84</td><td><span style=white-space:pre-wrap>GrnWves Plus Btroot &amp; Chilli Jam 180g   </span></td><td>1</td><td>3.1</td><td>180</td><td><span style=white-space:pre-wrap>GRNWVES   </span></td><td>YOUNG SINGLES/COUPLES </td><td>Mainstream</td><td>201905</td></tr>\n",
       "\t<tr><td>1022</td><td>2018-10-24</td><td>1</td><td>29</td><td><span style=white-space:pre-wrap>  3</span></td><td><span style=white-space:pre-wrap>Kettle Sensations   Camembert &amp; Fig 150g</span></td><td>1</td><td>4.6</td><td>150</td><td><span style=white-space:pre-wrap>KETTLE    </span></td><td><span style=white-space:pre-wrap>OLDER FAMILIES        </span></td><td><span style=white-space:pre-wrap>Budget    </span></td><td>201810</td></tr>\n",
       "\t<tr><td>1023</td><td>2019-05-27</td><td>1</td><td>30</td><td> 53</td><td><span style=white-space:pre-wrap>RRD Sweet Chilli &amp;  Sour Cream 165g     </span></td><td>1</td><td>3.0</td><td>165</td><td><span style=white-space:pre-wrap>RRD       </span></td><td>MIDAGE SINGLES/COUPLES</td><td><span style=white-space:pre-wrap>Premium   </span></td><td>201905</td></tr>\n",
       "\t<tr><td>...</td><td>...</td><td>...</td><td>...</td><td>...</td><td>...</td><td>...</td><td>...</td><td>...</td><td>...</td><td>...</td><td>...</td><td>...</td></tr>\n",
       "\t<tr><td>2330031</td><td>2018-07-07</td><td>77</td><td>236716</td><td>102</td><td><span style=white-space:pre-wrap>Kettle Mozzarella   Basil &amp; Pesto 175g  </span></td><td>1</td><td> 5.4</td><td>175</td><td><span style=white-space:pre-wrap>KETTLE    </span></td><td>MIDAGE SINGLES/COUPLES</td><td><span style=white-space:pre-wrap>Premium   </span></td><td>201807</td></tr>\n",
       "\t<tr><td>2330041</td><td>2018-09-23</td><td>77</td><td>236718</td><td> 24</td><td>Grain Waves         Sweet Chilli 210g   </td><td>2</td><td> 7.2</td><td>210</td><td>GRNWVES   </td><td>YOUNG SINGLES/COUPLES </td><td>Mainstream</td><td>201809</td></tr>\n",
       "\t<tr><td>2330051</td><td>2018-09-07</td><td>77</td><td>236719</td><td> 78</td><td><span style=white-space:pre-wrap>Thins Chips Salt &amp;  Vinegar 175g        </span></td><td>2</td><td> 6.6</td><td>175</td><td><span style=white-space:pre-wrap>THINS     </span></td><td><span style=white-space:pre-wrap>RETIREES              </span></td><td><span style=white-space:pre-wrap>Premium   </span></td><td>201809</td></tr>\n",
       "\t<tr><td>2330081</td><td>2019-06-22</td><td>77</td><td>236723</td><td> 30</td><td>Doritos Corn Chips  Cheese Supreme 170g </td><td>2</td><td> 8.8</td><td>170</td><td>DORITOS   </td><td>RETIREES              </td><td>Mainstream</td><td>201906</td></tr>\n",
       "\t<tr><td>2330121</td><td>2018-11-26</td><td>77</td><td>236729</td><td> 10</td><td>RRD SR Slow Rst     Pork Belly 150g     </td><td>2</td><td> 5.4</td><td>150</td><td>RRD       </td><td>RETIREES              </td><td>Budget    </td><td>201811</td></tr>\n",
       "\t<tr><td>2330171</td><td>2019-06-20</td><td>77</td><td>236737</td><td>  5</td><td>Natural Chip        Compny SeaSalt175g  </td><td>2</td><td> 6.0</td><td>175</td><td>NATURAL   </td><td>RETIREES              </td><td>Mainstream</td><td>201906</td></tr>\n",
       "\t<tr><td>2330191</td><td>2018-11-07</td><td>77</td><td>236740</td><td> 67</td><td><span style=white-space:pre-wrap>RRD Chilli&amp;         Coconut 150g        </span></td><td>1</td><td> 2.7</td><td>150</td><td><span style=white-space:pre-wrap>RRD       </span></td><td>OLDER SINGLES/COUPLES </td><td><span style=white-space:pre-wrap>Budget    </span></td><td>201811</td></tr>\n",
       "\t<tr><td>2330211</td><td>2018-07-17</td><td>77</td><td>236744</td><td> 94</td><td>Burger Rings 220g                       </td><td>1</td><td> 2.3</td><td>220</td><td>BURGER    </td><td>MIDAGE SINGLES/COUPLES</td><td>Budget    </td><td>201807</td></tr>\n",
       "\t<tr><td>2330251</td><td>2018-11-29</td><td>77</td><td>236747</td><td> 14</td><td>Smiths Crnkle Chip  Orgnl Big Bag 380g  </td><td>2</td><td>11.8</td><td>380</td><td>SMITHS    </td><td>RETIREES              </td><td>Budget    </td><td>201811</td></tr>\n",
       "\t<tr><td>2330271</td><td>2019-06-29</td><td>77</td><td>236749</td><td>114</td><td>Kettle Sensations   Siracha Lime 150g   </td><td>2</td><td> 9.2</td><td>150</td><td>KETTLE    </td><td>YOUNG FAMILIES        </td><td>Mainstream</td><td>201906</td></tr>\n",
       "\t<tr><td>2330291</td><td>2018-11-09</td><td>77</td><td>236752</td><td> 89</td><td>Kettle Sweet Chilli And Sour Cream 175g </td><td>1</td><td> 5.4</td><td>175</td><td>KETTLE    </td><td>OLDER SINGLES/COUPLES </td><td>Mainstream</td><td>201811</td></tr>\n",
       "\t<tr><td>2330291</td><td>2018-11-10</td><td>77</td><td>236753</td><td><span style=white-space:pre-wrap>  3</span></td><td><span style=white-space:pre-wrap>Kettle Sensations   Camembert &amp; Fig 150g</span></td><td>1</td><td> 4.6</td><td>150</td><td><span style=white-space:pre-wrap>KETTLE    </span></td><td>OLDER SINGLES/COUPLES </td><td>Mainstream</td><td>201811</td></tr>\n",
       "\t<tr><td>2330291</td><td>2019-06-18</td><td>77</td><td>236754</td><td> 83</td><td>WW D/Style Chip     Sea Salt 200g       </td><td>1</td><td> 1.9</td><td>200</td><td>WOOLWORTHS</td><td>OLDER SINGLES/COUPLES </td><td>Mainstream</td><td>201906</td></tr>\n",
       "\t<tr><td>2330311</td><td>2018-11-09</td><td>77</td><td>236755</td><td> 90</td><td>Tostitos Smoked     Chipotle 175g       </td><td>1</td><td> 4.4</td><td>175</td><td>TOSTITOS  </td><td>YOUNG SINGLES/COUPLES </td><td>Budget    </td><td>201811</td></tr>\n",
       "\t<tr><td>2330321</td><td>2018-07-30</td><td>77</td><td>236756</td><td> 71</td><td>Twisties Cheese     Burger 250g         </td><td>2</td><td> 8.6</td><td>250</td><td>TWISTIES  </td><td>YOUNG SINGLES/COUPLES </td><td>Mainstream</td><td>201807</td></tr>\n",
       "\t<tr><td>2330331</td><td>2018-11-18</td><td>77</td><td>236760</td><td> 95</td><td>Sunbites Whlegrn    Crisps Frch/Onin 90g</td><td>2</td><td> 3.4</td><td> 90</td><td>SUNBITES  </td><td>RETIREES              </td><td>Budget    </td><td>201811</td></tr>\n",
       "\t<tr><td>2330431</td><td>2018-07-31</td><td>77</td><td>236770</td><td> 50</td><td>Tostitos Lightly    Salted 175g         </td><td>1</td><td> 4.4</td><td>175</td><td>TOSTITOS  </td><td>OLDER SINGLES/COUPLES </td><td>Mainstream</td><td>201807</td></tr>\n",
       "\t<tr><td>2330461</td><td>2018-07-21</td><td>77</td><td>236777</td><td> 87</td><td>Infuzions BBQ Rib   Prawn Crackers 110g </td><td>1</td><td> 3.8</td><td>110</td><td>INFUZIONS </td><td>OLDER FAMILIES        </td><td>Budget    </td><td>201807</td></tr>\n",
       "\t<tr><td>2330501</td><td>2019-06-20</td><td>77</td><td>236780</td><td> 63</td><td>Kettle 135g Swt Pot Sea Salt            </td><td>1</td><td> 4.2</td><td>135</td><td>KETTLE    </td><td>OLDER SINGLES/COUPLES </td><td>Budget    </td><td>201906</td></tr>\n",
       "\t<tr><td>2370001</td><td>2018-08-10</td><td>88</td><td>240064</td><td>102</td><td><span style=white-space:pre-wrap>Kettle Mozzarella   Basil &amp; Pesto 175g  </span></td><td>2</td><td>10.8</td><td>175</td><td><span style=white-space:pre-wrap>KETTLE    </span></td><td>OLDER SINGLES/COUPLES </td><td><span style=white-space:pre-wrap>Premium   </span></td><td>201808</td></tr>\n",
       "\t<tr><td>2370181</td><td>2018-08-02</td><td>88</td><td>240146</td><td> 36</td><td>Kettle Chilli 175g                      </td><td>2</td><td>10.8</td><td>175</td><td>KETTLE    </td><td>YOUNG SINGLES/COUPLES </td><td>Mainstream</td><td>201808</td></tr>\n",
       "\t<tr><td>2370361</td><td>2018-10-26</td><td>88</td><td>240224</td><td> 25</td><td>Pringles SourCream  Onion 134g          </td><td>2</td><td> 7.4</td><td>134</td><td>PRINGLES  </td><td>OLDER SINGLES/COUPLES </td><td>Budget    </td><td>201810</td></tr>\n",
       "\t<tr><td>2370581</td><td>2018-12-17</td><td>88</td><td>240317</td><td> 93</td><td>Doritos Corn Chip Southern Chicken 150g </td><td>2</td><td> 7.8</td><td>150</td><td>DORITOS   </td><td>OLDER SINGLES/COUPLES </td><td>Budget    </td><td>201812</td></tr>\n",
       "\t<tr><td>2370581</td><td>2018-12-26</td><td>88</td><td>240318</td><td><span style=white-space:pre-wrap>  9</span></td><td>Kettle Tortilla ChpsBtroot&amp;Ricotta 150g </td><td>2</td><td> 9.2</td><td>150</td><td><span style=white-space:pre-wrap>KETTLE    </span></td><td>OLDER SINGLES/COUPLES </td><td><span style=white-space:pre-wrap>Budget    </span></td><td>201812</td></tr>\n",
       "\t<tr><td>2370651</td><td>2018-08-03</td><td>88</td><td>240350</td><td>  4</td><td>Dorito Corn Chp     Supreme 380g        </td><td>2</td><td>13.0</td><td>380</td><td>DORITOS   </td><td>MIDAGE SINGLES/COUPLES</td><td>Mainstream</td><td>201808</td></tr>\n",
       "\t<tr><td>2370701</td><td>2018-12-08</td><td>88</td><td>240378</td><td> 24</td><td>Grain Waves         Sweet Chilli 210g   </td><td>2</td><td> 7.2</td><td>210</td><td>GRNWVES   </td><td>YOUNG FAMILIES        </td><td>Mainstream</td><td>201812</td></tr>\n",
       "\t<tr><td>2370751</td><td>2018-10-01</td><td>88</td><td>240394</td><td> 60</td><td><span style=white-space:pre-wrap>Kettle Tortilla ChpsFeta&amp;Garlic 150g    </span></td><td>2</td><td> 9.2</td><td>150</td><td><span style=white-space:pre-wrap>KETTLE    </span></td><td><span style=white-space:pre-wrap>YOUNG FAMILIES        </span></td><td><span style=white-space:pre-wrap>Premium   </span></td><td>201810</td></tr>\n",
       "\t<tr><td>2370961</td><td>2018-10-24</td><td>88</td><td>240480</td><td> 70</td><td>Tyrrells Crisps     Lightly Salted 165g </td><td>2</td><td> 8.4</td><td>165</td><td>TYRRELLS  </td><td>OLDER FAMILIES        </td><td>Budget    </td><td>201810</td></tr>\n",
       "\t<tr><td>2370961</td><td>2018-10-27</td><td>88</td><td>240481</td><td> 65</td><td>Old El Paso Salsa   Dip Chnky Tom Ht300g</td><td>2</td><td>10.2</td><td>300</td><td>OLD       </td><td>OLDER FAMILIES        </td><td>Budget    </td><td>201810</td></tr>\n",
       "\t<tr><td>2373711</td><td>2018-12-14</td><td>88</td><td>241815</td><td> 16</td><td>Smiths Crinkle Chips Salt &amp; Vinegar 330g</td><td>2</td><td>11.4</td><td>330</td><td><span style=white-space:pre-wrap>SMITHS    </span></td><td>YOUNG SINGLES/COUPLES </td><td>Mainstream</td><td>201812</td></tr>\n",
       "</tbody>\n",
       "</table>\n"
      ],
      "text/latex": [
       "A data.table: 264834 × 13\n",
       "\\begin{tabular}{lllllllllllll}\n",
       " LYLTY\\_CARD\\_NBR & DATE & STORE\\_NBR & TXN\\_ID & PROD\\_NBR & PROD\\_NAME & PROD\\_QTY & TOT\\_SALES & PACK\\_SIZE & BRAND & LIFESTAGE & PREMIUM\\_CUSTOMER & YEARMONTH\\\\\n",
       " <int> & <IDate> & <int> & <int> & <int> & <chr> & <int> & <dbl> & <int> & <chr> & <chr> & <chr> & <dbl>\\\\\n",
       "\\hline\n",
       "\t 1000 & 2018-10-17 & 1 &  1 &   5 & Natural Chip        Compny SeaSalt175g   & 2 & 6.0 & 175 & NATURAL    & YOUNG SINGLES/COUPLES  & Premium    & 201810\\\\\n",
       "\t 1002 & 2018-09-16 & 1 &  2 &  58 & Red Rock Deli Chikn\\&Garlic Aioli 150g    & 1 & 2.7 & 150 & RRD        & YOUNG SINGLES/COUPLES  & Mainstream & 201809\\\\\n",
       "\t 1003 & 2019-03-07 & 1 &  3 &  52 & Grain Waves Sour    Cream\\&Chives 210G    & 1 & 3.6 & 210 & GRNWVES    & YOUNG FAMILIES         & Budget     & 201903\\\\\n",
       "\t 1003 & 2019-03-08 & 1 &  4 & 106 & Natural ChipCo      Hony Soy Chckn175g   & 1 & 3.0 & 175 & NATURAL    & YOUNG FAMILIES         & Budget     & 201903\\\\\n",
       "\t 1004 & 2018-11-02 & 1 &  5 &  96 & WW Original Stacked Chips 160g           & 1 & 1.9 & 160 & WOOLWORTHS & OLDER SINGLES/COUPLES  & Mainstream & 201811\\\\\n",
       "\t 1005 & 2018-12-28 & 1 &  6 &  86 & Cheetos Puffs 165g                       & 1 & 2.8 & 165 & CHEETOS    & MIDAGE SINGLES/COUPLES & Mainstream & 201812\\\\\n",
       "\t 1007 & 2018-12-04 & 1 &  7 &  49 & Infuzions SourCream\\&Herbs Veg Strws 110g & 1 & 3.8 & 110 & INFUZIONS  & YOUNG SINGLES/COUPLES  & Budget     & 201812\\\\\n",
       "\t 1007 & 2018-12-05 & 1 &  8 &  10 & RRD SR Slow Rst     Pork Belly 150g      & 1 & 2.7 & 150 & RRD        & YOUNG SINGLES/COUPLES  & Budget     & 201812\\\\\n",
       "\t 1009 & 2018-11-20 & 1 &  9 &  20 & Doritos Cheese      Supreme 330g         & 1 & 5.7 & 330 & DORITOS    & NEW FAMILIES           & Premium    & 201811\\\\\n",
       "\t 1010 & 2018-09-09 & 1 & 10 &  51 & Doritos Mexicana    170g                 & 2 & 8.8 & 170 & DORITOS    & YOUNG SINGLES/COUPLES  & Mainstream & 201809\\\\\n",
       "\t 1010 & 2018-12-14 & 1 & 11 &  59 & Old El Paso Salsa   Dip Tomato Med 300g  & 1 & 5.1 & 300 & OLD        & YOUNG SINGLES/COUPLES  & Mainstream & 201812\\\\\n",
       "\t 1011 & 2018-07-29 & 1 & 12 &  84 & GrnWves Plus Btroot \\& Chilli Jam 180g    & 2 & 6.2 & 180 & GRNWVES    & OLDER SINGLES/COUPLES  & Mainstream & 201807\\\\\n",
       "\t 1011 & 2018-11-08 & 1 & 13 &  59 & Old El Paso Salsa   Dip Tomato Med 300g  & 1 & 5.1 & 300 & OLD        & OLDER SINGLES/COUPLES  & Mainstream & 201811\\\\\n",
       "\t 1011 & 2018-12-01 & 1 & 14 &  49 & Infuzions SourCream\\&Herbs Veg Strws 110g & 1 & 3.8 & 110 & INFUZIONS  & OLDER SINGLES/COUPLES  & Mainstream & 201812\\\\\n",
       "\t 1011 & 2018-12-19 & 1 & 15 &   1 & Smiths Crinkle Cut  Chips Barbecue 170g  & 1 & 2.9 & 170 & SMITHS     & OLDER SINGLES/COUPLES  & Mainstream & 201812\\\\\n",
       "\t 1012 & 2019-03-15 & 1 & 16 &  20 & Doritos Cheese      Supreme 330g         & 1 & 5.7 & 330 & DORITOS    & OLDER FAMILIES         & Mainstream & 201903\\\\\n",
       "\t 1012 & 2019-06-19 & 1 & 17 &   3 & Kettle Sensations   Camembert \\& Fig 150g & 1 & 4.6 & 150 & KETTLE     & OLDER FAMILIES         & Mainstream & 201906\\\\\n",
       "\t 1013 & 2019-03-04 & 1 & 18 &  93 & Doritos Corn Chip Southern Chicken 150g  & 1 & 3.9 & 150 & DORITOS    & RETIREES               & Budget     & 201903\\\\\n",
       "\t 1013 & 2019-03-07 & 1 & 19 &  91 & CCs Tasty Cheese    175g                 & 2 & 4.2 & 175 & CCS        & RETIREES               & Budget     & 201903\\\\\n",
       "\t 1016 & 2019-04-19 & 1 & 20 &  74 & Tostitos Splash Of  Lime 175g            & 1 & 4.4 & 175 & TOSTITOS   & OLDER FAMILIES         & Mainstream & 201904\\\\\n",
       "\t 1016 & 2019-06-09 & 1 & 21 &  63 & Kettle 135g Swt Pot Sea Salt             & 1 & 4.2 & 135 & KETTLE     & OLDER FAMILIES         & Mainstream & 201906\\\\\n",
       "\t 1018 & 2018-09-03 & 1 & 22 &   3 & Kettle Sensations   Camembert \\& Fig 150g & 1 & 4.6 & 150 & KETTLE     & YOUNG SINGLES/COUPLES  & Mainstream & 201809\\\\\n",
       "\t 1018 & 2018-11-28 & 1 & 23 &  97 & RRD Salt \\& Vinegar  165g                 & 1 & 3.0 & 165 & RRD        & YOUNG SINGLES/COUPLES  & Mainstream & 201811\\\\\n",
       "\t 1018 & 2019-06-20 & 1 & 24 &  38 & Infuzions Mango     Chutny Papadums 70g  & 1 & 2.4 &  70 & INFUZIONS  & YOUNG SINGLES/COUPLES  & Mainstream & 201906\\\\\n",
       "\t 1019 & 2019-01-27 & 1 & 25 &  84 & GrnWves Plus Btroot \\& Chilli Jam 180g    & 1 & 3.1 & 180 & GRNWVES    & OLDER SINGLES/COUPLES  & Premium    & 201901\\\\\n",
       "\t 1020 & 2018-08-16 & 1 & 26 &  19 & Smiths Crinkle Cut  Snag\\&Sauce 150g      & 1 & 2.6 & 150 & SMITHS     & YOUNG SINGLES/COUPLES  & Mainstream & 201808\\\\\n",
       "\t 1020 & 2018-10-02 & 1 & 27 &   7 & Smiths Crinkle      Original 330g        & 1 & 5.7 & 330 & SMITHS     & YOUNG SINGLES/COUPLES  & Mainstream & 201810\\\\\n",
       "\t 1020 & 2019-05-02 & 1 & 28 &  84 & GrnWves Plus Btroot \\& Chilli Jam 180g    & 1 & 3.1 & 180 & GRNWVES    & YOUNG SINGLES/COUPLES  & Mainstream & 201905\\\\\n",
       "\t 1022 & 2018-10-24 & 1 & 29 &   3 & Kettle Sensations   Camembert \\& Fig 150g & 1 & 4.6 & 150 & KETTLE     & OLDER FAMILIES         & Budget     & 201810\\\\\n",
       "\t 1023 & 2019-05-27 & 1 & 30 &  53 & RRD Sweet Chilli \\&  Sour Cream 165g      & 1 & 3.0 & 165 & RRD        & MIDAGE SINGLES/COUPLES & Premium    & 201905\\\\\n",
       "\t ... & ... & ... & ... & ... & ... & ... & ... & ... & ... & ... & ... & ...\\\\\n",
       "\t 2330031 & 2018-07-07 & 77 & 236716 & 102 & Kettle Mozzarella   Basil \\& Pesto 175g   & 1 &  5.4 & 175 & KETTLE     & MIDAGE SINGLES/COUPLES & Premium    & 201807\\\\\n",
       "\t 2330041 & 2018-09-23 & 77 & 236718 &  24 & Grain Waves         Sweet Chilli 210g    & 2 &  7.2 & 210 & GRNWVES    & YOUNG SINGLES/COUPLES  & Mainstream & 201809\\\\\n",
       "\t 2330051 & 2018-09-07 & 77 & 236719 &  78 & Thins Chips Salt \\&  Vinegar 175g         & 2 &  6.6 & 175 & THINS      & RETIREES               & Premium    & 201809\\\\\n",
       "\t 2330081 & 2019-06-22 & 77 & 236723 &  30 & Doritos Corn Chips  Cheese Supreme 170g  & 2 &  8.8 & 170 & DORITOS    & RETIREES               & Mainstream & 201906\\\\\n",
       "\t 2330121 & 2018-11-26 & 77 & 236729 &  10 & RRD SR Slow Rst     Pork Belly 150g      & 2 &  5.4 & 150 & RRD        & RETIREES               & Budget     & 201811\\\\\n",
       "\t 2330171 & 2019-06-20 & 77 & 236737 &   5 & Natural Chip        Compny SeaSalt175g   & 2 &  6.0 & 175 & NATURAL    & RETIREES               & Mainstream & 201906\\\\\n",
       "\t 2330191 & 2018-11-07 & 77 & 236740 &  67 & RRD Chilli\\&         Coconut 150g         & 1 &  2.7 & 150 & RRD        & OLDER SINGLES/COUPLES  & Budget     & 201811\\\\\n",
       "\t 2330211 & 2018-07-17 & 77 & 236744 &  94 & Burger Rings 220g                        & 1 &  2.3 & 220 & BURGER     & MIDAGE SINGLES/COUPLES & Budget     & 201807\\\\\n",
       "\t 2330251 & 2018-11-29 & 77 & 236747 &  14 & Smiths Crnkle Chip  Orgnl Big Bag 380g   & 2 & 11.8 & 380 & SMITHS     & RETIREES               & Budget     & 201811\\\\\n",
       "\t 2330271 & 2019-06-29 & 77 & 236749 & 114 & Kettle Sensations   Siracha Lime 150g    & 2 &  9.2 & 150 & KETTLE     & YOUNG FAMILIES         & Mainstream & 201906\\\\\n",
       "\t 2330291 & 2018-11-09 & 77 & 236752 &  89 & Kettle Sweet Chilli And Sour Cream 175g  & 1 &  5.4 & 175 & KETTLE     & OLDER SINGLES/COUPLES  & Mainstream & 201811\\\\\n",
       "\t 2330291 & 2018-11-10 & 77 & 236753 &   3 & Kettle Sensations   Camembert \\& Fig 150g & 1 &  4.6 & 150 & KETTLE     & OLDER SINGLES/COUPLES  & Mainstream & 201811\\\\\n",
       "\t 2330291 & 2019-06-18 & 77 & 236754 &  83 & WW D/Style Chip     Sea Salt 200g        & 1 &  1.9 & 200 & WOOLWORTHS & OLDER SINGLES/COUPLES  & Mainstream & 201906\\\\\n",
       "\t 2330311 & 2018-11-09 & 77 & 236755 &  90 & Tostitos Smoked     Chipotle 175g        & 1 &  4.4 & 175 & TOSTITOS   & YOUNG SINGLES/COUPLES  & Budget     & 201811\\\\\n",
       "\t 2330321 & 2018-07-30 & 77 & 236756 &  71 & Twisties Cheese     Burger 250g          & 2 &  8.6 & 250 & TWISTIES   & YOUNG SINGLES/COUPLES  & Mainstream & 201807\\\\\n",
       "\t 2330331 & 2018-11-18 & 77 & 236760 &  95 & Sunbites Whlegrn    Crisps Frch/Onin 90g & 2 &  3.4 &  90 & SUNBITES   & RETIREES               & Budget     & 201811\\\\\n",
       "\t 2330431 & 2018-07-31 & 77 & 236770 &  50 & Tostitos Lightly    Salted 175g          & 1 &  4.4 & 175 & TOSTITOS   & OLDER SINGLES/COUPLES  & Mainstream & 201807\\\\\n",
       "\t 2330461 & 2018-07-21 & 77 & 236777 &  87 & Infuzions BBQ Rib   Prawn Crackers 110g  & 1 &  3.8 & 110 & INFUZIONS  & OLDER FAMILIES         & Budget     & 201807\\\\\n",
       "\t 2330501 & 2019-06-20 & 77 & 236780 &  63 & Kettle 135g Swt Pot Sea Salt             & 1 &  4.2 & 135 & KETTLE     & OLDER SINGLES/COUPLES  & Budget     & 201906\\\\\n",
       "\t 2370001 & 2018-08-10 & 88 & 240064 & 102 & Kettle Mozzarella   Basil \\& Pesto 175g   & 2 & 10.8 & 175 & KETTLE     & OLDER SINGLES/COUPLES  & Premium    & 201808\\\\\n",
       "\t 2370181 & 2018-08-02 & 88 & 240146 &  36 & Kettle Chilli 175g                       & 2 & 10.8 & 175 & KETTLE     & YOUNG SINGLES/COUPLES  & Mainstream & 201808\\\\\n",
       "\t 2370361 & 2018-10-26 & 88 & 240224 &  25 & Pringles SourCream  Onion 134g           & 2 &  7.4 & 134 & PRINGLES   & OLDER SINGLES/COUPLES  & Budget     & 201810\\\\\n",
       "\t 2370581 & 2018-12-17 & 88 & 240317 &  93 & Doritos Corn Chip Southern Chicken 150g  & 2 &  7.8 & 150 & DORITOS    & OLDER SINGLES/COUPLES  & Budget     & 201812\\\\\n",
       "\t 2370581 & 2018-12-26 & 88 & 240318 &   9 & Kettle Tortilla ChpsBtroot\\&Ricotta 150g  & 2 &  9.2 & 150 & KETTLE     & OLDER SINGLES/COUPLES  & Budget     & 201812\\\\\n",
       "\t 2370651 & 2018-08-03 & 88 & 240350 &   4 & Dorito Corn Chp     Supreme 380g         & 2 & 13.0 & 380 & DORITOS    & MIDAGE SINGLES/COUPLES & Mainstream & 201808\\\\\n",
       "\t 2370701 & 2018-12-08 & 88 & 240378 &  24 & Grain Waves         Sweet Chilli 210g    & 2 &  7.2 & 210 & GRNWVES    & YOUNG FAMILIES         & Mainstream & 201812\\\\\n",
       "\t 2370751 & 2018-10-01 & 88 & 240394 &  60 & Kettle Tortilla ChpsFeta\\&Garlic 150g     & 2 &  9.2 & 150 & KETTLE     & YOUNG FAMILIES         & Premium    & 201810\\\\\n",
       "\t 2370961 & 2018-10-24 & 88 & 240480 &  70 & Tyrrells Crisps     Lightly Salted 165g  & 2 &  8.4 & 165 & TYRRELLS   & OLDER FAMILIES         & Budget     & 201810\\\\\n",
       "\t 2370961 & 2018-10-27 & 88 & 240481 &  65 & Old El Paso Salsa   Dip Chnky Tom Ht300g & 2 & 10.2 & 300 & OLD        & OLDER FAMILIES         & Budget     & 201810\\\\\n",
       "\t 2373711 & 2018-12-14 & 88 & 241815 &  16 & Smiths Crinkle Chips Salt \\& Vinegar 330g & 2 & 11.4 & 330 & SMITHS     & YOUNG SINGLES/COUPLES  & Mainstream & 201812\\\\\n",
       "\\end{tabular}\n"
      ],
      "text/markdown": [
       "\n",
       "A data.table: 264834 × 13\n",
       "\n",
       "| LYLTY_CARD_NBR &lt;int&gt; | DATE &lt;IDate&gt; | STORE_NBR &lt;int&gt; | TXN_ID &lt;int&gt; | PROD_NBR &lt;int&gt; | PROD_NAME &lt;chr&gt; | PROD_QTY &lt;int&gt; | TOT_SALES &lt;dbl&gt; | PACK_SIZE &lt;int&gt; | BRAND &lt;chr&gt; | LIFESTAGE &lt;chr&gt; | PREMIUM_CUSTOMER &lt;chr&gt; | YEARMONTH &lt;dbl&gt; |\n",
       "|---|---|---|---|---|---|---|---|---|---|---|---|---|\n",
       "| 1000 | 2018-10-17 | 1 |  1 |   5 | Natural Chip        Compny SeaSalt175g   | 2 | 6.0 | 175 | NATURAL    | YOUNG SINGLES/COUPLES  | Premium    | 201810 |\n",
       "| 1002 | 2018-09-16 | 1 |  2 |  58 | Red Rock Deli Chikn&amp;Garlic Aioli 150g    | 1 | 2.7 | 150 | RRD        | YOUNG SINGLES/COUPLES  | Mainstream | 201809 |\n",
       "| 1003 | 2019-03-07 | 1 |  3 |  52 | Grain Waves Sour    Cream&amp;Chives 210G    | 1 | 3.6 | 210 | GRNWVES    | YOUNG FAMILIES         | Budget     | 201903 |\n",
       "| 1003 | 2019-03-08 | 1 |  4 | 106 | Natural ChipCo      Hony Soy Chckn175g   | 1 | 3.0 | 175 | NATURAL    | YOUNG FAMILIES         | Budget     | 201903 |\n",
       "| 1004 | 2018-11-02 | 1 |  5 |  96 | WW Original Stacked Chips 160g           | 1 | 1.9 | 160 | WOOLWORTHS | OLDER SINGLES/COUPLES  | Mainstream | 201811 |\n",
       "| 1005 | 2018-12-28 | 1 |  6 |  86 | Cheetos Puffs 165g                       | 1 | 2.8 | 165 | CHEETOS    | MIDAGE SINGLES/COUPLES | Mainstream | 201812 |\n",
       "| 1007 | 2018-12-04 | 1 |  7 |  49 | Infuzions SourCream&amp;Herbs Veg Strws 110g | 1 | 3.8 | 110 | INFUZIONS  | YOUNG SINGLES/COUPLES  | Budget     | 201812 |\n",
       "| 1007 | 2018-12-05 | 1 |  8 |  10 | RRD SR Slow Rst     Pork Belly 150g      | 1 | 2.7 | 150 | RRD        | YOUNG SINGLES/COUPLES  | Budget     | 201812 |\n",
       "| 1009 | 2018-11-20 | 1 |  9 |  20 | Doritos Cheese      Supreme 330g         | 1 | 5.7 | 330 | DORITOS    | NEW FAMILIES           | Premium    | 201811 |\n",
       "| 1010 | 2018-09-09 | 1 | 10 |  51 | Doritos Mexicana    170g                 | 2 | 8.8 | 170 | DORITOS    | YOUNG SINGLES/COUPLES  | Mainstream | 201809 |\n",
       "| 1010 | 2018-12-14 | 1 | 11 |  59 | Old El Paso Salsa   Dip Tomato Med 300g  | 1 | 5.1 | 300 | OLD        | YOUNG SINGLES/COUPLES  | Mainstream | 201812 |\n",
       "| 1011 | 2018-07-29 | 1 | 12 |  84 | GrnWves Plus Btroot &amp; Chilli Jam 180g    | 2 | 6.2 | 180 | GRNWVES    | OLDER SINGLES/COUPLES  | Mainstream | 201807 |\n",
       "| 1011 | 2018-11-08 | 1 | 13 |  59 | Old El Paso Salsa   Dip Tomato Med 300g  | 1 | 5.1 | 300 | OLD        | OLDER SINGLES/COUPLES  | Mainstream | 201811 |\n",
       "| 1011 | 2018-12-01 | 1 | 14 |  49 | Infuzions SourCream&amp;Herbs Veg Strws 110g | 1 | 3.8 | 110 | INFUZIONS  | OLDER SINGLES/COUPLES  | Mainstream | 201812 |\n",
       "| 1011 | 2018-12-19 | 1 | 15 |   1 | Smiths Crinkle Cut  Chips Barbecue 170g  | 1 | 2.9 | 170 | SMITHS     | OLDER SINGLES/COUPLES  | Mainstream | 201812 |\n",
       "| 1012 | 2019-03-15 | 1 | 16 |  20 | Doritos Cheese      Supreme 330g         | 1 | 5.7 | 330 | DORITOS    | OLDER FAMILIES         | Mainstream | 201903 |\n",
       "| 1012 | 2019-06-19 | 1 | 17 |   3 | Kettle Sensations   Camembert &amp; Fig 150g | 1 | 4.6 | 150 | KETTLE     | OLDER FAMILIES         | Mainstream | 201906 |\n",
       "| 1013 | 2019-03-04 | 1 | 18 |  93 | Doritos Corn Chip Southern Chicken 150g  | 1 | 3.9 | 150 | DORITOS    | RETIREES               | Budget     | 201903 |\n",
       "| 1013 | 2019-03-07 | 1 | 19 |  91 | CCs Tasty Cheese    175g                 | 2 | 4.2 | 175 | CCS        | RETIREES               | Budget     | 201903 |\n",
       "| 1016 | 2019-04-19 | 1 | 20 |  74 | Tostitos Splash Of  Lime 175g            | 1 | 4.4 | 175 | TOSTITOS   | OLDER FAMILIES         | Mainstream | 201904 |\n",
       "| 1016 | 2019-06-09 | 1 | 21 |  63 | Kettle 135g Swt Pot Sea Salt             | 1 | 4.2 | 135 | KETTLE     | OLDER FAMILIES         | Mainstream | 201906 |\n",
       "| 1018 | 2018-09-03 | 1 | 22 |   3 | Kettle Sensations   Camembert &amp; Fig 150g | 1 | 4.6 | 150 | KETTLE     | YOUNG SINGLES/COUPLES  | Mainstream | 201809 |\n",
       "| 1018 | 2018-11-28 | 1 | 23 |  97 | RRD Salt &amp; Vinegar  165g                 | 1 | 3.0 | 165 | RRD        | YOUNG SINGLES/COUPLES  | Mainstream | 201811 |\n",
       "| 1018 | 2019-06-20 | 1 | 24 |  38 | Infuzions Mango     Chutny Papadums 70g  | 1 | 2.4 |  70 | INFUZIONS  | YOUNG SINGLES/COUPLES  | Mainstream | 201906 |\n",
       "| 1019 | 2019-01-27 | 1 | 25 |  84 | GrnWves Plus Btroot &amp; Chilli Jam 180g    | 1 | 3.1 | 180 | GRNWVES    | OLDER SINGLES/COUPLES  | Premium    | 201901 |\n",
       "| 1020 | 2018-08-16 | 1 | 26 |  19 | Smiths Crinkle Cut  Snag&amp;Sauce 150g      | 1 | 2.6 | 150 | SMITHS     | YOUNG SINGLES/COUPLES  | Mainstream | 201808 |\n",
       "| 1020 | 2018-10-02 | 1 | 27 |   7 | Smiths Crinkle      Original 330g        | 1 | 5.7 | 330 | SMITHS     | YOUNG SINGLES/COUPLES  | Mainstream | 201810 |\n",
       "| 1020 | 2019-05-02 | 1 | 28 |  84 | GrnWves Plus Btroot &amp; Chilli Jam 180g    | 1 | 3.1 | 180 | GRNWVES    | YOUNG SINGLES/COUPLES  | Mainstream | 201905 |\n",
       "| 1022 | 2018-10-24 | 1 | 29 |   3 | Kettle Sensations   Camembert &amp; Fig 150g | 1 | 4.6 | 150 | KETTLE     | OLDER FAMILIES         | Budget     | 201810 |\n",
       "| 1023 | 2019-05-27 | 1 | 30 |  53 | RRD Sweet Chilli &amp;  Sour Cream 165g      | 1 | 3.0 | 165 | RRD        | MIDAGE SINGLES/COUPLES | Premium    | 201905 |\n",
       "| ... | ... | ... | ... | ... | ... | ... | ... | ... | ... | ... | ... | ... |\n",
       "| 2330031 | 2018-07-07 | 77 | 236716 | 102 | Kettle Mozzarella   Basil &amp; Pesto 175g   | 1 |  5.4 | 175 | KETTLE     | MIDAGE SINGLES/COUPLES | Premium    | 201807 |\n",
       "| 2330041 | 2018-09-23 | 77 | 236718 |  24 | Grain Waves         Sweet Chilli 210g    | 2 |  7.2 | 210 | GRNWVES    | YOUNG SINGLES/COUPLES  | Mainstream | 201809 |\n",
       "| 2330051 | 2018-09-07 | 77 | 236719 |  78 | Thins Chips Salt &amp;  Vinegar 175g         | 2 |  6.6 | 175 | THINS      | RETIREES               | Premium    | 201809 |\n",
       "| 2330081 | 2019-06-22 | 77 | 236723 |  30 | Doritos Corn Chips  Cheese Supreme 170g  | 2 |  8.8 | 170 | DORITOS    | RETIREES               | Mainstream | 201906 |\n",
       "| 2330121 | 2018-11-26 | 77 | 236729 |  10 | RRD SR Slow Rst     Pork Belly 150g      | 2 |  5.4 | 150 | RRD        | RETIREES               | Budget     | 201811 |\n",
       "| 2330171 | 2019-06-20 | 77 | 236737 |   5 | Natural Chip        Compny SeaSalt175g   | 2 |  6.0 | 175 | NATURAL    | RETIREES               | Mainstream | 201906 |\n",
       "| 2330191 | 2018-11-07 | 77 | 236740 |  67 | RRD Chilli&amp;         Coconut 150g         | 1 |  2.7 | 150 | RRD        | OLDER SINGLES/COUPLES  | Budget     | 201811 |\n",
       "| 2330211 | 2018-07-17 | 77 | 236744 |  94 | Burger Rings 220g                        | 1 |  2.3 | 220 | BURGER     | MIDAGE SINGLES/COUPLES | Budget     | 201807 |\n",
       "| 2330251 | 2018-11-29 | 77 | 236747 |  14 | Smiths Crnkle Chip  Orgnl Big Bag 380g   | 2 | 11.8 | 380 | SMITHS     | RETIREES               | Budget     | 201811 |\n",
       "| 2330271 | 2019-06-29 | 77 | 236749 | 114 | Kettle Sensations   Siracha Lime 150g    | 2 |  9.2 | 150 | KETTLE     | YOUNG FAMILIES         | Mainstream | 201906 |\n",
       "| 2330291 | 2018-11-09 | 77 | 236752 |  89 | Kettle Sweet Chilli And Sour Cream 175g  | 1 |  5.4 | 175 | KETTLE     | OLDER SINGLES/COUPLES  | Mainstream | 201811 |\n",
       "| 2330291 | 2018-11-10 | 77 | 236753 |   3 | Kettle Sensations   Camembert &amp; Fig 150g | 1 |  4.6 | 150 | KETTLE     | OLDER SINGLES/COUPLES  | Mainstream | 201811 |\n",
       "| 2330291 | 2019-06-18 | 77 | 236754 |  83 | WW D/Style Chip     Sea Salt 200g        | 1 |  1.9 | 200 | WOOLWORTHS | OLDER SINGLES/COUPLES  | Mainstream | 201906 |\n",
       "| 2330311 | 2018-11-09 | 77 | 236755 |  90 | Tostitos Smoked     Chipotle 175g        | 1 |  4.4 | 175 | TOSTITOS   | YOUNG SINGLES/COUPLES  | Budget     | 201811 |\n",
       "| 2330321 | 2018-07-30 | 77 | 236756 |  71 | Twisties Cheese     Burger 250g          | 2 |  8.6 | 250 | TWISTIES   | YOUNG SINGLES/COUPLES  | Mainstream | 201807 |\n",
       "| 2330331 | 2018-11-18 | 77 | 236760 |  95 | Sunbites Whlegrn    Crisps Frch/Onin 90g | 2 |  3.4 |  90 | SUNBITES   | RETIREES               | Budget     | 201811 |\n",
       "| 2330431 | 2018-07-31 | 77 | 236770 |  50 | Tostitos Lightly    Salted 175g          | 1 |  4.4 | 175 | TOSTITOS   | OLDER SINGLES/COUPLES  | Mainstream | 201807 |\n",
       "| 2330461 | 2018-07-21 | 77 | 236777 |  87 | Infuzions BBQ Rib   Prawn Crackers 110g  | 1 |  3.8 | 110 | INFUZIONS  | OLDER FAMILIES         | Budget     | 201807 |\n",
       "| 2330501 | 2019-06-20 | 77 | 236780 |  63 | Kettle 135g Swt Pot Sea Salt             | 1 |  4.2 | 135 | KETTLE     | OLDER SINGLES/COUPLES  | Budget     | 201906 |\n",
       "| 2370001 | 2018-08-10 | 88 | 240064 | 102 | Kettle Mozzarella   Basil &amp; Pesto 175g   | 2 | 10.8 | 175 | KETTLE     | OLDER SINGLES/COUPLES  | Premium    | 201808 |\n",
       "| 2370181 | 2018-08-02 | 88 | 240146 |  36 | Kettle Chilli 175g                       | 2 | 10.8 | 175 | KETTLE     | YOUNG SINGLES/COUPLES  | Mainstream | 201808 |\n",
       "| 2370361 | 2018-10-26 | 88 | 240224 |  25 | Pringles SourCream  Onion 134g           | 2 |  7.4 | 134 | PRINGLES   | OLDER SINGLES/COUPLES  | Budget     | 201810 |\n",
       "| 2370581 | 2018-12-17 | 88 | 240317 |  93 | Doritos Corn Chip Southern Chicken 150g  | 2 |  7.8 | 150 | DORITOS    | OLDER SINGLES/COUPLES  | Budget     | 201812 |\n",
       "| 2370581 | 2018-12-26 | 88 | 240318 |   9 | Kettle Tortilla ChpsBtroot&amp;Ricotta 150g  | 2 |  9.2 | 150 | KETTLE     | OLDER SINGLES/COUPLES  | Budget     | 201812 |\n",
       "| 2370651 | 2018-08-03 | 88 | 240350 |   4 | Dorito Corn Chp     Supreme 380g         | 2 | 13.0 | 380 | DORITOS    | MIDAGE SINGLES/COUPLES | Mainstream | 201808 |\n",
       "| 2370701 | 2018-12-08 | 88 | 240378 |  24 | Grain Waves         Sweet Chilli 210g    | 2 |  7.2 | 210 | GRNWVES    | YOUNG FAMILIES         | Mainstream | 201812 |\n",
       "| 2370751 | 2018-10-01 | 88 | 240394 |  60 | Kettle Tortilla ChpsFeta&amp;Garlic 150g     | 2 |  9.2 | 150 | KETTLE     | YOUNG FAMILIES         | Premium    | 201810 |\n",
       "| 2370961 | 2018-10-24 | 88 | 240480 |  70 | Tyrrells Crisps     Lightly Salted 165g  | 2 |  8.4 | 165 | TYRRELLS   | OLDER FAMILIES         | Budget     | 201810 |\n",
       "| 2370961 | 2018-10-27 | 88 | 240481 |  65 | Old El Paso Salsa   Dip Chnky Tom Ht300g | 2 | 10.2 | 300 | OLD        | OLDER FAMILIES         | Budget     | 201810 |\n",
       "| 2373711 | 2018-12-14 | 88 | 241815 |  16 | Smiths Crinkle Chips Salt &amp; Vinegar 330g | 2 | 11.4 | 330 | SMITHS     | YOUNG SINGLES/COUPLES  | Mainstream | 201812 |\n",
       "\n"
      ],
      "text/plain": [
       "       LYLTY_CARD_NBR DATE       STORE_NBR TXN_ID PROD_NBR\n",
       "1      1000           2018-10-17 1          1       5     \n",
       "2      1002           2018-09-16 1          2      58     \n",
       "3      1003           2019-03-07 1          3      52     \n",
       "4      1003           2019-03-08 1          4     106     \n",
       "5      1004           2018-11-02 1          5      96     \n",
       "6      1005           2018-12-28 1          6      86     \n",
       "7      1007           2018-12-04 1          7      49     \n",
       "8      1007           2018-12-05 1          8      10     \n",
       "9      1009           2018-11-20 1          9      20     \n",
       "10     1010           2018-09-09 1         10      51     \n",
       "11     1010           2018-12-14 1         11      59     \n",
       "12     1011           2018-07-29 1         12      84     \n",
       "13     1011           2018-11-08 1         13      59     \n",
       "14     1011           2018-12-01 1         14      49     \n",
       "15     1011           2018-12-19 1         15       1     \n",
       "16     1012           2019-03-15 1         16      20     \n",
       "17     1012           2019-06-19 1         17       3     \n",
       "18     1013           2019-03-04 1         18      93     \n",
       "19     1013           2019-03-07 1         19      91     \n",
       "20     1016           2019-04-19 1         20      74     \n",
       "21     1016           2019-06-09 1         21      63     \n",
       "22     1018           2018-09-03 1         22       3     \n",
       "23     1018           2018-11-28 1         23      97     \n",
       "24     1018           2019-06-20 1         24      38     \n",
       "25     1019           2019-01-27 1         25      84     \n",
       "26     1020           2018-08-16 1         26      19     \n",
       "27     1020           2018-10-02 1         27       7     \n",
       "28     1020           2019-05-02 1         28      84     \n",
       "29     1022           2018-10-24 1         29       3     \n",
       "30     1023           2019-05-27 1         30      53     \n",
       "...    ...            ...        ...       ...    ...     \n",
       "264805 2330031        2018-07-07 77        236716 102     \n",
       "264806 2330041        2018-09-23 77        236718  24     \n",
       "264807 2330051        2018-09-07 77        236719  78     \n",
       "264808 2330081        2019-06-22 77        236723  30     \n",
       "264809 2330121        2018-11-26 77        236729  10     \n",
       "264810 2330171        2019-06-20 77        236737   5     \n",
       "264811 2330191        2018-11-07 77        236740  67     \n",
       "264812 2330211        2018-07-17 77        236744  94     \n",
       "264813 2330251        2018-11-29 77        236747  14     \n",
       "264814 2330271        2019-06-29 77        236749 114     \n",
       "264815 2330291        2018-11-09 77        236752  89     \n",
       "264816 2330291        2018-11-10 77        236753   3     \n",
       "264817 2330291        2019-06-18 77        236754  83     \n",
       "264818 2330311        2018-11-09 77        236755  90     \n",
       "264819 2330321        2018-07-30 77        236756  71     \n",
       "264820 2330331        2018-11-18 77        236760  95     \n",
       "264821 2330431        2018-07-31 77        236770  50     \n",
       "264822 2330461        2018-07-21 77        236777  87     \n",
       "264823 2330501        2019-06-20 77        236780  63     \n",
       "264824 2370001        2018-08-10 88        240064 102     \n",
       "264825 2370181        2018-08-02 88        240146  36     \n",
       "264826 2370361        2018-10-26 88        240224  25     \n",
       "264827 2370581        2018-12-17 88        240317  93     \n",
       "264828 2370581        2018-12-26 88        240318   9     \n",
       "264829 2370651        2018-08-03 88        240350   4     \n",
       "264830 2370701        2018-12-08 88        240378  24     \n",
       "264831 2370751        2018-10-01 88        240394  60     \n",
       "264832 2370961        2018-10-24 88        240480  70     \n",
       "264833 2370961        2018-10-27 88        240481  65     \n",
       "264834 2373711        2018-12-14 88        241815  16     \n",
       "       PROD_NAME                                PROD_QTY TOT_SALES PACK_SIZE\n",
       "1      Natural Chip        Compny SeaSalt175g   2        6.0       175      \n",
       "2      Red Rock Deli Chikn&Garlic Aioli 150g    1        2.7       150      \n",
       "3      Grain Waves Sour    Cream&Chives 210G    1        3.6       210      \n",
       "4      Natural ChipCo      Hony Soy Chckn175g   1        3.0       175      \n",
       "5      WW Original Stacked Chips 160g           1        1.9       160      \n",
       "6      Cheetos Puffs 165g                       1        2.8       165      \n",
       "7      Infuzions SourCream&Herbs Veg Strws 110g 1        3.8       110      \n",
       "8      RRD SR Slow Rst     Pork Belly 150g      1        2.7       150      \n",
       "9      Doritos Cheese      Supreme 330g         1        5.7       330      \n",
       "10     Doritos Mexicana    170g                 2        8.8       170      \n",
       "11     Old El Paso Salsa   Dip Tomato Med 300g  1        5.1       300      \n",
       "12     GrnWves Plus Btroot & Chilli Jam 180g    2        6.2       180      \n",
       "13     Old El Paso Salsa   Dip Tomato Med 300g  1        5.1       300      \n",
       "14     Infuzions SourCream&Herbs Veg Strws 110g 1        3.8       110      \n",
       "15     Smiths Crinkle Cut  Chips Barbecue 170g  1        2.9       170      \n",
       "16     Doritos Cheese      Supreme 330g         1        5.7       330      \n",
       "17     Kettle Sensations   Camembert & Fig 150g 1        4.6       150      \n",
       "18     Doritos Corn Chip Southern Chicken 150g  1        3.9       150      \n",
       "19     CCs Tasty Cheese    175g                 2        4.2       175      \n",
       "20     Tostitos Splash Of  Lime 175g            1        4.4       175      \n",
       "21     Kettle 135g Swt Pot Sea Salt             1        4.2       135      \n",
       "22     Kettle Sensations   Camembert & Fig 150g 1        4.6       150      \n",
       "23     RRD Salt & Vinegar  165g                 1        3.0       165      \n",
       "24     Infuzions Mango     Chutny Papadums 70g  1        2.4        70      \n",
       "25     GrnWves Plus Btroot & Chilli Jam 180g    1        3.1       180      \n",
       "26     Smiths Crinkle Cut  Snag&Sauce 150g      1        2.6       150      \n",
       "27     Smiths Crinkle      Original 330g        1        5.7       330      \n",
       "28     GrnWves Plus Btroot & Chilli Jam 180g    1        3.1       180      \n",
       "29     Kettle Sensations   Camembert & Fig 150g 1        4.6       150      \n",
       "30     RRD Sweet Chilli &  Sour Cream 165g      1        3.0       165      \n",
       "...    ...                                      ...      ...       ...      \n",
       "264805 Kettle Mozzarella   Basil & Pesto 175g   1         5.4      175      \n",
       "264806 Grain Waves         Sweet Chilli 210g    2         7.2      210      \n",
       "264807 Thins Chips Salt &  Vinegar 175g         2         6.6      175      \n",
       "264808 Doritos Corn Chips  Cheese Supreme 170g  2         8.8      170      \n",
       "264809 RRD SR Slow Rst     Pork Belly 150g      2         5.4      150      \n",
       "264810 Natural Chip        Compny SeaSalt175g   2         6.0      175      \n",
       "264811 RRD Chilli&         Coconut 150g         1         2.7      150      \n",
       "264812 Burger Rings 220g                        1         2.3      220      \n",
       "264813 Smiths Crnkle Chip  Orgnl Big Bag 380g   2        11.8      380      \n",
       "264814 Kettle Sensations   Siracha Lime 150g    2         9.2      150      \n",
       "264815 Kettle Sweet Chilli And Sour Cream 175g  1         5.4      175      \n",
       "264816 Kettle Sensations   Camembert & Fig 150g 1         4.6      150      \n",
       "264817 WW D/Style Chip     Sea Salt 200g        1         1.9      200      \n",
       "264818 Tostitos Smoked     Chipotle 175g        1         4.4      175      \n",
       "264819 Twisties Cheese     Burger 250g          2         8.6      250      \n",
       "264820 Sunbites Whlegrn    Crisps Frch/Onin 90g 2         3.4       90      \n",
       "264821 Tostitos Lightly    Salted 175g          1         4.4      175      \n",
       "264822 Infuzions BBQ Rib   Prawn Crackers 110g  1         3.8      110      \n",
       "264823 Kettle 135g Swt Pot Sea Salt             1         4.2      135      \n",
       "264824 Kettle Mozzarella   Basil & Pesto 175g   2        10.8      175      \n",
       "264825 Kettle Chilli 175g                       2        10.8      175      \n",
       "264826 Pringles SourCream  Onion 134g           2         7.4      134      \n",
       "264827 Doritos Corn Chip Southern Chicken 150g  2         7.8      150      \n",
       "264828 Kettle Tortilla ChpsBtroot&Ricotta 150g  2         9.2      150      \n",
       "264829 Dorito Corn Chp     Supreme 380g         2        13.0      380      \n",
       "264830 Grain Waves         Sweet Chilli 210g    2         7.2      210      \n",
       "264831 Kettle Tortilla ChpsFeta&Garlic 150g     2         9.2      150      \n",
       "264832 Tyrrells Crisps     Lightly Salted 165g  2         8.4      165      \n",
       "264833 Old El Paso Salsa   Dip Chnky Tom Ht300g 2        10.2      300      \n",
       "264834 Smiths Crinkle Chips Salt & Vinegar 330g 2        11.4      330      \n",
       "       BRAND      LIFESTAGE              PREMIUM_CUSTOMER YEARMONTH\n",
       "1      NATURAL    YOUNG SINGLES/COUPLES  Premium          201810   \n",
       "2      RRD        YOUNG SINGLES/COUPLES  Mainstream       201809   \n",
       "3      GRNWVES    YOUNG FAMILIES         Budget           201903   \n",
       "4      NATURAL    YOUNG FAMILIES         Budget           201903   \n",
       "5      WOOLWORTHS OLDER SINGLES/COUPLES  Mainstream       201811   \n",
       "6      CHEETOS    MIDAGE SINGLES/COUPLES Mainstream       201812   \n",
       "7      INFUZIONS  YOUNG SINGLES/COUPLES  Budget           201812   \n",
       "8      RRD        YOUNG SINGLES/COUPLES  Budget           201812   \n",
       "9      DORITOS    NEW FAMILIES           Premium          201811   \n",
       "10     DORITOS    YOUNG SINGLES/COUPLES  Mainstream       201809   \n",
       "11     OLD        YOUNG SINGLES/COUPLES  Mainstream       201812   \n",
       "12     GRNWVES    OLDER SINGLES/COUPLES  Mainstream       201807   \n",
       "13     OLD        OLDER SINGLES/COUPLES  Mainstream       201811   \n",
       "14     INFUZIONS  OLDER SINGLES/COUPLES  Mainstream       201812   \n",
       "15     SMITHS     OLDER SINGLES/COUPLES  Mainstream       201812   \n",
       "16     DORITOS    OLDER FAMILIES         Mainstream       201903   \n",
       "17     KETTLE     OLDER FAMILIES         Mainstream       201906   \n",
       "18     DORITOS    RETIREES               Budget           201903   \n",
       "19     CCS        RETIREES               Budget           201903   \n",
       "20     TOSTITOS   OLDER FAMILIES         Mainstream       201904   \n",
       "21     KETTLE     OLDER FAMILIES         Mainstream       201906   \n",
       "22     KETTLE     YOUNG SINGLES/COUPLES  Mainstream       201809   \n",
       "23     RRD        YOUNG SINGLES/COUPLES  Mainstream       201811   \n",
       "24     INFUZIONS  YOUNG SINGLES/COUPLES  Mainstream       201906   \n",
       "25     GRNWVES    OLDER SINGLES/COUPLES  Premium          201901   \n",
       "26     SMITHS     YOUNG SINGLES/COUPLES  Mainstream       201808   \n",
       "27     SMITHS     YOUNG SINGLES/COUPLES  Mainstream       201810   \n",
       "28     GRNWVES    YOUNG SINGLES/COUPLES  Mainstream       201905   \n",
       "29     KETTLE     OLDER FAMILIES         Budget           201810   \n",
       "30     RRD        MIDAGE SINGLES/COUPLES Premium          201905   \n",
       "...    ...        ...                    ...              ...      \n",
       "264805 KETTLE     MIDAGE SINGLES/COUPLES Premium          201807   \n",
       "264806 GRNWVES    YOUNG SINGLES/COUPLES  Mainstream       201809   \n",
       "264807 THINS      RETIREES               Premium          201809   \n",
       "264808 DORITOS    RETIREES               Mainstream       201906   \n",
       "264809 RRD        RETIREES               Budget           201811   \n",
       "264810 NATURAL    RETIREES               Mainstream       201906   \n",
       "264811 RRD        OLDER SINGLES/COUPLES  Budget           201811   \n",
       "264812 BURGER     MIDAGE SINGLES/COUPLES Budget           201807   \n",
       "264813 SMITHS     RETIREES               Budget           201811   \n",
       "264814 KETTLE     YOUNG FAMILIES         Mainstream       201906   \n",
       "264815 KETTLE     OLDER SINGLES/COUPLES  Mainstream       201811   \n",
       "264816 KETTLE     OLDER SINGLES/COUPLES  Mainstream       201811   \n",
       "264817 WOOLWORTHS OLDER SINGLES/COUPLES  Mainstream       201906   \n",
       "264818 TOSTITOS   YOUNG SINGLES/COUPLES  Budget           201811   \n",
       "264819 TWISTIES   YOUNG SINGLES/COUPLES  Mainstream       201807   \n",
       "264820 SUNBITES   RETIREES               Budget           201811   \n",
       "264821 TOSTITOS   OLDER SINGLES/COUPLES  Mainstream       201807   \n",
       "264822 INFUZIONS  OLDER FAMILIES         Budget           201807   \n",
       "264823 KETTLE     OLDER SINGLES/COUPLES  Budget           201906   \n",
       "264824 KETTLE     OLDER SINGLES/COUPLES  Premium          201808   \n",
       "264825 KETTLE     YOUNG SINGLES/COUPLES  Mainstream       201808   \n",
       "264826 PRINGLES   OLDER SINGLES/COUPLES  Budget           201810   \n",
       "264827 DORITOS    OLDER SINGLES/COUPLES  Budget           201812   \n",
       "264828 KETTLE     OLDER SINGLES/COUPLES  Budget           201812   \n",
       "264829 DORITOS    MIDAGE SINGLES/COUPLES Mainstream       201808   \n",
       "264830 GRNWVES    YOUNG FAMILIES         Mainstream       201812   \n",
       "264831 KETTLE     YOUNG FAMILIES         Premium          201810   \n",
       "264832 TYRRELLS   OLDER FAMILIES         Budget           201810   \n",
       "264833 OLD        OLDER FAMILIES         Budget           201810   \n",
       "264834 SMITHS     YOUNG SINGLES/COUPLES  Mainstream       201812   "
      ]
     },
     "metadata": {},
     "output_type": "display_data"
    }
   ],
   "source": [
    "#### Calculate these measures over time for each store\n",
    "#### Add a new month ID column in the data with the format yyyymm.\n",
    "data[, YEARMONTH := year(DATE)*100 + month(DATE)]\n",
    "data\n",
    "#### Next, we define the measure calculations to use during the analysis.\n",
    "# For each store and month calculate total sales, number of customers, transactions per customer, chips per customer and the average price per unit.\n",
    "measureOverTime <- data[, .(totSales = sum(TOT_SALES),\n",
    "                            nCustomers = uniqueN(LYLTY_CARD_NBR) ,\n",
    "                            nTxnPerCust = uniqueN(TXN_ID)/uniqueN(LYLTY_CARD_NBR),\n",
    "                            nChipsPerTxn = sum(PROD_QTY)/uniqueN(TXN_ID),\n",
    "                            avgPricePerUnit = sum(TOT_SALES)/sum(PROD_QTY))\n",
    "                        , by = c(\"STORE_NBR\", \"YEARMONTH\")][order(STORE_NBR, YEARMONTH) ]\n",
    "#### Filter to the pre-trial period and stores with full observation periods\n",
    "storesWithFullObs <- unique(measureOverTime[, .N, STORE_NBR][N == 12, STORE_NBR])\n",
    "preTrialMeasures <- measureOverTime[YEARMONTH < 201902 & STORE_NBR %in%\n",
    "storesWithFullObs, ]"
   ]
  },
  {
   "cell_type": "markdown",
   "metadata": {},
   "source": [
    "Now we need to work out a way of ranking how similar each potential control store\n",
    "is to the trial store. We can calculate how correlated the performance of each\n",
    "store is to the trial store.\n",
    "Let's write a function for this so that we don't have to calculate this for each\n",
    "trial store and control store pair."
   ]
  },
  {
   "cell_type": "code",
   "execution_count": 10,
   "metadata": {
    "vscode": {
     "languageId": "r"
    }
   },
   "outputs": [],
   "source": [
    "calculateCorrelation <- function(inputTable, metricCol, storeComparison) {\n",
    "  calcCorrTable = data.table(Store1 = numeric(), Store2 = numeric(), corr_measure =\n",
    "  numeric())\n",
    "\n",
    "  storeNumbers <- unique(inputTable[, STORE_NBR])\n",
    "  \n",
    "  for (i in storeNumbers) {\n",
    "    calculatedMeasure = data.table(\"Store1\" = storeComparison,\n",
    "                                   \"Store2\" = i,\n",
    "                                   \"corr_measure\" = cor( inputTable[STORE_NBR == storeComparison,\n",
    "                                                                     eval(metricCol)], inputTable[STORE_NBR == i,\n",
    "                                                                                                eval(metricCol)]))\n",
    "    calcCorrTable <- rbind(calcCorrTable, calculatedMeasure)\n",
    "  }\n",
    "  return(calcCorrTable)\n",
    "}"
   ]
  },
  {
   "cell_type": "markdown",
   "metadata": {},
   "source": [
    "Apart from correlation, we can also calculate a standardised metric based on the\n",
    "absolute difference between the trial store's performance and each control store's\n",
    "performance.\n",
    "Let's write a function for this."
   ]
  },
  {
   "cell_type": "code",
   "execution_count": 11,
   "metadata": {
    "vscode": {
     "languageId": "r"
    }
   },
   "outputs": [],
   "source": [
    "calculateMagnitudeDistance <- function(inputTable, metricCol, storeComparison) {\n",
    "calcDistTable = data.table(Store1 = numeric(), Store2 = numeric(), YEARMONTH =\n",
    "numeric(), measure = numeric())\n",
    "  storeNumbers <- unique(inputTable[, STORE_NBR])\n",
    "  for (i in storeNumbers) {\n",
    "  calculatedMeasure = data.table(\"Store1\" = storeComparison\n",
    "                                 , \"Store2\" = i\n",
    "                                 , \"YEARMONTH\" = inputTable[STORE_NBR ==\n",
    "storeComparison, YEARMONTH]\n",
    "                                 , \"measure\" = abs(inputTable[STORE_NBR ==\n",
    "storeComparison, eval(metricCol)]\n",
    "                                                   - inputTable[STORE_NBR == i,\n",
    "eval(metricCol)])\n",
    "                                  )\n",
    "    calcDistTable <- rbind(calcDistTable, calculatedMeasure)\n",
    "}\n",
    "#### Standardise the magnitude distance so that the measure ranges from 0 to 1\n",
    "  minMaxDist <- calcDistTable[, .(minDist = min(measure), maxDist = max(measure)),\n",
    "by = c(\"Store1\", \"YEARMONTH\")]\n",
    "  distTable <- merge(calcDistTable, minMaxDist, by = c(\"Store1\", \"YEARMONTH\"))\n",
    "  distTable[, magnitudeMeasure := 1 - (measure - minDist)/(maxDist - minDist)]\n",
    "  finalDistTable <- distTable[, .(mag_measure = mean(magnitudeMeasure)), by =\n",
    ".(Store1, Store2)]\n",
    "  return(finalDistTable)\n",
    "}"
   ]
  },
  {
   "cell_type": "markdown",
   "metadata": {},
   "source": [
    "Now let's use the functions to find the control stores! We'll select control stores\n",
    "based on how similar monthly total sales in dollar amounts and monthly number of\n",
    "customers are to the trial stores. So we will need to use our functions to get four\n",
    "scores, two for each of total sales and total customers."
   ]
  },
  {
   "cell_type": "code",
   "execution_count": 12,
   "metadata": {
    "vscode": {
     "languageId": "r"
    }
   },
   "outputs": [
    {
     "data": {
      "text/html": [
       "<table class=\"dataframe\">\n",
       "<caption>A data.table: 260 × 3</caption>\n",
       "<thead>\n",
       "\t<tr><th scope=col>Store1</th><th scope=col>Store2</th><th scope=col>corr_measure</th></tr>\n",
       "\t<tr><th scope=col>&lt;dbl&gt;</th><th scope=col>&lt;dbl&gt;</th><th scope=col>&lt;dbl&gt;</th></tr>\n",
       "</thead>\n",
       "<tbody>\n",
       "\t<tr><td>77</td><td> 77</td><td>1.0000000</td></tr>\n",
       "\t<tr><td>77</td><td> 71</td><td>0.9141060</td></tr>\n",
       "\t<tr><td>77</td><td>233</td><td>0.9037742</td></tr>\n",
       "\t<tr><td>77</td><td>119</td><td>0.8676644</td></tr>\n",
       "\t<tr><td>77</td><td> 17</td><td>0.8426684</td></tr>\n",
       "\t<tr><td>77</td><td>  3</td><td>0.8066436</td></tr>\n",
       "\t<tr><td>77</td><td> 41</td><td>0.7832319</td></tr>\n",
       "\t<tr><td>77</td><td> 50</td><td>0.7638658</td></tr>\n",
       "\t<tr><td>77</td><td>157</td><td>0.7358932</td></tr>\n",
       "\t<tr><td>77</td><td>162</td><td>0.7297401</td></tr>\n",
       "\t<tr><td>77</td><td>257</td><td>0.7249273</td></tr>\n",
       "\t<tr><td>77</td><td>234</td><td>0.6963248</td></tr>\n",
       "\t<tr><td>77</td><td>115</td><td>0.6891588</td></tr>\n",
       "\t<tr><td>77</td><td> 84</td><td>0.6843478</td></tr>\n",
       "\t<tr><td>77</td><td>167</td><td>0.6571104</td></tr>\n",
       "\t<tr><td>77</td><td>265</td><td>0.6397594</td></tr>\n",
       "\t<tr><td>77</td><td>192</td><td>0.6250302</td></tr>\n",
       "\t<tr><td>77</td><td> 63</td><td>0.5895506</td></tr>\n",
       "\t<tr><td>77</td><td>254</td><td>0.5771085</td></tr>\n",
       "\t<tr><td>77</td><td>237</td><td>0.5752003</td></tr>\n",
       "\t<tr><td>77</td><td> 33</td><td>0.5737002</td></tr>\n",
       "\t<tr><td>77</td><td> 60</td><td>0.5723209</td></tr>\n",
       "\t<tr><td>77</td><td>105</td><td>0.5575083</td></tr>\n",
       "\t<tr><td>77</td><td> 27</td><td>0.5544333</td></tr>\n",
       "\t<tr><td>77</td><td>202</td><td>0.5349696</td></tr>\n",
       "\t<tr><td>77</td><td> 53</td><td>0.5327640</td></tr>\n",
       "\t<tr><td>77</td><td>250</td><td>0.5322723</td></tr>\n",
       "\t<tr><td>77</td><td>184</td><td>0.5245841</td></tr>\n",
       "\t<tr><td>77</td><td>113</td><td>0.5200153</td></tr>\n",
       "\t<tr><td>77</td><td>111</td><td>0.5194727</td></tr>\n",
       "\t<tr><td>...</td><td>...</td><td>...</td></tr>\n",
       "\t<tr><td>77</td><td>240</td><td>-0.4115985</td></tr>\n",
       "\t<tr><td>77</td><td>225</td><td>-0.4170938</td></tr>\n",
       "\t<tr><td>77</td><td> 89</td><td>-0.4289356</td></tr>\n",
       "\t<tr><td>77</td><td>114</td><td>-0.4396363</td></tr>\n",
       "\t<tr><td>77</td><td>180</td><td>-0.4447771</td></tr>\n",
       "\t<tr><td>77</td><td> 67</td><td>-0.4452270</td></tr>\n",
       "\t<tr><td>77</td><td> 61</td><td>-0.4505453</td></tr>\n",
       "\t<tr><td>77</td><td>129</td><td>-0.4529198</td></tr>\n",
       "\t<tr><td>77</td><td>227</td><td>-0.4574275</td></tr>\n",
       "\t<tr><td>77</td><td>179</td><td>-0.4694154</td></tr>\n",
       "\t<tr><td>77</td><td>267</td><td>-0.4705143</td></tr>\n",
       "\t<tr><td>77</td><td>172</td><td>-0.4935916</td></tr>\n",
       "\t<tr><td>77</td><td> 22</td><td>-0.5005767</td></tr>\n",
       "\t<tr><td>77</td><td>249</td><td>-0.5185074</td></tr>\n",
       "\t<tr><td>77</td><td>147</td><td>-0.5379945</td></tr>\n",
       "\t<tr><td>77</td><td>266</td><td>-0.5397460</td></tr>\n",
       "\t<tr><td>77</td><td>102</td><td>-0.5508337</td></tr>\n",
       "\t<tr><td>77</td><td>138</td><td>-0.5851740</td></tr>\n",
       "\t<tr><td>77</td><td>169</td><td>-0.6301123</td></tr>\n",
       "\t<tr><td>77</td><td>247</td><td>-0.6310496</td></tr>\n",
       "\t<tr><td>77</td><td>258</td><td>-0.6508930</td></tr>\n",
       "\t<tr><td>77</td><td> 55</td><td>-0.6667816</td></tr>\n",
       "\t<tr><td>77</td><td> 19</td><td>-0.6779291</td></tr>\n",
       "\t<tr><td>77</td><td>242</td><td>-0.6926643</td></tr>\n",
       "\t<tr><td>77</td><td>  9</td><td>-0.7029760</td></tr>\n",
       "\t<tr><td>77</td><td>158</td><td>-0.7093194</td></tr>\n",
       "\t<tr><td>77</td><td> 24</td><td>-0.7181123</td></tr>\n",
       "\t<tr><td>77</td><td>244</td><td>-0.7745129</td></tr>\n",
       "\t<tr><td>77</td><td> 75</td><td>-0.8067514</td></tr>\n",
       "\t<tr><td>77</td><td>186</td><td>-0.8202139</td></tr>\n",
       "</tbody>\n",
       "</table>\n"
      ],
      "text/latex": [
       "A data.table: 260 × 3\n",
       "\\begin{tabular}{lll}\n",
       " Store1 & Store2 & corr\\_measure\\\\\n",
       " <dbl> & <dbl> & <dbl>\\\\\n",
       "\\hline\n",
       "\t 77 &  77 & 1.0000000\\\\\n",
       "\t 77 &  71 & 0.9141060\\\\\n",
       "\t 77 & 233 & 0.9037742\\\\\n",
       "\t 77 & 119 & 0.8676644\\\\\n",
       "\t 77 &  17 & 0.8426684\\\\\n",
       "\t 77 &   3 & 0.8066436\\\\\n",
       "\t 77 &  41 & 0.7832319\\\\\n",
       "\t 77 &  50 & 0.7638658\\\\\n",
       "\t 77 & 157 & 0.7358932\\\\\n",
       "\t 77 & 162 & 0.7297401\\\\\n",
       "\t 77 & 257 & 0.7249273\\\\\n",
       "\t 77 & 234 & 0.6963248\\\\\n",
       "\t 77 & 115 & 0.6891588\\\\\n",
       "\t 77 &  84 & 0.6843478\\\\\n",
       "\t 77 & 167 & 0.6571104\\\\\n",
       "\t 77 & 265 & 0.6397594\\\\\n",
       "\t 77 & 192 & 0.6250302\\\\\n",
       "\t 77 &  63 & 0.5895506\\\\\n",
       "\t 77 & 254 & 0.5771085\\\\\n",
       "\t 77 & 237 & 0.5752003\\\\\n",
       "\t 77 &  33 & 0.5737002\\\\\n",
       "\t 77 &  60 & 0.5723209\\\\\n",
       "\t 77 & 105 & 0.5575083\\\\\n",
       "\t 77 &  27 & 0.5544333\\\\\n",
       "\t 77 & 202 & 0.5349696\\\\\n",
       "\t 77 &  53 & 0.5327640\\\\\n",
       "\t 77 & 250 & 0.5322723\\\\\n",
       "\t 77 & 184 & 0.5245841\\\\\n",
       "\t 77 & 113 & 0.5200153\\\\\n",
       "\t 77 & 111 & 0.5194727\\\\\n",
       "\t ... & ... & ...\\\\\n",
       "\t 77 & 240 & -0.4115985\\\\\n",
       "\t 77 & 225 & -0.4170938\\\\\n",
       "\t 77 &  89 & -0.4289356\\\\\n",
       "\t 77 & 114 & -0.4396363\\\\\n",
       "\t 77 & 180 & -0.4447771\\\\\n",
       "\t 77 &  67 & -0.4452270\\\\\n",
       "\t 77 &  61 & -0.4505453\\\\\n",
       "\t 77 & 129 & -0.4529198\\\\\n",
       "\t 77 & 227 & -0.4574275\\\\\n",
       "\t 77 & 179 & -0.4694154\\\\\n",
       "\t 77 & 267 & -0.4705143\\\\\n",
       "\t 77 & 172 & -0.4935916\\\\\n",
       "\t 77 &  22 & -0.5005767\\\\\n",
       "\t 77 & 249 & -0.5185074\\\\\n",
       "\t 77 & 147 & -0.5379945\\\\\n",
       "\t 77 & 266 & -0.5397460\\\\\n",
       "\t 77 & 102 & -0.5508337\\\\\n",
       "\t 77 & 138 & -0.5851740\\\\\n",
       "\t 77 & 169 & -0.6301123\\\\\n",
       "\t 77 & 247 & -0.6310496\\\\\n",
       "\t 77 & 258 & -0.6508930\\\\\n",
       "\t 77 &  55 & -0.6667816\\\\\n",
       "\t 77 &  19 & -0.6779291\\\\\n",
       "\t 77 & 242 & -0.6926643\\\\\n",
       "\t 77 &   9 & -0.7029760\\\\\n",
       "\t 77 & 158 & -0.7093194\\\\\n",
       "\t 77 &  24 & -0.7181123\\\\\n",
       "\t 77 & 244 & -0.7745129\\\\\n",
       "\t 77 &  75 & -0.8067514\\\\\n",
       "\t 77 & 186 & -0.8202139\\\\\n",
       "\\end{tabular}\n"
      ],
      "text/markdown": [
       "\n",
       "A data.table: 260 × 3\n",
       "\n",
       "| Store1 &lt;dbl&gt; | Store2 &lt;dbl&gt; | corr_measure &lt;dbl&gt; |\n",
       "|---|---|---|\n",
       "| 77 |  77 | 1.0000000 |\n",
       "| 77 |  71 | 0.9141060 |\n",
       "| 77 | 233 | 0.9037742 |\n",
       "| 77 | 119 | 0.8676644 |\n",
       "| 77 |  17 | 0.8426684 |\n",
       "| 77 |   3 | 0.8066436 |\n",
       "| 77 |  41 | 0.7832319 |\n",
       "| 77 |  50 | 0.7638658 |\n",
       "| 77 | 157 | 0.7358932 |\n",
       "| 77 | 162 | 0.7297401 |\n",
       "| 77 | 257 | 0.7249273 |\n",
       "| 77 | 234 | 0.6963248 |\n",
       "| 77 | 115 | 0.6891588 |\n",
       "| 77 |  84 | 0.6843478 |\n",
       "| 77 | 167 | 0.6571104 |\n",
       "| 77 | 265 | 0.6397594 |\n",
       "| 77 | 192 | 0.6250302 |\n",
       "| 77 |  63 | 0.5895506 |\n",
       "| 77 | 254 | 0.5771085 |\n",
       "| 77 | 237 | 0.5752003 |\n",
       "| 77 |  33 | 0.5737002 |\n",
       "| 77 |  60 | 0.5723209 |\n",
       "| 77 | 105 | 0.5575083 |\n",
       "| 77 |  27 | 0.5544333 |\n",
       "| 77 | 202 | 0.5349696 |\n",
       "| 77 |  53 | 0.5327640 |\n",
       "| 77 | 250 | 0.5322723 |\n",
       "| 77 | 184 | 0.5245841 |\n",
       "| 77 | 113 | 0.5200153 |\n",
       "| 77 | 111 | 0.5194727 |\n",
       "| ... | ... | ... |\n",
       "| 77 | 240 | -0.4115985 |\n",
       "| 77 | 225 | -0.4170938 |\n",
       "| 77 |  89 | -0.4289356 |\n",
       "| 77 | 114 | -0.4396363 |\n",
       "| 77 | 180 | -0.4447771 |\n",
       "| 77 |  67 | -0.4452270 |\n",
       "| 77 |  61 | -0.4505453 |\n",
       "| 77 | 129 | -0.4529198 |\n",
       "| 77 | 227 | -0.4574275 |\n",
       "| 77 | 179 | -0.4694154 |\n",
       "| 77 | 267 | -0.4705143 |\n",
       "| 77 | 172 | -0.4935916 |\n",
       "| 77 |  22 | -0.5005767 |\n",
       "| 77 | 249 | -0.5185074 |\n",
       "| 77 | 147 | -0.5379945 |\n",
       "| 77 | 266 | -0.5397460 |\n",
       "| 77 | 102 | -0.5508337 |\n",
       "| 77 | 138 | -0.5851740 |\n",
       "| 77 | 169 | -0.6301123 |\n",
       "| 77 | 247 | -0.6310496 |\n",
       "| 77 | 258 | -0.6508930 |\n",
       "| 77 |  55 | -0.6667816 |\n",
       "| 77 |  19 | -0.6779291 |\n",
       "| 77 | 242 | -0.6926643 |\n",
       "| 77 |   9 | -0.7029760 |\n",
       "| 77 | 158 | -0.7093194 |\n",
       "| 77 |  24 | -0.7181123 |\n",
       "| 77 | 244 | -0.7745129 |\n",
       "| 77 |  75 | -0.8067514 |\n",
       "| 77 | 186 | -0.8202139 |\n",
       "\n"
      ],
      "text/plain": [
       "    Store1 Store2 corr_measure\n",
       "1   77      77    1.0000000   \n",
       "2   77      71    0.9141060   \n",
       "3   77     233    0.9037742   \n",
       "4   77     119    0.8676644   \n",
       "5   77      17    0.8426684   \n",
       "6   77       3    0.8066436   \n",
       "7   77      41    0.7832319   \n",
       "8   77      50    0.7638658   \n",
       "9   77     157    0.7358932   \n",
       "10  77     162    0.7297401   \n",
       "11  77     257    0.7249273   \n",
       "12  77     234    0.6963248   \n",
       "13  77     115    0.6891588   \n",
       "14  77      84    0.6843478   \n",
       "15  77     167    0.6571104   \n",
       "16  77     265    0.6397594   \n",
       "17  77     192    0.6250302   \n",
       "18  77      63    0.5895506   \n",
       "19  77     254    0.5771085   \n",
       "20  77     237    0.5752003   \n",
       "21  77      33    0.5737002   \n",
       "22  77      60    0.5723209   \n",
       "23  77     105    0.5575083   \n",
       "24  77      27    0.5544333   \n",
       "25  77     202    0.5349696   \n",
       "26  77      53    0.5327640   \n",
       "27  77     250    0.5322723   \n",
       "28  77     184    0.5245841   \n",
       "29  77     113    0.5200153   \n",
       "30  77     111    0.5194727   \n",
       "... ...    ...    ...         \n",
       "231 77     240    -0.4115985  \n",
       "232 77     225    -0.4170938  \n",
       "233 77      89    -0.4289356  \n",
       "234 77     114    -0.4396363  \n",
       "235 77     180    -0.4447771  \n",
       "236 77      67    -0.4452270  \n",
       "237 77      61    -0.4505453  \n",
       "238 77     129    -0.4529198  \n",
       "239 77     227    -0.4574275  \n",
       "240 77     179    -0.4694154  \n",
       "241 77     267    -0.4705143  \n",
       "242 77     172    -0.4935916  \n",
       "243 77      22    -0.5005767  \n",
       "244 77     249    -0.5185074  \n",
       "245 77     147    -0.5379945  \n",
       "246 77     266    -0.5397460  \n",
       "247 77     102    -0.5508337  \n",
       "248 77     138    -0.5851740  \n",
       "249 77     169    -0.6301123  \n",
       "250 77     247    -0.6310496  \n",
       "251 77     258    -0.6508930  \n",
       "252 77      55    -0.6667816  \n",
       "253 77      19    -0.6779291  \n",
       "254 77     242    -0.6926643  \n",
       "255 77       9    -0.7029760  \n",
       "256 77     158    -0.7093194  \n",
       "257 77      24    -0.7181123  \n",
       "258 77     244    -0.7745129  \n",
       "259 77      75    -0.8067514  \n",
       "260 77     186    -0.8202139  "
      ]
     },
     "metadata": {},
     "output_type": "display_data"
    },
    {
     "data": {
      "text/html": [
       "<table class=\"dataframe\">\n",
       "<caption>A data.table: 260 × 3</caption>\n",
       "<thead>\n",
       "\t<tr><th scope=col>Store1</th><th scope=col>Store2</th><th scope=col>corr_measure</th></tr>\n",
       "\t<tr><th scope=col>&lt;dbl&gt;</th><th scope=col>&lt;dbl&gt;</th><th scope=col>&lt;dbl&gt;</th></tr>\n",
       "</thead>\n",
       "<tbody>\n",
       "\t<tr><td>77</td><td> 77</td><td>1.0000000</td></tr>\n",
       "\t<tr><td>77</td><td>233</td><td>0.9903578</td></tr>\n",
       "\t<tr><td>77</td><td>119</td><td>0.9832666</td></tr>\n",
       "\t<tr><td>77</td><td>254</td><td>0.9162084</td></tr>\n",
       "\t<tr><td>77</td><td>113</td><td>0.9013480</td></tr>\n",
       "\t<tr><td>77</td><td> 84</td><td>0.8585712</td></tr>\n",
       "\t<tr><td>77</td><td> 41</td><td>0.8442195</td></tr>\n",
       "\t<tr><td>77</td><td>  3</td><td>0.8342074</td></tr>\n",
       "\t<tr><td>77</td><td> 35</td><td>0.7746471</td></tr>\n",
       "\t<tr><td>77</td><td> 88</td><td>0.7650480</td></tr>\n",
       "\t<tr><td>77</td><td> 26</td><td>0.7594519</td></tr>\n",
       "\t<tr><td>77</td><td> 71</td><td>0.7548167</td></tr>\n",
       "\t<tr><td>77</td><td> 33</td><td>0.7478944</td></tr>\n",
       "\t<tr><td>77</td><td> 17</td><td>0.7473078</td></tr>\n",
       "\t<tr><td>77</td><td>248</td><td>0.7328657</td></tr>\n",
       "\t<tr><td>77</td><td>157</td><td>0.7317167</td></tr>\n",
       "\t<tr><td>77</td><td>115</td><td>0.7188818</td></tr>\n",
       "\t<tr><td>77</td><td>167</td><td>0.7179126</td></tr>\n",
       "\t<tr><td>77</td><td> 14</td><td>0.7148412</td></tr>\n",
       "\t<tr><td>77</td><td>162</td><td>0.6885772</td></tr>\n",
       "\t<tr><td>77</td><td> 27</td><td>0.6863864</td></tr>\n",
       "\t<tr><td>77</td><td>111</td><td>0.6859257</td></tr>\n",
       "\t<tr><td>77</td><td>145</td><td>0.6811551</td></tr>\n",
       "\t<tr><td>77</td><td>230</td><td>0.6581783</td></tr>\n",
       "\t<tr><td>77</td><td>250</td><td>0.6204840</td></tr>\n",
       "\t<tr><td>77</td><td>237</td><td>0.6140960</td></tr>\n",
       "\t<tr><td>77</td><td>105</td><td>0.6128367</td></tr>\n",
       "\t<tr><td>77</td><td> 57</td><td>0.6117599</td></tr>\n",
       "\t<tr><td>77</td><td> 50</td><td>0.6073908</td></tr>\n",
       "\t<tr><td>77</td><td> 53</td><td>0.6026804</td></tr>\n",
       "\t<tr><td>...</td><td>...</td><td>...</td></tr>\n",
       "\t<tr><td>77</td><td>133</td><td>-0.4081595</td></tr>\n",
       "\t<tr><td>77</td><td>  8</td><td>-0.4103574</td></tr>\n",
       "\t<tr><td>77</td><td> 38</td><td>-0.4112805</td></tr>\n",
       "\t<tr><td>77</td><td>215</td><td>-0.4140223</td></tr>\n",
       "\t<tr><td>77</td><td> 24</td><td>-0.4252580</td></tr>\n",
       "\t<tr><td>77</td><td> 25</td><td>-0.4416044</td></tr>\n",
       "\t<tr><td>77</td><td> 16</td><td>-0.4636965</td></tr>\n",
       "\t<tr><td>77</td><td>269</td><td>-0.4742925</td></tr>\n",
       "\t<tr><td>77</td><td>220</td><td>-0.5018435</td></tr>\n",
       "\t<tr><td>77</td><td>179</td><td>-0.5058964</td></tr>\n",
       "\t<tr><td>77</td><td>138</td><td>-0.5348775</td></tr>\n",
       "\t<tr><td>77</td><td>208</td><td>-0.5439011</td></tr>\n",
       "\t<tr><td>77</td><td>258</td><td>-0.5457131</td></tr>\n",
       "\t<tr><td>77</td><td> 67</td><td>-0.5480536</td></tr>\n",
       "\t<tr><td>77</td><td>  2</td><td>-0.5720509</td></tr>\n",
       "\t<tr><td>77</td><td>266</td><td>-0.5756655</td></tr>\n",
       "\t<tr><td>77</td><td>124</td><td>-0.5859688</td></tr>\n",
       "\t<tr><td>77</td><td> 75</td><td>-0.5907354</td></tr>\n",
       "\t<tr><td>77</td><td>163</td><td>-0.6044748</td></tr>\n",
       "\t<tr><td>77</td><td>247</td><td>-0.6210342</td></tr>\n",
       "\t<tr><td>77</td><td>227</td><td>-0.6237974</td></tr>\n",
       "\t<tr><td>77</td><td> 19</td><td>-0.6334531</td></tr>\n",
       "\t<tr><td>77</td><td>186</td><td>-0.6359655</td></tr>\n",
       "\t<tr><td>77</td><td>242</td><td>-0.6433509</td></tr>\n",
       "\t<tr><td>77</td><td>267</td><td>-0.6487111</td></tr>\n",
       "\t<tr><td>77</td><td>102</td><td>-0.6525273</td></tr>\n",
       "\t<tr><td>77</td><td>147</td><td>-0.6569333</td></tr>\n",
       "\t<tr><td>77</td><td>169</td><td>-0.6663911</td></tr>\n",
       "\t<tr><td>77</td><td> 54</td><td>-0.7606047</td></tr>\n",
       "\t<tr><td>77</td><td>  9</td><td>-0.7856990</td></tr>\n",
       "</tbody>\n",
       "</table>\n"
      ],
      "text/latex": [
       "A data.table: 260 × 3\n",
       "\\begin{tabular}{lll}\n",
       " Store1 & Store2 & corr\\_measure\\\\\n",
       " <dbl> & <dbl> & <dbl>\\\\\n",
       "\\hline\n",
       "\t 77 &  77 & 1.0000000\\\\\n",
       "\t 77 & 233 & 0.9903578\\\\\n",
       "\t 77 & 119 & 0.9832666\\\\\n",
       "\t 77 & 254 & 0.9162084\\\\\n",
       "\t 77 & 113 & 0.9013480\\\\\n",
       "\t 77 &  84 & 0.8585712\\\\\n",
       "\t 77 &  41 & 0.8442195\\\\\n",
       "\t 77 &   3 & 0.8342074\\\\\n",
       "\t 77 &  35 & 0.7746471\\\\\n",
       "\t 77 &  88 & 0.7650480\\\\\n",
       "\t 77 &  26 & 0.7594519\\\\\n",
       "\t 77 &  71 & 0.7548167\\\\\n",
       "\t 77 &  33 & 0.7478944\\\\\n",
       "\t 77 &  17 & 0.7473078\\\\\n",
       "\t 77 & 248 & 0.7328657\\\\\n",
       "\t 77 & 157 & 0.7317167\\\\\n",
       "\t 77 & 115 & 0.7188818\\\\\n",
       "\t 77 & 167 & 0.7179126\\\\\n",
       "\t 77 &  14 & 0.7148412\\\\\n",
       "\t 77 & 162 & 0.6885772\\\\\n",
       "\t 77 &  27 & 0.6863864\\\\\n",
       "\t 77 & 111 & 0.6859257\\\\\n",
       "\t 77 & 145 & 0.6811551\\\\\n",
       "\t 77 & 230 & 0.6581783\\\\\n",
       "\t 77 & 250 & 0.6204840\\\\\n",
       "\t 77 & 237 & 0.6140960\\\\\n",
       "\t 77 & 105 & 0.6128367\\\\\n",
       "\t 77 &  57 & 0.6117599\\\\\n",
       "\t 77 &  50 & 0.6073908\\\\\n",
       "\t 77 &  53 & 0.6026804\\\\\n",
       "\t ... & ... & ...\\\\\n",
       "\t 77 & 133 & -0.4081595\\\\\n",
       "\t 77 &   8 & -0.4103574\\\\\n",
       "\t 77 &  38 & -0.4112805\\\\\n",
       "\t 77 & 215 & -0.4140223\\\\\n",
       "\t 77 &  24 & -0.4252580\\\\\n",
       "\t 77 &  25 & -0.4416044\\\\\n",
       "\t 77 &  16 & -0.4636965\\\\\n",
       "\t 77 & 269 & -0.4742925\\\\\n",
       "\t 77 & 220 & -0.5018435\\\\\n",
       "\t 77 & 179 & -0.5058964\\\\\n",
       "\t 77 & 138 & -0.5348775\\\\\n",
       "\t 77 & 208 & -0.5439011\\\\\n",
       "\t 77 & 258 & -0.5457131\\\\\n",
       "\t 77 &  67 & -0.5480536\\\\\n",
       "\t 77 &   2 & -0.5720509\\\\\n",
       "\t 77 & 266 & -0.5756655\\\\\n",
       "\t 77 & 124 & -0.5859688\\\\\n",
       "\t 77 &  75 & -0.5907354\\\\\n",
       "\t 77 & 163 & -0.6044748\\\\\n",
       "\t 77 & 247 & -0.6210342\\\\\n",
       "\t 77 & 227 & -0.6237974\\\\\n",
       "\t 77 &  19 & -0.6334531\\\\\n",
       "\t 77 & 186 & -0.6359655\\\\\n",
       "\t 77 & 242 & -0.6433509\\\\\n",
       "\t 77 & 267 & -0.6487111\\\\\n",
       "\t 77 & 102 & -0.6525273\\\\\n",
       "\t 77 & 147 & -0.6569333\\\\\n",
       "\t 77 & 169 & -0.6663911\\\\\n",
       "\t 77 &  54 & -0.7606047\\\\\n",
       "\t 77 &   9 & -0.7856990\\\\\n",
       "\\end{tabular}\n"
      ],
      "text/markdown": [
       "\n",
       "A data.table: 260 × 3\n",
       "\n",
       "| Store1 &lt;dbl&gt; | Store2 &lt;dbl&gt; | corr_measure &lt;dbl&gt; |\n",
       "|---|---|---|\n",
       "| 77 |  77 | 1.0000000 |\n",
       "| 77 | 233 | 0.9903578 |\n",
       "| 77 | 119 | 0.9832666 |\n",
       "| 77 | 254 | 0.9162084 |\n",
       "| 77 | 113 | 0.9013480 |\n",
       "| 77 |  84 | 0.8585712 |\n",
       "| 77 |  41 | 0.8442195 |\n",
       "| 77 |   3 | 0.8342074 |\n",
       "| 77 |  35 | 0.7746471 |\n",
       "| 77 |  88 | 0.7650480 |\n",
       "| 77 |  26 | 0.7594519 |\n",
       "| 77 |  71 | 0.7548167 |\n",
       "| 77 |  33 | 0.7478944 |\n",
       "| 77 |  17 | 0.7473078 |\n",
       "| 77 | 248 | 0.7328657 |\n",
       "| 77 | 157 | 0.7317167 |\n",
       "| 77 | 115 | 0.7188818 |\n",
       "| 77 | 167 | 0.7179126 |\n",
       "| 77 |  14 | 0.7148412 |\n",
       "| 77 | 162 | 0.6885772 |\n",
       "| 77 |  27 | 0.6863864 |\n",
       "| 77 | 111 | 0.6859257 |\n",
       "| 77 | 145 | 0.6811551 |\n",
       "| 77 | 230 | 0.6581783 |\n",
       "| 77 | 250 | 0.6204840 |\n",
       "| 77 | 237 | 0.6140960 |\n",
       "| 77 | 105 | 0.6128367 |\n",
       "| 77 |  57 | 0.6117599 |\n",
       "| 77 |  50 | 0.6073908 |\n",
       "| 77 |  53 | 0.6026804 |\n",
       "| ... | ... | ... |\n",
       "| 77 | 133 | -0.4081595 |\n",
       "| 77 |   8 | -0.4103574 |\n",
       "| 77 |  38 | -0.4112805 |\n",
       "| 77 | 215 | -0.4140223 |\n",
       "| 77 |  24 | -0.4252580 |\n",
       "| 77 |  25 | -0.4416044 |\n",
       "| 77 |  16 | -0.4636965 |\n",
       "| 77 | 269 | -0.4742925 |\n",
       "| 77 | 220 | -0.5018435 |\n",
       "| 77 | 179 | -0.5058964 |\n",
       "| 77 | 138 | -0.5348775 |\n",
       "| 77 | 208 | -0.5439011 |\n",
       "| 77 | 258 | -0.5457131 |\n",
       "| 77 |  67 | -0.5480536 |\n",
       "| 77 |   2 | -0.5720509 |\n",
       "| 77 | 266 | -0.5756655 |\n",
       "| 77 | 124 | -0.5859688 |\n",
       "| 77 |  75 | -0.5907354 |\n",
       "| 77 | 163 | -0.6044748 |\n",
       "| 77 | 247 | -0.6210342 |\n",
       "| 77 | 227 | -0.6237974 |\n",
       "| 77 |  19 | -0.6334531 |\n",
       "| 77 | 186 | -0.6359655 |\n",
       "| 77 | 242 | -0.6433509 |\n",
       "| 77 | 267 | -0.6487111 |\n",
       "| 77 | 102 | -0.6525273 |\n",
       "| 77 | 147 | -0.6569333 |\n",
       "| 77 | 169 | -0.6663911 |\n",
       "| 77 |  54 | -0.7606047 |\n",
       "| 77 |   9 | -0.7856990 |\n",
       "\n"
      ],
      "text/plain": [
       "    Store1 Store2 corr_measure\n",
       "1   77      77    1.0000000   \n",
       "2   77     233    0.9903578   \n",
       "3   77     119    0.9832666   \n",
       "4   77     254    0.9162084   \n",
       "5   77     113    0.9013480   \n",
       "6   77      84    0.8585712   \n",
       "7   77      41    0.8442195   \n",
       "8   77       3    0.8342074   \n",
       "9   77      35    0.7746471   \n",
       "10  77      88    0.7650480   \n",
       "11  77      26    0.7594519   \n",
       "12  77      71    0.7548167   \n",
       "13  77      33    0.7478944   \n",
       "14  77      17    0.7473078   \n",
       "15  77     248    0.7328657   \n",
       "16  77     157    0.7317167   \n",
       "17  77     115    0.7188818   \n",
       "18  77     167    0.7179126   \n",
       "19  77      14    0.7148412   \n",
       "20  77     162    0.6885772   \n",
       "21  77      27    0.6863864   \n",
       "22  77     111    0.6859257   \n",
       "23  77     145    0.6811551   \n",
       "24  77     230    0.6581783   \n",
       "25  77     250    0.6204840   \n",
       "26  77     237    0.6140960   \n",
       "27  77     105    0.6128367   \n",
       "28  77      57    0.6117599   \n",
       "29  77      50    0.6073908   \n",
       "30  77      53    0.6026804   \n",
       "... ...    ...    ...         \n",
       "231 77     133    -0.4081595  \n",
       "232 77       8    -0.4103574  \n",
       "233 77      38    -0.4112805  \n",
       "234 77     215    -0.4140223  \n",
       "235 77      24    -0.4252580  \n",
       "236 77      25    -0.4416044  \n",
       "237 77      16    -0.4636965  \n",
       "238 77     269    -0.4742925  \n",
       "239 77     220    -0.5018435  \n",
       "240 77     179    -0.5058964  \n",
       "241 77     138    -0.5348775  \n",
       "242 77     208    -0.5439011  \n",
       "243 77     258    -0.5457131  \n",
       "244 77      67    -0.5480536  \n",
       "245 77       2    -0.5720509  \n",
       "246 77     266    -0.5756655  \n",
       "247 77     124    -0.5859688  \n",
       "248 77      75    -0.5907354  \n",
       "249 77     163    -0.6044748  \n",
       "250 77     247    -0.6210342  \n",
       "251 77     227    -0.6237974  \n",
       "252 77      19    -0.6334531  \n",
       "253 77     186    -0.6359655  \n",
       "254 77     242    -0.6433509  \n",
       "255 77     267    -0.6487111  \n",
       "256 77     102    -0.6525273  \n",
       "257 77     147    -0.6569333  \n",
       "258 77     169    -0.6663911  \n",
       "259 77      54    -0.7606047  \n",
       "260 77       9    -0.7856990  "
      ]
     },
     "metadata": {},
     "output_type": "display_data"
    }
   ],
   "source": [
    "trial_store <- 77\n",
    "corr_nSales <- calculateCorrelation(preTrialMeasures, quote(totSales), trial_store)\n",
    "corr_nSales[order(-corr_measure)]\n",
    "corr_nCustomers <- calculateCorrelation(preTrialMeasures, quote(nCustomers), trial_store)\n",
    "corr_nCustomers[order(-corr_measure)]\n",
    "#### Then, use the functions for calculating magnitude.\n",
    "magnitude_nSales <- calculateMagnitudeDistance(preTrialMeasures, quote(totSales),\n",
    "trial_store)\n",
    "magnitude_nCustomers <- calculateMagnitudeDistance(preTrialMeasures,\n",
    "quote(nCustomers), trial_store)"
   ]
  },
  {
   "cell_type": "markdown",
   "metadata": {},
   "source": [
    "We'll need to combine the all the scores calculated using our function to create a\n",
    "composite score to rank on.\n",
    "Let's take a simple average of the correlation and magnitude scores for each\n",
    "driver. Note that if we consider it more important for the trend of the drivers to\n",
    "be similar, we can increase the weight of the correlation score (a simple average\n",
    "gives a weight of 0.5 to the corr_weight) or if we consider the absolute size of\n",
    "the drivers to be more important, we can lower the weight of the correlation score."
   ]
  },
  {
   "cell_type": "code",
   "execution_count": 13,
   "metadata": {
    "vscode": {
     "languageId": "r"
    }
   },
   "outputs": [],
   "source": [
    "corr_weight <- 0.5\n",
    "score_nSales <- merge(corr_nSales, magnitude_nSales, by = \n",
    "          c(\"Store1\",\"Store2\"))[, scoreNSales := (corr_measure + mag_measure)/2 ]\n",
    "score_nCustomers <- merge(corr_nCustomers, magnitude_nCustomers, by =\n",
    "        c(\"Store1\", \"Store2\"))[, scoreNCust := (corr_measure + mag_measure)/2]"
   ]
  },
  {
   "cell_type": "code",
   "execution_count": 14,
   "metadata": {
    "vscode": {
     "languageId": "r"
    }
   },
   "outputs": [
    {
     "data": {
      "text/html": [
       "<table class=\"dataframe\">\n",
       "<caption>A data.table: 260 × 5</caption>\n",
       "<thead>\n",
       "\t<tr><th scope=col>Store1</th><th scope=col>Store2</th><th scope=col>corr_measure</th><th scope=col>mag_measure</th><th scope=col>scoreNSales</th></tr>\n",
       "\t<tr><th scope=col>&lt;dbl&gt;</th><th scope=col>&lt;dbl&gt;</th><th scope=col>&lt;dbl&gt;</th><th scope=col>&lt;dbl&gt;</th><th scope=col>&lt;dbl&gt;</th></tr>\n",
       "</thead>\n",
       "<tbody>\n",
       "\t<tr><td>77</td><td> 77</td><td>1.0000000</td><td>1.0000000</td><td>1.0000000</td></tr>\n",
       "\t<tr><td>77</td><td>233</td><td>0.9037742</td><td>0.9852649</td><td>0.9445195</td></tr>\n",
       "\t<tr><td>77</td><td> 41</td><td>0.7832319</td><td>0.9651401</td><td>0.8741860</td></tr>\n",
       "\t<tr><td>77</td><td> 50</td><td>0.7638658</td><td>0.9731293</td><td>0.8684976</td></tr>\n",
       "\t<tr><td>77</td><td> 17</td><td>0.8426684</td><td>0.8806882</td><td>0.8616783</td></tr>\n",
       "\t<tr><td>77</td><td>115</td><td>0.6891588</td><td>0.9328321</td><td>0.8109955</td></tr>\n",
       "\t<tr><td>77</td><td>167</td><td>0.6571104</td><td>0.9591332</td><td>0.8081218</td></tr>\n",
       "\t<tr><td>77</td><td>265</td><td>0.6397594</td><td>0.9626629</td><td>0.8012111</td></tr>\n",
       "\t<tr><td>77</td><td>234</td><td>0.6963248</td><td>0.8903392</td><td>0.7933320</td></tr>\n",
       "\t<tr><td>77</td><td> 84</td><td>0.6843478</td><td>0.8300852</td><td>0.7572165</td></tr>\n",
       "\t<tr><td>77</td><td> 53</td><td>0.5327640</td><td>0.9754223</td><td>0.7540932</td></tr>\n",
       "\t<tr><td>77</td><td>254</td><td>0.5771085</td><td>0.9227714</td><td>0.7499399</td></tr>\n",
       "\t<tr><td>77</td><td>111</td><td>0.5194727</td><td>0.9654657</td><td>0.7424692</td></tr>\n",
       "\t<tr><td>77</td><td> 20</td><td>0.5173500</td><td>0.9637886</td><td>0.7405693</td></tr>\n",
       "\t<tr><td>77</td><td>192</td><td>0.6250302</td><td>0.8394839</td><td>0.7322570</td></tr>\n",
       "\t<tr><td>77</td><td>121</td><td>0.5085674</td><td>0.9437334</td><td>0.7261504</td></tr>\n",
       "\t<tr><td>77</td><td>187</td><td>0.4606688</td><td>0.9705301</td><td>0.7155995</td></tr>\n",
       "\t<tr><td>77</td><td> 35</td><td>0.5018257</td><td>0.9105502</td><td>0.7061880</td></tr>\n",
       "\t<tr><td>77</td><td> 46</td><td>0.4356501</td><td>0.9747818</td><td>0.7052159</td></tr>\n",
       "\t<tr><td>77</td><td> 27</td><td>0.5544333</td><td>0.8549272</td><td>0.7046802</td></tr>\n",
       "\t<tr><td>77</td><td>131</td><td>0.4032990</td><td>0.9749592</td><td>0.6891291</td></tr>\n",
       "\t<tr><td>77</td><td> 71</td><td>0.9141060</td><td>0.4537816</td><td>0.6839438</td></tr>\n",
       "\t<tr><td>77</td><td>145</td><td>0.4306424</td><td>0.9368768</td><td>0.6837596</td></tr>\n",
       "\t<tr><td>77</td><td>264</td><td>0.3938364</td><td>0.9664660</td><td>0.6801512</td></tr>\n",
       "\t<tr><td>77</td><td>151</td><td>0.4113130</td><td>0.9285680</td><td>0.6699405</td></tr>\n",
       "\t<tr><td>77</td><td>195</td><td>0.3780449</td><td>0.9591473</td><td>0.6685961</td></tr>\n",
       "\t<tr><td>77</td><td>176</td><td>0.3691206</td><td>0.9643896</td><td>0.6667551</td></tr>\n",
       "\t<tr><td>77</td><td>202</td><td>0.5349696</td><td>0.7973091</td><td>0.6661394</td></tr>\n",
       "\t<tr><td>77</td><td>205</td><td>0.3565101</td><td>0.9723667</td><td>0.6644384</td></tr>\n",
       "\t<tr><td>77</td><td>268</td><td>0.3447571</td><td>0.9607852</td><td>0.6527712</td></tr>\n",
       "\t<tr><td>...</td><td>...</td><td>...</td><td>...</td><td>...</td></tr>\n",
       "\t<tr><td>77</td><td> 49</td><td>-0.2373630</td><td>0.3546084</td><td> 0.058622684</td></tr>\n",
       "\t<tr><td>77</td><td>242</td><td>-0.6926643</td><td>0.8097966</td><td> 0.058566134</td></tr>\n",
       "\t<tr><td>77</td><td>186</td><td>-0.8202139</td><td>0.9371006</td><td> 0.058443366</td></tr>\n",
       "\t<tr><td>77</td><td>104</td><td>-0.4089696</td><td>0.5214802</td><td> 0.056255304</td></tr>\n",
       "\t<tr><td>77</td><td>129</td><td>-0.4529198</td><td>0.5521541</td><td> 0.049617183</td></tr>\n",
       "\t<tr><td>77</td><td>225</td><td>-0.4170938</td><td>0.5127414</td><td> 0.047823786</td></tr>\n",
       "\t<tr><td>77</td><td> 97</td><td>-0.3989686</td><td>0.4929226</td><td> 0.046976960</td></tr>\n",
       "\t<tr><td>77</td><td> 67</td><td>-0.4452270</td><td>0.5228072</td><td> 0.038790097</td></tr>\n",
       "\t<tr><td>77</td><td>125</td><td>-0.2330665</td><td>0.3009422</td><td> 0.033937884</td></tr>\n",
       "\t<tr><td>77</td><td>244</td><td>-0.7745129</td><td>0.8319823</td><td> 0.028734697</td></tr>\n",
       "\t<tr><td>77</td><td>180</td><td>-0.4447771</td><td>0.4958254</td><td> 0.025524154</td></tr>\n",
       "\t<tr><td>77</td><td>261</td><td>-0.2465929</td><td>0.2807964</td><td> 0.017101757</td></tr>\n",
       "\t<tr><td>77</td><td> 88</td><td>-0.1141987</td><td>0.1476075</td><td> 0.016704401</td></tr>\n",
       "\t<tr><td>77</td><td>227</td><td>-0.4574275</td><td>0.4873566</td><td> 0.014964556</td></tr>\n",
       "\t<tr><td>77</td><td>147</td><td>-0.5379945</td><td>0.5600254</td><td> 0.011015411</td></tr>\n",
       "\t<tr><td>77</td><td>172</td><td>-0.4935916</td><td>0.5133446</td><td> 0.009876494</td></tr>\n",
       "\t<tr><td>77</td><td>114</td><td>-0.4396363</td><td>0.4577496</td><td> 0.009056645</td></tr>\n",
       "\t<tr><td>77</td><td> 80</td><td>-0.4054377</td><td>0.4169541</td><td> 0.005758211</td></tr>\n",
       "\t<tr><td>77</td><td>179</td><td>-0.4694154</td><td>0.4439293</td><td>-0.012743068</td></tr>\n",
       "\t<tr><td>77</td><td> 95</td><td>-0.3325497</td><td>0.2965540</td><td>-0.017997858</td></tr>\n",
       "\t<tr><td>77</td><td>238</td><td>-0.3241948</td><td>0.2734532</td><td>-0.025370788</td></tr>\n",
       "\t<tr><td>77</td><td>102</td><td>-0.5508337</td><td>0.4885443</td><td>-0.031144706</td></tr>\n",
       "\t<tr><td>77</td><td>  4</td><td>-0.2632996</td><td>0.1771353</td><td>-0.043082154</td></tr>\n",
       "\t<tr><td>77</td><td> 19</td><td>-0.6779291</td><td>0.5847627</td><td>-0.046583204</td></tr>\n",
       "\t<tr><td>77</td><td>138</td><td>-0.5851740</td><td>0.4913360</td><td>-0.046919028</td></tr>\n",
       "\t<tr><td>77</td><td>247</td><td>-0.6310496</td><td>0.5263807</td><td>-0.052334463</td></tr>\n",
       "\t<tr><td>77</td><td> 24</td><td>-0.7181123</td><td>0.5908516</td><td>-0.063630353</td></tr>\n",
       "\t<tr><td>77</td><td>201</td><td>-0.4109081</td><td>0.2809523</td><td>-0.064977859</td></tr>\n",
       "\t<tr><td>77</td><td> 55</td><td>-0.6667816</td><td>0.4693768</td><td>-0.098702408</td></tr>\n",
       "\t<tr><td>77</td><td> 75</td><td>-0.8067514</td><td>0.3061880</td><td>-0.250281705</td></tr>\n",
       "</tbody>\n",
       "</table>\n"
      ],
      "text/latex": [
       "A data.table: 260 × 5\n",
       "\\begin{tabular}{lllll}\n",
       " Store1 & Store2 & corr\\_measure & mag\\_measure & scoreNSales\\\\\n",
       " <dbl> & <dbl> & <dbl> & <dbl> & <dbl>\\\\\n",
       "\\hline\n",
       "\t 77 &  77 & 1.0000000 & 1.0000000 & 1.0000000\\\\\n",
       "\t 77 & 233 & 0.9037742 & 0.9852649 & 0.9445195\\\\\n",
       "\t 77 &  41 & 0.7832319 & 0.9651401 & 0.8741860\\\\\n",
       "\t 77 &  50 & 0.7638658 & 0.9731293 & 0.8684976\\\\\n",
       "\t 77 &  17 & 0.8426684 & 0.8806882 & 0.8616783\\\\\n",
       "\t 77 & 115 & 0.6891588 & 0.9328321 & 0.8109955\\\\\n",
       "\t 77 & 167 & 0.6571104 & 0.9591332 & 0.8081218\\\\\n",
       "\t 77 & 265 & 0.6397594 & 0.9626629 & 0.8012111\\\\\n",
       "\t 77 & 234 & 0.6963248 & 0.8903392 & 0.7933320\\\\\n",
       "\t 77 &  84 & 0.6843478 & 0.8300852 & 0.7572165\\\\\n",
       "\t 77 &  53 & 0.5327640 & 0.9754223 & 0.7540932\\\\\n",
       "\t 77 & 254 & 0.5771085 & 0.9227714 & 0.7499399\\\\\n",
       "\t 77 & 111 & 0.5194727 & 0.9654657 & 0.7424692\\\\\n",
       "\t 77 &  20 & 0.5173500 & 0.9637886 & 0.7405693\\\\\n",
       "\t 77 & 192 & 0.6250302 & 0.8394839 & 0.7322570\\\\\n",
       "\t 77 & 121 & 0.5085674 & 0.9437334 & 0.7261504\\\\\n",
       "\t 77 & 187 & 0.4606688 & 0.9705301 & 0.7155995\\\\\n",
       "\t 77 &  35 & 0.5018257 & 0.9105502 & 0.7061880\\\\\n",
       "\t 77 &  46 & 0.4356501 & 0.9747818 & 0.7052159\\\\\n",
       "\t 77 &  27 & 0.5544333 & 0.8549272 & 0.7046802\\\\\n",
       "\t 77 & 131 & 0.4032990 & 0.9749592 & 0.6891291\\\\\n",
       "\t 77 &  71 & 0.9141060 & 0.4537816 & 0.6839438\\\\\n",
       "\t 77 & 145 & 0.4306424 & 0.9368768 & 0.6837596\\\\\n",
       "\t 77 & 264 & 0.3938364 & 0.9664660 & 0.6801512\\\\\n",
       "\t 77 & 151 & 0.4113130 & 0.9285680 & 0.6699405\\\\\n",
       "\t 77 & 195 & 0.3780449 & 0.9591473 & 0.6685961\\\\\n",
       "\t 77 & 176 & 0.3691206 & 0.9643896 & 0.6667551\\\\\n",
       "\t 77 & 202 & 0.5349696 & 0.7973091 & 0.6661394\\\\\n",
       "\t 77 & 205 & 0.3565101 & 0.9723667 & 0.6644384\\\\\n",
       "\t 77 & 268 & 0.3447571 & 0.9607852 & 0.6527712\\\\\n",
       "\t ... & ... & ... & ... & ...\\\\\n",
       "\t 77 &  49 & -0.2373630 & 0.3546084 &  0.058622684\\\\\n",
       "\t 77 & 242 & -0.6926643 & 0.8097966 &  0.058566134\\\\\n",
       "\t 77 & 186 & -0.8202139 & 0.9371006 &  0.058443366\\\\\n",
       "\t 77 & 104 & -0.4089696 & 0.5214802 &  0.056255304\\\\\n",
       "\t 77 & 129 & -0.4529198 & 0.5521541 &  0.049617183\\\\\n",
       "\t 77 & 225 & -0.4170938 & 0.5127414 &  0.047823786\\\\\n",
       "\t 77 &  97 & -0.3989686 & 0.4929226 &  0.046976960\\\\\n",
       "\t 77 &  67 & -0.4452270 & 0.5228072 &  0.038790097\\\\\n",
       "\t 77 & 125 & -0.2330665 & 0.3009422 &  0.033937884\\\\\n",
       "\t 77 & 244 & -0.7745129 & 0.8319823 &  0.028734697\\\\\n",
       "\t 77 & 180 & -0.4447771 & 0.4958254 &  0.025524154\\\\\n",
       "\t 77 & 261 & -0.2465929 & 0.2807964 &  0.017101757\\\\\n",
       "\t 77 &  88 & -0.1141987 & 0.1476075 &  0.016704401\\\\\n",
       "\t 77 & 227 & -0.4574275 & 0.4873566 &  0.014964556\\\\\n",
       "\t 77 & 147 & -0.5379945 & 0.5600254 &  0.011015411\\\\\n",
       "\t 77 & 172 & -0.4935916 & 0.5133446 &  0.009876494\\\\\n",
       "\t 77 & 114 & -0.4396363 & 0.4577496 &  0.009056645\\\\\n",
       "\t 77 &  80 & -0.4054377 & 0.4169541 &  0.005758211\\\\\n",
       "\t 77 & 179 & -0.4694154 & 0.4439293 & -0.012743068\\\\\n",
       "\t 77 &  95 & -0.3325497 & 0.2965540 & -0.017997858\\\\\n",
       "\t 77 & 238 & -0.3241948 & 0.2734532 & -0.025370788\\\\\n",
       "\t 77 & 102 & -0.5508337 & 0.4885443 & -0.031144706\\\\\n",
       "\t 77 &   4 & -0.2632996 & 0.1771353 & -0.043082154\\\\\n",
       "\t 77 &  19 & -0.6779291 & 0.5847627 & -0.046583204\\\\\n",
       "\t 77 & 138 & -0.5851740 & 0.4913360 & -0.046919028\\\\\n",
       "\t 77 & 247 & -0.6310496 & 0.5263807 & -0.052334463\\\\\n",
       "\t 77 &  24 & -0.7181123 & 0.5908516 & -0.063630353\\\\\n",
       "\t 77 & 201 & -0.4109081 & 0.2809523 & -0.064977859\\\\\n",
       "\t 77 &  55 & -0.6667816 & 0.4693768 & -0.098702408\\\\\n",
       "\t 77 &  75 & -0.8067514 & 0.3061880 & -0.250281705\\\\\n",
       "\\end{tabular}\n"
      ],
      "text/markdown": [
       "\n",
       "A data.table: 260 × 5\n",
       "\n",
       "| Store1 &lt;dbl&gt; | Store2 &lt;dbl&gt; | corr_measure &lt;dbl&gt; | mag_measure &lt;dbl&gt; | scoreNSales &lt;dbl&gt; |\n",
       "|---|---|---|---|---|\n",
       "| 77 |  77 | 1.0000000 | 1.0000000 | 1.0000000 |\n",
       "| 77 | 233 | 0.9037742 | 0.9852649 | 0.9445195 |\n",
       "| 77 |  41 | 0.7832319 | 0.9651401 | 0.8741860 |\n",
       "| 77 |  50 | 0.7638658 | 0.9731293 | 0.8684976 |\n",
       "| 77 |  17 | 0.8426684 | 0.8806882 | 0.8616783 |\n",
       "| 77 | 115 | 0.6891588 | 0.9328321 | 0.8109955 |\n",
       "| 77 | 167 | 0.6571104 | 0.9591332 | 0.8081218 |\n",
       "| 77 | 265 | 0.6397594 | 0.9626629 | 0.8012111 |\n",
       "| 77 | 234 | 0.6963248 | 0.8903392 | 0.7933320 |\n",
       "| 77 |  84 | 0.6843478 | 0.8300852 | 0.7572165 |\n",
       "| 77 |  53 | 0.5327640 | 0.9754223 | 0.7540932 |\n",
       "| 77 | 254 | 0.5771085 | 0.9227714 | 0.7499399 |\n",
       "| 77 | 111 | 0.5194727 | 0.9654657 | 0.7424692 |\n",
       "| 77 |  20 | 0.5173500 | 0.9637886 | 0.7405693 |\n",
       "| 77 | 192 | 0.6250302 | 0.8394839 | 0.7322570 |\n",
       "| 77 | 121 | 0.5085674 | 0.9437334 | 0.7261504 |\n",
       "| 77 | 187 | 0.4606688 | 0.9705301 | 0.7155995 |\n",
       "| 77 |  35 | 0.5018257 | 0.9105502 | 0.7061880 |\n",
       "| 77 |  46 | 0.4356501 | 0.9747818 | 0.7052159 |\n",
       "| 77 |  27 | 0.5544333 | 0.8549272 | 0.7046802 |\n",
       "| 77 | 131 | 0.4032990 | 0.9749592 | 0.6891291 |\n",
       "| 77 |  71 | 0.9141060 | 0.4537816 | 0.6839438 |\n",
       "| 77 | 145 | 0.4306424 | 0.9368768 | 0.6837596 |\n",
       "| 77 | 264 | 0.3938364 | 0.9664660 | 0.6801512 |\n",
       "| 77 | 151 | 0.4113130 | 0.9285680 | 0.6699405 |\n",
       "| 77 | 195 | 0.3780449 | 0.9591473 | 0.6685961 |\n",
       "| 77 | 176 | 0.3691206 | 0.9643896 | 0.6667551 |\n",
       "| 77 | 202 | 0.5349696 | 0.7973091 | 0.6661394 |\n",
       "| 77 | 205 | 0.3565101 | 0.9723667 | 0.6644384 |\n",
       "| 77 | 268 | 0.3447571 | 0.9607852 | 0.6527712 |\n",
       "| ... | ... | ... | ... | ... |\n",
       "| 77 |  49 | -0.2373630 | 0.3546084 |  0.058622684 |\n",
       "| 77 | 242 | -0.6926643 | 0.8097966 |  0.058566134 |\n",
       "| 77 | 186 | -0.8202139 | 0.9371006 |  0.058443366 |\n",
       "| 77 | 104 | -0.4089696 | 0.5214802 |  0.056255304 |\n",
       "| 77 | 129 | -0.4529198 | 0.5521541 |  0.049617183 |\n",
       "| 77 | 225 | -0.4170938 | 0.5127414 |  0.047823786 |\n",
       "| 77 |  97 | -0.3989686 | 0.4929226 |  0.046976960 |\n",
       "| 77 |  67 | -0.4452270 | 0.5228072 |  0.038790097 |\n",
       "| 77 | 125 | -0.2330665 | 0.3009422 |  0.033937884 |\n",
       "| 77 | 244 | -0.7745129 | 0.8319823 |  0.028734697 |\n",
       "| 77 | 180 | -0.4447771 | 0.4958254 |  0.025524154 |\n",
       "| 77 | 261 | -0.2465929 | 0.2807964 |  0.017101757 |\n",
       "| 77 |  88 | -0.1141987 | 0.1476075 |  0.016704401 |\n",
       "| 77 | 227 | -0.4574275 | 0.4873566 |  0.014964556 |\n",
       "| 77 | 147 | -0.5379945 | 0.5600254 |  0.011015411 |\n",
       "| 77 | 172 | -0.4935916 | 0.5133446 |  0.009876494 |\n",
       "| 77 | 114 | -0.4396363 | 0.4577496 |  0.009056645 |\n",
       "| 77 |  80 | -0.4054377 | 0.4169541 |  0.005758211 |\n",
       "| 77 | 179 | -0.4694154 | 0.4439293 | -0.012743068 |\n",
       "| 77 |  95 | -0.3325497 | 0.2965540 | -0.017997858 |\n",
       "| 77 | 238 | -0.3241948 | 0.2734532 | -0.025370788 |\n",
       "| 77 | 102 | -0.5508337 | 0.4885443 | -0.031144706 |\n",
       "| 77 |   4 | -0.2632996 | 0.1771353 | -0.043082154 |\n",
       "| 77 |  19 | -0.6779291 | 0.5847627 | -0.046583204 |\n",
       "| 77 | 138 | -0.5851740 | 0.4913360 | -0.046919028 |\n",
       "| 77 | 247 | -0.6310496 | 0.5263807 | -0.052334463 |\n",
       "| 77 |  24 | -0.7181123 | 0.5908516 | -0.063630353 |\n",
       "| 77 | 201 | -0.4109081 | 0.2809523 | -0.064977859 |\n",
       "| 77 |  55 | -0.6667816 | 0.4693768 | -0.098702408 |\n",
       "| 77 |  75 | -0.8067514 | 0.3061880 | -0.250281705 |\n",
       "\n"
      ],
      "text/plain": [
       "    Store1 Store2 corr_measure mag_measure scoreNSales \n",
       "1   77      77    1.0000000    1.0000000   1.0000000   \n",
       "2   77     233    0.9037742    0.9852649   0.9445195   \n",
       "3   77      41    0.7832319    0.9651401   0.8741860   \n",
       "4   77      50    0.7638658    0.9731293   0.8684976   \n",
       "5   77      17    0.8426684    0.8806882   0.8616783   \n",
       "6   77     115    0.6891588    0.9328321   0.8109955   \n",
       "7   77     167    0.6571104    0.9591332   0.8081218   \n",
       "8   77     265    0.6397594    0.9626629   0.8012111   \n",
       "9   77     234    0.6963248    0.8903392   0.7933320   \n",
       "10  77      84    0.6843478    0.8300852   0.7572165   \n",
       "11  77      53    0.5327640    0.9754223   0.7540932   \n",
       "12  77     254    0.5771085    0.9227714   0.7499399   \n",
       "13  77     111    0.5194727    0.9654657   0.7424692   \n",
       "14  77      20    0.5173500    0.9637886   0.7405693   \n",
       "15  77     192    0.6250302    0.8394839   0.7322570   \n",
       "16  77     121    0.5085674    0.9437334   0.7261504   \n",
       "17  77     187    0.4606688    0.9705301   0.7155995   \n",
       "18  77      35    0.5018257    0.9105502   0.7061880   \n",
       "19  77      46    0.4356501    0.9747818   0.7052159   \n",
       "20  77      27    0.5544333    0.8549272   0.7046802   \n",
       "21  77     131    0.4032990    0.9749592   0.6891291   \n",
       "22  77      71    0.9141060    0.4537816   0.6839438   \n",
       "23  77     145    0.4306424    0.9368768   0.6837596   \n",
       "24  77     264    0.3938364    0.9664660   0.6801512   \n",
       "25  77     151    0.4113130    0.9285680   0.6699405   \n",
       "26  77     195    0.3780449    0.9591473   0.6685961   \n",
       "27  77     176    0.3691206    0.9643896   0.6667551   \n",
       "28  77     202    0.5349696    0.7973091   0.6661394   \n",
       "29  77     205    0.3565101    0.9723667   0.6644384   \n",
       "30  77     268    0.3447571    0.9607852   0.6527712   \n",
       "... ...    ...    ...          ...         ...         \n",
       "231 77      49    -0.2373630   0.3546084    0.058622684\n",
       "232 77     242    -0.6926643   0.8097966    0.058566134\n",
       "233 77     186    -0.8202139   0.9371006    0.058443366\n",
       "234 77     104    -0.4089696   0.5214802    0.056255304\n",
       "235 77     129    -0.4529198   0.5521541    0.049617183\n",
       "236 77     225    -0.4170938   0.5127414    0.047823786\n",
       "237 77      97    -0.3989686   0.4929226    0.046976960\n",
       "238 77      67    -0.4452270   0.5228072    0.038790097\n",
       "239 77     125    -0.2330665   0.3009422    0.033937884\n",
       "240 77     244    -0.7745129   0.8319823    0.028734697\n",
       "241 77     180    -0.4447771   0.4958254    0.025524154\n",
       "242 77     261    -0.2465929   0.2807964    0.017101757\n",
       "243 77      88    -0.1141987   0.1476075    0.016704401\n",
       "244 77     227    -0.4574275   0.4873566    0.014964556\n",
       "245 77     147    -0.5379945   0.5600254    0.011015411\n",
       "246 77     172    -0.4935916   0.5133446    0.009876494\n",
       "247 77     114    -0.4396363   0.4577496    0.009056645\n",
       "248 77      80    -0.4054377   0.4169541    0.005758211\n",
       "249 77     179    -0.4694154   0.4439293   -0.012743068\n",
       "250 77      95    -0.3325497   0.2965540   -0.017997858\n",
       "251 77     238    -0.3241948   0.2734532   -0.025370788\n",
       "252 77     102    -0.5508337   0.4885443   -0.031144706\n",
       "253 77       4    -0.2632996   0.1771353   -0.043082154\n",
       "254 77      19    -0.6779291   0.5847627   -0.046583204\n",
       "255 77     138    -0.5851740   0.4913360   -0.046919028\n",
       "256 77     247    -0.6310496   0.5263807   -0.052334463\n",
       "257 77      24    -0.7181123   0.5908516   -0.063630353\n",
       "258 77     201    -0.4109081   0.2809523   -0.064977859\n",
       "259 77      55    -0.6667816   0.4693768   -0.098702408\n",
       "260 77      75    -0.8067514   0.3061880   -0.250281705"
      ]
     },
     "metadata": {},
     "output_type": "display_data"
    }
   ],
   "source": [
    "score_nSales[order(-scoreNSales)]"
   ]
  },
  {
   "cell_type": "code",
   "execution_count": 15,
   "metadata": {
    "vscode": {
     "languageId": "r"
    }
   },
   "outputs": [
    {
     "data": {
      "text/html": [
       "<table class=\"dataframe\">\n",
       "<caption>A data.table: 260 × 5</caption>\n",
       "<thead>\n",
       "\t<tr><th scope=col>Store1</th><th scope=col>Store2</th><th scope=col>corr_measure</th><th scope=col>mag_measure</th><th scope=col>scoreNCust</th></tr>\n",
       "\t<tr><th scope=col>&lt;dbl&gt;</th><th scope=col>&lt;dbl&gt;</th><th scope=col>&lt;dbl&gt;</th><th scope=col>&lt;dbl&gt;</th><th scope=col>&lt;dbl&gt;</th></tr>\n",
       "</thead>\n",
       "<tbody>\n",
       "\t<tr><td>77</td><td> 77</td><td>1.0000000</td><td>1.0000000</td><td>1.0000000</td></tr>\n",
       "\t<tr><td>77</td><td>233</td><td>0.9903578</td><td>0.9927733</td><td>0.9915655</td></tr>\n",
       "\t<tr><td>77</td><td>254</td><td>0.9162084</td><td>0.9371312</td><td>0.9266698</td></tr>\n",
       "\t<tr><td>77</td><td> 41</td><td>0.8442195</td><td>0.9746392</td><td>0.9094294</td></tr>\n",
       "\t<tr><td>77</td><td> 84</td><td>0.8585712</td><td>0.9241818</td><td>0.8913765</td></tr>\n",
       "\t<tr><td>77</td><td> 17</td><td>0.7473078</td><td>0.9624953</td><td>0.8549015</td></tr>\n",
       "\t<tr><td>77</td><td>115</td><td>0.7188818</td><td>0.9659160</td><td>0.8423989</td></tr>\n",
       "\t<tr><td>77</td><td> 35</td><td>0.7746471</td><td>0.9069267</td><td>0.8407869</td></tr>\n",
       "\t<tr><td>77</td><td>167</td><td>0.7179126</td><td>0.9493491</td><td>0.8336309</td></tr>\n",
       "\t<tr><td>77</td><td>111</td><td>0.6859257</td><td>0.9660641</td><td>0.8259949</td></tr>\n",
       "\t<tr><td>77</td><td>145</td><td>0.6811551</td><td>0.9542009</td><td>0.8176780</td></tr>\n",
       "\t<tr><td>77</td><td> 27</td><td>0.6863864</td><td>0.9488624</td><td>0.8176244</td></tr>\n",
       "\t<tr><td>77</td><td>248</td><td>0.7328657</td><td>0.8789659</td><td>0.8059158</td></tr>\n",
       "\t<tr><td>77</td><td> 53</td><td>0.6026804</td><td>0.9577633</td><td>0.7802218</td></tr>\n",
       "\t<tr><td>77</td><td> 50</td><td>0.6073908</td><td>0.9250762</td><td>0.7662335</td></tr>\n",
       "\t<tr><td>77</td><td>234</td><td>0.5823555</td><td>0.9447935</td><td>0.7635745</td></tr>\n",
       "\t<tr><td>77</td><td>265</td><td>0.5734604</td><td>0.9479016</td><td>0.7606810</td></tr>\n",
       "\t<tr><td>77</td><td> 46</td><td>0.5507395</td><td>0.9607565</td><td>0.7557480</td></tr>\n",
       "\t<tr><td>77</td><td> 37</td><td>0.4940162</td><td>0.9237633</td><td>0.7088898</td></tr>\n",
       "\t<tr><td>77</td><td>119</td><td>0.9832666</td><td>0.4266213</td><td>0.7049440</td></tr>\n",
       "\t<tr><td>77</td><td>195</td><td>0.4708840</td><td>0.9257580</td><td>0.6983210</td></tr>\n",
       "\t<tr><td>77</td><td>187</td><td>0.4721939</td><td>0.9100329</td><td>0.6911134</td></tr>\n",
       "\t<tr><td>77</td><td>264</td><td>0.4312937</td><td>0.9399269</td><td>0.6856103</td></tr>\n",
       "\t<tr><td>77</td><td> 64</td><td>0.4017273</td><td>0.9507338</td><td>0.6762306</td></tr>\n",
       "\t<tr><td>77</td><td> 20</td><td>0.4092864</td><td>0.9370057</td><td>0.6731461</td></tr>\n",
       "\t<tr><td>77</td><td>121</td><td>0.4222581</td><td>0.9201625</td><td>0.6712103</td></tr>\n",
       "\t<tr><td>77</td><td> 14</td><td>0.7148412</td><td>0.6265819</td><td>0.6707116</td></tr>\n",
       "\t<tr><td>77</td><td>113</td><td>0.9013480</td><td>0.4197212</td><td>0.6605346</td></tr>\n",
       "\t<tr><td>77</td><td>268</td><td>0.3695170</td><td>0.9399068</td><td>0.6547119</td></tr>\n",
       "\t<tr><td>77</td><td>202</td><td>0.3738307</td><td>0.8966082</td><td>0.6352195</td></tr>\n",
       "\t<tr><td>...</td><td>...</td><td>...</td><td>...</td><td>...</td></tr>\n",
       "\t<tr><td>77</td><td> 49</td><td>-0.2318959</td><td>0.3730064</td><td> 7.055525e-02</td></tr>\n",
       "\t<tr><td>77</td><td>116</td><td>-0.3058060</td><td>0.4394444</td><td> 6.681924e-02</td></tr>\n",
       "\t<tr><td>77</td><td> 54</td><td>-0.7606047</td><td>0.8921440</td><td> 6.576965e-02</td></tr>\n",
       "\t<tr><td>77</td><td>155</td><td>-0.3156804</td><td>0.4164494</td><td> 5.038450e-02</td></tr>\n",
       "\t<tr><td>77</td><td> 24</td><td>-0.4252580</td><td>0.5167814</td><td> 4.576168e-02</td></tr>\n",
       "\t<tr><td>77</td><td> 95</td><td>-0.1877498</td><td>0.2767255</td><td> 4.448788e-02</td></tr>\n",
       "\t<tr><td>77</td><td>  9</td><td>-0.7856990</td><td>0.8508400</td><td> 3.257048e-02</td></tr>\n",
       "\t<tr><td>77</td><td>172</td><td>-0.3965076</td><td>0.4528275</td><td> 2.815993e-02</td></tr>\n",
       "\t<tr><td>77</td><td>258</td><td>-0.5457131</td><td>0.5981580</td><td> 2.622244e-02</td></tr>\n",
       "\t<tr><td>77</td><td>165</td><td>-0.1265906</td><td>0.1738444</td><td> 2.362692e-02</td></tr>\n",
       "\t<tr><td>77</td><td>  7</td><td>-0.3109767</td><td>0.3562471</td><td> 2.263521e-02</td></tr>\n",
       "\t<tr><td>77</td><td> 80</td><td>-0.3299840</td><td>0.3681868</td><td> 1.910139e-02</td></tr>\n",
       "\t<tr><td>77</td><td>231</td><td>-0.2824438</td><td>0.3154430</td><td> 1.649961e-02</td></tr>\n",
       "\t<tr><td>77</td><td>208</td><td>-0.5439011</td><td>0.5437112</td><td>-9.495985e-05</td></tr>\n",
       "\t<tr><td>77</td><td>114</td><td>-0.3530716</td><td>0.3503737</td><td>-1.348945e-03</td></tr>\n",
       "\t<tr><td>77</td><td>125</td><td>-0.2829964</td><td>0.2746051</td><td>-4.195656e-03</td></tr>\n",
       "\t<tr><td>77</td><td> 55</td><td>-0.3954735</td><td>0.3797372</td><td>-7.868115e-03</td></tr>\n",
       "\t<tr><td>77</td><td>267</td><td>-0.6487111</td><td>0.6155288</td><td>-1.659114e-02</td></tr>\n",
       "\t<tr><td>77</td><td> 19</td><td>-0.6334531</td><td>0.5322675</td><td>-5.059285e-02</td></tr>\n",
       "\t<tr><td>77</td><td>  4</td><td>-0.2956387</td><td>0.1895787</td><td>-5.303001e-02</td></tr>\n",
       "\t<tr><td>77</td><td>179</td><td>-0.5058964</td><td>0.3933774</td><td>-5.625947e-02</td></tr>\n",
       "\t<tr><td>77</td><td>133</td><td>-0.4081595</td><td>0.2901251</td><td>-5.901720e-02</td></tr>\n",
       "\t<tr><td>77</td><td>269</td><td>-0.4742925</td><td>0.3435465</td><td>-6.537299e-02</td></tr>\n",
       "\t<tr><td>77</td><td> 67</td><td>-0.5480536</td><td>0.4025666</td><td>-7.274347e-02</td></tr>\n",
       "\t<tr><td>77</td><td>138</td><td>-0.5348775</td><td>0.3874739</td><td>-7.370181e-02</td></tr>\n",
       "\t<tr><td>77</td><td>147</td><td>-0.6569333</td><td>0.4991028</td><td>-7.891525e-02</td></tr>\n",
       "\t<tr><td>77</td><td>247</td><td>-0.6210342</td><td>0.4278646</td><td>-9.658482e-02</td></tr>\n",
       "\t<tr><td>77</td><td>227</td><td>-0.6237974</td><td>0.3923204</td><td>-1.157385e-01</td></tr>\n",
       "\t<tr><td>77</td><td> 75</td><td>-0.5907354</td><td>0.3360498</td><td>-1.273428e-01</td></tr>\n",
       "\t<tr><td>77</td><td>102</td><td>-0.6525273</td><td>0.3968462</td><td>-1.278406e-01</td></tr>\n",
       "</tbody>\n",
       "</table>\n"
      ],
      "text/latex": [
       "A data.table: 260 × 5\n",
       "\\begin{tabular}{lllll}\n",
       " Store1 & Store2 & corr\\_measure & mag\\_measure & scoreNCust\\\\\n",
       " <dbl> & <dbl> & <dbl> & <dbl> & <dbl>\\\\\n",
       "\\hline\n",
       "\t 77 &  77 & 1.0000000 & 1.0000000 & 1.0000000\\\\\n",
       "\t 77 & 233 & 0.9903578 & 0.9927733 & 0.9915655\\\\\n",
       "\t 77 & 254 & 0.9162084 & 0.9371312 & 0.9266698\\\\\n",
       "\t 77 &  41 & 0.8442195 & 0.9746392 & 0.9094294\\\\\n",
       "\t 77 &  84 & 0.8585712 & 0.9241818 & 0.8913765\\\\\n",
       "\t 77 &  17 & 0.7473078 & 0.9624953 & 0.8549015\\\\\n",
       "\t 77 & 115 & 0.7188818 & 0.9659160 & 0.8423989\\\\\n",
       "\t 77 &  35 & 0.7746471 & 0.9069267 & 0.8407869\\\\\n",
       "\t 77 & 167 & 0.7179126 & 0.9493491 & 0.8336309\\\\\n",
       "\t 77 & 111 & 0.6859257 & 0.9660641 & 0.8259949\\\\\n",
       "\t 77 & 145 & 0.6811551 & 0.9542009 & 0.8176780\\\\\n",
       "\t 77 &  27 & 0.6863864 & 0.9488624 & 0.8176244\\\\\n",
       "\t 77 & 248 & 0.7328657 & 0.8789659 & 0.8059158\\\\\n",
       "\t 77 &  53 & 0.6026804 & 0.9577633 & 0.7802218\\\\\n",
       "\t 77 &  50 & 0.6073908 & 0.9250762 & 0.7662335\\\\\n",
       "\t 77 & 234 & 0.5823555 & 0.9447935 & 0.7635745\\\\\n",
       "\t 77 & 265 & 0.5734604 & 0.9479016 & 0.7606810\\\\\n",
       "\t 77 &  46 & 0.5507395 & 0.9607565 & 0.7557480\\\\\n",
       "\t 77 &  37 & 0.4940162 & 0.9237633 & 0.7088898\\\\\n",
       "\t 77 & 119 & 0.9832666 & 0.4266213 & 0.7049440\\\\\n",
       "\t 77 & 195 & 0.4708840 & 0.9257580 & 0.6983210\\\\\n",
       "\t 77 & 187 & 0.4721939 & 0.9100329 & 0.6911134\\\\\n",
       "\t 77 & 264 & 0.4312937 & 0.9399269 & 0.6856103\\\\\n",
       "\t 77 &  64 & 0.4017273 & 0.9507338 & 0.6762306\\\\\n",
       "\t 77 &  20 & 0.4092864 & 0.9370057 & 0.6731461\\\\\n",
       "\t 77 & 121 & 0.4222581 & 0.9201625 & 0.6712103\\\\\n",
       "\t 77 &  14 & 0.7148412 & 0.6265819 & 0.6707116\\\\\n",
       "\t 77 & 113 & 0.9013480 & 0.4197212 & 0.6605346\\\\\n",
       "\t 77 & 268 & 0.3695170 & 0.9399068 & 0.6547119\\\\\n",
       "\t 77 & 202 & 0.3738307 & 0.8966082 & 0.6352195\\\\\n",
       "\t ... & ... & ... & ... & ...\\\\\n",
       "\t 77 &  49 & -0.2318959 & 0.3730064 &  7.055525e-02\\\\\n",
       "\t 77 & 116 & -0.3058060 & 0.4394444 &  6.681924e-02\\\\\n",
       "\t 77 &  54 & -0.7606047 & 0.8921440 &  6.576965e-02\\\\\n",
       "\t 77 & 155 & -0.3156804 & 0.4164494 &  5.038450e-02\\\\\n",
       "\t 77 &  24 & -0.4252580 & 0.5167814 &  4.576168e-02\\\\\n",
       "\t 77 &  95 & -0.1877498 & 0.2767255 &  4.448788e-02\\\\\n",
       "\t 77 &   9 & -0.7856990 & 0.8508400 &  3.257048e-02\\\\\n",
       "\t 77 & 172 & -0.3965076 & 0.4528275 &  2.815993e-02\\\\\n",
       "\t 77 & 258 & -0.5457131 & 0.5981580 &  2.622244e-02\\\\\n",
       "\t 77 & 165 & -0.1265906 & 0.1738444 &  2.362692e-02\\\\\n",
       "\t 77 &   7 & -0.3109767 & 0.3562471 &  2.263521e-02\\\\\n",
       "\t 77 &  80 & -0.3299840 & 0.3681868 &  1.910139e-02\\\\\n",
       "\t 77 & 231 & -0.2824438 & 0.3154430 &  1.649961e-02\\\\\n",
       "\t 77 & 208 & -0.5439011 & 0.5437112 & -9.495985e-05\\\\\n",
       "\t 77 & 114 & -0.3530716 & 0.3503737 & -1.348945e-03\\\\\n",
       "\t 77 & 125 & -0.2829964 & 0.2746051 & -4.195656e-03\\\\\n",
       "\t 77 &  55 & -0.3954735 & 0.3797372 & -7.868115e-03\\\\\n",
       "\t 77 & 267 & -0.6487111 & 0.6155288 & -1.659114e-02\\\\\n",
       "\t 77 &  19 & -0.6334531 & 0.5322675 & -5.059285e-02\\\\\n",
       "\t 77 &   4 & -0.2956387 & 0.1895787 & -5.303001e-02\\\\\n",
       "\t 77 & 179 & -0.5058964 & 0.3933774 & -5.625947e-02\\\\\n",
       "\t 77 & 133 & -0.4081595 & 0.2901251 & -5.901720e-02\\\\\n",
       "\t 77 & 269 & -0.4742925 & 0.3435465 & -6.537299e-02\\\\\n",
       "\t 77 &  67 & -0.5480536 & 0.4025666 & -7.274347e-02\\\\\n",
       "\t 77 & 138 & -0.5348775 & 0.3874739 & -7.370181e-02\\\\\n",
       "\t 77 & 147 & -0.6569333 & 0.4991028 & -7.891525e-02\\\\\n",
       "\t 77 & 247 & -0.6210342 & 0.4278646 & -9.658482e-02\\\\\n",
       "\t 77 & 227 & -0.6237974 & 0.3923204 & -1.157385e-01\\\\\n",
       "\t 77 &  75 & -0.5907354 & 0.3360498 & -1.273428e-01\\\\\n",
       "\t 77 & 102 & -0.6525273 & 0.3968462 & -1.278406e-01\\\\\n",
       "\\end{tabular}\n"
      ],
      "text/markdown": [
       "\n",
       "A data.table: 260 × 5\n",
       "\n",
       "| Store1 &lt;dbl&gt; | Store2 &lt;dbl&gt; | corr_measure &lt;dbl&gt; | mag_measure &lt;dbl&gt; | scoreNCust &lt;dbl&gt; |\n",
       "|---|---|---|---|---|\n",
       "| 77 |  77 | 1.0000000 | 1.0000000 | 1.0000000 |\n",
       "| 77 | 233 | 0.9903578 | 0.9927733 | 0.9915655 |\n",
       "| 77 | 254 | 0.9162084 | 0.9371312 | 0.9266698 |\n",
       "| 77 |  41 | 0.8442195 | 0.9746392 | 0.9094294 |\n",
       "| 77 |  84 | 0.8585712 | 0.9241818 | 0.8913765 |\n",
       "| 77 |  17 | 0.7473078 | 0.9624953 | 0.8549015 |\n",
       "| 77 | 115 | 0.7188818 | 0.9659160 | 0.8423989 |\n",
       "| 77 |  35 | 0.7746471 | 0.9069267 | 0.8407869 |\n",
       "| 77 | 167 | 0.7179126 | 0.9493491 | 0.8336309 |\n",
       "| 77 | 111 | 0.6859257 | 0.9660641 | 0.8259949 |\n",
       "| 77 | 145 | 0.6811551 | 0.9542009 | 0.8176780 |\n",
       "| 77 |  27 | 0.6863864 | 0.9488624 | 0.8176244 |\n",
       "| 77 | 248 | 0.7328657 | 0.8789659 | 0.8059158 |\n",
       "| 77 |  53 | 0.6026804 | 0.9577633 | 0.7802218 |\n",
       "| 77 |  50 | 0.6073908 | 0.9250762 | 0.7662335 |\n",
       "| 77 | 234 | 0.5823555 | 0.9447935 | 0.7635745 |\n",
       "| 77 | 265 | 0.5734604 | 0.9479016 | 0.7606810 |\n",
       "| 77 |  46 | 0.5507395 | 0.9607565 | 0.7557480 |\n",
       "| 77 |  37 | 0.4940162 | 0.9237633 | 0.7088898 |\n",
       "| 77 | 119 | 0.9832666 | 0.4266213 | 0.7049440 |\n",
       "| 77 | 195 | 0.4708840 | 0.9257580 | 0.6983210 |\n",
       "| 77 | 187 | 0.4721939 | 0.9100329 | 0.6911134 |\n",
       "| 77 | 264 | 0.4312937 | 0.9399269 | 0.6856103 |\n",
       "| 77 |  64 | 0.4017273 | 0.9507338 | 0.6762306 |\n",
       "| 77 |  20 | 0.4092864 | 0.9370057 | 0.6731461 |\n",
       "| 77 | 121 | 0.4222581 | 0.9201625 | 0.6712103 |\n",
       "| 77 |  14 | 0.7148412 | 0.6265819 | 0.6707116 |\n",
       "| 77 | 113 | 0.9013480 | 0.4197212 | 0.6605346 |\n",
       "| 77 | 268 | 0.3695170 | 0.9399068 | 0.6547119 |\n",
       "| 77 | 202 | 0.3738307 | 0.8966082 | 0.6352195 |\n",
       "| ... | ... | ... | ... | ... |\n",
       "| 77 |  49 | -0.2318959 | 0.3730064 |  7.055525e-02 |\n",
       "| 77 | 116 | -0.3058060 | 0.4394444 |  6.681924e-02 |\n",
       "| 77 |  54 | -0.7606047 | 0.8921440 |  6.576965e-02 |\n",
       "| 77 | 155 | -0.3156804 | 0.4164494 |  5.038450e-02 |\n",
       "| 77 |  24 | -0.4252580 | 0.5167814 |  4.576168e-02 |\n",
       "| 77 |  95 | -0.1877498 | 0.2767255 |  4.448788e-02 |\n",
       "| 77 |   9 | -0.7856990 | 0.8508400 |  3.257048e-02 |\n",
       "| 77 | 172 | -0.3965076 | 0.4528275 |  2.815993e-02 |\n",
       "| 77 | 258 | -0.5457131 | 0.5981580 |  2.622244e-02 |\n",
       "| 77 | 165 | -0.1265906 | 0.1738444 |  2.362692e-02 |\n",
       "| 77 |   7 | -0.3109767 | 0.3562471 |  2.263521e-02 |\n",
       "| 77 |  80 | -0.3299840 | 0.3681868 |  1.910139e-02 |\n",
       "| 77 | 231 | -0.2824438 | 0.3154430 |  1.649961e-02 |\n",
       "| 77 | 208 | -0.5439011 | 0.5437112 | -9.495985e-05 |\n",
       "| 77 | 114 | -0.3530716 | 0.3503737 | -1.348945e-03 |\n",
       "| 77 | 125 | -0.2829964 | 0.2746051 | -4.195656e-03 |\n",
       "| 77 |  55 | -0.3954735 | 0.3797372 | -7.868115e-03 |\n",
       "| 77 | 267 | -0.6487111 | 0.6155288 | -1.659114e-02 |\n",
       "| 77 |  19 | -0.6334531 | 0.5322675 | -5.059285e-02 |\n",
       "| 77 |   4 | -0.2956387 | 0.1895787 | -5.303001e-02 |\n",
       "| 77 | 179 | -0.5058964 | 0.3933774 | -5.625947e-02 |\n",
       "| 77 | 133 | -0.4081595 | 0.2901251 | -5.901720e-02 |\n",
       "| 77 | 269 | -0.4742925 | 0.3435465 | -6.537299e-02 |\n",
       "| 77 |  67 | -0.5480536 | 0.4025666 | -7.274347e-02 |\n",
       "| 77 | 138 | -0.5348775 | 0.3874739 | -7.370181e-02 |\n",
       "| 77 | 147 | -0.6569333 | 0.4991028 | -7.891525e-02 |\n",
       "| 77 | 247 | -0.6210342 | 0.4278646 | -9.658482e-02 |\n",
       "| 77 | 227 | -0.6237974 | 0.3923204 | -1.157385e-01 |\n",
       "| 77 |  75 | -0.5907354 | 0.3360498 | -1.273428e-01 |\n",
       "| 77 | 102 | -0.6525273 | 0.3968462 | -1.278406e-01 |\n",
       "\n"
      ],
      "text/plain": [
       "    Store1 Store2 corr_measure mag_measure scoreNCust   \n",
       "1   77      77    1.0000000    1.0000000   1.0000000    \n",
       "2   77     233    0.9903578    0.9927733   0.9915655    \n",
       "3   77     254    0.9162084    0.9371312   0.9266698    \n",
       "4   77      41    0.8442195    0.9746392   0.9094294    \n",
       "5   77      84    0.8585712    0.9241818   0.8913765    \n",
       "6   77      17    0.7473078    0.9624953   0.8549015    \n",
       "7   77     115    0.7188818    0.9659160   0.8423989    \n",
       "8   77      35    0.7746471    0.9069267   0.8407869    \n",
       "9   77     167    0.7179126    0.9493491   0.8336309    \n",
       "10  77     111    0.6859257    0.9660641   0.8259949    \n",
       "11  77     145    0.6811551    0.9542009   0.8176780    \n",
       "12  77      27    0.6863864    0.9488624   0.8176244    \n",
       "13  77     248    0.7328657    0.8789659   0.8059158    \n",
       "14  77      53    0.6026804    0.9577633   0.7802218    \n",
       "15  77      50    0.6073908    0.9250762   0.7662335    \n",
       "16  77     234    0.5823555    0.9447935   0.7635745    \n",
       "17  77     265    0.5734604    0.9479016   0.7606810    \n",
       "18  77      46    0.5507395    0.9607565   0.7557480    \n",
       "19  77      37    0.4940162    0.9237633   0.7088898    \n",
       "20  77     119    0.9832666    0.4266213   0.7049440    \n",
       "21  77     195    0.4708840    0.9257580   0.6983210    \n",
       "22  77     187    0.4721939    0.9100329   0.6911134    \n",
       "23  77     264    0.4312937    0.9399269   0.6856103    \n",
       "24  77      64    0.4017273    0.9507338   0.6762306    \n",
       "25  77      20    0.4092864    0.9370057   0.6731461    \n",
       "26  77     121    0.4222581    0.9201625   0.6712103    \n",
       "27  77      14    0.7148412    0.6265819   0.6707116    \n",
       "28  77     113    0.9013480    0.4197212   0.6605346    \n",
       "29  77     268    0.3695170    0.9399068   0.6547119    \n",
       "30  77     202    0.3738307    0.8966082   0.6352195    \n",
       "... ...    ...    ...          ...         ...          \n",
       "231 77      49    -0.2318959   0.3730064    7.055525e-02\n",
       "232 77     116    -0.3058060   0.4394444    6.681924e-02\n",
       "233 77      54    -0.7606047   0.8921440    6.576965e-02\n",
       "234 77     155    -0.3156804   0.4164494    5.038450e-02\n",
       "235 77      24    -0.4252580   0.5167814    4.576168e-02\n",
       "236 77      95    -0.1877498   0.2767255    4.448788e-02\n",
       "237 77       9    -0.7856990   0.8508400    3.257048e-02\n",
       "238 77     172    -0.3965076   0.4528275    2.815993e-02\n",
       "239 77     258    -0.5457131   0.5981580    2.622244e-02\n",
       "240 77     165    -0.1265906   0.1738444    2.362692e-02\n",
       "241 77       7    -0.3109767   0.3562471    2.263521e-02\n",
       "242 77      80    -0.3299840   0.3681868    1.910139e-02\n",
       "243 77     231    -0.2824438   0.3154430    1.649961e-02\n",
       "244 77     208    -0.5439011   0.5437112   -9.495985e-05\n",
       "245 77     114    -0.3530716   0.3503737   -1.348945e-03\n",
       "246 77     125    -0.2829964   0.2746051   -4.195656e-03\n",
       "247 77      55    -0.3954735   0.3797372   -7.868115e-03\n",
       "248 77     267    -0.6487111   0.6155288   -1.659114e-02\n",
       "249 77      19    -0.6334531   0.5322675   -5.059285e-02\n",
       "250 77       4    -0.2956387   0.1895787   -5.303001e-02\n",
       "251 77     179    -0.5058964   0.3933774   -5.625947e-02\n",
       "252 77     133    -0.4081595   0.2901251   -5.901720e-02\n",
       "253 77     269    -0.4742925   0.3435465   -6.537299e-02\n",
       "254 77      67    -0.5480536   0.4025666   -7.274347e-02\n",
       "255 77     138    -0.5348775   0.3874739   -7.370181e-02\n",
       "256 77     147    -0.6569333   0.4991028   -7.891525e-02\n",
       "257 77     247    -0.6210342   0.4278646   -9.658482e-02\n",
       "258 77     227    -0.6237974   0.3923204   -1.157385e-01\n",
       "259 77      75    -0.5907354   0.3360498   -1.273428e-01\n",
       "260 77     102    -0.6525273   0.3968462   -1.278406e-01"
      ]
     },
     "metadata": {},
     "output_type": "display_data"
    }
   ],
   "source": [
    "score_nCustomers[order(-scoreNCust)]"
   ]
  },
  {
   "cell_type": "markdown",
   "metadata": {},
   "source": [
    "Now we have a score for each of total number of sales and number of customers.\n",
    "Let's combine the two via a simple average."
   ]
  },
  {
   "cell_type": "code",
   "execution_count": 16,
   "metadata": {
    "vscode": {
     "languageId": "r"
    }
   },
   "outputs": [],
   "source": [
    "score_Control <- merge(score_nSales, score_nCustomers, by = c(\"Store1\",\"Store2\"))\n",
    "score_Control[, finalControlScore := scoreNSales * 0.5 + scoreNCust * 0.5]"
   ]
  },
  {
   "cell_type": "code",
   "execution_count": 17,
   "metadata": {
    "vscode": {
     "languageId": "r"
    }
   },
   "outputs": [
    {
     "data": {
      "text/html": [
       "<table class=\"dataframe\">\n",
       "<caption>A data.table: 260 × 9</caption>\n",
       "<thead>\n",
       "\t<tr><th scope=col>Store1</th><th scope=col>Store2</th><th scope=col>corr_measure.x</th><th scope=col>mag_measure.x</th><th scope=col>scoreNSales</th><th scope=col>corr_measure.y</th><th scope=col>mag_measure.y</th><th scope=col>scoreNCust</th><th scope=col>finalControlScore</th></tr>\n",
       "\t<tr><th scope=col>&lt;dbl&gt;</th><th scope=col>&lt;dbl&gt;</th><th scope=col>&lt;dbl&gt;</th><th scope=col>&lt;dbl&gt;</th><th scope=col>&lt;dbl&gt;</th><th scope=col>&lt;dbl&gt;</th><th scope=col>&lt;dbl&gt;</th><th scope=col>&lt;dbl&gt;</th><th scope=col>&lt;dbl&gt;</th></tr>\n",
       "</thead>\n",
       "<tbody>\n",
       "\t<tr><td>77</td><td> 77</td><td>1.0000000</td><td>1.0000000</td><td>1.0000000</td><td>1.0000000</td><td>1.0000000</td><td>1.0000000</td><td>1.0000000</td></tr>\n",
       "\t<tr><td>77</td><td>233</td><td>0.9037742</td><td>0.9852649</td><td>0.9445195</td><td>0.9903578</td><td>0.9927733</td><td>0.9915655</td><td>0.9680425</td></tr>\n",
       "\t<tr><td>77</td><td> 41</td><td>0.7832319</td><td>0.9651401</td><td>0.8741860</td><td>0.8442195</td><td>0.9746392</td><td>0.9094294</td><td>0.8918077</td></tr>\n",
       "\t<tr><td>77</td><td> 17</td><td>0.8426684</td><td>0.8806882</td><td>0.8616783</td><td>0.7473078</td><td>0.9624953</td><td>0.8549015</td><td>0.8582899</td></tr>\n",
       "\t<tr><td>77</td><td>254</td><td>0.5771085</td><td>0.9227714</td><td>0.7499399</td><td>0.9162084</td><td>0.9371312</td><td>0.9266698</td><td>0.8383049</td></tr>\n",
       "\t<tr><td>77</td><td>115</td><td>0.6891588</td><td>0.9328321</td><td>0.8109955</td><td>0.7188818</td><td>0.9659160</td><td>0.8423989</td><td>0.8266972</td></tr>\n",
       "\t<tr><td>77</td><td> 84</td><td>0.6843478</td><td>0.8300852</td><td>0.7572165</td><td>0.8585712</td><td>0.9241818</td><td>0.8913765</td><td>0.8242965</td></tr>\n",
       "\t<tr><td>77</td><td>167</td><td>0.6571104</td><td>0.9591332</td><td>0.8081218</td><td>0.7179126</td><td>0.9493491</td><td>0.8336309</td><td>0.8208763</td></tr>\n",
       "\t<tr><td>77</td><td> 50</td><td>0.7638658</td><td>0.9731293</td><td>0.8684976</td><td>0.6073908</td><td>0.9250762</td><td>0.7662335</td><td>0.8173655</td></tr>\n",
       "\t<tr><td>77</td><td>111</td><td>0.5194727</td><td>0.9654657</td><td>0.7424692</td><td>0.6859257</td><td>0.9660641</td><td>0.8259949</td><td>0.7842320</td></tr>\n",
       "\t<tr><td>77</td><td>265</td><td>0.6397594</td><td>0.9626629</td><td>0.8012111</td><td>0.5734604</td><td>0.9479016</td><td>0.7606810</td><td>0.7809461</td></tr>\n",
       "\t<tr><td>77</td><td>234</td><td>0.6963248</td><td>0.8903392</td><td>0.7933320</td><td>0.5823555</td><td>0.9447935</td><td>0.7635745</td><td>0.7784533</td></tr>\n",
       "\t<tr><td>77</td><td> 35</td><td>0.5018257</td><td>0.9105502</td><td>0.7061880</td><td>0.7746471</td><td>0.9069267</td><td>0.8407869</td><td>0.7734874</td></tr>\n",
       "\t<tr><td>77</td><td> 53</td><td>0.5327640</td><td>0.9754223</td><td>0.7540932</td><td>0.6026804</td><td>0.9577633</td><td>0.7802218</td><td>0.7671575</td></tr>\n",
       "\t<tr><td>77</td><td> 27</td><td>0.5544333</td><td>0.8549272</td><td>0.7046802</td><td>0.6863864</td><td>0.9488624</td><td>0.8176244</td><td>0.7611523</td></tr>\n",
       "\t<tr><td>77</td><td>145</td><td>0.4306424</td><td>0.9368768</td><td>0.6837596</td><td>0.6811551</td><td>0.9542009</td><td>0.8176780</td><td>0.7507188</td></tr>\n",
       "\t<tr><td>77</td><td> 46</td><td>0.4356501</td><td>0.9747818</td><td>0.7052159</td><td>0.5507395</td><td>0.9607565</td><td>0.7557480</td><td>0.7304820</td></tr>\n",
       "\t<tr><td>77</td><td>248</td><td>0.3661524</td><td>0.8885953</td><td>0.6273739</td><td>0.7328657</td><td>0.8789659</td><td>0.8059158</td><td>0.7166448</td></tr>\n",
       "\t<tr><td>77</td><td> 20</td><td>0.5173500</td><td>0.9637886</td><td>0.7405693</td><td>0.4092864</td><td>0.9370057</td><td>0.6731461</td><td>0.7068577</td></tr>\n",
       "\t<tr><td>77</td><td>187</td><td>0.4606688</td><td>0.9705301</td><td>0.7155995</td><td>0.4721939</td><td>0.9100329</td><td>0.6911134</td><td>0.7033564</td></tr>\n",
       "\t<tr><td>77</td><td>121</td><td>0.5085674</td><td>0.9437334</td><td>0.7261504</td><td>0.4222581</td><td>0.9201625</td><td>0.6712103</td><td>0.6986803</td></tr>\n",
       "\t<tr><td>77</td><td>195</td><td>0.3780449</td><td>0.9591473</td><td>0.6685961</td><td>0.4708840</td><td>0.9257580</td><td>0.6983210</td><td>0.6834586</td></tr>\n",
       "\t<tr><td>77</td><td>264</td><td>0.3938364</td><td>0.9664660</td><td>0.6801512</td><td>0.4312937</td><td>0.9399269</td><td>0.6856103</td><td>0.6828807</td></tr>\n",
       "\t<tr><td>77</td><td> 37</td><td>0.4375957</td><td>0.8650393</td><td>0.6513175</td><td>0.4940162</td><td>0.9237633</td><td>0.7088898</td><td>0.6801036</td></tr>\n",
       "\t<tr><td>77</td><td>119</td><td>0.8676644</td><td>0.4341303</td><td>0.6508974</td><td>0.9832666</td><td>0.4266213</td><td>0.7049440</td><td>0.6779207</td></tr>\n",
       "\t<tr><td>77</td><td> 14</td><td>0.4355935</td><td>0.8432875</td><td>0.6394405</td><td>0.7148412</td><td>0.6265819</td><td>0.6707116</td><td>0.6550760</td></tr>\n",
       "\t<tr><td>77</td><td>268</td><td>0.3447571</td><td>0.9607852</td><td>0.6527712</td><td>0.3695170</td><td>0.9399068</td><td>0.6547119</td><td>0.6537415</td></tr>\n",
       "\t<tr><td>77</td><td>202</td><td>0.5349696</td><td>0.7973091</td><td>0.6661394</td><td>0.3738307</td><td>0.8966082</td><td>0.6352195</td><td>0.6506794</td></tr>\n",
       "\t<tr><td>77</td><td>205</td><td>0.3565101</td><td>0.9723667</td><td>0.6644384</td><td>0.2726114</td><td>0.9391392</td><td>0.6058753</td><td>0.6351568</td></tr>\n",
       "\t<tr><td>77</td><td>151</td><td>0.4113130</td><td>0.9285680</td><td>0.6699405</td><td>0.2674333</td><td>0.9065555</td><td>0.5869944</td><td>0.6284675</td></tr>\n",
       "\t<tr><td>...</td><td>...</td><td>...</td><td>...</td><td>...</td><td>...</td><td>...</td><td>...</td><td>...</td></tr>\n",
       "\t<tr><td>77</td><td>267</td><td>-0.4705143</td><td>0.8293633</td><td> 0.179424479</td><td>-0.64871112</td><td>0.6155288</td><td>-1.659114e-02</td><td> 0.081416670</td></tr>\n",
       "\t<tr><td>77</td><td>155</td><td>-0.3143641</td><td>0.4900639</td><td> 0.087849875</td><td>-0.31568036</td><td>0.4164494</td><td> 5.038450e-02</td><td> 0.069117189</td></tr>\n",
       "\t<tr><td>77</td><td>  9</td><td>-0.7029760</td><td>0.9097629</td><td> 0.103393443</td><td>-0.78569901</td><td>0.8508400</td><td> 3.257048e-02</td><td> 0.067981960</td></tr>\n",
       "\t<tr><td>77</td><td>180</td><td>-0.4447771</td><td>0.4958254</td><td> 0.025524154</td><td>-0.18164870</td><td>0.3981422</td><td> 1.082468e-01</td><td> 0.066885453</td></tr>\n",
       "\t<tr><td>77</td><td>244</td><td>-0.7745129</td><td>0.8319823</td><td> 0.028734697</td><td>-0.39904387</td><td>0.6045414</td><td> 1.027488e-01</td><td> 0.065741728</td></tr>\n",
       "\t<tr><td>77</td><td> 49</td><td>-0.2373630</td><td>0.3546084</td><td> 0.058622684</td><td>-0.23189585</td><td>0.3730064</td><td> 7.055525e-02</td><td> 0.064588968</td></tr>\n",
       "\t<tr><td>77</td><td>201</td><td>-0.4109081</td><td>0.2809523</td><td>-0.064977859</td><td> 0.13053712</td><td>0.2490502</td><td> 1.897936e-01</td><td> 0.062407889</td></tr>\n",
       "\t<tr><td>77</td><td>238</td><td>-0.3241948</td><td>0.2734532</td><td>-0.025370788</td><td> 0.03729658</td><td>0.2560265</td><td> 1.466616e-01</td><td> 0.060645385</td></tr>\n",
       "\t<tr><td>77</td><td>258</td><td>-0.6508930</td><td>0.8322403</td><td> 0.090673662</td><td>-0.54571312</td><td>0.5981580</td><td> 2.622244e-02</td><td> 0.058448051</td></tr>\n",
       "\t<tr><td>77</td><td>208</td><td>-0.3811432</td><td>0.6113168</td><td> 0.115086826</td><td>-0.54390114</td><td>0.5437112</td><td>-9.495985e-05</td><td> 0.057495933</td></tr>\n",
       "\t<tr><td>77</td><td>  7</td><td>-0.1938859</td><td>0.3744116</td><td> 0.090262830</td><td>-0.31097668</td><td>0.3562471</td><td> 2.263521e-02</td><td> 0.056449018</td></tr>\n",
       "\t<tr><td>77</td><td>231</td><td>-0.1786914</td><td>0.3381136</td><td> 0.079711083</td><td>-0.28244377</td><td>0.3154430</td><td> 1.649961e-02</td><td> 0.048105348</td></tr>\n",
       "\t<tr><td>77</td><td>172</td><td>-0.4935916</td><td>0.5133446</td><td> 0.009876494</td><td>-0.39650765</td><td>0.4528275</td><td> 2.815993e-02</td><td> 0.019018210</td></tr>\n",
       "\t<tr><td>77</td><td>125</td><td>-0.2330665</td><td>0.3009422</td><td> 0.033937884</td><td>-0.28299641</td><td>0.2746051</td><td>-4.195656e-03</td><td> 0.014871114</td></tr>\n",
       "\t<tr><td>77</td><td> 95</td><td>-0.3325497</td><td>0.2965540</td><td>-0.017997858</td><td>-0.18774978</td><td>0.2767255</td><td> 4.448788e-02</td><td> 0.013245012</td></tr>\n",
       "\t<tr><td>77</td><td> 80</td><td>-0.4054377</td><td>0.4169541</td><td> 0.005758211</td><td>-0.32998404</td><td>0.3681868</td><td> 1.910139e-02</td><td> 0.012429799</td></tr>\n",
       "\t<tr><td>77</td><td>114</td><td>-0.4396363</td><td>0.4577496</td><td> 0.009056645</td><td>-0.35307158</td><td>0.3503737</td><td>-1.348945e-03</td><td> 0.003853850</td></tr>\n",
       "\t<tr><td>77</td><td>269</td><td>-0.3157303</td><td>0.4521340</td><td> 0.068201838</td><td>-0.47429252</td><td>0.3435465</td><td>-6.537299e-02</td><td> 0.001414425</td></tr>\n",
       "\t<tr><td>77</td><td> 24</td><td>-0.7181123</td><td>0.5908516</td><td>-0.063630353</td><td>-0.42525802</td><td>0.5167814</td><td> 4.576168e-02</td><td>-0.008934338</td></tr>\n",
       "\t<tr><td>77</td><td> 67</td><td>-0.4452270</td><td>0.5228072</td><td> 0.038790097</td><td>-0.54805357</td><td>0.4025666</td><td>-7.274347e-02</td><td>-0.016976688</td></tr>\n",
       "\t<tr><td>77</td><td>147</td><td>-0.5379945</td><td>0.5600254</td><td> 0.011015411</td><td>-0.65693329</td><td>0.4991028</td><td>-7.891525e-02</td><td>-0.033949919</td></tr>\n",
       "\t<tr><td>77</td><td>179</td><td>-0.4694154</td><td>0.4439293</td><td>-0.012743068</td><td>-0.50589637</td><td>0.3933774</td><td>-5.625947e-02</td><td>-0.034501269</td></tr>\n",
       "\t<tr><td>77</td><td>  4</td><td>-0.2632996</td><td>0.1771353</td><td>-0.043082154</td><td>-0.29563870</td><td>0.1895787</td><td>-5.303001e-02</td><td>-0.048056081</td></tr>\n",
       "\t<tr><td>77</td><td> 19</td><td>-0.6779291</td><td>0.5847627</td><td>-0.046583204</td><td>-0.63345315</td><td>0.5322675</td><td>-5.059285e-02</td><td>-0.048588026</td></tr>\n",
       "\t<tr><td>77</td><td>227</td><td>-0.4574275</td><td>0.4873566</td><td> 0.014964556</td><td>-0.62379740</td><td>0.3923204</td><td>-1.157385e-01</td><td>-0.050386977</td></tr>\n",
       "\t<tr><td>77</td><td> 55</td><td>-0.6667816</td><td>0.4693768</td><td>-0.098702408</td><td>-0.39547346</td><td>0.3797372</td><td>-7.868115e-03</td><td>-0.053285261</td></tr>\n",
       "\t<tr><td>77</td><td>138</td><td>-0.5851740</td><td>0.4913360</td><td>-0.046919028</td><td>-0.53487750</td><td>0.3874739</td><td>-7.370181e-02</td><td>-0.060310417</td></tr>\n",
       "\t<tr><td>77</td><td>247</td><td>-0.6310496</td><td>0.5263807</td><td>-0.052334463</td><td>-0.62103420</td><td>0.4278646</td><td>-9.658482e-02</td><td>-0.074459643</td></tr>\n",
       "\t<tr><td>77</td><td>102</td><td>-0.5508337</td><td>0.4885443</td><td>-0.031144706</td><td>-0.65252729</td><td>0.3968462</td><td>-1.278406e-01</td><td>-0.079492635</td></tr>\n",
       "\t<tr><td>77</td><td> 75</td><td>-0.8067514</td><td>0.3061880</td><td>-0.250281705</td><td>-0.59073545</td><td>0.3360498</td><td>-1.273428e-01</td><td>-0.188812274</td></tr>\n",
       "</tbody>\n",
       "</table>\n"
      ],
      "text/latex": [
       "A data.table: 260 × 9\n",
       "\\begin{tabular}{lllllllll}\n",
       " Store1 & Store2 & corr\\_measure.x & mag\\_measure.x & scoreNSales & corr\\_measure.y & mag\\_measure.y & scoreNCust & finalControlScore\\\\\n",
       " <dbl> & <dbl> & <dbl> & <dbl> & <dbl> & <dbl> & <dbl> & <dbl> & <dbl>\\\\\n",
       "\\hline\n",
       "\t 77 &  77 & 1.0000000 & 1.0000000 & 1.0000000 & 1.0000000 & 1.0000000 & 1.0000000 & 1.0000000\\\\\n",
       "\t 77 & 233 & 0.9037742 & 0.9852649 & 0.9445195 & 0.9903578 & 0.9927733 & 0.9915655 & 0.9680425\\\\\n",
       "\t 77 &  41 & 0.7832319 & 0.9651401 & 0.8741860 & 0.8442195 & 0.9746392 & 0.9094294 & 0.8918077\\\\\n",
       "\t 77 &  17 & 0.8426684 & 0.8806882 & 0.8616783 & 0.7473078 & 0.9624953 & 0.8549015 & 0.8582899\\\\\n",
       "\t 77 & 254 & 0.5771085 & 0.9227714 & 0.7499399 & 0.9162084 & 0.9371312 & 0.9266698 & 0.8383049\\\\\n",
       "\t 77 & 115 & 0.6891588 & 0.9328321 & 0.8109955 & 0.7188818 & 0.9659160 & 0.8423989 & 0.8266972\\\\\n",
       "\t 77 &  84 & 0.6843478 & 0.8300852 & 0.7572165 & 0.8585712 & 0.9241818 & 0.8913765 & 0.8242965\\\\\n",
       "\t 77 & 167 & 0.6571104 & 0.9591332 & 0.8081218 & 0.7179126 & 0.9493491 & 0.8336309 & 0.8208763\\\\\n",
       "\t 77 &  50 & 0.7638658 & 0.9731293 & 0.8684976 & 0.6073908 & 0.9250762 & 0.7662335 & 0.8173655\\\\\n",
       "\t 77 & 111 & 0.5194727 & 0.9654657 & 0.7424692 & 0.6859257 & 0.9660641 & 0.8259949 & 0.7842320\\\\\n",
       "\t 77 & 265 & 0.6397594 & 0.9626629 & 0.8012111 & 0.5734604 & 0.9479016 & 0.7606810 & 0.7809461\\\\\n",
       "\t 77 & 234 & 0.6963248 & 0.8903392 & 0.7933320 & 0.5823555 & 0.9447935 & 0.7635745 & 0.7784533\\\\\n",
       "\t 77 &  35 & 0.5018257 & 0.9105502 & 0.7061880 & 0.7746471 & 0.9069267 & 0.8407869 & 0.7734874\\\\\n",
       "\t 77 &  53 & 0.5327640 & 0.9754223 & 0.7540932 & 0.6026804 & 0.9577633 & 0.7802218 & 0.7671575\\\\\n",
       "\t 77 &  27 & 0.5544333 & 0.8549272 & 0.7046802 & 0.6863864 & 0.9488624 & 0.8176244 & 0.7611523\\\\\n",
       "\t 77 & 145 & 0.4306424 & 0.9368768 & 0.6837596 & 0.6811551 & 0.9542009 & 0.8176780 & 0.7507188\\\\\n",
       "\t 77 &  46 & 0.4356501 & 0.9747818 & 0.7052159 & 0.5507395 & 0.9607565 & 0.7557480 & 0.7304820\\\\\n",
       "\t 77 & 248 & 0.3661524 & 0.8885953 & 0.6273739 & 0.7328657 & 0.8789659 & 0.8059158 & 0.7166448\\\\\n",
       "\t 77 &  20 & 0.5173500 & 0.9637886 & 0.7405693 & 0.4092864 & 0.9370057 & 0.6731461 & 0.7068577\\\\\n",
       "\t 77 & 187 & 0.4606688 & 0.9705301 & 0.7155995 & 0.4721939 & 0.9100329 & 0.6911134 & 0.7033564\\\\\n",
       "\t 77 & 121 & 0.5085674 & 0.9437334 & 0.7261504 & 0.4222581 & 0.9201625 & 0.6712103 & 0.6986803\\\\\n",
       "\t 77 & 195 & 0.3780449 & 0.9591473 & 0.6685961 & 0.4708840 & 0.9257580 & 0.6983210 & 0.6834586\\\\\n",
       "\t 77 & 264 & 0.3938364 & 0.9664660 & 0.6801512 & 0.4312937 & 0.9399269 & 0.6856103 & 0.6828807\\\\\n",
       "\t 77 &  37 & 0.4375957 & 0.8650393 & 0.6513175 & 0.4940162 & 0.9237633 & 0.7088898 & 0.6801036\\\\\n",
       "\t 77 & 119 & 0.8676644 & 0.4341303 & 0.6508974 & 0.9832666 & 0.4266213 & 0.7049440 & 0.6779207\\\\\n",
       "\t 77 &  14 & 0.4355935 & 0.8432875 & 0.6394405 & 0.7148412 & 0.6265819 & 0.6707116 & 0.6550760\\\\\n",
       "\t 77 & 268 & 0.3447571 & 0.9607852 & 0.6527712 & 0.3695170 & 0.9399068 & 0.6547119 & 0.6537415\\\\\n",
       "\t 77 & 202 & 0.5349696 & 0.7973091 & 0.6661394 & 0.3738307 & 0.8966082 & 0.6352195 & 0.6506794\\\\\n",
       "\t 77 & 205 & 0.3565101 & 0.9723667 & 0.6644384 & 0.2726114 & 0.9391392 & 0.6058753 & 0.6351568\\\\\n",
       "\t 77 & 151 & 0.4113130 & 0.9285680 & 0.6699405 & 0.2674333 & 0.9065555 & 0.5869944 & 0.6284675\\\\\n",
       "\t ... & ... & ... & ... & ... & ... & ... & ... & ...\\\\\n",
       "\t 77 & 267 & -0.4705143 & 0.8293633 &  0.179424479 & -0.64871112 & 0.6155288 & -1.659114e-02 &  0.081416670\\\\\n",
       "\t 77 & 155 & -0.3143641 & 0.4900639 &  0.087849875 & -0.31568036 & 0.4164494 &  5.038450e-02 &  0.069117189\\\\\n",
       "\t 77 &   9 & -0.7029760 & 0.9097629 &  0.103393443 & -0.78569901 & 0.8508400 &  3.257048e-02 &  0.067981960\\\\\n",
       "\t 77 & 180 & -0.4447771 & 0.4958254 &  0.025524154 & -0.18164870 & 0.3981422 &  1.082468e-01 &  0.066885453\\\\\n",
       "\t 77 & 244 & -0.7745129 & 0.8319823 &  0.028734697 & -0.39904387 & 0.6045414 &  1.027488e-01 &  0.065741728\\\\\n",
       "\t 77 &  49 & -0.2373630 & 0.3546084 &  0.058622684 & -0.23189585 & 0.3730064 &  7.055525e-02 &  0.064588968\\\\\n",
       "\t 77 & 201 & -0.4109081 & 0.2809523 & -0.064977859 &  0.13053712 & 0.2490502 &  1.897936e-01 &  0.062407889\\\\\n",
       "\t 77 & 238 & -0.3241948 & 0.2734532 & -0.025370788 &  0.03729658 & 0.2560265 &  1.466616e-01 &  0.060645385\\\\\n",
       "\t 77 & 258 & -0.6508930 & 0.8322403 &  0.090673662 & -0.54571312 & 0.5981580 &  2.622244e-02 &  0.058448051\\\\\n",
       "\t 77 & 208 & -0.3811432 & 0.6113168 &  0.115086826 & -0.54390114 & 0.5437112 & -9.495985e-05 &  0.057495933\\\\\n",
       "\t 77 &   7 & -0.1938859 & 0.3744116 &  0.090262830 & -0.31097668 & 0.3562471 &  2.263521e-02 &  0.056449018\\\\\n",
       "\t 77 & 231 & -0.1786914 & 0.3381136 &  0.079711083 & -0.28244377 & 0.3154430 &  1.649961e-02 &  0.048105348\\\\\n",
       "\t 77 & 172 & -0.4935916 & 0.5133446 &  0.009876494 & -0.39650765 & 0.4528275 &  2.815993e-02 &  0.019018210\\\\\n",
       "\t 77 & 125 & -0.2330665 & 0.3009422 &  0.033937884 & -0.28299641 & 0.2746051 & -4.195656e-03 &  0.014871114\\\\\n",
       "\t 77 &  95 & -0.3325497 & 0.2965540 & -0.017997858 & -0.18774978 & 0.2767255 &  4.448788e-02 &  0.013245012\\\\\n",
       "\t 77 &  80 & -0.4054377 & 0.4169541 &  0.005758211 & -0.32998404 & 0.3681868 &  1.910139e-02 &  0.012429799\\\\\n",
       "\t 77 & 114 & -0.4396363 & 0.4577496 &  0.009056645 & -0.35307158 & 0.3503737 & -1.348945e-03 &  0.003853850\\\\\n",
       "\t 77 & 269 & -0.3157303 & 0.4521340 &  0.068201838 & -0.47429252 & 0.3435465 & -6.537299e-02 &  0.001414425\\\\\n",
       "\t 77 &  24 & -0.7181123 & 0.5908516 & -0.063630353 & -0.42525802 & 0.5167814 &  4.576168e-02 & -0.008934338\\\\\n",
       "\t 77 &  67 & -0.4452270 & 0.5228072 &  0.038790097 & -0.54805357 & 0.4025666 & -7.274347e-02 & -0.016976688\\\\\n",
       "\t 77 & 147 & -0.5379945 & 0.5600254 &  0.011015411 & -0.65693329 & 0.4991028 & -7.891525e-02 & -0.033949919\\\\\n",
       "\t 77 & 179 & -0.4694154 & 0.4439293 & -0.012743068 & -0.50589637 & 0.3933774 & -5.625947e-02 & -0.034501269\\\\\n",
       "\t 77 &   4 & -0.2632996 & 0.1771353 & -0.043082154 & -0.29563870 & 0.1895787 & -5.303001e-02 & -0.048056081\\\\\n",
       "\t 77 &  19 & -0.6779291 & 0.5847627 & -0.046583204 & -0.63345315 & 0.5322675 & -5.059285e-02 & -0.048588026\\\\\n",
       "\t 77 & 227 & -0.4574275 & 0.4873566 &  0.014964556 & -0.62379740 & 0.3923204 & -1.157385e-01 & -0.050386977\\\\\n",
       "\t 77 &  55 & -0.6667816 & 0.4693768 & -0.098702408 & -0.39547346 & 0.3797372 & -7.868115e-03 & -0.053285261\\\\\n",
       "\t 77 & 138 & -0.5851740 & 0.4913360 & -0.046919028 & -0.53487750 & 0.3874739 & -7.370181e-02 & -0.060310417\\\\\n",
       "\t 77 & 247 & -0.6310496 & 0.5263807 & -0.052334463 & -0.62103420 & 0.4278646 & -9.658482e-02 & -0.074459643\\\\\n",
       "\t 77 & 102 & -0.5508337 & 0.4885443 & -0.031144706 & -0.65252729 & 0.3968462 & -1.278406e-01 & -0.079492635\\\\\n",
       "\t 77 &  75 & -0.8067514 & 0.3061880 & -0.250281705 & -0.59073545 & 0.3360498 & -1.273428e-01 & -0.188812274\\\\\n",
       "\\end{tabular}\n"
      ],
      "text/markdown": [
       "\n",
       "A data.table: 260 × 9\n",
       "\n",
       "| Store1 &lt;dbl&gt; | Store2 &lt;dbl&gt; | corr_measure.x &lt;dbl&gt; | mag_measure.x &lt;dbl&gt; | scoreNSales &lt;dbl&gt; | corr_measure.y &lt;dbl&gt; | mag_measure.y &lt;dbl&gt; | scoreNCust &lt;dbl&gt; | finalControlScore &lt;dbl&gt; |\n",
       "|---|---|---|---|---|---|---|---|---|\n",
       "| 77 |  77 | 1.0000000 | 1.0000000 | 1.0000000 | 1.0000000 | 1.0000000 | 1.0000000 | 1.0000000 |\n",
       "| 77 | 233 | 0.9037742 | 0.9852649 | 0.9445195 | 0.9903578 | 0.9927733 | 0.9915655 | 0.9680425 |\n",
       "| 77 |  41 | 0.7832319 | 0.9651401 | 0.8741860 | 0.8442195 | 0.9746392 | 0.9094294 | 0.8918077 |\n",
       "| 77 |  17 | 0.8426684 | 0.8806882 | 0.8616783 | 0.7473078 | 0.9624953 | 0.8549015 | 0.8582899 |\n",
       "| 77 | 254 | 0.5771085 | 0.9227714 | 0.7499399 | 0.9162084 | 0.9371312 | 0.9266698 | 0.8383049 |\n",
       "| 77 | 115 | 0.6891588 | 0.9328321 | 0.8109955 | 0.7188818 | 0.9659160 | 0.8423989 | 0.8266972 |\n",
       "| 77 |  84 | 0.6843478 | 0.8300852 | 0.7572165 | 0.8585712 | 0.9241818 | 0.8913765 | 0.8242965 |\n",
       "| 77 | 167 | 0.6571104 | 0.9591332 | 0.8081218 | 0.7179126 | 0.9493491 | 0.8336309 | 0.8208763 |\n",
       "| 77 |  50 | 0.7638658 | 0.9731293 | 0.8684976 | 0.6073908 | 0.9250762 | 0.7662335 | 0.8173655 |\n",
       "| 77 | 111 | 0.5194727 | 0.9654657 | 0.7424692 | 0.6859257 | 0.9660641 | 0.8259949 | 0.7842320 |\n",
       "| 77 | 265 | 0.6397594 | 0.9626629 | 0.8012111 | 0.5734604 | 0.9479016 | 0.7606810 | 0.7809461 |\n",
       "| 77 | 234 | 0.6963248 | 0.8903392 | 0.7933320 | 0.5823555 | 0.9447935 | 0.7635745 | 0.7784533 |\n",
       "| 77 |  35 | 0.5018257 | 0.9105502 | 0.7061880 | 0.7746471 | 0.9069267 | 0.8407869 | 0.7734874 |\n",
       "| 77 |  53 | 0.5327640 | 0.9754223 | 0.7540932 | 0.6026804 | 0.9577633 | 0.7802218 | 0.7671575 |\n",
       "| 77 |  27 | 0.5544333 | 0.8549272 | 0.7046802 | 0.6863864 | 0.9488624 | 0.8176244 | 0.7611523 |\n",
       "| 77 | 145 | 0.4306424 | 0.9368768 | 0.6837596 | 0.6811551 | 0.9542009 | 0.8176780 | 0.7507188 |\n",
       "| 77 |  46 | 0.4356501 | 0.9747818 | 0.7052159 | 0.5507395 | 0.9607565 | 0.7557480 | 0.7304820 |\n",
       "| 77 | 248 | 0.3661524 | 0.8885953 | 0.6273739 | 0.7328657 | 0.8789659 | 0.8059158 | 0.7166448 |\n",
       "| 77 |  20 | 0.5173500 | 0.9637886 | 0.7405693 | 0.4092864 | 0.9370057 | 0.6731461 | 0.7068577 |\n",
       "| 77 | 187 | 0.4606688 | 0.9705301 | 0.7155995 | 0.4721939 | 0.9100329 | 0.6911134 | 0.7033564 |\n",
       "| 77 | 121 | 0.5085674 | 0.9437334 | 0.7261504 | 0.4222581 | 0.9201625 | 0.6712103 | 0.6986803 |\n",
       "| 77 | 195 | 0.3780449 | 0.9591473 | 0.6685961 | 0.4708840 | 0.9257580 | 0.6983210 | 0.6834586 |\n",
       "| 77 | 264 | 0.3938364 | 0.9664660 | 0.6801512 | 0.4312937 | 0.9399269 | 0.6856103 | 0.6828807 |\n",
       "| 77 |  37 | 0.4375957 | 0.8650393 | 0.6513175 | 0.4940162 | 0.9237633 | 0.7088898 | 0.6801036 |\n",
       "| 77 | 119 | 0.8676644 | 0.4341303 | 0.6508974 | 0.9832666 | 0.4266213 | 0.7049440 | 0.6779207 |\n",
       "| 77 |  14 | 0.4355935 | 0.8432875 | 0.6394405 | 0.7148412 | 0.6265819 | 0.6707116 | 0.6550760 |\n",
       "| 77 | 268 | 0.3447571 | 0.9607852 | 0.6527712 | 0.3695170 | 0.9399068 | 0.6547119 | 0.6537415 |\n",
       "| 77 | 202 | 0.5349696 | 0.7973091 | 0.6661394 | 0.3738307 | 0.8966082 | 0.6352195 | 0.6506794 |\n",
       "| 77 | 205 | 0.3565101 | 0.9723667 | 0.6644384 | 0.2726114 | 0.9391392 | 0.6058753 | 0.6351568 |\n",
       "| 77 | 151 | 0.4113130 | 0.9285680 | 0.6699405 | 0.2674333 | 0.9065555 | 0.5869944 | 0.6284675 |\n",
       "| ... | ... | ... | ... | ... | ... | ... | ... | ... |\n",
       "| 77 | 267 | -0.4705143 | 0.8293633 |  0.179424479 | -0.64871112 | 0.6155288 | -1.659114e-02 |  0.081416670 |\n",
       "| 77 | 155 | -0.3143641 | 0.4900639 |  0.087849875 | -0.31568036 | 0.4164494 |  5.038450e-02 |  0.069117189 |\n",
       "| 77 |   9 | -0.7029760 | 0.9097629 |  0.103393443 | -0.78569901 | 0.8508400 |  3.257048e-02 |  0.067981960 |\n",
       "| 77 | 180 | -0.4447771 | 0.4958254 |  0.025524154 | -0.18164870 | 0.3981422 |  1.082468e-01 |  0.066885453 |\n",
       "| 77 | 244 | -0.7745129 | 0.8319823 |  0.028734697 | -0.39904387 | 0.6045414 |  1.027488e-01 |  0.065741728 |\n",
       "| 77 |  49 | -0.2373630 | 0.3546084 |  0.058622684 | -0.23189585 | 0.3730064 |  7.055525e-02 |  0.064588968 |\n",
       "| 77 | 201 | -0.4109081 | 0.2809523 | -0.064977859 |  0.13053712 | 0.2490502 |  1.897936e-01 |  0.062407889 |\n",
       "| 77 | 238 | -0.3241948 | 0.2734532 | -0.025370788 |  0.03729658 | 0.2560265 |  1.466616e-01 |  0.060645385 |\n",
       "| 77 | 258 | -0.6508930 | 0.8322403 |  0.090673662 | -0.54571312 | 0.5981580 |  2.622244e-02 |  0.058448051 |\n",
       "| 77 | 208 | -0.3811432 | 0.6113168 |  0.115086826 | -0.54390114 | 0.5437112 | -9.495985e-05 |  0.057495933 |\n",
       "| 77 |   7 | -0.1938859 | 0.3744116 |  0.090262830 | -0.31097668 | 0.3562471 |  2.263521e-02 |  0.056449018 |\n",
       "| 77 | 231 | -0.1786914 | 0.3381136 |  0.079711083 | -0.28244377 | 0.3154430 |  1.649961e-02 |  0.048105348 |\n",
       "| 77 | 172 | -0.4935916 | 0.5133446 |  0.009876494 | -0.39650765 | 0.4528275 |  2.815993e-02 |  0.019018210 |\n",
       "| 77 | 125 | -0.2330665 | 0.3009422 |  0.033937884 | -0.28299641 | 0.2746051 | -4.195656e-03 |  0.014871114 |\n",
       "| 77 |  95 | -0.3325497 | 0.2965540 | -0.017997858 | -0.18774978 | 0.2767255 |  4.448788e-02 |  0.013245012 |\n",
       "| 77 |  80 | -0.4054377 | 0.4169541 |  0.005758211 | -0.32998404 | 0.3681868 |  1.910139e-02 |  0.012429799 |\n",
       "| 77 | 114 | -0.4396363 | 0.4577496 |  0.009056645 | -0.35307158 | 0.3503737 | -1.348945e-03 |  0.003853850 |\n",
       "| 77 | 269 | -0.3157303 | 0.4521340 |  0.068201838 | -0.47429252 | 0.3435465 | -6.537299e-02 |  0.001414425 |\n",
       "| 77 |  24 | -0.7181123 | 0.5908516 | -0.063630353 | -0.42525802 | 0.5167814 |  4.576168e-02 | -0.008934338 |\n",
       "| 77 |  67 | -0.4452270 | 0.5228072 |  0.038790097 | -0.54805357 | 0.4025666 | -7.274347e-02 | -0.016976688 |\n",
       "| 77 | 147 | -0.5379945 | 0.5600254 |  0.011015411 | -0.65693329 | 0.4991028 | -7.891525e-02 | -0.033949919 |\n",
       "| 77 | 179 | -0.4694154 | 0.4439293 | -0.012743068 | -0.50589637 | 0.3933774 | -5.625947e-02 | -0.034501269 |\n",
       "| 77 |   4 | -0.2632996 | 0.1771353 | -0.043082154 | -0.29563870 | 0.1895787 | -5.303001e-02 | -0.048056081 |\n",
       "| 77 |  19 | -0.6779291 | 0.5847627 | -0.046583204 | -0.63345315 | 0.5322675 | -5.059285e-02 | -0.048588026 |\n",
       "| 77 | 227 | -0.4574275 | 0.4873566 |  0.014964556 | -0.62379740 | 0.3923204 | -1.157385e-01 | -0.050386977 |\n",
       "| 77 |  55 | -0.6667816 | 0.4693768 | -0.098702408 | -0.39547346 | 0.3797372 | -7.868115e-03 | -0.053285261 |\n",
       "| 77 | 138 | -0.5851740 | 0.4913360 | -0.046919028 | -0.53487750 | 0.3874739 | -7.370181e-02 | -0.060310417 |\n",
       "| 77 | 247 | -0.6310496 | 0.5263807 | -0.052334463 | -0.62103420 | 0.4278646 | -9.658482e-02 | -0.074459643 |\n",
       "| 77 | 102 | -0.5508337 | 0.4885443 | -0.031144706 | -0.65252729 | 0.3968462 | -1.278406e-01 | -0.079492635 |\n",
       "| 77 |  75 | -0.8067514 | 0.3061880 | -0.250281705 | -0.59073545 | 0.3360498 | -1.273428e-01 | -0.188812274 |\n",
       "\n"
      ],
      "text/plain": [
       "    Store1 Store2 corr_measure.x mag_measure.x scoreNSales  corr_measure.y\n",
       "1   77      77    1.0000000      1.0000000     1.0000000    1.0000000     \n",
       "2   77     233    0.9037742      0.9852649     0.9445195    0.9903578     \n",
       "3   77      41    0.7832319      0.9651401     0.8741860    0.8442195     \n",
       "4   77      17    0.8426684      0.8806882     0.8616783    0.7473078     \n",
       "5   77     254    0.5771085      0.9227714     0.7499399    0.9162084     \n",
       "6   77     115    0.6891588      0.9328321     0.8109955    0.7188818     \n",
       "7   77      84    0.6843478      0.8300852     0.7572165    0.8585712     \n",
       "8   77     167    0.6571104      0.9591332     0.8081218    0.7179126     \n",
       "9   77      50    0.7638658      0.9731293     0.8684976    0.6073908     \n",
       "10  77     111    0.5194727      0.9654657     0.7424692    0.6859257     \n",
       "11  77     265    0.6397594      0.9626629     0.8012111    0.5734604     \n",
       "12  77     234    0.6963248      0.8903392     0.7933320    0.5823555     \n",
       "13  77      35    0.5018257      0.9105502     0.7061880    0.7746471     \n",
       "14  77      53    0.5327640      0.9754223     0.7540932    0.6026804     \n",
       "15  77      27    0.5544333      0.8549272     0.7046802    0.6863864     \n",
       "16  77     145    0.4306424      0.9368768     0.6837596    0.6811551     \n",
       "17  77      46    0.4356501      0.9747818     0.7052159    0.5507395     \n",
       "18  77     248    0.3661524      0.8885953     0.6273739    0.7328657     \n",
       "19  77      20    0.5173500      0.9637886     0.7405693    0.4092864     \n",
       "20  77     187    0.4606688      0.9705301     0.7155995    0.4721939     \n",
       "21  77     121    0.5085674      0.9437334     0.7261504    0.4222581     \n",
       "22  77     195    0.3780449      0.9591473     0.6685961    0.4708840     \n",
       "23  77     264    0.3938364      0.9664660     0.6801512    0.4312937     \n",
       "24  77      37    0.4375957      0.8650393     0.6513175    0.4940162     \n",
       "25  77     119    0.8676644      0.4341303     0.6508974    0.9832666     \n",
       "26  77      14    0.4355935      0.8432875     0.6394405    0.7148412     \n",
       "27  77     268    0.3447571      0.9607852     0.6527712    0.3695170     \n",
       "28  77     202    0.5349696      0.7973091     0.6661394    0.3738307     \n",
       "29  77     205    0.3565101      0.9723667     0.6644384    0.2726114     \n",
       "30  77     151    0.4113130      0.9285680     0.6699405    0.2674333     \n",
       "... ...    ...    ...            ...           ...          ...           \n",
       "231 77     267    -0.4705143     0.8293633      0.179424479 -0.64871112   \n",
       "232 77     155    -0.3143641     0.4900639      0.087849875 -0.31568036   \n",
       "233 77       9    -0.7029760     0.9097629      0.103393443 -0.78569901   \n",
       "234 77     180    -0.4447771     0.4958254      0.025524154 -0.18164870   \n",
       "235 77     244    -0.7745129     0.8319823      0.028734697 -0.39904387   \n",
       "236 77      49    -0.2373630     0.3546084      0.058622684 -0.23189585   \n",
       "237 77     201    -0.4109081     0.2809523     -0.064977859  0.13053712   \n",
       "238 77     238    -0.3241948     0.2734532     -0.025370788  0.03729658   \n",
       "239 77     258    -0.6508930     0.8322403      0.090673662 -0.54571312   \n",
       "240 77     208    -0.3811432     0.6113168      0.115086826 -0.54390114   \n",
       "241 77       7    -0.1938859     0.3744116      0.090262830 -0.31097668   \n",
       "242 77     231    -0.1786914     0.3381136      0.079711083 -0.28244377   \n",
       "243 77     172    -0.4935916     0.5133446      0.009876494 -0.39650765   \n",
       "244 77     125    -0.2330665     0.3009422      0.033937884 -0.28299641   \n",
       "245 77      95    -0.3325497     0.2965540     -0.017997858 -0.18774978   \n",
       "246 77      80    -0.4054377     0.4169541      0.005758211 -0.32998404   \n",
       "247 77     114    -0.4396363     0.4577496      0.009056645 -0.35307158   \n",
       "248 77     269    -0.3157303     0.4521340      0.068201838 -0.47429252   \n",
       "249 77      24    -0.7181123     0.5908516     -0.063630353 -0.42525802   \n",
       "250 77      67    -0.4452270     0.5228072      0.038790097 -0.54805357   \n",
       "251 77     147    -0.5379945     0.5600254      0.011015411 -0.65693329   \n",
       "252 77     179    -0.4694154     0.4439293     -0.012743068 -0.50589637   \n",
       "253 77       4    -0.2632996     0.1771353     -0.043082154 -0.29563870   \n",
       "254 77      19    -0.6779291     0.5847627     -0.046583204 -0.63345315   \n",
       "255 77     227    -0.4574275     0.4873566      0.014964556 -0.62379740   \n",
       "256 77      55    -0.6667816     0.4693768     -0.098702408 -0.39547346   \n",
       "257 77     138    -0.5851740     0.4913360     -0.046919028 -0.53487750   \n",
       "258 77     247    -0.6310496     0.5263807     -0.052334463 -0.62103420   \n",
       "259 77     102    -0.5508337     0.4885443     -0.031144706 -0.65252729   \n",
       "260 77      75    -0.8067514     0.3061880     -0.250281705 -0.59073545   \n",
       "    mag_measure.y scoreNCust    finalControlScore\n",
       "1   1.0000000     1.0000000     1.0000000        \n",
       "2   0.9927733     0.9915655     0.9680425        \n",
       "3   0.9746392     0.9094294     0.8918077        \n",
       "4   0.9624953     0.8549015     0.8582899        \n",
       "5   0.9371312     0.9266698     0.8383049        \n",
       "6   0.9659160     0.8423989     0.8266972        \n",
       "7   0.9241818     0.8913765     0.8242965        \n",
       "8   0.9493491     0.8336309     0.8208763        \n",
       "9   0.9250762     0.7662335     0.8173655        \n",
       "10  0.9660641     0.8259949     0.7842320        \n",
       "11  0.9479016     0.7606810     0.7809461        \n",
       "12  0.9447935     0.7635745     0.7784533        \n",
       "13  0.9069267     0.8407869     0.7734874        \n",
       "14  0.9577633     0.7802218     0.7671575        \n",
       "15  0.9488624     0.8176244     0.7611523        \n",
       "16  0.9542009     0.8176780     0.7507188        \n",
       "17  0.9607565     0.7557480     0.7304820        \n",
       "18  0.8789659     0.8059158     0.7166448        \n",
       "19  0.9370057     0.6731461     0.7068577        \n",
       "20  0.9100329     0.6911134     0.7033564        \n",
       "21  0.9201625     0.6712103     0.6986803        \n",
       "22  0.9257580     0.6983210     0.6834586        \n",
       "23  0.9399269     0.6856103     0.6828807        \n",
       "24  0.9237633     0.7088898     0.6801036        \n",
       "25  0.4266213     0.7049440     0.6779207        \n",
       "26  0.6265819     0.6707116     0.6550760        \n",
       "27  0.9399068     0.6547119     0.6537415        \n",
       "28  0.8966082     0.6352195     0.6506794        \n",
       "29  0.9391392     0.6058753     0.6351568        \n",
       "30  0.9065555     0.5869944     0.6284675        \n",
       "... ...           ...           ...              \n",
       "231 0.6155288     -1.659114e-02  0.081416670     \n",
       "232 0.4164494      5.038450e-02  0.069117189     \n",
       "233 0.8508400      3.257048e-02  0.067981960     \n",
       "234 0.3981422      1.082468e-01  0.066885453     \n",
       "235 0.6045414      1.027488e-01  0.065741728     \n",
       "236 0.3730064      7.055525e-02  0.064588968     \n",
       "237 0.2490502      1.897936e-01  0.062407889     \n",
       "238 0.2560265      1.466616e-01  0.060645385     \n",
       "239 0.5981580      2.622244e-02  0.058448051     \n",
       "240 0.5437112     -9.495985e-05  0.057495933     \n",
       "241 0.3562471      2.263521e-02  0.056449018     \n",
       "242 0.3154430      1.649961e-02  0.048105348     \n",
       "243 0.4528275      2.815993e-02  0.019018210     \n",
       "244 0.2746051     -4.195656e-03  0.014871114     \n",
       "245 0.2767255      4.448788e-02  0.013245012     \n",
       "246 0.3681868      1.910139e-02  0.012429799     \n",
       "247 0.3503737     -1.348945e-03  0.003853850     \n",
       "248 0.3435465     -6.537299e-02  0.001414425     \n",
       "249 0.5167814      4.576168e-02 -0.008934338     \n",
       "250 0.4025666     -7.274347e-02 -0.016976688     \n",
       "251 0.4991028     -7.891525e-02 -0.033949919     \n",
       "252 0.3933774     -5.625947e-02 -0.034501269     \n",
       "253 0.1895787     -5.303001e-02 -0.048056081     \n",
       "254 0.5322675     -5.059285e-02 -0.048588026     \n",
       "255 0.3923204     -1.157385e-01 -0.050386977     \n",
       "256 0.3797372     -7.868115e-03 -0.053285261     \n",
       "257 0.3874739     -7.370181e-02 -0.060310417     \n",
       "258 0.4278646     -9.658482e-02 -0.074459643     \n",
       "259 0.3968462     -1.278406e-01 -0.079492635     \n",
       "260 0.3360498     -1.273428e-01 -0.188812274     "
      ]
     },
     "metadata": {},
     "output_type": "display_data"
    }
   ],
   "source": [
    "score_Control[order(-finalControlScore)]"
   ]
  },
  {
   "cell_type": "markdown",
   "metadata": {},
   "source": [
    "The store with the highest score is then selected as the control store since it is\n",
    "most similar to the trial store."
   ]
  },
  {
   "cell_type": "code",
   "execution_count": 18,
   "metadata": {
    "vscode": {
     "languageId": "r"
    }
   },
   "outputs": [
    {
     "data": {
      "text/html": [
       "233"
      ],
      "text/latex": [
       "233"
      ],
      "text/markdown": [
       "233"
      ],
      "text/plain": [
       "[1] 233"
      ]
     },
     "metadata": {},
     "output_type": "display_data"
    }
   ],
   "source": [
    "control_store <- score_Control[Store1 == trial_store, ][order(-finalControlScore)][2, Store2]\n",
    "control_store"
   ]
  },
  {
   "cell_type": "markdown",
   "metadata": {},
   "source": [
    "Now that we have found a control store, let's check visually if the drivers are\n",
    "indeed similar in the period before the trial.\n",
    "We'll look at total sales first."
   ]
  },
  {
   "cell_type": "code",
   "execution_count": 19,
   "metadata": {
    "vscode": {
     "languageId": "r"
    }
   },
   "outputs": [
    {
     "data": {
      "image/png": "[encoded data removed]",
      "text/plain": [
       "plot without title"
      ]
     },
     "metadata": {
      "image/png": {
       "height": 420,
       "width": 420
      }
     },
     "output_type": "display_data"
    }
   ],
   "source": [
    "measureOverTimeSales <- measureOverTime\n",
    "\n",
    "pastSales <- measureOverTimeSales[, Store_type := ifelse(STORE_NBR == trial_store,\n",
    "\"Trial\",\n",
    "                                          ifelse(STORE_NBR == control_store,\n",
    "\"Control\", \"Other stores\"))\n",
    "                              ][, totSales := mean(totSales), by = c(\"YEARMONTH\",\n",
    "\"Store_type\")\n",
    "                              ][, TransactionMonth := as.Date(paste(YEARMONTH %/%\n",
    "100, YEARMONTH %% 100, 1, sep = \"-\"), \"%Y-%m-%d\")\n",
    "                              ][YEARMONTH < 201903 , ]\n",
    "ggplot(pastSales, aes(TransactionMonth, totSales, color = Store_type)) +\n",
    "  geom_line() +\n",
    "  labs(x = \"Month of operation\", y = \"Total sales\", title = \"Total sales by month\")"
   ]
  },
  {
   "cell_type": "markdown",
   "metadata": {},
   "source": [
    "Next, number of customers."
   ]
  },
  {
   "cell_type": "code",
   "execution_count": 20,
   "metadata": {
    "vscode": {
     "languageId": "r"
    }
   },
   "outputs": [
    {
     "data": {
      "image/png": "[encoded data removed]",
      "text/plain": [
       "plot without title"
      ]
     },
     "metadata": {
      "image/png": {
       "height": 420,
       "width": 420
      }
     },
     "output_type": "display_data"
    }
   ],
   "source": [
    "measureOverTimeCusts <- measureOverTime\n",
    "pastCustomers <- measureOverTimeCusts[, Store_type := ifelse(STORE_NBR == trial_store, \"Trial\",\n",
    "                                      ifelse(STORE_NBR == control_store, \"Control\", \"Other stores\"))\n",
    "][, numberCustomers := mean(nCustomers), by = c(\"YEARMONTH\", \"Store_type\")\n",
    "][, TransactionMonth := as.Date(paste(YEARMONTH %/% 100, YEARMONTH %% 100, 1, sep = \"-\"), \"%Y-%m-%d\")\n",
    "][YEARMONTH < 201903 , ]\n",
    "ggplot(pastCustomers, aes(TransactionMonth, numberCustomers, color = Store_type)) +\n",
    "  geom_line() +\n",
    "  labs(x = \"Month of operation\", y = \"Total number of customers\", title = \"Total number of customers by month\")"
   ]
  },
  {
   "cell_type": "markdown",
   "metadata": {},
   "source": [
    "## Assessment of trial"
   ]
  },
  {
   "cell_type": "markdown",
   "metadata": {},
   "source": [
    "The trial period goes from the start of February 2019 to April 2019. We now want to\n",
    "see if there has been an uplift in overall chip sales.\n",
    "We'll start with scaling the control store's sales to a level similar to control\n",
    "for any differences between the two stores outside of the trial period."
   ]
  },
  {
   "cell_type": "code",
   "execution_count": 21,
   "metadata": {
    "vscode": {
     "languageId": "r"
    }
   },
   "outputs": [],
   "source": [
    "scalingFactorForControlSales <- preTrialMeasures[STORE_NBR == trial_store &\n",
    "YEARMONTH < 201902, sum(totSales)]/preTrialMeasures[STORE_NBR == control_store &\n",
    "YEARMONTH < 201902, sum(totSales)]\n",
    "#### Apply the scaling factor\n",
    "measureOverTimeSales <- measureOverTime\n",
    "scaledControlSales <- measureOverTimeSales[STORE_NBR == control_store, ][ ,\n",
    "controlSales := totSales * scalingFactorForControlSales]"
   ]
  },
  {
   "cell_type": "markdown",
   "metadata": {},
   "source": [
    "Now that we have comparable sales figures for the control store, we can calculate\n",
    "the percentage difference between the scaled control sales and the trial store's\n",
    "sales during the trial period."
   ]
  },
  {
   "cell_type": "code",
   "execution_count": 22,
   "metadata": {
    "vscode": {
     "languageId": "r"
    }
   },
   "outputs": [],
   "source": [
    "percentageDiff <- merge(scaledControlSales[, c(\"YEARMONTH\", \"controlSales\")],\n",
    "                        measureOverTime[STORE_NBR == trial_store, c(\"totSales\", \"YEARMONTH\")],\n",
    "                        by = \"YEARMONTH\")[, percentageDiff := abs(controlSales-totSales)/controlSales]"
   ]
  },
  {
   "cell_type": "code",
   "execution_count": 23,
   "metadata": {
    "vscode": {
     "languageId": "r"
    }
   },
   "outputs": [],
   "source": [
    "percentageDiff # between control store sales and trial store sales"
   ]
  },
  {
   "cell_type": "markdown",
   "metadata": {},
   "source": [
    "Let's see if the difference is significant!"
   ]
  },
  {
   "cell_type": "code",
   "execution_count": 24,
   "metadata": {
    "vscode": {
     "languageId": "r"
    }
   },
   "outputs": [],
   "source": [
    "stdDev <- sd(percentageDiff[YEARMONTH < 201902 , percentageDiff])"
   ]
  },
  {
   "cell_type": "code",
   "execution_count": 25,
   "metadata": {
    "vscode": {
     "languageId": "r"
    }
   },
   "outputs": [],
   "source": [
    "degreesOfFreedom <- 7"
   ]
  },
  {
   "cell_type": "code",
   "execution_count": 26,
   "metadata": {
    "vscode": {
     "languageId": "r"
    }
   },
   "outputs": [
    {
     "data": {
      "text/html": [
       "<table class=\"dataframe\">\n",
       "<caption>A data.table: 3 × 2</caption>\n",
       "<thead>\n",
       "\t<tr><th scope=col>TransactionMonth</th><th scope=col>tValue</th></tr>\n",
       "\t<tr><th scope=col>&lt;date&gt;</th><th scope=col>&lt;dbl&gt;</th></tr>\n",
       "</thead>\n",
       "<tbody>\n",
       "\t<tr><td>2019-02-01</td><td> 1.183534</td></tr>\n",
       "\t<tr><td>2019-03-01</td><td> 7.339116</td></tr>\n",
       "\t<tr><td>2019-04-01</td><td>12.476373</td></tr>\n",
       "</tbody>\n",
       "</table>\n"
      ],
      "text/latex": [
       "A data.table: 3 × 2\n",
       "\\begin{tabular}{ll}\n",
       " TransactionMonth & tValue\\\\\n",
       " <date> & <dbl>\\\\\n",
       "\\hline\n",
       "\t 2019-02-01 &  1.183534\\\\\n",
       "\t 2019-03-01 &  7.339116\\\\\n",
       "\t 2019-04-01 & 12.476373\\\\\n",
       "\\end{tabular}\n"
      ],
      "text/markdown": [
       "\n",
       "A data.table: 3 × 2\n",
       "\n",
       "| TransactionMonth &lt;date&gt; | tValue &lt;dbl&gt; |\n",
       "|---|---|\n",
       "| 2019-02-01 |  1.183534 |\n",
       "| 2019-03-01 |  7.339116 |\n",
       "| 2019-04-01 | 12.476373 |\n",
       "\n"
      ],
      "text/plain": [
       "  TransactionMonth tValue   \n",
       "1 2019-02-01        1.183534\n",
       "2 2019-03-01        7.339116\n",
       "3 2019-04-01       12.476373"
      ]
     },
     "metadata": {},
     "output_type": "display_data"
    }
   ],
   "source": [
    "percentageDiff[, tValue := (percentageDiff - 0)/stdDev\n",
    "               ][, TransactionMonth := as.Date(paste(YEARMONTH %/% 100, YEARMONTH %% 100, 1, \n",
    "                                                     sep = \"-\"), \"%Y-%m-%d\")\n",
    "][YEARMONTH < 201905 & YEARMONTH > 201901, .(TransactionMonth,tValue)]"
   ]
  },
  {
   "cell_type": "code",
   "execution_count": 27,
   "metadata": {
    "vscode": {
     "languageId": "r"
    }
   },
   "outputs": [
    {
     "data": {
      "text/html": [
       "1.89457860509001"
      ],
      "text/latex": [
       "1.89457860509001"
      ],
      "text/markdown": [
       "1.89457860509001"
      ],
      "text/plain": [
       "[1] 1.894579"
      ]
     },
     "metadata": {},
     "output_type": "display_data"
    }
   ],
   "source": [
    "qt(0.95, df = degreesOfFreedom)"
   ]
  },
  {
   "cell_type": "markdown",
   "metadata": {},
   "source": [
    "We can observe that the t-value is much larger than the 95th percentile value of\n",
    "the t-distribution for March and April - i.e. the increase in sales in the trial\n",
    "store in March and April is statistically greater than in the control store.\n",
    "Let's create a more visual version of this by plotting the sales of the control\n",
    "store, the sales of the trial stores and the 95th percentile value of sales of the\n",
    "control store."
   ]
  },
  {
   "cell_type": "code",
   "execution_count": 28,
   "metadata": {
    "vscode": {
     "languageId": "r"
    }
   },
   "outputs": [
    {
     "data": {
      "image/png": "[encoded data removed]",
      "text/plain": [
       "plot without title"
      ]
     },
     "metadata": {
      "image/png": {
       "height": 420,
       "width": 420
      }
     },
     "output_type": "display_data"
    }
   ],
   "source": [
    "measureOverTimeSales <- measureOverTime\n",
    "pastSales <- measureOverTimeSales[, Store_type := ifelse(STORE_NBR == trial_store, \"Trial\",\n",
    "ifelse(STORE_NBR == control_store, \"Control\", \"Other stores\"))\n",
    "][, totSales := mean(totSales), by = c(\"YEARMONTH\", \"Store_type\")\n",
    "][, TransactionMonth := as.Date(paste(YEARMONTH %/% 100, YEARMONTH %% 100, 1, sep = \"-\"), \"%Y-%m-%d\")\n",
    "][Store_type %in% c(\"Trial\", \"Control\"), ]\n",
    "\n",
    "#### Control store 95th percentile\n",
    "pastSales_Controls95 <- pastSales[Store_type == \"Control\",\n",
    " ][, totSales := totSales * (1 + stdDev * 2)\n",
    " ][, Store_type := \"Control 95th % confidence\n",
    "interval\"]\n",
    "\n",
    "#### Control store 5th percentile\n",
    "pastSales_Controls5 <- pastSales[Store_type == \"Control\",\n",
    " ][, totSales := totSales * (1 - stdDev * 2)\n",
    " ][, Store_type := \"Control 5th % confidence\n",
    "interval\"]\n",
    "trialAssessment <- rbind(pastSales, pastSales_Controls95, pastSales_Controls5)\n",
    "\n",
    "#### Plotting these in one nice graph\n",
    "ggplot(trialAssessment, aes(TransactionMonth, totSales, color = Store_type)) +\n",
    "  geom_rect(data = trialAssessment[ YEARMONTH < 201905 & YEARMONTH > 201901 ,],\n",
    "aes(xmin = min(TransactionMonth), xmax = max(TransactionMonth), ymin = 0 , ymax =\n",
    "Inf, color = NULL), show.legend = FALSE) +\n",
    "  geom_line() +\n",
    "  labs(x = \"Month of operation\", y = \"Total sales\", title = \"Total sales by month\")"
   ]
  },
  {
   "cell_type": "markdown",
   "metadata": {},
   "source": [
    "The results show that the trial in store 77 is significantly different to its\n",
    "control store in the trial period as the trial store performance lies outside the\n",
    "5% to 95% confidence interval of the control store in two of the three trial\n",
    "months.\n",
    "Let's have a look at assessing this for number of customers as well."
   ]
  },
  {
   "cell_type": "code",
   "execution_count": 29,
   "metadata": {
    "vscode": {
     "languageId": "r"
    }
   },
   "outputs": [],
   "source": [
    "scalingFactorForControlCust <- preTrialMeasures[STORE_NBR == trial_store &\n",
    "YEARMONTH < 201902, sum(nCustomers)] / preTrialMeasures[STORE_NBR ==\n",
    "control_store & YEARMONTH < 201902, sum(nCustomers)]\n",
    "measureOverTimeCusts <- measureOverTime\n",
    "scaledControlCustomers <- measureOverTimeCusts[STORE_NBR == control_store,\n",
    "][ , controlCustomers := nCustomers * scalingFactorForControlCust\n",
    "][, Store_type := ifelse(STORE_NBR ==trial_store, \"Trial\",\n",
    "ifelse(STORE_NBR == control_store,\"Control\", \"Other stores\"))]\n",
    "percentageDiff <- merge(scaledControlCustomers[, c(\"YEARMONTH\", \"controlCustomers\")],\n",
    "measureOverTimeCusts[STORE_NBR == trial_store,c(\"nCustomers\", \"YEARMONTH\")],\n",
    "by = \"YEARMONTH\"\n",
    ")[, percentageDiff := abs(controlCustomers-nCustomers)/controlCustomers]"
   ]
  },
  {
   "cell_type": "markdown",
   "metadata": {},
   "source": [
    "Let's again see if the difference is significant visually!"
   ]
  },
  {
   "cell_type": "code",
   "execution_count": 30,
   "metadata": {
    "vscode": {
     "languageId": "r"
    }
   },
   "outputs": [],
   "source": [
    "stdDev <- sd(percentageDiff[YEARMONTH < 201902 , percentageDiff])\n",
    "degreesOfFreedom <- 7"
   ]
  },
  {
   "cell_type": "code",
   "execution_count": 31,
   "metadata": {
    "vscode": {
     "languageId": "r"
    }
   },
   "outputs": [
    {
     "data": {
      "image/png": "[encoded data removed]",
      "text/plain": [
       "plot without title"
      ]
     },
     "metadata": {
      "image/png": {
       "height": 420,
       "width": 420
      }
     },
     "output_type": "display_data"
    }
   ],
   "source": [
    "pastCustomers <- measureOverTimeCusts[, nCusts := mean(nCustomers), by =\n",
    "c(\"YEARMONTH\", \"Store_type\")\n",
    "                            ][Store_type %in% c(\"Trial\", \"Control\"), ]\n",
    "#### Control store 95th percentile\n",
    "pastCustomers_Controls95 <- pastCustomers[Store_type == \"Control\",\n",
    "                                ][, nCusts := nCusts * (1 + stdDev * 2)\n",
    "                                ][, Store_type := \"Control 95th % confidence\n",
    "interval\"]\n",
    "#### Control store 5th percentile\n",
    "pastCustomers_Controls5 <- pastCustomers[Store_type == \"Control\",\n",
    "                                ][, nCusts := nCusts * (1 - stdDev * 2)\n",
    "                                ][, Store_type := \"Control 5th % confidence\n",
    "interval\"]\n",
    "trialAssessment <- rbind(pastCustomers, pastCustomers_Controls95,\n",
    "pastCustomers_Controls5)\n",
    "#### Plot everything into one nice graph.\n",
    "#### geom_rect creates a rectangle in the plot. Use this to highlight the\n",
    "#### trial period in our graph.\n",
    "ggplot(trialAssessment, aes(TransactionMonth, nCusts, color = Store_type)) + \n",
    "  geom_rect(data = trialAssessment[ YEARMONTH < 201905 & YEARMONTH > 201901 ,],\n",
    "aes(xmin = min(TransactionMonth), xmax = max(TransactionMonth), ymin = 0 ,\n",
    "ymax = Inf, color = NULL), show.legend = FALSE) + \n",
    "  geom_line() + labs(x = \"Month of operation\", y = \"Total number of customers\", title = \"Total number of customers by month\")"
   ]
  },
  {
   "cell_type": "markdown",
   "metadata": {},
   "source": [
    "Let's repeat finding the control store and assessing the impact of the trial for\n",
    "each of the other two trial stores.\n",
    "## Trial store 86"
   ]
  },
  {
   "cell_type": "code",
   "execution_count": 32,
   "metadata": {
    "vscode": {
     "languageId": "r"
    }
   },
   "outputs": [
    {
     "data": {
      "text/html": [
       "155"
      ],
      "text/latex": [
       "155"
      ],
      "text/markdown": [
       "155"
      ],
      "text/plain": [
       "[1] 155"
      ]
     },
     "metadata": {},
     "output_type": "display_data"
    }
   ],
   "source": [
    "measureOverTime <- data[, .(totSales = sum(TOT_SALES),\n",
    "                            nCustomers = uniqueN(LYLTY_CARD_NBR),\n",
    "                            nTxnPerCust = (uniqueN(TXN_ID))/(uniqueN(LYLTY_CARD_NBR)),\n",
    "                            nChipsPerTxn = (sum(PROD_QTY))/(uniqueN(TXN_ID)) , \n",
    "                            avgPricePerUnit = sum(TOT_SALES)/sum(PROD_QTY) ) , by = c(\"STORE_NBR\", \"YEARMONTH\")][order(STORE_NBR, YEARMONTH)]\n",
    "\n",
    "#### Use the functions we created earlier to calculate correlations and magnitude for each potential control store\n",
    "trial_store <- 86\n",
    "corr_nSales <- calculateCorrelation(preTrialMeasures, quote(totSales),trial_store)\n",
    "corr_nCustomers <- calculateCorrelation(preTrialMeasures, quote(nCustomers), trial_store)\n",
    "magnitude_nSales <- calculateMagnitudeDistance(preTrialMeasures, quote(totSales), trial_store)\n",
    "magnitude_nCustomers <- calculateMagnitudeDistance(preTrialMeasures, quote(nCustomers), trial_store)\n",
    "#### Now, create a combined score composed of correlation and magnitude\n",
    "corr_weight <- 0.5\n",
    "score_nSales <- merge(corr_nSales, magnitude_nSales, by = c(\"Store1\", \"Store2\"))[ , scoreNSales := (corr_measure + mag_measure)/2]\n",
    "score_nCustomers <- merge(corr_nCustomers, magnitude_nCustomers, by = c(\"Store1\", \"Store2\"))[ , scoreNCust := (corr_measure + mag_measure)/2]\n",
    "\n",
    "#### Finally, combine scores across the drivers using a simple average.\n",
    "score_Control <- merge(score_nSales, score_nCustomers, by = c(\"Store1\",\"Store2\"))\n",
    "score_Control[, finalControlScore := scoreNSales * 0.5 + scoreNCust * 0.5]\n",
    "#### Select control stores based on the highest matching store\n",
    "#### (closest to 1 but not the store itself, i.e. the second ranked highest store)\n",
    "#### Select control store for trial store 86\n",
    "control_store <- score_Control[Store1 == trial_store,\n",
    "][order(-finalControlScore)][2, Store2]\n",
    "control_store"
   ]
  },
  {
   "cell_type": "markdown",
   "metadata": {},
   "source": [
    "Looks like store 155 will be a control store for trial store 86.\n",
    "Again, let's check visually if the drivers are indeed similar in the period before\n",
    "the trial.\n",
    "We'll look at total sales first."
   ]
  },
  {
   "cell_type": "code",
   "execution_count": 33,
   "metadata": {
    "vscode": {
     "languageId": "r"
    }
   },
   "outputs": [
    {
     "data": {
      "image/png": "[encoded data removed]",
      "text/plain": [
       "plot without title"
      ]
     },
     "metadata": {
      "image/png": {
       "height": 420,
       "width": 420
      }
     },
     "output_type": "display_data"
    }
   ],
   "source": [
    "measureOverTimeSales <- measureOverTime\n",
    "pastSales <- measureOverTimeSales[, Store_type:= ifelse(STORE_NBR == trial_store, \"Trial\", ifelse(STORE_NBR== control_store, \"Control\", \"Other stores\"))][, totSales := mean(totSales), by = c(\"YEARMONTH\", \"Store_type\")][, TransactionMonth:= as.Date(paste(YEARMONTH%/%100, YEARMONTH%% 100, 1, sep = \"-\"), \"%Y-%m-%d\")][YEARMONTH <210903] \n",
    "\n",
    "ggplot(pastSales, aes(TransactionMonth, totSales, color = Store_type)) +\n",
    "  geom_line(aes(linetype = Store_type)) +\n",
    "  labs(x = \"Month of operation\", y = \"Total sales\", title = \"Total sales by month\")"
   ]
  },
  {
   "cell_type": "markdown",
   "metadata": {},
   "source": [
    "Great, sales are trending in a similar way.\n",
    "Next, number of customers."
   ]
  },
  {
   "cell_type": "code",
   "execution_count": 34,
   "metadata": {
    "vscode": {
     "languageId": "r"
    }
   },
   "outputs": [
    {
     "data": {
      "image/png": "[encoded data removed]",
      "text/plain": [
       "plot without title"
      ]
     },
     "metadata": {
      "image/png": {
       "height": 420,
       "width": 420
      }
     },
     "output_type": "display_data"
    }
   ],
   "source": [
    "measureOverTimeCusts <- measureOverTime\n",
    "pastCustomers <- measureOverTimeCusts[, Store_type := ifelse(STORE_NBR == trial_store, \"Trial\",\n",
    "ifelse(STORE_NBR == control_store, \"Control\", \"Other stores\"))\n",
    "][, numberCustomers := mean(nCustomers), by = c(\"YEARMONTH\", \"Store_type\")\n",
    "][, TransactionMonth := as.Date(paste(YEARMONTH %/%\n",
    "                                        100, YEARMONTH %% 100, 1, sep = \"-\"), \"%Y-%m-%d\")\n",
    "][YEARMONTH < 201903 , ]\n",
    "\n",
    "ggplot(pastCustomers, aes(TransactionMonth, numberCustomers, color = Store_type)) + \n",
    "  geom_line() + \n",
    "  labs(x = \"Month of operation\", y = \"Total number of customers\", title = \"Total number of customers by month\")"
   ]
  },
  {
   "cell_type": "markdown",
   "metadata": {},
   "source": [
    "Good, the trend in number of customers is also similar.\n",
    "Let's now assess the impact of the trial on sales."
   ]
  },
  {
   "cell_type": "code",
   "execution_count": 35,
   "metadata": {
    "vscode": {
     "languageId": "r"
    }
   },
   "outputs": [
    {
     "data": {
      "image/png": "[encoded data removed]",
      "text/plain": [
       "plot without title"
      ]
     },
     "metadata": {
      "image/png": {
       "height": 420,
       "width": 420
      }
     },
     "output_type": "display_data"
    }
   ],
   "source": [
    "scalingFactorForControlSales <- preTrialMeasures[STORE_NBR == trial_store &\n",
    "YEARMONTH < 201902, sum(totSales)]/preTrialMeasures[STORE_NBR == control_store &\n",
    "YEARMONTH < 201902, sum(totSales)]\n",
    "#### Apply the scaling factor\n",
    "measureOverTimeSales <- measureOverTime\n",
    "scaledControlSales <- measureOverTimeSales[STORE_NBR == control_store, ][ ,\n",
    "controlSales := totSales * scalingFactorForControlSales]\n",
    "#### Calculate the percentage difference between scaled control sales and trial sales\n",
    "#### When calculating percentage difference, remember to use absolute difference\n",
    "percentageDiff <- merge(scaledControlSales[, c(\"YEARMONTH\", \"controlSales\")],\n",
    "measureOverTime[STORE_NBR == trial_store, c(\"totSales\", \"YEARMONTH\")],\n",
    "by = \"YEARMONTH\"\n",
    ")[, percentageDiff := abs(controlSales-totSales)/controlSales]\n",
    "\n",
    "#### As our null hypothesis is that the trial period is the same as the pre-trial\n",
    "#### period, let's take the standard deviation based on the scaled percentage difference\n",
    "#### in the pre-trial period\n",
    "#### Calculate the standard deviation of percentage differences during the pre-trial period\n",
    "stdDev <- sd(percentageDiff[YEARMONTH < 201902 , percentageDiff])\n",
    "degreesOfFreedom <- 7\n",
    "\n",
    "#### Trial and control store total sales\n",
    "#### Create a table with sales by store type and month.\n",
    "#### We only need data for the trial and control store.\n",
    "measureOverTimeSales <- measureOverTime\n",
    "pastSales <- measureOverTimeSales[, Store_type := ifelse(STORE_NBR == trial_store, \"Trial\",\n",
    "ifelse(STORE_NBR == control_store, \"Control\", \"Other stores\"))\n",
    "][, totSales := mean(totSales), by = c(\"YEARMONTH\", \"Store_type\")\n",
    "][, TransactionMonth := as.Date(paste(YEARMONTH %/%100, YEARMONTH %% 100, 1, sep = \"-\"), \"%Y-%m-%d\")\n",
    "][Store_type %in% c(\"Trial\", \"Control\"), ]\n",
    "\n",
    "#### Calculate the 5th and 95th percentile for control store sales.\n",
    "#### The 5th and 95th percentiles can be approximated by using two standard deviations away from the mean.\n",
    "#### Recall that the variable stdDev earlier calculates standard deviation in percentages, and not dollar sales.\n",
    "#### Control store 95th percentile\n",
    "pastSales_Controls95 <- pastSales[Store_type == \"Control\",\n",
    "][, totSales := totSales * (1 + stdDev * 2)\n",
    "][, Store_type := \"Control 95th % confidence interval\"]\n",
    "\n",
    "#### Control store 5th percentile\n",
    "pastSales_Controls5 <- pastSales[Store_type == \"Control\",\n",
    "][, totSales := totSales * (1 - stdDev * 2)\n",
    "][, Store_type := \"Control 5th % confidence interval\"]\n",
    "\n",
    "#### Then, create a combined table with columns from pastSales, pastSales_Controls95 and pastSales_Controls5\n",
    "trialAssessment <- rbind(pastSales, pastSales_Controls95, pastSales_Controls5)\n",
    "#### Plotting these in one nice graph\n",
    "ggplot(trialAssessment, aes(TransactionMonth, totSales, color = Store_type)) +\n",
    "  geom_rect(data = trialAssessment[ YEARMONTH < 201905 & YEARMONTH > 201901 ,],\n",
    "aes(xmin = min(TransactionMonth), xmax = max(TransactionMonth), ymin = 0 , ymax =\n",
    "Inf, color = NULL), show.legend = FALSE) +\n",
    "  geom_line(aes(linetype = Store_type)) +\n",
    "  labs(x = \"Month of operation\", y = \"Total sales\", title = \"Total sales by month\")"
   ]
  },
  {
   "cell_type": "markdown",
   "metadata": {},
   "source": [
    "The results show that the trial in store 86 is not significantly different to its\n",
    "control store in the trial period as the trial store performance lies inside the 5%\n",
    "to 95% confidence interval of the control store in two of the three trial months.\n",
    "Let's have a look at assessing this for the number of customers as well."
   ]
  },
  {
   "cell_type": "code",
   "execution_count": 36,
   "metadata": {
    "vscode": {
     "languageId": "r"
    }
   },
   "outputs": [
    {
     "data": {
      "image/png": "[encoded data removed]",
      "text/plain": [
       "plot without title"
      ]
     },
     "metadata": {
      "image/png": {
       "height": 420,
       "width": 420
      }
     },
     "output_type": "display_data"
    }
   ],
   "source": [
    "scalingFactorForControlCust <- preTrialMeasures[STORE_NBR == trial_store &\n",
    "YEARMONTH < 201902, sum(nCustomers)]/preTrialMeasures[STORE_NBR == control_store &\n",
    "YEARMONTH < 201902, sum(nCustomers)]\n",
    "#### Apply the scaling factor\n",
    "measureOverTimeCusts <- measureOverTime\n",
    "scaledControlCustomers <- measureOverTimeCusts[STORE_NBR == control_store,\n",
    "                                            ][ , controlCustomers := nCustomers\n",
    "* scalingFactorForControlCust\n",
    "                                            ][, Store_type := ifelse(STORE_NBR\n",
    "== trial_store, \"Trial\",\n",
    "                                      ifelse(STORE_NBR == control_store,\n",
    "\"Control\", \"Other stores\"))\n",
    "]\n",
    "#### Calculate the percentage difference between scaled control sales and trial sales\n",
    "percentageDiff <- merge(scaledControlCustomers[, c(\"YEARMONTH\",\n",
    "\"controlCustomers\")],\n",
    "                        measureOverTime[STORE_NBR == trial_store, c(\"nCustomers\",\n",
    "\"YEARMONTH\")],\n",
    "                        by = \"YEARMONTH\"\n",
    "                        )[, percentageDiff :=\n",
    "abs(controlCustomers-nCustomers)/controlCustomers]\n",
    "#### As our null hypothesis is that the trial period is the same as the pre-trial \n",
    "#### period, let's take the standard deviation based on the scaled percentage difference\n",
    "#### in the pre-trial period\n",
    "stdDev <- sd(percentageDiff[YEARMONTH < 201902 , percentageDiff])\n",
    "degreesOfFreedom <- 7\n",
    "#### Trial and control store number of customers\n",
    "pastCustomers <- measureOverTimeCusts[, nCusts := mean(nCustomers), by =\n",
    "c(\"YEARMONTH\", \"Store_type\")\n",
    "                              ][Store_type %in% c(\"Trial\", \"Control\"), ]\n",
    "#### Control store 95th percentile\n",
    "pastCustomers_Controls95 <- pastCustomers[Store_type == \"Control\",\n",
    "                                ][, nCusts := nCusts * (1 + stdDev * 2)\n",
    "                                ][, Store_type := \"Control 95th % confidence\n",
    "interval\"]\n",
    "#### Control store 5th percentile\n",
    "pastCustomers_Controls5 <- pastCustomers[Store_type == \"Control\",\n",
    "                              ][, nCusts := nCusts * (1 - stdDev * 2)\n",
    "                              ][, Store_type := \"Control 5th % confidence\n",
    "interval\"]\n",
    "trialAssessment <- rbind(pastCustomers, pastCustomers_Controls95,\n",
    "pastCustomers_Controls5)\n",
    "#### Plotting these in one nice graph\n",
    "ggplot(trialAssessment, aes(TransactionMonth, nCusts, color = Store_type)) +\n",
    "  geom_rect(data = trialAssessment[ YEARMONTH < 201905 & YEARMONTH > 201901 ,],\n",
    "aes(xmin = min(TransactionMonth), xmax = max(TransactionMonth), ymin = 0 , ymax =\n",
    "Inf, color = NULL), show.legend = FALSE) +\n",
    "  geom_line() +\n",
    "  labs(x = \"Month of operation\", y = \"Total number of customers\", title = \"Total\n",
    "number of customers by month\")"
   ]
  },
  {
   "cell_type": "markdown",
   "metadata": {},
   "source": [
    "It looks like the number of customers is significantly higher in all of the three\n",
    "months. This seems to suggest that the trial had a significant impact on increasing\n",
    "the number of customers in trial store 86 but as we saw, sales were not\n",
    "significantly higher. We should check with the Category Manager if there were\n",
    "special deals in the trial store that were may have resulted in lower prices,\n",
    "impacting the results."
   ]
  },
  {
   "cell_type": "code",
   "execution_count": 37,
   "metadata": {
    "vscode": {
     "languageId": "r"
    }
   },
   "outputs": [
    {
     "data": {
      "text/html": [
       "237"
      ],
      "text/latex": [
       "237"
      ],
      "text/markdown": [
       "237"
      ],
      "text/plain": [
       "[1] 237"
      ]
     },
     "metadata": {},
     "output_type": "display_data"
    }
   ],
   "source": [
    "measureOverTime <- data[, .(totSales = sum(TOT_SALES),\n",
    "nCustomers = uniqueN(LYLTY_CARD_NBR),\n",
    "nTxnPerCust = uniqueN(TXN_ID)/uniqueN(LYLTY_CARD_NBR),\n",
    "nChipsPerTxn = sum(PROD_QTY)/uniqueN(TXN_ID),\n",
    "avgPricePerUnit = sum(TOT_SALES)/sum(PROD_QTY))\n",
    ", by = c(\"STORE_NBR\", \"YEARMONTH\")][order(STORE_NBR, YEARMONTH)]\n",
    "#### Use the functions from earlier to calculate the correlation of the sales and number of customers of each potential control store to the trial store\n",
    "trial_store <- 88\n",
    "corr_nSales <- calculateCorrelation(preTrialMeasures, quote(totSales),trial_store)\n",
    "corr_nCustomers <- calculateCorrelation(preTrialMeasures, quote(nCustomers), trial_store)\n",
    "#### Use the functions from earlier to calculate the magnitude distance of the sales and number of customers of each potential control store to the trial store\n",
    "magnitude_nSales <- calculateMagnitudeDistance(preTrialMeasures, quote(totSales), trial_store)\n",
    "magnitude_nCustomers <- calculateMagnitudeDistance(preTrialMeasures, quote(nCustomers), trial_store)\n",
    "#### Create a combined score composed of correlation and magnitude by merging the correlations table and the magnitudes table, for each driver.\n",
    "corr_weight <- 0.5\n",
    "score_nSales <- merge(corr_nSales, magnitude_nSales, by = c(\"Store1\", \"Store2\"))[ , scoreNSales := (corr_measure + mag_measure)/2]\n",
    "score_nCustomers <- merge(corr_nCustomers, magnitude_nCustomers, by = c(\"Store1\", \"Store2\"))[ , scoreNCust := (corr_measure + mag_measure)/2]\n",
    "\n",
    "#### Combine scores across the drivers by merging sales scores and customer scores, and compute a final combined score.\n",
    "score_Control <- merge(score_nSales, score_nCustomers, by = c(\"Store1\",\"Store2\"))\n",
    "score_Control[, finalControlScore := scoreNSales * 0.5 + scoreNCust * 0.5]\n",
    "#### Select control stores based on the highest matching store\n",
    "#### (closest to 1 but not the store itself, i.e. the second ranked highest store)\n",
    "#### Select control store for trial store 88\n",
    "control_store <- score_Control[Store1 == trial_store, ][order(-finalControlScore)][2, Store2]\n",
    "control_store"
   ]
  },
  {
   "cell_type": "markdown",
   "metadata": {},
   "source": [
    "We've now found store 237 to be a suitable control store for trial store 88.\n",
    "Again, let's check visually if the drivers are indeed similar in the period before\n",
    "the trial.\n",
    "We'll look at total sales first."
   ]
  },
  {
   "cell_type": "code",
   "execution_count": 38,
   "metadata": {
    "vscode": {
     "languageId": "r"
    }
   },
   "outputs": [
    {
     "data": {
      "image/png": "[encoded data removed]",
      "text/plain": [
       "plot without title"
      ]
     },
     "metadata": {
      "image/png": {
       "height": 420,
       "width": 420
      }
     },
     "output_type": "display_data"
    }
   ],
   "source": [
    "measureOverTimeSales <- measureOverTime\n",
    "pastSales <- measureOverTimeSales[, Store_type := ifelse(STORE_NBR == trial_store, \"Trial\",\n",
    "ifelse(STORE_NBR == control_store, \"Control\", \"Other stores\"))\n",
    "][, totSales := mean(totSales), by = c(\"YEARMONTH\",\"Store_type\")\n",
    "][, TransactionMonth := as.Date(paste(YEARMONTH %/% 100, YEARMONTH %% 100, 1, sep = \"-\"), \"%Y-%m-%d\")\n",
    "][YEARMONTH < 201903 , ]\n",
    "ggplot(pastSales, aes(TransactionMonth, totSales, color = Store_type)) +\n",
    "geom_line(aes(linetype = Store_type)) +\n",
    "labs(x = \"Month of operation\", y = \"Total sales\", title = \"Total sales by month\")"
   ]
  },
  {
   "cell_type": "markdown",
   "metadata": {},
   "source": [
    "Great, the trial and control stores have similar total sales.\n",
    "Next, number of customers."
   ]
  },
  {
   "cell_type": "code",
   "execution_count": 39,
   "metadata": {
    "vscode": {
     "languageId": "r"
    }
   },
   "outputs": [
    {
     "data": {
      "image/png": "[encoded data removed]",
      "text/plain": [
       "plot without title"
      ]
     },
     "metadata": {
      "image/png": {
       "height": 420,
       "width": 420
      }
     },
     "output_type": "display_data"
    }
   ],
   "source": [
    "measureOverTimeCusts <- measureOverTime\n",
    "pastCustomers <- measureOverTimeCusts[, Store_type := ifelse(STORE_NBR == trial_store, \"Trial\",\n",
    "ifelse(STORE_NBR == control_store, \"Control\", \"Other stores\"))\n",
    "][, numberCustomers := mean(nCustomers), by = c(\"YEARMONTH\", \"Store_type\")\n",
    "][, TransactionMonth := as.Date(paste(YEARMONTH %/%\n",
    "                                        100, YEARMONTH %% 100, 1, sep = \"-\"), \"%Y-%m-%d\")\n",
    "][YEARMONTH < 201903 , ]\n",
    "ggplot(pastCustomers, aes(TransactionMonth, numberCustomers, color = Store_type)) + \n",
    "  geom_line() + labs(x = \"Month of operation\", y = \"Total number of customers\", title = \"Total number of customers by month\")"
   ]
  },
  {
   "cell_type": "markdown",
   "metadata": {},
   "source": [
    "Total number of customers of the control and trial stores are also similar.\n",
    "Let's now assess the impact of the trial on sales."
   ]
  },
  {
   "cell_type": "code",
   "execution_count": 40,
   "metadata": {
    "vscode": {
     "languageId": "r"
    }
   },
   "outputs": [
    {
     "data": {
      "image/png": "[encoded data removed]",
      "text/plain": [
       "plot without title"
      ]
     },
     "metadata": {
      "image/png": {
       "height": 420,
       "width": 420
      }
     },
     "output_type": "display_data"
    }
   ],
   "source": [
    "scalingFactorForControlSales <- preTrialMeasures[STORE_NBR == trial_store &\n",
    "YEARMONTH < 201902, sum(totSales)]/preTrialMeasures[STORE_NBR ==\n",
    "control_store & YEARMONTH < 201902, sum(totSales)]\n",
    "\n",
    "#### Apply the scaling factor\n",
    "measureOverTimeSales <- measureOverTime\n",
    "scaledControlSales <- measureOverTimeSales[STORE_NBR == control_store, ][ ,controlSales := totSales * scalingFactorForControlSales]\n",
    "\n",
    "#### Calculate the absolute percentage difference between scaled control sales and trial sales\n",
    "percentageDiff <- merge(scaledControlSales[, c(\"YEARMONTH\", \"controlSales\")],measureOverTime[STORE_NBR == trial_store, c(\"totSales\", \"YEARMONTH\")],by = \"YEARMONTH\")[, percentageDiff := abs(controlSales-totSales)/controlSales]\n",
    "\n",
    "#### As our null hypothesis is that the trial period is the same as the pre-trial period, \n",
    "#### let's take the standard deviation based on the scaled percentage difference in the pre-trial period\n",
    "stdDev <- sd(percentageDiff[YEARMONTH < 201902 , percentageDiff])\n",
    "degreesOfFreedom <- 7\n",
    "#### Trial and control store total sales\n",
    "measureOverTimeSales <- measureOverTime\n",
    "pastSales <- measureOverTimeSales[, Store_type := ifelse(STORE_NBR == trial_store, \"Trial\",\n",
    "ifelse(STORE_NBR == control_store, \"Control\", \"Other stores\"))\n",
    "][, totSales := mean(totSales), by = c(\"YEARMONTH\", \"Store_type\")\n",
    "][, TransactionMonth := as.Date(paste(YEARMONTH %/%100, YEARMONTH %% 100, 1, sep = \"-\"), \"%Y-%m-%d\")\n",
    "][Store_type %in% c(\"Trial\", \"Control\"), ]\n",
    "#### Control store 95th percentile\n",
    "pastSales_Controls95 <- pastSales[Store_type == \"Control\",\n",
    "][, totSales := totSales * (1 + stdDev * 2)\n",
    "][, Store_type := \"Control 95th % confidence interval\"]\n",
    "#### Control store 5th percentile\n",
    "pastSales_Controls5 <- pastSales[Store_type == \"Control\",\n",
    "][, totSales := totSales * (1 - stdDev * 2)\n",
    "][, Store_type := \"Control 5th % confidence interval\"]\n",
    "trialAssessment <- rbind(pastSales, pastSales_Controls95, pastSales_Controls5)\n",
    "#### Plotting these in one nice graph\n",
    "ggplot(trialAssessment, aes(TransactionMonth, totSales, color = Store_type)) +\n",
    "geom_rect(data = trialAssessment[ YEARMONTH < 201905 & YEARMONTH > 201901 ,],\n",
    "aes(xmin = min(TransactionMonth), xmax = max(TransactionMonth), ymin = 0 ,\n",
    "ymax = Inf, color = NULL), show.legend = FALSE) + \n",
    "  geom_line(aes(linetype = Store_type)) + \n",
    "  labs(x = \"Month of operation\", y = \"Total sales\", title = \"Total sales by month\")"
   ]
  },
  {
   "cell_type": "markdown",
   "metadata": {},
   "source": [
    "The results show that the trial in store 88 is significantly different to its\n",
    "control store in the trial period as the trial store performance lies outside of\n",
    "the 5% to 95% confidence interval of the control store in two of the three trial\n",
    "months.\n",
    "Let's have a look at assessing this for number of customers as well."
   ]
  },
  {
   "cell_type": "code",
   "execution_count": 41,
   "metadata": {
    "vscode": {
     "languageId": "r"
    }
   },
   "outputs": [
    {
     "data": {
      "image/png": "[encoded data removed]",
      "text/plain": [
       "plot without title"
      ]
     },
     "metadata": {
      "image/png": {
       "height": 420,
       "width": 420
      }
     },
     "output_type": "display_data"
    }
   ],
   "source": [
    "scalingFactorForControlCust <- preTrialMeasures[STORE_NBR == trial_store &\n",
    "YEARMONTH < 201902, sum(nCustomers)]/preTrialMeasures[STORE_NBR ==\n",
    "control_store & YEARMONTH < 201902, sum(nCustomers)]\n",
    "\n",
    "#### Apply the scaling factor\n",
    "measureOverTimeCusts <- measureOverTime\n",
    "scaledControlCustomers <- measureOverTimeCusts[STORE_NBR == control_store,\n",
    "][ , controlCustomers := nCustomers * scalingFactorForControlCust\n",
    "][, Store_type := ifelse(STORE_NBR == trial_store, \"Trial\",\n",
    "ifelse(STORE_NBR == control_store,\"Control\", \"Other stores\"))\n",
    "]\n",
    "#### Calculate the absolute percentage difference between scaled control sales and trial sales\n",
    "percentageDiff <- merge(scaledControlCustomers[, c(\"YEARMONTH\",\"controlCustomers\")],measureOverTime[STORE_NBR == trial_store, c(\"nCustomers\", \"YEARMONTH\")],\n",
    "by = \"YEARMONTH\")[, percentageDiff := abs(controlCustomers-nCustomers)/controlCustomers]\n",
    "\n",
    "#### As our null hypothesis is that the trial period is the same as the pre-trial\n",
    "#### period, let's take the standard deviation based on the scaled percentage #### difference in the pre-trial period\n",
    "\n",
    "stdDev <- sd(percentageDiff[YEARMONTH < 201902 , percentageDiff])\n",
    "degreesOfFreedom <- 7 \n",
    "# note that there are 8 months in the pre-trial period hence 8 - 1 = 7 degrees of freedom\n",
    "#### Trial and control store number of customers\n",
    "pastCustomers <- measureOverTimeCusts[, nCusts := mean(nCustomers), by = c(\"YEARMONTH\", \"Store_type\")\n",
    "][Store_type %in% c(\"Trial\", \"Control\"), ]\n",
    "\n",
    "#### Control store 95th percentile\n",
    "pastCustomers_Controls95 <- pastCustomers[Store_type == \"Control\",\n",
    "][, nCusts := nCusts * (1 + stdDev * 2)\n",
    "][, Store_type := \"Control 95th % confidence interval\"]\n",
    "#### Control store 5th percentile\n",
    "pastCustomers_Controls5 <- pastCustomers[Store_type == \"Control\",\n",
    "][, nCusts := nCusts * (1 - stdDev * 2)\n",
    "][, Store_type := \"Control 5th % confidence interval\"]\n",
    "#### Combine the tables pastSales, pastSales_Controls95, pastSales_Controls5\n",
    "trialAssessment <- rbind(pastCustomers, pastCustomers_Controls95,pastCustomers_Controls5)\n",
    "#### Plotting these in one nice graph\n",
    "ggplot(trialAssessment, aes(TransactionMonth, nCusts, color = Store_type)) +\n",
    "  geom_rect(data = trialAssessment[ YEARMONTH < 201905 & YEARMONTH > 201901 ,],\n",
    "aes(xmin = min(TransactionMonth), xmax = max(TransactionMonth), ymin = 0 ,\n",
    "ymax = Inf, color = NULL), show.legend = FALSE) + geom_line() + \n",
    "labs(x = \"Month of operation\", y = \"Total number of customers\", title = \"Total number of customers by month\")"
   ]
  },
  {
   "cell_type": "markdown",
   "metadata": {},
   "source": [
    "Total number of customers in the trial period for the trial store is significantly\n",
    "higher than the control store for two out of three months, which indicates a\n",
    "positive trial effect.\n",
    "## Conclusion\n",
    "Good work! We've found control stores 233, 155, 237 for trial stores 77, 86 and 88\n",
    "respectively.\n",
    "The results for trial stores 77 and 88 during the trial period show a significant\n",
    "difference in at least two of the three trial months but this is not the case for\n",
    "trial store 86. We can check with the client if the implementation of the trial was\n",
    "different in trial store 86 but overall, the trial shows a significant increase in\n",
    "sales. Now that we have finished our analysis, we can prepare our presentation to\n",
    "the Category Manager."
   ]
  }
 ],
 "metadata": {
  "kernelspec": {
   "display_name": "R",
   "language": "R",
   "name": "ir"
  },
  "language_info": {
   "codemirror_mode": "r",
   "file_extension": ".r",
   "mimetype": "text/x-r-source",
   "name": "R",
   "pygments_lexer": "r",
   "version": "4.1.3"
  }
 },
 "nbformat": 4,
 "nbformat_minor": 2
}
